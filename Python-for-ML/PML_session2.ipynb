{
 "cells": [
  {
   "cell_type": "markdown",
   "metadata": {
    "colab_type": "text",
    "id": "qYl9ldEXZNJc"
   },
   "source": [
    "___\n",
    "\n",
    "<a href='http://www.pieriandata.com'> <img src='../Pierian_Data_Logo.png' /></a>\n",
    "___"
   ]
  },
  {
   "cell_type": "code",
   "execution_count": 1,
   "metadata": {
    "colab": {},
    "colab_type": "code",
    "id": "gDKbWIyJZNJ0"
   },
   "outputs": [],
   "source": [
    "import numpy as np\n",
    "arr = np.arange(0,10)"
   ]
  },
  {
   "cell_type": "code",
   "execution_count": 2,
   "metadata": {
    "colab": {
     "base_uri": "https://localhost:8080/",
     "height": 36
    },
    "colab_type": "code",
    "executionInfo": {
     "elapsed": 998,
     "status": "ok",
     "timestamp": 1559868803163,
     "user": {
      "displayName": "Mahesh Anand",
      "photoUrl": "https://lh3.googleusercontent.com/-qzo_AFAl02k/AAAAAAAAAAI/AAAAAAAAABY/Ywj2vXZmRw4/s64/photo.jpg",
      "userId": "06788086636039591358"
     },
     "user_tz": -330
    },
    "id": "NPm3ECg7ZNKM",
    "outputId": "6dd9d09d-9c50-4d0f-dbca-88989c20e0fb"
   },
   "outputs": [
    {
     "data": {
      "text/plain": [
       "array([ 0,  2,  4,  6,  8, 10, 12, 14, 16, 18])"
      ]
     },
     "execution_count": 2,
     "metadata": {},
     "output_type": "execute_result"
    }
   ],
   "source": [
    "arr + arr"
   ]
  },
  {
   "cell_type": "code",
   "execution_count": 3,
   "metadata": {
    "colab": {
     "base_uri": "https://localhost:8080/",
     "height": 36
    },
    "colab_type": "code",
    "executionInfo": {
     "elapsed": 943,
     "status": "ok",
     "timestamp": 1559868809476,
     "user": {
      "displayName": "Mahesh Anand",
      "photoUrl": "https://lh3.googleusercontent.com/-qzo_AFAl02k/AAAAAAAAAAI/AAAAAAAAABY/Ywj2vXZmRw4/s64/photo.jpg",
      "userId": "06788086636039591358"
     },
     "user_tz": -330
    },
    "id": "0ctjjag2ZNKl",
    "outputId": "4b0629b1-3f66-47d8-840d-594b753ba340"
   },
   "outputs": [
    {
     "data": {
      "text/plain": [
       "array([ 0,  1,  4,  9, 16, 25, 36, 49, 64, 81])"
      ]
     },
     "execution_count": 3,
     "metadata": {},
     "output_type": "execute_result"
    }
   ],
   "source": [
    "arr * arr"
   ]
  },
  {
   "cell_type": "code",
   "execution_count": 4,
   "metadata": {
    "colab": {},
    "colab_type": "code",
    "id": "nBrgM2k8ZNLk",
    "outputId": "e0d4dfa0-a2e9-4e7d-879c-471f8b5299ea"
   },
   "outputs": [
    {
     "data": {
      "text/plain": [
       "array([  0,   1,   8,  27,  64, 125, 216, 343, 512, 729], dtype=int32)"
      ]
     },
     "execution_count": 4,
     "metadata": {},
     "output_type": "execute_result"
    }
   ],
   "source": [
    "arr**3"
   ]
  },
  {
   "cell_type": "markdown",
   "metadata": {
    "colab_type": "text",
    "id": "O9i3ag9yZNL3"
   },
   "source": [
    "## Universal Array Functions\n",
    "\n",
    "Numpy comes with many [universal array functions](http://docs.scipy.org/doc/numpy/reference/ufuncs.html), which are essentially just mathematical operations you can use to perform the operation across the array. Let's show some common ones:"
   ]
  },
  {
   "cell_type": "code",
   "execution_count": 5,
   "metadata": {
    "colab": {},
    "colab_type": "code",
    "id": "BBmrZu7wZNL6",
    "outputId": "3484ed2e-9827-42ff-ee95-5d38705e871b"
   },
   "outputs": [
    {
     "data": {
      "text/plain": [
       "array([0.        , 1.        , 1.41421356, 1.73205081, 2.        ,\n",
       "       2.23606798, 2.44948974, 2.64575131, 2.82842712, 3.        ])"
      ]
     },
     "execution_count": 5,
     "metadata": {},
     "output_type": "execute_result"
    }
   ],
   "source": [
    "#Taking Square Roots\n",
    "np.sqrt(arr)"
   ]
  },
  {
   "cell_type": "code",
   "execution_count": 6,
   "metadata": {
    "colab": {},
    "colab_type": "code",
    "id": "6hdQRYBZZNMK",
    "outputId": "637e5beb-b63b-4296-f246-8b8e0a8a0310"
   },
   "outputs": [
    {
     "data": {
      "text/plain": [
       "array([1.00000000e+00, 2.71828183e+00, 7.38905610e+00, 2.00855369e+01,\n",
       "       5.45981500e+01, 1.48413159e+02, 4.03428793e+02, 1.09663316e+03,\n",
       "       2.98095799e+03, 8.10308393e+03])"
      ]
     },
     "execution_count": 6,
     "metadata": {},
     "output_type": "execute_result"
    }
   ],
   "source": [
    "#Calcualting exponential (e^)\n",
    "np.exp(arr)"
   ]
  },
  {
   "cell_type": "code",
   "execution_count": 7,
   "metadata": {
    "colab": {},
    "colab_type": "code",
    "id": "61ILrDIUZNMW",
    "outputId": "0881cf29-c734-4ca9-b67d-bd815d6eb788"
   },
   "outputs": [
    {
     "data": {
      "text/plain": [
       "9"
      ]
     },
     "execution_count": 7,
     "metadata": {},
     "output_type": "execute_result"
    }
   ],
   "source": [
    "np.max(arr) #same as arr.max()"
   ]
  },
  {
   "cell_type": "code",
   "execution_count": 8,
   "metadata": {
    "colab": {},
    "colab_type": "code",
    "id": "cNYKX16_ZNMk"
   },
   "outputs": [
    {
     "data": {
      "text/plain": [
       "array([ 0.        ,  0.84147098,  0.90929743,  0.14112001, -0.7568025 ,\n",
       "       -0.95892427, -0.2794155 ,  0.6569866 ,  0.98935825,  0.41211849])"
      ]
     },
     "execution_count": 8,
     "metadata": {},
     "output_type": "execute_result"
    }
   ],
   "source": [
    "a=np.sin(arr)\n",
    "a"
   ]
  },
  {
   "cell_type": "code",
   "execution_count": 9,
   "metadata": {
    "colab": {
     "base_uri": "https://localhost:8080/",
     "height": 204
    },
    "colab_type": "code",
    "executionInfo": {
     "elapsed": 921,
     "status": "ok",
     "timestamp": 1559868954696,
     "user": {
      "displayName": "Mahesh Anand",
      "photoUrl": "https://lh3.googleusercontent.com/-qzo_AFAl02k/AAAAAAAAAAI/AAAAAAAAABY/Ywj2vXZmRw4/s64/photo.jpg",
      "userId": "06788086636039591358"
     },
     "user_tz": -330
    },
    "id": "54JZuhNWbmaB",
    "outputId": "69a051db-c156-4028-eed4-83ae60cfa1cf"
   },
   "outputs": [
    {
     "name": "stdout",
     "output_type": "stream",
     "text": [
      "0.0\n",
      "0.8414709848078965\n",
      "0.9092974268256817\n",
      "0.1411200080598672\n",
      "-0.7568024953079282\n",
      "-0.9589242746631385\n",
      "-0.27941549819892586\n",
      "0.6569865987187891\n",
      "0.9893582466233818\n",
      "0.4121184852417566\n"
     ]
    }
   ],
   "source": [
    "#Usage of for-loop\n",
    "#Mapping by Value\n",
    "for val in a:\n",
    "  print(val)"
   ]
  },
  {
   "cell_type": "code",
   "execution_count": 12,
   "metadata": {
    "scrolled": true
   },
   "outputs": [
    {
     "name": "stdout",
     "output_type": "stream",
     "text": [
      "100\n",
      "101\n",
      "102\n",
      "103\n",
      "104\n",
      "105\n",
      "106\n",
      "107\n",
      "108\n",
      "109\n",
      "all done\n"
     ]
    }
   ],
   "source": [
    "#Mapping by index\n",
    "for idx in np.arange(len(arr)):\n",
    "    print(arr[idx]+100)\n",
    "print(\"all done\")"
   ]
  },
  {
   "cell_type": "code",
   "execution_count": 15,
   "metadata": {},
   "outputs": [
    {
     "name": "stdout",
     "output_type": "stream",
     "text": [
      "[-0.7568024953079282, -0.9589242746631385, -0.27941549819892586]\n"
     ]
    }
   ],
   "source": [
    "b=[] #empty list going to collect all -ve nos\n",
    "for val in a:\n",
    "    if val<0:\n",
    "        b.append(val)\n",
    "print(b)\n",
    "#b1=np.array(b)\n",
    "#print(b1) get the ans in array form\n"
   ]
  },
  {
   "cell_type": "code",
   "execution_count": 16,
   "metadata": {},
   "outputs": [
    {
     "name": "stdout",
     "output_type": "stream",
     "text": [
      "[-0.7568024953079282, -0.9589242746631385, -0.27941549819892586]\n"
     ]
    }
   ],
   "source": [
    "#same task by index calling\n",
    "b1=[]\n",
    "for idx in np.arange(len(a)):\n",
    "    if a[idx]<0:\n",
    "        b1.append(a[idx])\n",
    "print(b1)"
   ]
  },
  {
   "cell_type": "code",
   "execution_count": 7,
   "metadata": {
    "colab": {
     "base_uri": "https://localhost:8080/",
     "height": 129
    },
    "colab_type": "code",
    "executionInfo": {
     "elapsed": 1005,
     "status": "ok",
     "timestamp": 1559868992328,
     "user": {
      "displayName": "Mahesh Anand",
      "photoUrl": "https://lh3.googleusercontent.com/-qzo_AFAl02k/AAAAAAAAAAI/AAAAAAAAABY/Ywj2vXZmRw4/s64/photo.jpg",
      "userId": "06788086636039591358"
     },
     "user_tz": -330
    },
    "id": "-2AvXyuob5M_",
    "outputId": "59c9293e-6b1c-4819-9853-942eeceb1b17"
   },
   "outputs": [
    {
     "name": "stdout",
     "output_type": "stream",
     "text": [
      "0.8414709848078965\n",
      "0.9092974268256817\n",
      "0.1411200080598672\n",
      "0.6569865987187891\n",
      "0.9893582466233818\n",
      "0.4121184852417566\n"
     ]
    }
   ],
   "source": [
    "for val in a:\n",
    "  if val>0:\n",
    "    print(val)"
   ]
  },
  {
   "cell_type": "code",
   "execution_count": 21,
   "metadata": {},
   "outputs": [
    {
     "name": "stdout",
     "output_type": "stream",
     "text": [
      "[0.         0.84147098 0.90929743 0.14112001 0.         0.\n",
      " 0.         0.6569866  0.98935825 0.41211849]\n"
     ]
    }
   ],
   "source": [
    "#if we have to replace all 3 negative nos by 0 it is possible only by mapping by index\n",
    "for idx in np.arange(len(a)):\n",
    "    if a[idx]<0:\n",
    "        a[idx]=0\n",
    "print(a)"
   ]
  },
  {
   "cell_type": "code",
   "execution_count": 8,
   "metadata": {
    "colab": {
     "base_uri": "https://localhost:8080/",
     "height": 204
    },
    "colab_type": "code",
    "executionInfo": {
     "elapsed": 991,
     "status": "ok",
     "timestamp": 1559869049400,
     "user": {
      "displayName": "Mahesh Anand",
      "photoUrl": "https://lh3.googleusercontent.com/-qzo_AFAl02k/AAAAAAAAAAI/AAAAAAAAABY/Ywj2vXZmRw4/s64/photo.jpg",
      "userId": "06788086636039591358"
     },
     "user_tz": -330
    },
    "id": "9cDMuXKgcHvx",
    "outputId": "9e3237bf-04b9-4b77-e3a1-b2149290998a"
   },
   "outputs": [
    {
     "name": "stdout",
     "output_type": "stream",
     "text": [
      "Negative\n",
      "0.8414709848078965\n",
      "0.9092974268256817\n",
      "0.1411200080598672\n",
      "Negative\n",
      "Negative\n",
      "Negative\n",
      "0.6569865987187891\n",
      "0.9893582466233818\n",
      "0.4121184852417566\n"
     ]
    }
   ],
   "source": [
    "for val in a:\n",
    "  if val>0:\n",
    "    print(val)\n",
    "  else:\n",
    "    print('Negative')"
   ]
  },
  {
   "cell_type": "code",
   "execution_count": 10,
   "metadata": {
    "colab": {
     "base_uri": "https://localhost:8080/",
     "height": 54
    },
    "colab_type": "code",
    "executionInfo": {
     "elapsed": 942,
     "status": "ok",
     "timestamp": 1559869366537,
     "user": {
      "displayName": "Mahesh Anand",
      "photoUrl": "https://lh3.googleusercontent.com/-qzo_AFAl02k/AAAAAAAAAAI/AAAAAAAAABY/Ywj2vXZmRw4/s64/photo.jpg",
      "userId": "06788086636039591358"
     },
     "user_tz": -330
    },
    "id": "6p2jpk6jc_gD",
    "outputId": "b881293f-ad9e-4eaf-e3a0-653313e14bc9"
   },
   "outputs": [
    {
     "name": "stdout",
     "output_type": "stream",
     "text": [
      "0.1411200080598672\n",
      "0.4121184852417566\n"
     ]
    }
   ],
   "source": [
    "for val in a:\n",
    "  if val>0 and val<0.5:\n",
    "    print(val)"
   ]
  },
  {
   "cell_type": "code",
   "execution_count": 11,
   "metadata": {
    "colab": {
     "base_uri": "https://localhost:8080/",
     "height": 204
    },
    "colab_type": "code",
    "executionInfo": {
     "elapsed": 1011,
     "status": "ok",
     "timestamp": 1559869445360,
     "user": {
      "displayName": "Mahesh Anand",
      "photoUrl": "https://lh3.googleusercontent.com/-qzo_AFAl02k/AAAAAAAAAAI/AAAAAAAAABY/Ywj2vXZmRw4/s64/photo.jpg",
      "userId": "06788086636039591358"
     },
     "user_tz": -330
    },
    "id": "bNE-EbeIdh-h",
    "outputId": "a722106d-e3a8-46f9-96b7-d769a6ef0bb3"
   },
   "outputs": [
    {
     "name": "stdout",
     "output_type": "stream",
     "text": [
      "10.0\n",
      "10.841470984807897\n",
      "10.909297426825681\n",
      "10.141120008059866\n",
      "9.243197504692072\n",
      "9.041075725336862\n",
      "9.720584501801074\n",
      "10.656986598718788\n",
      "10.989358246623382\n",
      "10.412118485241757\n"
     ]
    }
   ],
   "source": [
    "#Mapping by Index\n",
    "for i in np.arange(len(a)):\n",
    "  print(a[i]+10)"
   ]
  },
  {
   "cell_type": "code",
   "execution_count": 12,
   "metadata": {
    "colab": {
     "base_uri": "https://localhost:8080/",
     "height": 56
    },
    "colab_type": "code",
    "executionInfo": {
     "elapsed": 1016,
     "status": "ok",
     "timestamp": 1559869502680,
     "user": {
      "displayName": "Mahesh Anand",
      "photoUrl": "https://lh3.googleusercontent.com/-qzo_AFAl02k/AAAAAAAAAAI/AAAAAAAAABY/Ywj2vXZmRw4/s64/photo.jpg",
      "userId": "06788086636039591358"
     },
     "user_tz": -330
    },
    "id": "IFBUpHt7d0mR",
    "outputId": "62115ea8-5f16-4d73-a55d-873b0b015c17"
   },
   "outputs": [
    {
     "name": "stdout",
     "output_type": "stream",
     "text": [
      "[10.0, 10.841470984807897, 10.909297426825681, 10.141120008059866, 9.243197504692072, 9.041075725336862, 9.720584501801074, 10.656986598718788, 10.989358246623382, 10.412118485241757]\n"
     ]
    }
   ],
   "source": [
    "b=[]\n",
    "for i in np.arange(len(a)):\n",
    "  b.append(a[i]+10)\n",
    "print(b)"
   ]
  },
  {
   "cell_type": "code",
   "execution_count": 0,
   "metadata": {
    "colab": {},
    "colab_type": "code",
    "id": "Ib2xGAglhj2_"
   },
   "outputs": [],
   "source": [
    "#Replace the negative nos in the array into zeros"
   ]
  },
  {
   "cell_type": "code",
   "execution_count": 20,
   "metadata": {
    "colab": {
     "base_uri": "https://localhost:8080/",
     "height": 56
    },
    "colab_type": "code",
    "executionInfo": {
     "elapsed": 883,
     "status": "ok",
     "timestamp": 1559869923303,
     "user": {
      "displayName": "Mahesh Anand",
      "photoUrl": "https://lh3.googleusercontent.com/-qzo_AFAl02k/AAAAAAAAAAI/AAAAAAAAABY/Ywj2vXZmRw4/s64/photo.jpg",
      "userId": "06788086636039591358"
     },
     "user_tz": -330
    },
    "id": "trgnNWHsfIBq",
    "outputId": "7718c810-b290-4b73-947d-53da52706a49"
   },
   "outputs": [
    {
     "name": "stdout",
     "output_type": "stream",
     "text": [
      "[10.841470984807897, 10.909297426825681, 10.141120008059866, 10.656986598718788, 10.989358246623382, 10.412118485241757]\n"
     ]
    }
   ],
   "source": [
    "#We can do the above process in the form of list comprehension\n",
    "out=[val+10 for val in a if val>0]\n",
    "print(out)"
   ]
  },
  {
   "cell_type": "code",
   "execution_count": 42,
   "metadata": {
    "colab": {
     "base_uri": "https://localhost:8080/",
     "height": 54
    },
    "colab_type": "code",
    "executionInfo": {
     "elapsed": 975,
     "status": "ok",
     "timestamp": 1559870079788,
     "user": {
      "displayName": "Mahesh Anand",
      "photoUrl": "https://lh3.googleusercontent.com/-qzo_AFAl02k/AAAAAAAAAAI/AAAAAAAAABY/Ywj2vXZmRw4/s64/photo.jpg",
      "userId": "06788086636039591358"
     },
     "user_tz": -330
    },
    "id": "bfqJwD3of84z",
    "outputId": "c58b6cdb-5bc0-4ba0-b78a-343a538d4ae3"
   },
   "outputs": [
    {
     "data": {
      "text/plain": [
       "array([[9, 4, 3],\n",
       "       [8, 5, 2]])"
      ]
     },
     "execution_count": 42,
     "metadata": {},
     "output_type": "execute_result"
    }
   ],
   "source": [
    "#2-Dimensional for-loop\n",
    "b=np.array([[9,4,3],[8,5,2]])\n",
    "b"
   ]
  },
  {
   "cell_type": "code",
   "execution_count": 43,
   "metadata": {
    "colab": {
     "base_uri": "https://localhost:8080/",
     "height": 36
    },
    "colab_type": "code",
    "executionInfo": {
     "elapsed": 783,
     "status": "ok",
     "timestamp": 1559870333230,
     "user": {
      "displayName": "Mahesh Anand",
      "photoUrl": "https://lh3.googleusercontent.com/-qzo_AFAl02k/AAAAAAAAAAI/AAAAAAAAABY/Ywj2vXZmRw4/s64/photo.jpg",
      "userId": "06788086636039591358"
     },
     "user_tz": -330
    },
    "id": "DU0jC-nqgcM8",
    "outputId": "7f5c8bc7-006f-443b-e6b1-49ec0681464d"
   },
   "outputs": [
    {
     "data": {
      "text/plain": [
       "3"
      ]
     },
     "execution_count": 43,
     "metadata": {},
     "output_type": "execute_result"
    }
   ],
   "source": [
    "len(b[0])"
   ]
  },
  {
   "cell_type": "code",
   "execution_count": 44,
   "metadata": {
    "colab": {
     "base_uri": "https://localhost:8080/",
     "height": 92
    },
    "colab_type": "code",
    "executionInfo": {
     "elapsed": 955,
     "status": "ok",
     "timestamp": 1559870408164,
     "user": {
      "displayName": "Mahesh Anand",
      "photoUrl": "https://lh3.googleusercontent.com/-qzo_AFAl02k/AAAAAAAAAAI/AAAAAAAAABY/Ywj2vXZmRw4/s64/photo.jpg",
      "userId": "06788086636039591358"
     },
     "user_tz": -330
    },
    "id": "Fq6sGr5ogI1i",
    "outputId": "6bc591a7-e98f-4c6c-dcf8-12196ac5bd74"
   },
   "outputs": [
    {
     "name": "stdout",
     "output_type": "stream",
     "text": [
      "[9 4 3]\n",
      "done\n",
      "[8 5 2]\n",
      "done\n"
     ]
    }
   ],
   "source": [
    "for row in np.arange(len(b)):\n",
    "  print(b[row])\n",
    "  print('done')"
   ]
  },
  {
   "cell_type": "code",
   "execution_count": 45,
   "metadata": {
    "colab": {
     "base_uri": "https://localhost:8080/",
     "height": 241
    },
    "colab_type": "code",
    "executionInfo": {
     "elapsed": 890,
     "status": "ok",
     "timestamp": 1559870420243,
     "user": {
      "displayName": "Mahesh Anand",
      "photoUrl": "https://lh3.googleusercontent.com/-qzo_AFAl02k/AAAAAAAAAAI/AAAAAAAAABY/Ywj2vXZmRw4/s64/photo.jpg",
      "userId": "06788086636039591358"
     },
     "user_tz": -330
    },
    "id": "ZmU12iFxhHQo",
    "outputId": "7bb9f760-4e6a-492c-db41-6cca365f535e"
   },
   "outputs": [
    {
     "name": "stdout",
     "output_type": "stream",
     "text": [
      "9\n",
      "done\n",
      "4\n",
      "done\n",
      "3\n",
      "done\n",
      "8\n",
      "done\n",
      "5\n",
      "done\n",
      "2\n",
      "done\n"
     ]
    }
   ],
   "source": [
    "for row in np.arange(len(b)):\n",
    "  for col in np.arange(len(b[row])):\n",
    "    print(b[row,col])\n",
    "    print('done')"
   ]
  },
  {
   "cell_type": "code",
   "execution_count": 46,
   "metadata": {
    "colab": {
     "base_uri": "https://localhost:8080/",
     "height": 36
    },
    "colab_type": "code",
    "executionInfo": {
     "elapsed": 1025,
     "status": "ok",
     "timestamp": 1559870573475,
     "user": {
      "displayName": "Mahesh Anand",
      "photoUrl": "https://lh3.googleusercontent.com/-qzo_AFAl02k/AAAAAAAAAAI/AAAAAAAAABY/Ywj2vXZmRw4/s64/photo.jpg",
      "userId": "06788086636039591358"
     },
     "user_tz": -330
    },
    "id": "rUOFId3veDIT",
    "outputId": "b3ed4fc8-49c7-4e70-ec6e-4e7f8b11af5c"
   },
   "outputs": [
    {
     "data": {
      "text/plain": [
       "[109, 104, 103, 108, 105, 102]"
      ]
     },
     "execution_count": 46,
     "metadata": {},
     "output_type": "execute_result"
    }
   ],
   "source": [
    "out2=[b[row,col]+100 for row in np.arange(len(b)) for col in np.arange(len(b[row]))] #list comprehension for 2d for loop\n",
    "out2"
   ]
  },
  {
   "cell_type": "code",
   "execution_count": 87,
   "metadata": {},
   "outputs": [
    {
     "data": {
      "text/plain": [
       "array([[0., 0., 0.],\n",
       "       [0., 0., 0.]])"
      ]
     },
     "execution_count": 87,
     "metadata": {},
     "output_type": "execute_result"
    }
   ],
   "source": [
    "b_out=np.zeros((2,3))\n",
    "b_out"
   ]
  },
  {
   "cell_type": "code",
   "execution_count": 89,
   "metadata": {},
   "outputs": [
    {
     "data": {
      "text/plain": [
       "array([[9, 4, 3],\n",
       "       [8, 5, 2]])"
      ]
     },
     "execution_count": 89,
     "metadata": {},
     "output_type": "execute_result"
    }
   ],
   "source": [
    "b"
   ]
  },
  {
   "cell_type": "code",
   "execution_count": 88,
   "metadata": {},
   "outputs": [
    {
     "name": "stdout",
     "output_type": "stream",
     "text": [
      "[[109. 104. 103.]\n",
      " [108. 105. 102.]]\n"
     ]
    }
   ],
   "source": [
    "for row in np.arange(len(b)):                                                                                  # see from recoreded lec\n",
    "    for col in np.arange(len(b[row])):\n",
    "        b_out[row,col]=b[row,col]+100\n",
    "print(b_out)"
   ]
  },
  {
   "cell_type": "code",
   "execution_count": 72,
   "metadata": {
    "colab": {
     "base_uri": "https://localhost:8080/",
     "height": 92
    },
    "colab_type": "code",
    "executionInfo": {
     "elapsed": 1175,
     "status": "ok",
     "timestamp": 1559869660313,
     "user": {
      "displayName": "Mahesh Anand",
      "photoUrl": "https://lh3.googleusercontent.com/-qzo_AFAl02k/AAAAAAAAAAI/AAAAAAAAABY/Ywj2vXZmRw4/s64/photo.jpg",
      "userId": "06788086636039591358"
     },
     "user_tz": -330
    },
    "id": "uPQz_9USeInT",
    "outputId": "cf126d6d-0449-4789-f7e0-2a03f5f54c36"
   },
   "outputs": [
    {
     "name": "stdout",
     "output_type": "stream",
     "text": [
      "k is: 1\n",
      "k is: 2\n",
      "k is: 3\n",
      "k is: 4\n"
     ]
    }
   ],
   "source": [
    "#Usage of While Loop\n",
    "k = 1\n",
    "while k < 5:\n",
    "    print('k is: %d'%(k))\n",
    "    k = k+1"
   ]
  },
  {
   "cell_type": "code",
   "execution_count": 73,
   "metadata": {
    "colab": {},
    "colab_type": "code",
    "id": "oiVNX0XniN62"
   },
   "outputs": [],
   "source": [
    "#User Defined Functions\n",
    "def my_avg(dat):\n",
    "  s=sum(dat)\n",
    "  avg=s/len(dat)\n",
    "  return avg,s"
   ]
  },
  {
   "cell_type": "code",
   "execution_count": 74,
   "metadata": {
    "colab": {
     "base_uri": "https://localhost:8080/",
     "height": 36
    },
    "colab_type": "code",
    "executionInfo": {
     "elapsed": 1186,
     "status": "ok",
     "timestamp": 1559870728724,
     "user": {
      "displayName": "Mahesh Anand",
      "photoUrl": "https://lh3.googleusercontent.com/-qzo_AFAl02k/AAAAAAAAAAI/AAAAAAAAABY/Ywj2vXZmRw4/s64/photo.jpg",
      "userId": "06788086636039591358"
     },
     "user_tz": -330
    },
    "id": "aIYN7HV2ibOy",
    "outputId": "b8a5ab0b-8702-4c62-c008-262b2035c08e"
   },
   "outputs": [
    {
     "data": {
      "text/plain": [
       "(3.3333333333333335, 10)"
      ]
     },
     "execution_count": 74,
     "metadata": {},
     "output_type": "execute_result"
    }
   ],
   "source": [
    "new_data=[5,3,2]\n",
    "my_avg(new_data)"
   ]
  },
  {
   "cell_type": "code",
   "execution_count": 75,
   "metadata": {
    "colab": {},
    "colab_type": "code",
    "id": "vzs9_idIi1V_"
   },
   "outputs": [],
   "source": [
    "def times2(var):\n",
    "    return var*2"
   ]
  },
  {
   "cell_type": "code",
   "execution_count": 76,
   "metadata": {
    "colab": {
     "base_uri": "https://localhost:8080/",
     "height": 36
    },
    "colab_type": "code",
    "executionInfo": {
     "elapsed": 975,
     "status": "ok",
     "timestamp": 1559870845960,
     "user": {
      "displayName": "Mahesh Anand",
      "photoUrl": "https://lh3.googleusercontent.com/-qzo_AFAl02k/AAAAAAAAAAI/AAAAAAAAABY/Ywj2vXZmRw4/s64/photo.jpg",
      "userId": "06788086636039591358"
     },
     "user_tz": -330
    },
    "id": "dqXrEZfPi8YI",
    "outputId": "4e2d654f-516e-4d14-e4c2-0e4718bbd8f0"
   },
   "outputs": [
    {
     "data": {
      "text/plain": [
       "12"
      ]
     },
     "execution_count": 76,
     "metadata": {},
     "output_type": "execute_result"
    }
   ],
   "source": [
    "times2(6)"
   ]
  },
  {
   "cell_type": "code",
   "execution_count": 77,
   "metadata": {
    "colab": {
     "base_uri": "https://localhost:8080/",
     "height": 36
    },
    "colab_type": "code",
    "executionInfo": {
     "elapsed": 1090,
     "status": "ok",
     "timestamp": 1559871102694,
     "user": {
      "displayName": "Mahesh Anand",
      "photoUrl": "https://lh3.googleusercontent.com/-qzo_AFAl02k/AAAAAAAAAAI/AAAAAAAAABY/Ywj2vXZmRw4/s64/photo.jpg",
      "userId": "06788086636039591358"
     },
     "user_tz": -330
    },
    "id": "sjNBDR6OjEIE",
    "outputId": "04c28cf8-332f-465a-b8c2-6414914c1903"
   },
   "outputs": [
    {
     "name": "stdout",
     "output_type": "stream",
     "text": [
      "40\n"
     ]
    }
   ],
   "source": [
    "#Anonymous Function\n",
    "x=lambda var:var*2\n",
    "print(x(20))"
   ]
  },
  {
   "cell_type": "code",
   "execution_count": 78,
   "metadata": {
    "colab": {},
    "colab_type": "code",
    "id": "kHi74gIujW7i"
   },
   "outputs": [],
   "source": [
    "var=5"
   ]
  },
  {
   "cell_type": "code",
   "execution_count": 79,
   "metadata": {
    "colab": {
     "base_uri": "https://localhost:8080/",
     "height": 36
    },
    "colab_type": "code",
    "executionInfo": {
     "elapsed": 855,
     "status": "ok",
     "timestamp": 1559871492463,
     "user": {
      "displayName": "Mahesh Anand",
      "photoUrl": "https://lh3.googleusercontent.com/-qzo_AFAl02k/AAAAAAAAAAI/AAAAAAAAABY/Ywj2vXZmRw4/s64/photo.jpg",
      "userId": "06788086636039591358"
     },
     "user_tz": -330
    },
    "id": "Ix06QnQwkcgK",
    "outputId": "0daf9996-1d51-4719-ef16-350ec94a8315"
   },
   "outputs": [
    {
     "data": {
      "text/plain": [
       "[10, 4, 6, 12, 8]"
      ]
     },
     "execution_count": 79,
     "metadata": {},
     "output_type": "execute_result"
    }
   ],
   "source": [
    "#Usage of Map and Filter\n",
    "seq = [5,2,3,6,4]\n",
    "list(map(times2,seq))"
   ]
  },
  {
   "cell_type": "code",
   "execution_count": 80,
   "metadata": {
    "colab": {
     "base_uri": "https://localhost:8080/",
     "height": 36
    },
    "colab_type": "code",
    "executionInfo": {
     "elapsed": 937,
     "status": "ok",
     "timestamp": 1559871496536,
     "user": {
      "displayName": "Mahesh Anand",
      "photoUrl": "https://lh3.googleusercontent.com/-qzo_AFAl02k/AAAAAAAAAAI/AAAAAAAAABY/Ywj2vXZmRw4/s64/photo.jpg",
      "userId": "06788086636039591358"
     },
     "user_tz": -330
    },
    "id": "yxcdjxGzkwyc",
    "outputId": "800991f6-7d20-4a4e-ca44-ae33a8e70f1e"
   },
   "outputs": [
    {
     "data": {
      "text/plain": [
       "[10, 4, 6, 12, 8]"
      ]
     },
     "execution_count": 80,
     "metadata": {},
     "output_type": "execute_result"
    }
   ],
   "source": [
    "list(map(lambda var: var*2,seq))"
   ]
  },
  {
   "cell_type": "code",
   "execution_count": 81,
   "metadata": {
    "colab": {
     "base_uri": "https://localhost:8080/",
     "height": 36
    },
    "colab_type": "code",
    "executionInfo": {
     "elapsed": 958,
     "status": "ok",
     "timestamp": 1559871499616,
     "user": {
      "displayName": "Mahesh Anand",
      "photoUrl": "https://lh3.googleusercontent.com/-qzo_AFAl02k/AAAAAAAAAAI/AAAAAAAAABY/Ywj2vXZmRw4/s64/photo.jpg",
      "userId": "06788086636039591358"
     },
     "user_tz": -330
    },
    "id": "AisT_z42kcx2",
    "outputId": "283bcc49-fed6-4ffb-a66b-45f76beace87"
   },
   "outputs": [
    {
     "data": {
      "text/plain": [
       "[2, 6, 4]"
      ]
     },
     "execution_count": 81,
     "metadata": {},
     "output_type": "execute_result"
    }
   ],
   "source": [
    "list(filter(lambda item: item%2 == 0,seq))"
   ]
  },
  {
   "cell_type": "code",
   "execution_count": 82,
   "metadata": {},
   "outputs": [
    {
     "data": {
      "text/plain": [
       "[5, 2, 3, 6, 4]"
      ]
     },
     "execution_count": 82,
     "metadata": {},
     "output_type": "execute_result"
    }
   ],
   "source": [
    "seq"
   ]
  },
  {
   "cell_type": "markdown",
   "metadata": {},
   "source": [
    "GET squares"
   ]
  },
  {
   "cell_type": "code",
   "execution_count": 1,
   "metadata": {},
   "outputs": [],
   "source": [
    "x=[5,2,3,6,4]\n",
    "#we want output list y=[25,4,9,36,16]\n"
   ]
  },
  {
   "cell_type": "code",
   "execution_count": 2,
   "metadata": {},
   "outputs": [
    {
     "name": "stdout",
     "output_type": "stream",
     "text": [
      "[25, 4, 9, 36, 16]\n"
     ]
    }
   ],
   "source": [
    "#option 1\n",
    "y=[]\n",
    "for val in x:\n",
    "    y.append(val**2)\n",
    "print(y)"
   ]
  },
  {
   "cell_type": "code",
   "execution_count": 3,
   "metadata": {},
   "outputs": [
    {
     "name": "stdout",
     "output_type": "stream",
     "text": [
      "[25, 4, 9, 36, 16]\n"
     ]
    }
   ],
   "source": [
    "#option 2\n",
    "y=[val**2 for val in x]\n",
    "print(y)"
   ]
  },
  {
   "cell_type": "code",
   "execution_count": 7,
   "metadata": {},
   "outputs": [],
   "source": [
    "#option 3 user defined function\n",
    "def my_sq(x):\n",
    "    return (x**2)\n"
   ]
  },
  {
   "cell_type": "code",
   "execution_count": 10,
   "metadata": {},
   "outputs": [
    {
     "name": "stdout",
     "output_type": "stream",
     "text": [
      "[25, 4, 9, 36, 16]\n"
     ]
    }
   ],
   "source": [
    "#option 4 call this user defined function using map\n",
    "y=list(map(my_sq,x))\n",
    "print(y)"
   ]
  },
  {
   "cell_type": "code",
   "execution_count": 13,
   "metadata": {},
   "outputs": [
    {
     "data": {
      "text/plain": [
       "[25, 4, 9, 36, 16]"
      ]
     },
     "execution_count": 13,
     "metadata": {},
     "output_type": "execute_result"
    }
   ],
   "source": [
    "#option 5 lambda anonymous function\n",
    "y=list(map(lambda val:val**2,x))\n",
    "y"
   ]
  },
  {
   "cell_type": "code",
   "execution_count": 14,
   "metadata": {},
   "outputs": [],
   "source": [
    "#option 6\n",
    "def my_sq2(x):\n",
    "    y=[]\n",
    "    for val in x:\n",
    "        y.append(val**2)\n",
    "    return y"
   ]
  },
  {
   "cell_type": "code",
   "execution_count": 15,
   "metadata": {},
   "outputs": [
    {
     "data": {
      "text/plain": [
       "[16, 25]"
      ]
     },
     "execution_count": 15,
     "metadata": {},
     "output_type": "execute_result"
    }
   ],
   "source": [
    "my_sq2([4,5])"
   ]
  },
  {
   "cell_type": "code",
   "execution_count": 19,
   "metadata": {},
   "outputs": [
    {
     "data": {
      "text/plain": [
       "[2, 6, 4]"
      ]
     },
     "execution_count": 19,
     "metadata": {},
     "output_type": "execute_result"
    }
   ],
   "source": [
    "#list comprehension to get the even nos option 1\n",
    "y=[val for val in x if val%2==0]\n",
    "y"
   ]
  },
  {
   "cell_type": "code",
   "execution_count": 20,
   "metadata": {},
   "outputs": [],
   "source": [
    "x=[2,5,3,8,10,7]"
   ]
  },
  {
   "cell_type": "code",
   "execution_count": 21,
   "metadata": {},
   "outputs": [
    {
     "data": {
      "text/plain": [
       "[2, 8, 10]"
      ]
     },
     "execution_count": 21,
     "metadata": {},
     "output_type": "execute_result"
    }
   ],
   "source": [
    "# filter method to get even nos\n",
    "list(filter(lambda val: val%2 == 0,x))"
   ]
  },
  {
   "cell_type": "code",
   "execution_count": 34,
   "metadata": {},
   "outputs": [
    {
     "name": "stdout",
     "output_type": "stream",
     "text": [
      "[2, 8, 10]\n"
     ]
    }
   ],
   "source": [
    "y=[]\n",
    "for val in x:\n",
    "    if val%2==0:\n",
    "        y.append(val)\n",
    "print(y)\n",
    "    \n"
   ]
  },
  {
   "cell_type": "code",
   "execution_count": null,
   "metadata": {},
   "outputs": [],
   "source": []
  }
 ],
 "metadata": {
  "colab": {
   "collapsed_sections": [],
   "name": "PML_session2.ipynb",
   "provenance": [],
   "version": "0.3.2"
  },
  "kernelspec": {
   "display_name": "Python 3",
   "language": "python",
   "name": "python3"
  },
  "language_info": {
   "codemirror_mode": {
    "name": "ipython",
    "version": 3
   },
   "file_extension": ".py",
   "mimetype": "text/x-python",
   "name": "python",
   "nbconvert_exporter": "python",
   "pygments_lexer": "ipython3",
   "version": "3.7.1"
  }
 },
 "nbformat": 4,
 "nbformat_minor": 1
}
