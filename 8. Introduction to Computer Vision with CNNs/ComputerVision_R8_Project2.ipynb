{
 "cells": [
  {
   "cell_type": "markdown",
   "metadata": {
    "colab_type": "text",
    "id": "2kIWaR5ZpKlJ"
   },
   "source": [
    "## Dog Breed Classification\n",
    "\n",
    "In this project we will use traditional CNN, CNN with data augmentation and finally transfer Learning by VGG16 model with weights pre-trained on Imagenet to solve the dog breed classification problem"
   ]
  },
  {
   "cell_type": "markdown",
   "metadata": {
    "colab_type": "text",
    "id": "F7MDmaAw2xGO"
   },
   "source": [
    "### Load Dataset Files"
   ]
  },
  {
   "cell_type": "code",
   "execution_count": 1,
   "metadata": {
    "colab": {
     "base_uri": "https://localhost:8080/",
     "height": 34
    },
    "colab_type": "code",
    "id": "3zhxz3nHByY5",
    "outputId": "437f60f2-2bb2-455d-dd84-e12c5cf64225"
   },
   "outputs": [
    {
     "name": "stdout",
     "output_type": "stream",
     "text": [
      "TensorFlow 2.x selected.\n"
     ]
    }
   ],
   "source": [
    "%tensorflow_version 2.x"
   ]
  },
  {
   "cell_type": "code",
   "execution_count": 2,
   "metadata": {
    "colab": {
     "base_uri": "https://localhost:8080/",
     "height": 34
    },
    "colab_type": "code",
    "id": "KUDBnO5fDHZq",
    "outputId": "d42692d8-4262-4d9a-8213-ff863bad1086"
   },
   "outputs": [
    {
     "data": {
      "text/plain": [
       "'2.1.0-rc1'"
      ]
     },
     "execution_count": 2,
     "metadata": {
      "tags": []
     },
     "output_type": "execute_result"
    }
   ],
   "source": [
    "import tensorflow as tf\n",
    "tf.__version__"
   ]
  },
  {
   "cell_type": "code",
   "execution_count": 3,
   "metadata": {
    "colab": {
     "base_uri": "https://localhost:8080/",
     "height": 34
    },
    "colab_type": "code",
    "id": "BcUiBUPpCAmR",
    "outputId": "7addbec6-8086-43b6-c437-40c8d0804ebb"
   },
   "outputs": [
    {
     "name": "stdout",
     "output_type": "stream",
     "text": [
      "Drive already mounted at /content/drive; to attempt to forcibly remount, call drive.mount(\"/content/drive\", force_remount=True).\n"
     ]
    }
   ],
   "source": [
    "from google.colab import drive\n",
    "drive.mount('/content/drive')"
   ]
  },
  {
   "cell_type": "code",
   "execution_count": 0,
   "metadata": {
    "colab": {},
    "colab_type": "code",
    "id": "BZWpQv1OwqYK"
   },
   "outputs": [],
   "source": [
    "# Initialize the random number generator\n",
    "import random\n",
    "random.seed(0)\n",
    "\n",
    "import warnings\n",
    "warnings.filterwarnings(\"ignore\")"
   ]
  },
  {
   "cell_type": "markdown",
   "metadata": {
    "colab_type": "text",
    "id": "1q2zzIaUprk_"
   },
   "source": [
    "Now, upload the given dataset file shared with you in your google drive and give its path for the below given `project_path` variable. For example, a path is given below according to the file path in our google drive. You need to change this to match the path of yours."
   ]
  },
  {
   "cell_type": "code",
   "execution_count": 0,
   "metadata": {
    "colab": {},
    "colab_type": "code",
    "id": "Tp6FvAToxUFs"
   },
   "outputs": [],
   "source": [
    "project_path = \"/content/drive/My Drive/Great Learning Residency 8.1 CNN/Project 2/\""
   ]
  },
  {
   "cell_type": "markdown",
   "metadata": {
    "colab_type": "text",
    "id": "rydR_j8lqUei"
   },
   "source": [
    "Run the below code to extract all the images in the train.zip files given in the dataset. We are going to use these images as train and validation sets and their labels in further steps."
   ]
  },
  {
   "cell_type": "code",
   "execution_count": 0,
   "metadata": {
    "colab": {},
    "colab_type": "code",
    "id": "3350WZM4w4EL"
   },
   "outputs": [],
   "source": [
    "from zipfile import ZipFile\n",
    "with ZipFile(project_path+'train.zip', 'r') as z:\n",
    "  z.extractall()"
   ]
  },
  {
   "cell_type": "markdown",
   "metadata": {
    "colab_type": "text",
    "id": "3NHq1iBCfFjE"
   },
   "source": [
    "Repeat the same step for test.zip"
   ]
  },
  {
   "cell_type": "code",
   "execution_count": 0,
   "metadata": {
    "colab": {},
    "colab_type": "code",
    "id": "_fxzynvB2YCb"
   },
   "outputs": [],
   "source": [
    "with ZipFile(project_path+'test.zip', 'r') as z:\n",
    "  z.extractall()"
   ]
  },
  {
   "cell_type": "markdown",
   "metadata": {
    "colab_type": "text",
    "id": "jnUMhQrDfJmz"
   },
   "source": [
    "Repeat the same step for sample_submission.csv.zip"
   ]
  },
  {
   "cell_type": "code",
   "execution_count": 0,
   "metadata": {
    "colab": {},
    "colab_type": "code",
    "id": "4PyTxE8q2jLf"
   },
   "outputs": [],
   "source": [
    "with ZipFile(project_path+'sample_submission.zip', 'r') as z:\n",
    "  z.extractall()"
   ]
  },
  {
   "cell_type": "markdown",
   "metadata": {
    "colab_type": "text",
    "id": "2G9RIxB-fOLT"
   },
   "source": [
    "Repeat the same step for labels.csv.zip"
   ]
  },
  {
   "cell_type": "code",
   "execution_count": 0,
   "metadata": {
    "colab": {},
    "colab_type": "code",
    "id": "rXtnEoEixbgi"
   },
   "outputs": [],
   "source": [
    "with ZipFile(project_path+'labels.zip', 'r') as z:\n",
    "  z.extractall()"
   ]
  },
  {
   "cell_type": "markdown",
   "metadata": {
    "colab_type": "text",
    "id": "sJc1lVrW_jmL"
   },
   "source": [
    "After this process, we will have 4 files - Train folder, test folder and labels.csv and sample_submission.csv as part of your google drive"
   ]
  },
  {
   "cell_type": "markdown",
   "metadata": {
    "colab_type": "text",
    "id": "aYmJKmDqqpng"
   },
   "source": [
    "### Read labels.csv file using pandas"
   ]
  },
  {
   "cell_type": "code",
   "execution_count": 0,
   "metadata": {
    "colab": {},
    "colab_type": "code",
    "id": "WmlJ2VMY96IZ"
   },
   "outputs": [],
   "source": [
    "import pandas as pd"
   ]
  },
  {
   "cell_type": "code",
   "execution_count": 0,
   "metadata": {
    "colab": {},
    "colab_type": "code",
    "id": "hPvb1RSc96If"
   },
   "outputs": [],
   "source": [
    "labels = pd.read_csv('/content/labels.csv')"
   ]
  },
  {
   "cell_type": "code",
   "execution_count": 6,
   "metadata": {
    "colab": {
     "base_uri": "https://localhost:8080/",
     "height": 356
    },
    "colab_type": "code",
    "id": "-Knt6tiaHD-S",
    "outputId": "f0687d36-1ff4-4738-dcdc-4ff9f6092f2e"
   },
   "outputs": [
    {
     "data": {
      "text/html": [
       "<div>\n",
       "<style scoped>\n",
       "    .dataframe tbody tr th:only-of-type {\n",
       "        vertical-align: middle;\n",
       "    }\n",
       "\n",
       "    .dataframe tbody tr th {\n",
       "        vertical-align: top;\n",
       "    }\n",
       "\n",
       "    .dataframe thead th {\n",
       "        text-align: right;\n",
       "    }\n",
       "</style>\n",
       "<table border=\"1\" class=\"dataframe\">\n",
       "  <thead>\n",
       "    <tr style=\"text-align: right;\">\n",
       "      <th></th>\n",
       "      <th>id</th>\n",
       "      <th>breed</th>\n",
       "    </tr>\n",
       "  </thead>\n",
       "  <tbody>\n",
       "    <tr>\n",
       "      <th>0</th>\n",
       "      <td>000bec180eb18c7604dcecc8fe0dba07</td>\n",
       "      <td>boston_bull</td>\n",
       "    </tr>\n",
       "    <tr>\n",
       "      <th>1</th>\n",
       "      <td>001513dfcb2ffafc82cccf4d8bbaba97</td>\n",
       "      <td>dingo</td>\n",
       "    </tr>\n",
       "    <tr>\n",
       "      <th>2</th>\n",
       "      <td>001cdf01b096e06d78e9e5112d419397</td>\n",
       "      <td>pekinese</td>\n",
       "    </tr>\n",
       "    <tr>\n",
       "      <th>3</th>\n",
       "      <td>00214f311d5d2247d5dfe4fe24b2303d</td>\n",
       "      <td>bluetick</td>\n",
       "    </tr>\n",
       "    <tr>\n",
       "      <th>4</th>\n",
       "      <td>0021f9ceb3235effd7fcde7f7538ed62</td>\n",
       "      <td>golden_retriever</td>\n",
       "    </tr>\n",
       "    <tr>\n",
       "      <th>5</th>\n",
       "      <td>002211c81b498ef88e1b40b9abf84e1d</td>\n",
       "      <td>bedlington_terrier</td>\n",
       "    </tr>\n",
       "    <tr>\n",
       "      <th>6</th>\n",
       "      <td>00290d3e1fdd27226ba27a8ce248ce85</td>\n",
       "      <td>bedlington_terrier</td>\n",
       "    </tr>\n",
       "    <tr>\n",
       "      <th>7</th>\n",
       "      <td>002a283a315af96eaea0e28e7163b21b</td>\n",
       "      <td>borzoi</td>\n",
       "    </tr>\n",
       "    <tr>\n",
       "      <th>8</th>\n",
       "      <td>003df8b8a8b05244b1d920bb6cf451f9</td>\n",
       "      <td>basenji</td>\n",
       "    </tr>\n",
       "    <tr>\n",
       "      <th>9</th>\n",
       "      <td>0042188c895a2f14ef64a918ed9c7b64</td>\n",
       "      <td>scottish_deerhound</td>\n",
       "    </tr>\n",
       "  </tbody>\n",
       "</table>\n",
       "</div>"
      ],
      "text/plain": [
       "                                 id               breed\n",
       "0  000bec180eb18c7604dcecc8fe0dba07         boston_bull\n",
       "1  001513dfcb2ffafc82cccf4d8bbaba97               dingo\n",
       "2  001cdf01b096e06d78e9e5112d419397            pekinese\n",
       "3  00214f311d5d2247d5dfe4fe24b2303d            bluetick\n",
       "4  0021f9ceb3235effd7fcde7f7538ed62    golden_retriever\n",
       "5  002211c81b498ef88e1b40b9abf84e1d  bedlington_terrier\n",
       "6  00290d3e1fdd27226ba27a8ce248ce85  bedlington_terrier\n",
       "7  002a283a315af96eaea0e28e7163b21b              borzoi\n",
       "8  003df8b8a8b05244b1d920bb6cf451f9             basenji\n",
       "9  0042188c895a2f14ef64a918ed9c7b64  scottish_deerhound"
      ]
     },
     "execution_count": 6,
     "metadata": {
      "tags": []
     },
     "output_type": "execute_result"
    }
   ],
   "source": [
    "labels.head(10)"
   ]
  },
  {
   "cell_type": "markdown",
   "metadata": {
    "colab_type": "text",
    "id": "QP8YAzQvqyK-"
   },
   "source": [
    "### Print the count of each category of Dogs given in the dataset\n",
    "\n"
   ]
  },
  {
   "cell_type": "code",
   "execution_count": 7,
   "metadata": {
    "colab": {
     "base_uri": "https://localhost:8080/",
     "height": 52
    },
    "colab_type": "code",
    "id": "3L2naXlr96Im",
    "outputId": "1654a133-bc2e-4ada-dc14-1382e434a27d"
   },
   "outputs": [
    {
     "name": "stdout",
     "output_type": "stream",
     "text": [
      "Total count of dogs:  10222\n",
      "Number of dog Category:  120\n"
     ]
    }
   ],
   "source": [
    "print('Total count of dogs: ', labels.shape[0])\n",
    "print('Number of dog Category: ', len(labels.breed.unique()))"
   ]
  },
  {
   "cell_type": "code",
   "execution_count": 8,
   "metadata": {
    "colab": {
     "base_uri": "https://localhost:8080/",
     "height": 121
    },
    "colab_type": "code",
    "id": "CLm3W5RN96Ir",
    "outputId": "a602528f-5322-4c3c-c728-52fe7c3d7918"
   },
   "outputs": [
    {
     "data": {
      "text/plain": [
       "scottish_deerhound      126\n",
       "maltese_dog             117\n",
       "afghan_hound            116\n",
       "entlebucher             115\n",
       "bernese_mountain_dog    114\n",
       "Name: breed, dtype: int64"
      ]
     },
     "execution_count": 8,
     "metadata": {
      "tags": []
     },
     "output_type": "execute_result"
    }
   ],
   "source": [
    "breed_count = labels['breed'].value_counts()\n",
    "breed_count.head()"
   ]
  },
  {
   "cell_type": "code",
   "execution_count": 9,
   "metadata": {
    "colab": {
     "base_uri": "https://localhost:8080/",
     "height": 34
    },
    "colab_type": "code",
    "id": "DWGLcmc3IvK1",
    "outputId": "7a6aa3c9-eb38-4493-def0-2f3338291221"
   },
   "outputs": [
    {
     "data": {
      "text/plain": [
       "(120,)"
      ]
     },
     "execution_count": 9,
     "metadata": {
      "tags": []
     },
     "output_type": "execute_result"
    }
   ],
   "source": [
    "breed_count.shape"
   ]
  },
  {
   "cell_type": "markdown",
   "metadata": {
    "colab_type": "text",
    "id": "WI94_Qcc0D4M"
   },
   "source": [
    "### Get one-hot encodings of labels"
   ]
  },
  {
   "cell_type": "code",
   "execution_count": 10,
   "metadata": {
    "colab": {
     "base_uri": "https://localhost:8080/",
     "height": 34
    },
    "colab_type": "code",
    "id": "Q48iAcY196I3",
    "outputId": "7a4a17c4-1af6-4422-87d8-ba45e33f27e3"
   },
   "outputs": [
    {
     "name": "stdout",
     "output_type": "stream",
     "text": [
      "[19 37 85 ...  3 75 28]\n"
     ]
    }
   ],
   "source": [
    "from sklearn.preprocessing import LabelEncoder\n",
    "encoder =  LabelEncoder()\n",
    "breed_encoded = encoder.fit_transform(labels['breed'])\n",
    "print(breed_encoded)"
   ]
  },
  {
   "cell_type": "code",
   "execution_count": 0,
   "metadata": {
    "colab": {},
    "colab_type": "code",
    "id": "9nlWmRNM96I8"
   },
   "outputs": [],
   "source": [
    "\n",
    "import tensorflow.keras\n",
    "\n",
    "y = tensorflow.keras.utils.to_categorical(breed_encoded,num_classes=None,dtype='int')"
   ]
  },
  {
   "cell_type": "code",
   "execution_count": 12,
   "metadata": {
    "colab": {
     "base_uri": "https://localhost:8080/",
     "height": 121
    },
    "colab_type": "code",
    "id": "rc5y7DgIJcGy",
    "outputId": "f3a9056a-7bcf-4d73-f580-5df1d300213b"
   },
   "outputs": [
    {
     "data": {
      "text/plain": [
       "array([0, 0, 0, 0, 0, 0, 0, 0, 0, 0, 0, 0, 0, 0, 0, 0, 0, 0, 0, 1, 0, 0,\n",
       "       0, 0, 0, 0, 0, 0, 0, 0, 0, 0, 0, 0, 0, 0, 0, 0, 0, 0, 0, 0, 0, 0,\n",
       "       0, 0, 0, 0, 0, 0, 0, 0, 0, 0, 0, 0, 0, 0, 0, 0, 0, 0, 0, 0, 0, 0,\n",
       "       0, 0, 0, 0, 0, 0, 0, 0, 0, 0, 0, 0, 0, 0, 0, 0, 0, 0, 0, 0, 0, 0,\n",
       "       0, 0, 0, 0, 0, 0, 0, 0, 0, 0, 0, 0, 0, 0, 0, 0, 0, 0, 0, 0, 0, 0,\n",
       "       0, 0, 0, 0, 0, 0, 0, 0, 0, 0])"
      ]
     },
     "execution_count": 12,
     "metadata": {
      "tags": []
     },
     "output_type": "execute_result"
    }
   ],
   "source": [
    "y[0]"
   ]
  },
  {
   "cell_type": "markdown",
   "metadata": {
    "colab_type": "text",
    "id": "VWaJ9naXfoiU"
   },
   "source": [
    "## Preparing training dataset\n",
    "1. Write a code which reads each and every id from labels.csv file and loads the corresponding image (in RGB - 128, 128, 3) from the train folder. <br>\n",
    "2. Create 2 variables <br> \n",
    "     a.  x_train - Should have all the images of the dogs from train folder <br>\n",
    "     b.  y_train - Corresponding label of the dog <br>\n",
    "<u>Note:</u> The id of the dog images and its corresponding labels are available in labels.csv file   \n",
    "<u>Hint:</u> Watch the video shared on \"Preparing the training dataset\" if you face issue on creating the training dataset"
   ]
  },
  {
   "cell_type": "code",
   "execution_count": 0,
   "metadata": {
    "colab": {},
    "colab_type": "code",
    "id": "aC2f9ecR0XGR"
   },
   "outputs": [],
   "source": [
    "img_rows=128\n",
    "img_cols =128\n",
    "num_channel = 1"
   ]
  },
  {
   "cell_type": "code",
   "execution_count": 14,
   "metadata": {
    "colab": {
     "base_uri": "https://localhost:8080/",
     "height": 34
    },
    "colab_type": "code",
    "id": "nkkZEpOe0ipk",
    "outputId": "c97c3850-cdc3-4123-80eb-c448c32e4e65"
   },
   "outputs": [
    {
     "name": "stderr",
     "output_type": "stream",
     "text": [
      "100%|██████████| 10222/10222 [00:28<00:00, 354.25it/s]\n"
     ]
    }
   ],
   "source": [
    "from tqdm import tqdm\n",
    "import cv2\n",
    "\n",
    "x_feature =[]\n",
    "y_feature = []\n",
    "\n",
    "\n",
    "for f , img in tqdm(labels.values):\n",
    "    train_img = cv2.imread('./train/{}.jpg'.format(f),1)\n",
    "    train_img_resize = cv2.resize(train_img,(img_rows,img_cols))\n",
    "    x_feature.append(train_img_resize)\n",
    "    y_feature.append(img)"
   ]
  },
  {
   "cell_type": "code",
   "execution_count": 15,
   "metadata": {
    "colab": {
     "base_uri": "https://localhost:8080/",
     "height": 34
    },
    "colab_type": "code",
    "id": "URN6S_btLb1Q",
    "outputId": "105b0f8e-f304-4b3a-8fd1-2a2856752724"
   },
   "outputs": [
    {
     "data": {
      "text/plain": [
       "'dingo'"
      ]
     },
     "execution_count": 15,
     "metadata": {
      "tags": []
     },
     "output_type": "execute_result"
    }
   ],
   "source": [
    "y_feature[1]"
   ]
  },
  {
   "cell_type": "code",
   "execution_count": 16,
   "metadata": {
    "colab": {
     "base_uri": "https://localhost:8080/",
     "height": 866
    },
    "colab_type": "code",
    "id": "9jWQDJyDLfNI",
    "outputId": "87feea8e-9ca3-48a7-f6f4-a1b04f17bab8"
   },
   "outputs": [
    {
     "data": {
      "text/plain": [
       "array([[[ 35,  45,  63],\n",
       "        [ 19,  33,  57],\n",
       "        [ 22,  42,  74],\n",
       "        ...,\n",
       "        [ 37,  69, 112],\n",
       "        [ 16,  48,  91],\n",
       "        [ 25,  45,  76]],\n",
       "\n",
       "       [[ 19,  33,  55],\n",
       "        [ 16,  31,  57],\n",
       "        [ 17,  35,  62],\n",
       "        ...,\n",
       "        [ 19,  34,  58],\n",
       "        [  4,  16,  39],\n",
       "        [ 28,  36,  51]],\n",
       "\n",
       "       [[ 15,  35,  67],\n",
       "        [ 17,  34,  63],\n",
       "        [ 22,  35,  61],\n",
       "        ...,\n",
       "        [  5,  13,  32],\n",
       "        [ 26,  40,  59],\n",
       "        [ 17,  18,  31]],\n",
       "\n",
       "       ...,\n",
       "\n",
       "       [[ 32,  95, 169],\n",
       "        [ 45, 117, 187],\n",
       "        [ 15,  70, 152],\n",
       "        ...,\n",
       "        [  9,  20,  47],\n",
       "        [ 17,  24,  48],\n",
       "        [ 12,  21,  35]],\n",
       "\n",
       "       [[ 27,  99, 179],\n",
       "        [ 34, 109, 180],\n",
       "        [ 35,  79, 158],\n",
       "        ...,\n",
       "        [ 21,  30,  50],\n",
       "        [ 17,  21,  48],\n",
       "        [ 23,  26,  47]],\n",
       "\n",
       "       [[ 52, 124, 203],\n",
       "        [ 50, 124, 195],\n",
       "        [ 20,  65, 145],\n",
       "        ...,\n",
       "        [  5,  16,  42],\n",
       "        [  1,   5,  38],\n",
       "        [ 19,  20,  49]]], dtype=uint8)"
      ]
     },
     "execution_count": 16,
     "metadata": {
      "tags": []
     },
     "output_type": "execute_result"
    }
   ],
   "source": [
    "x_feature[1]"
   ]
  },
  {
   "cell_type": "code",
   "execution_count": 17,
   "metadata": {
    "colab": {
     "base_uri": "https://localhost:8080/",
     "height": 281
    },
    "colab_type": "code",
    "id": "dUBF6uHwLnQY",
    "outputId": "3f3fcc6e-63a5-4c63-c9bd-97ebd7a1857d"
   },
   "outputs": [
    {
     "data": {
      "image/png": "[encoded data removed]",
      "text/plain": [
       "<Figure size 3600x3600 with 1 Axes>"
      ]
     },
     "metadata": {
      "tags": []
     },
     "output_type": "display_data"
    }
   ],
   "source": [
    "import matplotlib.pyplot as plt\n",
    "import numpy as np\n",
    "plt.figure(figsize=(50,50))\n",
    "\n",
    "for i in range(1):\n",
    "  plt.subplot(10,10,i+1)\n",
    "  plt.imshow(x_feature[i], cmap=plt.cm.binary)"
   ]
  },
  {
   "cell_type": "markdown",
   "metadata": {
    "colab_type": "text",
    "id": "6ioWDEgElBOs"
   },
   "source": [
    "Normalize the training data and convert into 4 dimensions so that it can be used as an input to conv layers in the model"
   ]
  },
  {
   "cell_type": "code",
   "execution_count": 0,
   "metadata": {
    "colab": {},
    "colab_type": "code",
    "id": "ARn76j3U1CDa"
   },
   "outputs": [],
   "source": [
    "x_feature = np.array(x_feature, dtype=np.float32)"
   ]
  },
  {
   "cell_type": "code",
   "execution_count": 19,
   "metadata": {
    "colab": {
     "base_uri": "https://localhost:8080/",
     "height": 34
    },
    "colab_type": "code",
    "id": "jrGUD9fALzy0",
    "outputId": "c2189421-ebc9-40ea-b030-11e6b5b36fad"
   },
   "outputs": [
    {
     "name": "stdout",
     "output_type": "stream",
     "text": [
      "x_feature shape: (10222, 128, 128, 3)\n"
     ]
    }
   ],
   "source": [
    "x_feature /= 255\n",
    "print('x_feature shape:', x_feature.shape)"
   ]
  },
  {
   "cell_type": "code",
   "execution_count": 20,
   "metadata": {
    "colab": {
     "base_uri": "https://localhost:8080/",
     "height": 866
    },
    "colab_type": "code",
    "id": "lN6gVk62L6wQ",
    "outputId": "44fca1e9-a47e-4702-a74b-f967dc0cda7e"
   },
   "outputs": [
    {
     "data": {
      "text/plain": [
       "array([[[0.13725491, 0.1764706 , 0.24705882],\n",
       "        [0.07450981, 0.12941177, 0.22352941],\n",
       "        [0.08627451, 0.16470589, 0.2901961 ],\n",
       "        ...,\n",
       "        [0.14509805, 0.27058825, 0.4392157 ],\n",
       "        [0.0627451 , 0.1882353 , 0.35686275],\n",
       "        [0.09803922, 0.1764706 , 0.29803923]],\n",
       "\n",
       "       [[0.07450981, 0.12941177, 0.21568628],\n",
       "        [0.0627451 , 0.12156863, 0.22352941],\n",
       "        [0.06666667, 0.13725491, 0.24313726],\n",
       "        ...,\n",
       "        [0.07450981, 0.13333334, 0.22745098],\n",
       "        [0.01568628, 0.0627451 , 0.15294118],\n",
       "        [0.10980392, 0.14117648, 0.2       ]],\n",
       "\n",
       "       [[0.05882353, 0.13725491, 0.2627451 ],\n",
       "        [0.06666667, 0.13333334, 0.24705882],\n",
       "        [0.08627451, 0.13725491, 0.23921569],\n",
       "        ...,\n",
       "        [0.01960784, 0.05098039, 0.1254902 ],\n",
       "        [0.10196079, 0.15686275, 0.23137255],\n",
       "        [0.06666667, 0.07058824, 0.12156863]],\n",
       "\n",
       "       ...,\n",
       "\n",
       "       [[0.1254902 , 0.37254903, 0.6627451 ],\n",
       "        [0.1764706 , 0.45882353, 0.73333335],\n",
       "        [0.05882353, 0.27450982, 0.59607846],\n",
       "        ...,\n",
       "        [0.03529412, 0.07843138, 0.18431373],\n",
       "        [0.06666667, 0.09411765, 0.1882353 ],\n",
       "        [0.04705882, 0.08235294, 0.13725491]],\n",
       "\n",
       "       [[0.10588235, 0.3882353 , 0.7019608 ],\n",
       "        [0.13333334, 0.42745098, 0.7058824 ],\n",
       "        [0.13725491, 0.30980393, 0.61960787],\n",
       "        ...,\n",
       "        [0.08235294, 0.11764706, 0.19607843],\n",
       "        [0.06666667, 0.08235294, 0.1882353 ],\n",
       "        [0.09019608, 0.10196079, 0.18431373]],\n",
       "\n",
       "       [[0.20392157, 0.4862745 , 0.79607844],\n",
       "        [0.19607843, 0.4862745 , 0.7647059 ],\n",
       "        [0.07843138, 0.25490198, 0.5686275 ],\n",
       "        ...,\n",
       "        [0.01960784, 0.0627451 , 0.16470589],\n",
       "        [0.00392157, 0.01960784, 0.14901961],\n",
       "        [0.07450981, 0.07843138, 0.19215687]]], dtype=float32)"
      ]
     },
     "execution_count": 20,
     "metadata": {
      "tags": []
     },
     "output_type": "execute_result"
    }
   ],
   "source": [
    "x_feature[1]"
   ]
  },
  {
   "cell_type": "code",
   "execution_count": 0,
   "metadata": {
    "colab": {},
    "colab_type": "code",
    "id": "uUTFb_qNMCjX"
   },
   "outputs": [],
   "source": [
    "x_feature = x_feature.reshape(x_feature.shape[0],128,128,3)"
   ]
  },
  {
   "cell_type": "code",
   "execution_count": 22,
   "metadata": {
    "colab": {
     "base_uri": "https://localhost:8080/",
     "height": 34
    },
    "colab_type": "code",
    "id": "TbZN3_NlMIXV",
    "outputId": "d86c8f84-3374-447a-c5c0-a342f62507a5"
   },
   "outputs": [
    {
     "name": "stdout",
     "output_type": "stream",
     "text": [
      "[19 37 85 ...  3 75 28]\n"
     ]
    }
   ],
   "source": [
    "encoder =  LabelEncoder()\n",
    "y_feature = encoder.fit_transform(y_feature)\n",
    "print(y_feature)"
   ]
  },
  {
   "cell_type": "code",
   "execution_count": 0,
   "metadata": {
    "colab": {},
    "colab_type": "code",
    "id": "SBEz73TrMh7Z"
   },
   "outputs": [],
   "source": [
    "y_feature = tensorflow.keras.utils.to_categorical(y_feature,num_classes=None,dtype='int')"
   ]
  },
  {
   "cell_type": "code",
   "execution_count": 24,
   "metadata": {
    "colab": {
     "base_uri": "https://localhost:8080/",
     "height": 121
    },
    "colab_type": "code",
    "id": "vZeoeWVdMm25",
    "outputId": "d69b1fbf-7075-4f3b-f499-409d15e06a02"
   },
   "outputs": [
    {
     "data": {
      "text/plain": [
       "array([0, 0, 0, 0, 0, 0, 0, 0, 0, 0, 0, 0, 0, 0, 0, 0, 0, 0, 0, 1, 0, 0,\n",
       "       0, 0, 0, 0, 0, 0, 0, 0, 0, 0, 0, 0, 0, 0, 0, 0, 0, 0, 0, 0, 0, 0,\n",
       "       0, 0, 0, 0, 0, 0, 0, 0, 0, 0, 0, 0, 0, 0, 0, 0, 0, 0, 0, 0, 0, 0,\n",
       "       0, 0, 0, 0, 0, 0, 0, 0, 0, 0, 0, 0, 0, 0, 0, 0, 0, 0, 0, 0, 0, 0,\n",
       "       0, 0, 0, 0, 0, 0, 0, 0, 0, 0, 0, 0, 0, 0, 0, 0, 0, 0, 0, 0, 0, 0,\n",
       "       0, 0, 0, 0, 0, 0, 0, 0, 0, 0])"
      ]
     },
     "execution_count": 24,
     "metadata": {
      "tags": []
     },
     "output_type": "execute_result"
    }
   ],
   "source": [
    "y_feature[0]"
   ]
  },
  {
   "cell_type": "code",
   "execution_count": 0,
   "metadata": {
    "colab": {},
    "colab_type": "code",
    "id": "T6EXYHGSMqN1"
   },
   "outputs": [],
   "source": [
    "x_train_data=x_feature"
   ]
  },
  {
   "cell_type": "code",
   "execution_count": 0,
   "metadata": {
    "colab": {},
    "colab_type": "code",
    "id": "yU4VpMvHMtgx"
   },
   "outputs": [],
   "source": [
    "y_train_data = y_feature"
   ]
  },
  {
   "cell_type": "markdown",
   "metadata": {
    "colab_type": "text",
    "id": "bdCXuAE11gZL"
   },
   "source": [
    "### Split the training and validation data from `x_train_data` and `y_train_data` obtained from above step"
   ]
  },
  {
   "cell_type": "code",
   "execution_count": 0,
   "metadata": {
    "colab": {},
    "colab_type": "code",
    "id": "kpWx-pgV96Jv"
   },
   "outputs": [],
   "source": [
    "from sklearn.model_selection import train_test_split\n",
    "trainX, validationX,trainY,validationY = train_test_split(x_train_data,y_train_data, test_size=0.3, random_state=100)"
   ]
  },
  {
   "cell_type": "code",
   "execution_count": 28,
   "metadata": {
    "colab": {
     "base_uri": "https://localhost:8080/",
     "height": 34
    },
    "colab_type": "code",
    "id": "vxm0qrwTNGrl",
    "outputId": "b403edff-231c-409b-a9f9-7a0e7018c979"
   },
   "outputs": [
    {
     "data": {
      "text/plain": [
       "(7155, 128, 128, 3)"
      ]
     },
     "execution_count": 28,
     "metadata": {
      "tags": []
     },
     "output_type": "execute_result"
    }
   ],
   "source": [
    "trainX.shape"
   ]
  },
  {
   "cell_type": "code",
   "execution_count": 29,
   "metadata": {
    "colab": {
     "base_uri": "https://localhost:8080/",
     "height": 34
    },
    "colab_type": "code",
    "id": "aa2MwXOTNHst",
    "outputId": "7726cb1e-1ab3-4022-ae31-09ab5fe10ac0"
   },
   "outputs": [
    {
     "data": {
      "text/plain": [
       "(3067, 128, 128, 3)"
      ]
     },
     "execution_count": 29,
     "metadata": {
      "tags": []
     },
     "output_type": "execute_result"
    }
   ],
   "source": [
    "validationX.shape"
   ]
  },
  {
   "cell_type": "code",
   "execution_count": 30,
   "metadata": {
    "colab": {
     "base_uri": "https://localhost:8080/",
     "height": 34
    },
    "colab_type": "code",
    "id": "NFuz2OIZNMrH",
    "outputId": "650a0779-6a44-46e1-d6b4-5e1dbea30719"
   },
   "outputs": [
    {
     "data": {
      "text/plain": [
       "(7155, 120)"
      ]
     },
     "execution_count": 30,
     "metadata": {
      "tags": []
     },
     "output_type": "execute_result"
    }
   ],
   "source": [
    "trainY.shape"
   ]
  },
  {
   "cell_type": "code",
   "execution_count": 31,
   "metadata": {
    "colab": {
     "base_uri": "https://localhost:8080/",
     "height": 34
    },
    "colab_type": "code",
    "id": "wiyDbE6rNH2F",
    "outputId": "73c392d2-3b5c-4cf0-83a8-118da4411fa6"
   },
   "outputs": [
    {
     "data": {
      "text/plain": [
       "(3067, 120)"
      ]
     },
     "execution_count": 31,
     "metadata": {
      "tags": []
     },
     "output_type": "execute_result"
    }
   ],
   "source": [
    "validationY.shape"
   ]
  },
  {
   "cell_type": "markdown",
   "metadata": {
    "colab_type": "text",
    "id": "XkL-N1jDsU8m"
   },
   "source": [
    "### Loading the test data\n",
    "Read the id column from the samples_submission.csv and store it in test_img"
   ]
  },
  {
   "cell_type": "code",
   "execution_count": 0,
   "metadata": {
    "colab": {},
    "colab_type": "code",
    "id": "DnpXdpd9b3E7"
   },
   "outputs": [],
   "source": [
    "test_img = pd.read_csv(\"/content/sample_submission.csv\" , usecols = [\"id\"])"
   ]
  },
  {
   "cell_type": "code",
   "execution_count": 39,
   "metadata": {
    "colab": {
     "base_uri": "https://localhost:8080/",
     "height": 34
    },
    "colab_type": "code",
    "id": "rQ0tZuJBNaDe",
    "outputId": "4521a040-8ee8-47f6-f02d-c8c1f7d945cc"
   },
   "outputs": [
    {
     "data": {
      "text/plain": [
       "(10357, 1)"
      ]
     },
     "execution_count": 39,
     "metadata": {
      "tags": []
     },
     "output_type": "execute_result"
    }
   ],
   "source": [
    "test_img.shape"
   ]
  },
  {
   "cell_type": "code",
   "execution_count": 0,
   "metadata": {
    "colab": {},
    "colab_type": "code",
    "id": "jMk2b5igNaO-"
   },
   "outputs": [],
   "source": [
    "test_img = test_img['id']"
   ]
  },
  {
   "cell_type": "code",
   "execution_count": 41,
   "metadata": {
    "colab": {
     "base_uri": "https://localhost:8080/",
     "height": 54
    },
    "colab_type": "code",
    "id": "soCvr6OGNaSh",
    "outputId": "e0f07bc3-6124-4b30-efee-b466eb969aa2"
   },
   "outputs": [
    {
     "data": {
      "text/plain": [
       "\"['000621fb3cbb32d8935728e48679680e' '00102ee9d8eb90812350685311fe5890'\\n '0012a730dfa437f5f3613fb75efcd4ce' ... 'fff74b59b758bbbf13a5793182a9bbe4'\\n 'fff7d50d848e8014ac1e9172dc6762a3' 'fffbff22c1f51e3dc80c4bf04089545b']\""
      ]
     },
     "execution_count": 41,
     "metadata": {
      "tags": []
     },
     "output_type": "execute_result"
    }
   ],
   "source": [
    "format(test_img.values)"
   ]
  },
  {
   "cell_type": "code",
   "execution_count": 42,
   "metadata": {
    "colab": {
     "base_uri": "https://localhost:8080/",
     "height": 121
    },
    "colab_type": "code",
    "id": "ZeN6owTmNaXW",
    "outputId": "d76df469-5ab4-45dc-8dfd-4f4b01b8bfbc"
   },
   "outputs": [
    {
     "data": {
      "text/plain": [
       "0    000621fb3cbb32d8935728e48679680e\n",
       "1    00102ee9d8eb90812350685311fe5890\n",
       "2    0012a730dfa437f5f3613fb75efcd4ce\n",
       "3    001510bc8570bbeee98c8d80c8a95ec1\n",
       "4    001a5f3114548acdefa3d4da05474c2e\n",
       "Name: id, dtype: object"
      ]
     },
     "execution_count": 42,
     "metadata": {
      "tags": []
     },
     "output_type": "execute_result"
    }
   ],
   "source": [
    "test_img.head()"
   ]
  },
  {
   "cell_type": "markdown",
   "metadata": {
    "colab_type": "text",
    "id": "DEJqZIMbm0Jo"
   },
   "source": [
    "Run the below code to load the test image files in x_test_feature"
   ]
  },
  {
   "cell_type": "code",
   "execution_count": 43,
   "metadata": {
    "colab": {
     "base_uri": "https://localhost:8080/",
     "height": 34
    },
    "colab_type": "code",
    "id": "0ZWerlnvV9xL",
    "outputId": "3f212628-3378-41e6-9885-f84d0c00f900"
   },
   "outputs": [
    {
     "name": "stderr",
     "output_type": "stream",
     "text": [
      "100%|██████████| 10357/10357 [00:28<00:00, 367.93it/s]\n"
     ]
    }
   ],
   "source": [
    "x_test_feature = []\n",
    "i = 0 # initialisation\n",
    "\n",
    "for t in tqdm(test_img.values): # f for format ,jpg\n",
    "    img = cv2.imread('./test/{}.jpg'.format(t), 1)\n",
    "    img_resize = cv2.resize(img, (img_rows, img_cols)) \n",
    "    x_test_feature.append(img_resize)"
   ]
  },
  {
   "cell_type": "code",
   "execution_count": 44,
   "metadata": {
    "colab": {
     "base_uri": "https://localhost:8080/",
     "height": 866
    },
    "colab_type": "code",
    "id": "uQePMpNeN67Q",
    "outputId": "8a15b4a8-c8bb-4f22-d864-b200de70fdf9"
   },
   "outputs": [
    {
     "data": {
      "text/plain": [
       "array([[[  1,   1,   1],\n",
       "        [  1,   1,   1],\n",
       "        [  1,   1,   1],\n",
       "        ...,\n",
       "        [  1,   1,   1],\n",
       "        [  1,   1,   1],\n",
       "        [  1,   1,   1]],\n",
       "\n",
       "       [[  1,   1,   1],\n",
       "        [  1,   1,   1],\n",
       "        [  1,   1,   1],\n",
       "        ...,\n",
       "        [  1,   1,   1],\n",
       "        [  1,   1,   1],\n",
       "        [  1,   1,   1]],\n",
       "\n",
       "       [[  1,   1,   1],\n",
       "        [  1,   1,   1],\n",
       "        [  1,   1,   1],\n",
       "        ...,\n",
       "        [  1,   1,   1],\n",
       "        [  1,   1,   1],\n",
       "        [  1,   1,   1]],\n",
       "\n",
       "       ...,\n",
       "\n",
       "       [[105, 110, 107],\n",
       "        [ 86,  91,  88],\n",
       "        [101, 106, 103],\n",
       "        ...,\n",
       "        [ 99, 109, 110],\n",
       "        [ 92, 102, 103],\n",
       "        [104, 107, 109]],\n",
       "\n",
       "       [[113, 118, 113],\n",
       "        [122, 128, 122],\n",
       "        [124, 129, 126],\n",
       "        ...,\n",
       "        [120, 126, 123],\n",
       "        [113, 119, 116],\n",
       "        [115, 118, 122]],\n",
       "\n",
       "       [[116, 122, 117],\n",
       "        [114, 119, 117],\n",
       "        [127, 132, 131],\n",
       "        ...,\n",
       "        [126, 129, 127],\n",
       "        [120, 123, 121],\n",
       "        [108, 110, 111]]], dtype=uint8)"
      ]
     },
     "execution_count": 44,
     "metadata": {
      "tags": []
     },
     "output_type": "execute_result"
    }
   ],
   "source": [
    "x_test_feature[1]"
   ]
  },
  {
   "cell_type": "markdown",
   "metadata": {
    "colab_type": "text",
    "id": "MzXQIsBdPANL"
   },
   "source": [
    "Normalize the test data and convert it into 4 dimensions"
   ]
  },
  {
   "cell_type": "code",
   "execution_count": 0,
   "metadata": {
    "colab": {},
    "colab_type": "code",
    "id": "iUEmT8RYN-ts"
   },
   "outputs": [],
   "source": [
    "x_test_feature_ar = np.array(x_test_feature, dtype=np.float32)"
   ]
  },
  {
   "cell_type": "code",
   "execution_count": 0,
   "metadata": {
    "colab": {},
    "colab_type": "code",
    "id": "oyv_RP_5N-61"
   },
   "outputs": [],
   "source": [
    "x_test_feature_ar /= 255"
   ]
  },
  {
   "cell_type": "code",
   "execution_count": 47,
   "metadata": {
    "colab": {
     "base_uri": "https://localhost:8080/",
     "height": 34
    },
    "colab_type": "code",
    "id": "3rqjKtlUOIN4",
    "outputId": "a871ca85-fffa-4316-ba2e-38830cf3f252"
   },
   "outputs": [
    {
     "data": {
      "text/plain": [
       "10357"
      ]
     },
     "execution_count": 47,
     "metadata": {
      "tags": []
     },
     "output_type": "execute_result"
    }
   ],
   "source": [
    "x_test_feature_ar.shape[0]"
   ]
  },
  {
   "cell_type": "code",
   "execution_count": 0,
   "metadata": {
    "colab": {},
    "colab_type": "code",
    "id": "CaFJ0tmAOQiz"
   },
   "outputs": [],
   "source": [
    "x_test_feature = x_test_feature_ar.reshape(x_test_feature_ar.shape[0],128,128,3)"
   ]
  },
  {
   "cell_type": "markdown",
   "metadata": {
    "colab_type": "text",
    "id": "zKezNJVMsocP"
   },
   "source": [
    "### Build a basic conv neural network with 2 conv layers (kernel sizes - 5 and 3) add layers as mentioned below for classification.\n",
    "\n",
    "1. Add a Dense layer with 256 neurons with `relu` activation\n",
    "\n",
    "2. Add a Dense layer with 120 neurons as final layer (as there are 120 classes in the given dataset) with `softmax` activation for classifiaction. "
   ]
  },
  {
   "cell_type": "code",
   "execution_count": 0,
   "metadata": {
    "colab": {},
    "colab_type": "code",
    "id": "D2jxTY2S96J4"
   },
   "outputs": [],
   "source": [
    "from tensorflow.keras.models import Sequential,Model\n",
    "from tensorflow.keras.layers import Input, Dense, Dropout, Flatten, Activation\n",
    "from tensorflow.keras.layers import Conv2D, MaxPooling2D\n",
    "from tensorflow.keras.layers import BatchNormalization\n",
    "from tensorflow.keras.optimizers import Adam\n",
    "from tensorflow.keras.losses import categorical_crossentropy\n",
    "from tensorflow.keras.layers import LeakyReLU"
   ]
  },
  {
   "cell_type": "code",
   "execution_count": 0,
   "metadata": {
    "colab": {},
    "colab_type": "code",
    "id": "f_BAvCzo96J6"
   },
   "outputs": [],
   "source": [
    "model = Sequential()\n",
    "model.add(Conv2D(filters=32, input_shape = (128,128,3), kernel_size=5)) \n",
    "model.add(Conv2D(filters=64, kernel_size=3))\n",
    "\n",
    "model.add(Flatten()) \n",
    "\n",
    "# fully connected layer\n",
    "model.add(Dense(units=256, kernel_initializer = 'he_normal', activation = 'relu'))\n",
    "model.add(Dense(units = 120, activation = 'softmax'))"
   ]
  },
  {
   "cell_type": "markdown",
   "metadata": {
    "colab_type": "text",
    "id": "ui8EXw6_oqpR"
   },
   "source": [
    "### Use batch_size = 128 and epochs = 10 and execute the model"
   ]
  },
  {
   "cell_type": "code",
   "execution_count": 0,
   "metadata": {
    "colab": {},
    "colab_type": "code",
    "id": "IriIc37NozbK"
   },
   "outputs": [],
   "source": [
    "model.compile(optimizer='adam', loss = 'categorical_crossentropy',metrics = ['accuracy'])"
   ]
  },
  {
   "cell_type": "code",
   "execution_count": 56,
   "metadata": {
    "colab": {
     "base_uri": "https://localhost:8080/",
     "height": 381
    },
    "colab_type": "code",
    "id": "0PR9j5_Xozmd",
    "outputId": "60ea8ec3-bd93-436c-c743-26f8cb0e83cb"
   },
   "outputs": [
    {
     "name": "stdout",
     "output_type": "stream",
     "text": [
      "Train on 7155 samples, validate on 3067 samples\n",
      "Epoch 1/10\n",
      "7155/7155 [==============================] - 17s 2ms/sample - loss: 16.4091 - accuracy: 0.0095 - val_loss: 4.7960 - val_accuracy: 0.0104\n",
      "Epoch 2/10\n",
      "7155/7155 [==============================] - 12s 2ms/sample - loss: 4.7862 - accuracy: 0.0101 - val_loss: 4.7870 - val_accuracy: 0.0134\n",
      "Epoch 3/10\n",
      "7155/7155 [==============================] - 12s 2ms/sample - loss: 4.7834 - accuracy: 0.0098 - val_loss: 4.7882 - val_accuracy: 0.0124\n",
      "Epoch 4/10\n",
      "7155/7155 [==============================] - 12s 2ms/sample - loss: 4.7823 - accuracy: 0.0109 - val_loss: 4.7927 - val_accuracy: 0.0101\n",
      "Epoch 5/10\n",
      "7155/7155 [==============================] - 12s 2ms/sample - loss: 4.7825 - accuracy: 0.0099 - val_loss: 4.7856 - val_accuracy: 0.0108\n",
      "Epoch 6/10\n",
      "7155/7155 [==============================] - 12s 2ms/sample - loss: 4.7809 - accuracy: 0.0115 - val_loss: 4.7894 - val_accuracy: 0.0111\n",
      "Epoch 7/10\n",
      "7155/7155 [==============================] - 12s 2ms/sample - loss: 4.7802 - accuracy: 0.0103 - val_loss: 4.7891 - val_accuracy: 0.0111\n",
      "Epoch 8/10\n",
      "7155/7155 [==============================] - 12s 2ms/sample - loss: 4.7789 - accuracy: 0.0117 - val_loss: 4.7848 - val_accuracy: 0.0114\n",
      "Epoch 9/10\n",
      "7155/7155 [==============================] - 13s 2ms/sample - loss: 4.7775 - accuracy: 0.0105 - val_loss: 4.7885 - val_accuracy: 0.0114\n",
      "Epoch 10/10\n",
      "7155/7155 [==============================] - 13s 2ms/sample - loss: 4.7748 - accuracy: 0.0120 - val_loss: 4.8007 - val_accuracy: 0.0111\n"
     ]
    }
   ],
   "source": [
    "history = model.fit(trainX,trainY,\n",
    "                    epochs=10, \n",
    "                    validation_data=(validationX,validationY),\n",
    "                    verbose = 1,\n",
    "                    batch_size=128)"
   ]
  },
  {
   "cell_type": "markdown",
   "metadata": {
    "colab_type": "text",
    "id": "Z8hWaKmjoz69"
   },
   "source": [
    "#The model accuracy is very poor !!!!"
   ]
  },
  {
   "cell_type": "markdown",
   "metadata": {
    "colab_type": "text",
    "id": "agJKkc6xtKiq"
   },
   "source": [
    "### Use Data Augmentation in the above model to see if the accuracy improves\n"
   ]
  },
  {
   "cell_type": "code",
   "execution_count": 0,
   "metadata": {
    "colab": {},
    "colab_type": "code",
    "id": "31Mn8qnZb3Ru"
   },
   "outputs": [],
   "source": [
    "from tensorflow.keras.preprocessing.image import ImageDataGenerator"
   ]
  },
  {
   "cell_type": "code",
   "execution_count": 0,
   "metadata": {
    "colab": {},
    "colab_type": "code",
    "id": "gDLQVFDP96KI"
   },
   "outputs": [],
   "source": [
    "train_datagen = ImageDataGenerator( rotation_range=90,\n",
    "                 width_shift_range=0.1, height_shift_range=0.1,\n",
    "                 horizontal_flip=True)\n",
    "train_datagen.fit(trainX)"
   ]
  },
  {
   "cell_type": "code",
   "execution_count": 0,
   "metadata": {
    "colab": {},
    "colab_type": "code",
    "id": "bqTlW0qHb3Xb"
   },
   "outputs": [],
   "source": [
    "val_datagen = ImageDataGenerator( rotation_range=90,\n",
    "                 width_shift_range=0.1, height_shift_range=0.1,\n",
    "                 horizontal_flip=True)\n",
    "val_datagen.fit(validationX)"
   ]
  },
  {
   "cell_type": "markdown",
   "metadata": {
    "colab_type": "text",
    "id": "6sssbaTfxlkk"
   },
   "source": [
    "### Using the above objects, create the image generators with variable names `train_generator` and `val_generator`\n",
    "\n",
    "You need to use train_datagen.flow() and val_datagen.flow()"
   ]
  },
  {
   "cell_type": "code",
   "execution_count": 0,
   "metadata": {
    "colab": {},
    "colab_type": "code",
    "id": "sehaRgT-96KQ"
   },
   "outputs": [],
   "source": [
    "train_generator = train_datagen.flow(trainX,trainY, batch_size=9)\n",
    "val_generator = val_datagen.flow(validationX,validationY, batch_size=9)"
   ]
  },
  {
   "cell_type": "markdown",
   "metadata": {
    "colab_type": "text",
    "id": "TVFQJZw3x4-C"
   },
   "source": [
    "### Fit the model using fit_generator() using `train_generator` and `val_generator` from the above step with 10 epochs"
   ]
  },
  {
   "cell_type": "code",
   "execution_count": 61,
   "metadata": {
    "colab": {
     "base_uri": "https://localhost:8080/",
     "height": 589
    },
    "colab_type": "code",
    "id": "J1K2MqHbuPUa",
    "outputId": "a072687a-e4a1-48fb-df57-ec5196ff65f8"
   },
   "outputs": [
    {
     "name": "stdout",
     "output_type": "stream",
     "text": [
      "WARNING:tensorflow:From <ipython-input-61-cbaa13ca61c1>:1: Model.fit_generator (from tensorflow.python.keras.engine.training) is deprecated and will be removed in a future version.\n",
      "Instructions for updating:\n",
      "Please use Model.fit, which supports generators.\n",
      "WARNING:tensorflow:sample_weight modes were coerced from\n",
      "  ...\n",
      "    to  \n",
      "  ['...']\n",
      "WARNING:tensorflow:sample_weight modes were coerced from\n",
      "  ...\n",
      "    to  \n",
      "  ['...']\n",
      "Train for 300 steps, validate for 300 steps\n",
      "Epoch 1/10\n",
      "300/300 [==============================] - 30s 99ms/step - loss: 4.8076 - accuracy: 0.0093 - val_loss: 4.7834 - val_accuracy: 0.0115\n",
      "Epoch 2/10\n",
      "300/300 [==============================] - 29s 98ms/step - loss: 4.7942 - accuracy: 0.0104 - val_loss: 4.7829 - val_accuracy: 0.0096\n",
      "Epoch 3/10\n",
      "300/300 [==============================] - 30s 99ms/step - loss: 4.8485 - accuracy: 0.0093 - val_loss: 4.7829 - val_accuracy: 0.0096\n",
      "Epoch 4/10\n",
      "300/300 [==============================] - 29s 98ms/step - loss: 4.7798 - accuracy: 0.0100 - val_loss: 4.7825 - val_accuracy: 0.0096\n",
      "Epoch 5/10\n",
      "300/300 [==============================] - 29s 97ms/step - loss: 4.7788 - accuracy: 0.0085 - val_loss: 4.7820 - val_accuracy: 0.0096\n",
      "Epoch 6/10\n",
      "300/300 [==============================] - 29s 97ms/step - loss: 4.7796 - accuracy: 0.0085 - val_loss: 4.7819 - val_accuracy: 0.0144\n",
      "Epoch 7/10\n",
      "300/300 [==============================] - 29s 97ms/step - loss: 4.7776 - accuracy: 0.0104 - val_loss: 4.7823 - val_accuracy: 0.0096\n",
      "Epoch 8/10\n",
      "300/300 [==============================] - 29s 96ms/step - loss: 4.7775 - accuracy: 0.0093 - val_loss: 4.7827 - val_accuracy: 0.0096\n",
      "Epoch 9/10\n",
      "300/300 [==============================] - 29s 96ms/step - loss: 4.7779 - accuracy: 0.0078 - val_loss: 4.7827 - val_accuracy: 0.0096\n",
      "Epoch 10/10\n",
      "300/300 [==============================] - 29s 97ms/step - loss: 4.7786 - accuracy: 0.0081 - val_loss: 4.7825 - val_accuracy: 0.0115\n"
     ]
    },
    {
     "data": {
      "text/plain": [
       "<tensorflow.python.keras.callbacks.History at 0x7f5e403abb00>"
      ]
     },
     "execution_count": 61,
     "metadata": {
      "tags": []
     },
     "output_type": "execute_result"
    }
   ],
   "source": [
    "model.fit_generator(train_generator,\\\n",
    "                    epochs=10, steps_per_epoch=300, \\\n",
    "                    verbose=1,validation_data=val_generator, validation_steps = 300)"
   ]
  },
  {
   "cell_type": "markdown",
   "metadata": {
    "colab_type": "text",
    "id": "Q2zmLztqo5DY"
   },
   "source": [
    "# Model accuracy is still poor!!!"
   ]
  },
  {
   "cell_type": "markdown",
   "metadata": {
    "colab_type": "text",
    "id": "rSTATrhsAo7L"
   },
   "source": [
    "### Lets use Transfer Learning\n",
    "\n",
    "Download the vgg wieght file from here : https://github.com/MinerKasch/applied_deep_learning/blob/master/vgg16_weights_tf_dim_ordering_tf_kernels_notop.h5"
   ]
  },
  {
   "cell_type": "code",
   "execution_count": 0,
   "metadata": {
    "colab": {},
    "colab_type": "code",
    "id": "hHfUIVXO-E9m"
   },
   "outputs": [],
   "source": [
    "import keras.backend.common as k\n",
    "k.set_image_dim_ordering('th')"
   ]
  },
  {
   "cell_type": "code",
   "execution_count": 0,
   "metadata": {
    "colab": {},
    "colab_type": "code",
    "id": "mfL_eiEHA8hb"
   },
   "outputs": [],
   "source": [
    "project_path = \"/content/drive/My Drive/Great Learning Residency 8.1 CNN/Project 2/vgg16_weights_tf_dim_ordering_tf_kernels_notop.h5\""
   ]
  },
  {
   "cell_type": "markdown",
   "metadata": {
    "colab_type": "text",
    "id": "zy5JdbW6pIvD"
   },
   "source": [
    "Use the below code to load VGG16 weights trained on ImageNet"
   ]
  },
  {
   "cell_type": "code",
   "execution_count": 0,
   "metadata": {
    "colab": {},
    "colab_type": "code",
    "id": "yrqs0zg7ApNw"
   },
   "outputs": [],
   "source": [
    "from tensorflow.keras.applications.vgg16 import VGG16, preprocess_input\n",
    "# Instantiate the model with the pre-trained weights (no top)\n",
    "base_model= VGG16(weights=project_path,\n",
    "                 include_top=False, pooling='avg')"
   ]
  },
  {
   "cell_type": "markdown",
   "metadata": {
    "colab_type": "text",
    "id": "EItOlRBGpV_A"
   },
   "source": [
    "Print the summary of the base_model"
   ]
  },
  {
   "cell_type": "code",
   "execution_count": 82,
   "metadata": {
    "colab": {
     "base_uri": "https://localhost:8080/",
     "height": 849
    },
    "colab_type": "code",
    "id": "lQsEBgnlpHjH",
    "outputId": "423c7e89-8cad-4b6d-cb22-c013dfb8e5bf"
   },
   "outputs": [
    {
     "name": "stdout",
     "output_type": "stream",
     "text": [
      "Model: \"vgg16\"\n",
      "_________________________________________________________________\n",
      "Layer (type)                 Output Shape              Param #   \n",
      "=================================================================\n",
      "input_2 (InputLayer)         [(None, None, None, 3)]   0         \n",
      "_________________________________________________________________\n",
      "block1_conv1 (Conv2D)        (None, None, None, 64)    1792      \n",
      "_________________________________________________________________\n",
      "block1_conv2 (Conv2D)        (None, None, None, 64)    36928     \n",
      "_________________________________________________________________\n",
      "block1_pool (MaxPooling2D)   (None, None, None, 64)    0         \n",
      "_________________________________________________________________\n",
      "block2_conv1 (Conv2D)        (None, None, None, 128)   73856     \n",
      "_________________________________________________________________\n",
      "block2_conv2 (Conv2D)        (None, None, None, 128)   147584    \n",
      "_________________________________________________________________\n",
      "block2_pool (MaxPooling2D)   (None, None, None, 128)   0         \n",
      "_________________________________________________________________\n",
      "block3_conv1 (Conv2D)        (None, None, None, 256)   295168    \n",
      "_________________________________________________________________\n",
      "block3_conv2 (Conv2D)        (None, None, None, 256)   590080    \n",
      "_________________________________________________________________\n",
      "block3_conv3 (Conv2D)        (None, None, None, 256)   590080    \n",
      "_________________________________________________________________\n",
      "block3_pool (MaxPooling2D)   (None, None, None, 256)   0         \n",
      "_________________________________________________________________\n",
      "block4_conv1 (Conv2D)        (None, None, None, 512)   1180160   \n",
      "_________________________________________________________________\n",
      "block4_conv2 (Conv2D)        (None, None, None, 512)   2359808   \n",
      "_________________________________________________________________\n",
      "block4_conv3 (Conv2D)        (None, None, None, 512)   2359808   \n",
      "_________________________________________________________________\n",
      "block4_pool (MaxPooling2D)   (None, None, None, 512)   0         \n",
      "_________________________________________________________________\n",
      "block5_conv1 (Conv2D)        (None, None, None, 512)   2359808   \n",
      "_________________________________________________________________\n",
      "block5_conv2 (Conv2D)        (None, None, None, 512)   2359808   \n",
      "_________________________________________________________________\n",
      "block5_conv3 (Conv2D)        (None, None, None, 512)   2359808   \n",
      "_________________________________________________________________\n",
      "block5_pool (MaxPooling2D)   (None, None, None, 512)   0         \n",
      "_________________________________________________________________\n",
      "global_average_pooling2d_1 ( (None, 512)               0         \n",
      "=================================================================\n",
      "Total params: 14,714,688\n",
      "Trainable params: 14,714,688\n",
      "Non-trainable params: 0\n",
      "_________________________________________________________________\n"
     ]
    }
   ],
   "source": [
    "base_model.summary()"
   ]
  },
  {
   "cell_type": "markdown",
   "metadata": {
    "colab_type": "text",
    "id": "fHpeOyW0qauW"
   },
   "source": [
    "### Add the following classification layers to the imported VGG Model <br>\n",
    "1. Flatten Layer\n",
    "2. Dense layer with 1024 neurons with activation as Relu\n",
    "3. Dense layer with 256 neurons with activation as Relu\n",
    "4. Dense layer with 120 neurons with activation as Softmax"
   ]
  },
  {
   "cell_type": "code",
   "execution_count": 0,
   "metadata": {
    "colab": {},
    "colab_type": "code",
    "id": "mIupAkNDJaD1"
   },
   "outputs": [],
   "source": [
    "from tensorflow.keras.layers import Input\n",
    "input = Input(shape=(128,128,3),name = 'image_input')\n",
    "output_vgg16 = base_model(input)"
   ]
  },
  {
   "cell_type": "code",
   "execution_count": 0,
   "metadata": {
    "colab": {},
    "colab_type": "code",
    "id": "rWAI6FSdJaI-"
   },
   "outputs": [],
   "source": [
    "x = base_model.output\n",
    "#x = Flatten()(x)\n",
    "x = Dense(1024, activation='relu')(x) # let's add a fully-connected layer\n",
    "x = Dropout(0.25)(x)\n",
    "x = Dense(256, activation='relu')(x) # let's add a fully-connected layer\n",
    "x = Dropout(0.25)(x)\n",
    "predictions = Dense(120, activation='softmax')(x)\n",
    "\n",
    "# this is the model we will train\n",
    "m = Model(inputs=base_model.input, outputs=predictions)"
   ]
  },
  {
   "cell_type": "markdown",
   "metadata": {
    "colab_type": "text",
    "id": "LeQem0pHITIj"
   },
   "source": [
    "### Make all the layers in the base_model (VGG16) to be non-trainable"
   ]
  },
  {
   "cell_type": "code",
   "execution_count": 85,
   "metadata": {
    "colab": {
     "base_uri": "https://localhost:8080/",
     "height": 884
    },
    "colab_type": "code",
    "id": "hBF6aIyYKylj",
    "outputId": "b3a284f2-f0e2-42b8-d405-0577b1b6c8d3"
   },
   "outputs": [
    {
     "name": "stdout",
     "output_type": "stream",
     "text": [
      "\u001b[34minput_2\u001b[0m\n",
      "\u001b[31mTrue\u001b[0m\n",
      "\u001b[34mblock1_conv1\u001b[0m\n",
      "\u001b[31mTrue\u001b[0m\n",
      "\u001b[34mblock1_conv2\u001b[0m\n",
      "\u001b[31mTrue\u001b[0m\n",
      "\u001b[34mblock1_pool\u001b[0m\n",
      "\u001b[31mTrue\u001b[0m\n",
      "\u001b[34mblock2_conv1\u001b[0m\n",
      "\u001b[31mTrue\u001b[0m\n",
      "\u001b[34mblock2_conv2\u001b[0m\n",
      "\u001b[31mTrue\u001b[0m\n",
      "\u001b[34mblock2_pool\u001b[0m\n",
      "\u001b[31mTrue\u001b[0m\n",
      "\u001b[34mblock3_conv1\u001b[0m\n",
      "\u001b[31mTrue\u001b[0m\n",
      "\u001b[34mblock3_conv2\u001b[0m\n",
      "\u001b[31mTrue\u001b[0m\n",
      "\u001b[34mblock3_conv3\u001b[0m\n",
      "\u001b[31mTrue\u001b[0m\n",
      "\u001b[34mblock3_pool\u001b[0m\n",
      "\u001b[31mTrue\u001b[0m\n",
      "\u001b[34mblock4_conv1\u001b[0m\n",
      "\u001b[31mTrue\u001b[0m\n",
      "\u001b[34mblock4_conv2\u001b[0m\n",
      "\u001b[31mTrue\u001b[0m\n",
      "\u001b[34mblock4_conv3\u001b[0m\n",
      "\u001b[31mTrue\u001b[0m\n",
      "\u001b[34mblock4_pool\u001b[0m\n",
      "\u001b[31mTrue\u001b[0m\n",
      "\u001b[34mblock5_conv1\u001b[0m\n",
      "\u001b[31mTrue\u001b[0m\n",
      "\u001b[34mblock5_conv2\u001b[0m\n",
      "\u001b[31mTrue\u001b[0m\n",
      "\u001b[34mblock5_conv3\u001b[0m\n",
      "\u001b[31mTrue\u001b[0m\n",
      "\u001b[34mblock5_pool\u001b[0m\n",
      "\u001b[31mTrue\u001b[0m\n",
      "\u001b[34mglobal_average_pooling2d_1\u001b[0m\n",
      "\u001b[31mTrue\u001b[0m\n",
      "\u001b[34mdense_5\u001b[0m\n",
      "\u001b[31mTrue\u001b[0m\n",
      "\u001b[34mdropout_3\u001b[0m\n",
      "\u001b[31mTrue\u001b[0m\n",
      "\u001b[34mdense_6\u001b[0m\n",
      "\u001b[31mTrue\u001b[0m\n",
      "\u001b[34mdropout_4\u001b[0m\n",
      "\u001b[31mTrue\u001b[0m\n",
      "\u001b[34mdense_7\u001b[0m\n",
      "\u001b[31mTrue\u001b[0m\n"
     ]
    }
   ],
   "source": [
    "\n",
    "#Module to print colourful statements\n",
    "from termcolor import colored\n",
    "\n",
    "#Check which layers have been frozen \n",
    "for layer in m.layers:\n",
    "  print (colored(layer.name, 'blue'))\n",
    "  print (colored(layer.trainable, 'red'))"
   ]
  },
  {
   "cell_type": "code",
   "execution_count": 0,
   "metadata": {
    "colab": {},
    "colab_type": "code",
    "id": "AJXtqXa5KThe"
   },
   "outputs": [],
   "source": [
    "for layer in m.layers:\n",
    "    m.trainable = False"
   ]
  },
  {
   "cell_type": "code",
   "execution_count": 87,
   "metadata": {
    "colab": {
     "base_uri": "https://localhost:8080/",
     "height": 884
    },
    "colab_type": "code",
    "id": "e4aG4WqiKfoS",
    "outputId": "32b31564-b99e-4bc3-ad01-ab1031554df5"
   },
   "outputs": [
    {
     "name": "stdout",
     "output_type": "stream",
     "text": [
      "\u001b[34minput_2\u001b[0m\n",
      "\u001b[31mFalse\u001b[0m\n",
      "\u001b[34mblock1_conv1\u001b[0m\n",
      "\u001b[31mFalse\u001b[0m\n",
      "\u001b[34mblock1_conv2\u001b[0m\n",
      "\u001b[31mFalse\u001b[0m\n",
      "\u001b[34mblock1_pool\u001b[0m\n",
      "\u001b[31mFalse\u001b[0m\n",
      "\u001b[34mblock2_conv1\u001b[0m\n",
      "\u001b[31mFalse\u001b[0m\n",
      "\u001b[34mblock2_conv2\u001b[0m\n",
      "\u001b[31mFalse\u001b[0m\n",
      "\u001b[34mblock2_pool\u001b[0m\n",
      "\u001b[31mFalse\u001b[0m\n",
      "\u001b[34mblock3_conv1\u001b[0m\n",
      "\u001b[31mFalse\u001b[0m\n",
      "\u001b[34mblock3_conv2\u001b[0m\n",
      "\u001b[31mFalse\u001b[0m\n",
      "\u001b[34mblock3_conv3\u001b[0m\n",
      "\u001b[31mFalse\u001b[0m\n",
      "\u001b[34mblock3_pool\u001b[0m\n",
      "\u001b[31mFalse\u001b[0m\n",
      "\u001b[34mblock4_conv1\u001b[0m\n",
      "\u001b[31mFalse\u001b[0m\n",
      "\u001b[34mblock4_conv2\u001b[0m\n",
      "\u001b[31mFalse\u001b[0m\n",
      "\u001b[34mblock4_conv3\u001b[0m\n",
      "\u001b[31mFalse\u001b[0m\n",
      "\u001b[34mblock4_pool\u001b[0m\n",
      "\u001b[31mFalse\u001b[0m\n",
      "\u001b[34mblock5_conv1\u001b[0m\n",
      "\u001b[31mFalse\u001b[0m\n",
      "\u001b[34mblock5_conv2\u001b[0m\n",
      "\u001b[31mFalse\u001b[0m\n",
      "\u001b[34mblock5_conv3\u001b[0m\n",
      "\u001b[31mFalse\u001b[0m\n",
      "\u001b[34mblock5_pool\u001b[0m\n",
      "\u001b[31mFalse\u001b[0m\n",
      "\u001b[34mglobal_average_pooling2d_1\u001b[0m\n",
      "\u001b[31mFalse\u001b[0m\n",
      "\u001b[34mdense_5\u001b[0m\n",
      "\u001b[31mFalse\u001b[0m\n",
      "\u001b[34mdropout_3\u001b[0m\n",
      "\u001b[31mFalse\u001b[0m\n",
      "\u001b[34mdense_6\u001b[0m\n",
      "\u001b[31mFalse\u001b[0m\n",
      "\u001b[34mdropout_4\u001b[0m\n",
      "\u001b[31mFalse\u001b[0m\n",
      "\u001b[34mdense_7\u001b[0m\n",
      "\u001b[31mFalse\u001b[0m\n"
     ]
    }
   ],
   "source": [
    "\n",
    "#Module to print colourful statements\n",
    "from termcolor import colored\n",
    "\n",
    "#Check which layers have been frozen \n",
    "for layer in m.layers:\n",
    "  print (colored(layer.name, 'blue'))\n",
    "  print (colored(layer.trainable, 'red'))\n"
   ]
  },
  {
   "cell_type": "markdown",
   "metadata": {
    "colab_type": "text",
    "id": "kj-BwqgfIkdv"
   },
   "source": [
    "### Fit and compile the model with batch_size = 128 and epochs = 10 and execute the model"
   ]
  },
  {
   "cell_type": "code",
   "execution_count": 0,
   "metadata": {
    "colab": {},
    "colab_type": "code",
    "id": "drBkfrj2K7O4"
   },
   "outputs": [],
   "source": [
    "m.compile(loss='binary_crossentropy', optimizer=\"sgd\", metrics=['accuracy'])"
   ]
  },
  {
   "cell_type": "markdown",
   "metadata": {
    "colab_type": "text",
    "id": "YD5fAgVQIpKZ"
   },
   "source": [
    "Try to get training and validation accuracy to be more than 90%"
   ]
  },
  {
   "cell_type": "code",
   "execution_count": 89,
   "metadata": {
    "colab": {
     "base_uri": "https://localhost:8080/",
     "height": 537
    },
    "colab_type": "code",
    "id": "SZk2SWvjIoRP",
    "outputId": "acb14e18-4987-4389-f72d-cec158a81cc6"
   },
   "outputs": [
    {
     "name": "stdout",
     "output_type": "stream",
     "text": [
      "WARNING:tensorflow:sample_weight modes were coerced from\n",
      "  ...\n",
      "    to  \n",
      "  ['...']\n",
      "WARNING:tensorflow:sample_weight modes were coerced from\n",
      "  ...\n",
      "    to  \n",
      "  ['...']\n",
      "Train for 125 steps, validate for 128 steps\n",
      "Epoch 1/10\n",
      "WARNING:tensorflow:The list of trainable weights is empty. Make sure that you are not setting model.trainable to False before compiling the model.\n",
      "125/125 [==============================] - 10s 79ms/step - loss: 0.0492 - accuracy: 0.9917 - val_loss: 0.0487 - val_accuracy: 0.9917\n",
      "Epoch 2/10\n",
      "125/125 [==============================] - 9s 72ms/step - loss: 0.0491 - accuracy: 0.9917 - val_loss: 0.0487 - val_accuracy: 0.9917\n",
      "Epoch 3/10\n",
      "125/125 [==============================] - 9s 71ms/step - loss: 0.0491 - accuracy: 0.9917 - val_loss: 0.0488 - val_accuracy: 0.9917\n",
      "Epoch 4/10\n",
      "125/125 [==============================] - 9s 71ms/step - loss: 0.0492 - accuracy: 0.9917 - val_loss: 0.0488 - val_accuracy: 0.9917\n",
      "Epoch 5/10\n",
      "125/125 [==============================] - 9s 71ms/step - loss: 0.0491 - accuracy: 0.9917 - val_loss: 0.0488 - val_accuracy: 0.9917\n",
      "Epoch 6/10\n",
      "125/125 [==============================] - 9s 74ms/step - loss: 0.0492 - accuracy: 0.9917 - val_loss: 0.0487 - val_accuracy: 0.9917\n",
      "Epoch 7/10\n",
      "125/125 [==============================] - 9s 72ms/step - loss: 0.0492 - accuracy: 0.9917 - val_loss: 0.0488 - val_accuracy: 0.9917\n",
      "Epoch 8/10\n",
      "125/125 [==============================] - 9s 69ms/step - loss: 0.0492 - accuracy: 0.9917 - val_loss: 0.0488 - val_accuracy: 0.9917\n",
      "Epoch 9/10\n",
      "125/125 [==============================] - 9s 70ms/step - loss: 0.0492 - accuracy: 0.9917 - val_loss: 0.0488 - val_accuracy: 0.9917\n",
      "Epoch 10/10\n",
      "125/125 [==============================] - 9s 72ms/step - loss: 0.0494 - accuracy: 0.9917 - val_loss: 0.0487 - val_accuracy: 0.9917\n"
     ]
    }
   ],
   "source": [
    "m_output =  m.fit_generator(train_generator, epochs=10, steps_per_epoch=1000 // 8,\n",
    "                            validation_data=val_generator, validation_steps=128,\n",
    "                            verbose = 1)"
   ]
  }
 ],
 "metadata": {
  "accelerator": "GPU",
  "colab": {
   "collapsed_sections": [],
   "name": " ComputerVision_R8_Project2.ipynb",
   "provenance": []
  },
  "kernelspec": {
   "display_name": "Python 3",
   "language": "python",
   "name": "python3"
  },
  "language_info": {
   "codemirror_mode": {
    "name": "ipython",
    "version": 3
   },
   "file_extension": ".py",
   "mimetype": "text/x-python",
   "name": "python",
   "nbconvert_exporter": "python",
   "pygments_lexer": "ipython3",
   "version": "3.7.3"
  }
 },
 "nbformat": 4,
 "nbformat_minor": 1
}
