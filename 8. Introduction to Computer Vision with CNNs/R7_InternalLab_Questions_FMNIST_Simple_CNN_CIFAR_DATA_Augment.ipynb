{
 "cells": [
  {
   "cell_type": "markdown",
   "metadata": {
    "colab_type": "text",
    "id": "MyfMmMnPJjvn"
   },
   "source": [
    "## Train a simple convnet on the Fashion MNIST dataset"
   ]
  },
  {
   "cell_type": "markdown",
   "metadata": {
    "colab_type": "text",
    "id": "zjcGOJhcJjvp"
   },
   "source": [
    "In this, we will see how to deal with image data and train a convnet for image classification task."
   ]
  },
  {
   "cell_type": "markdown",
   "metadata": {
    "colab_type": "text",
    "id": "jR0Pl2XjJjvq"
   },
   "source": [
    "### Load the  `fashion_mnist`  dataset\n",
    "\n",
    "** Use keras.datasets to load the dataset **"
   ]
  },
  {
   "cell_type": "code",
   "execution_count": 0,
   "metadata": {
    "colab": {},
    "colab_type": "code",
    "id": "oHqtIuJjrGYZ"
   },
   "outputs": [],
   "source": [
    "#import tensorflow as tf"
   ]
  },
  {
   "cell_type": "code",
   "execution_count": 0,
   "metadata": {
    "colab": {},
    "colab_type": "code",
    "id": "DCMznRNbrDVR"
   },
   "outputs": [],
   "source": [
    "#tf.__version__"
   ]
  },
  {
   "cell_type": "code",
   "execution_count": 0,
   "metadata": {
    "colab": {
     "base_uri": "https://localhost:8080/",
     "height": 223
    },
    "colab_type": "code",
    "id": "Qr75v_UYJjvs",
    "outputId": "25b3aae7-36de-430c-bc70-04dc667875f0"
   },
   "outputs": [
    {
     "name": "stderr",
     "output_type": "stream",
     "text": [
      "Using TensorFlow backend.\n"
     ]
    },
    {
     "data": {
      "text/html": [
       "<p style=\"color: red;\">\n",
       "The default version of TensorFlow in Colab will soon switch to TensorFlow 2.x.<br>\n",
       "We recommend you <a href=\"https://www.tensorflow.org/guide/migrate\" target=\"_blank\">upgrade</a> now \n",
       "or ensure your notebook will continue to use TensorFlow 1.x via the <code>%tensorflow_version 1.x</code> magic:\n",
       "<a href=\"https://colab.research.google.com/notebooks/tensorflow_version.ipynb\" target=\"_blank\">more info</a>.</p>\n"
      ],
      "text/plain": [
       "<IPython.core.display.HTML object>"
      ]
     },
     "metadata": {
      "tags": []
     },
     "output_type": "display_data"
    },
    {
     "name": "stdout",
     "output_type": "stream",
     "text": [
      "Downloading data from http://fashion-mnist.s3-website.eu-central-1.amazonaws.com/train-labels-idx1-ubyte.gz\n",
      "32768/29515 [=================================] - 0s 0us/step\n",
      "Downloading data from http://fashion-mnist.s3-website.eu-central-1.amazonaws.com/train-images-idx3-ubyte.gz\n",
      "26427392/26421880 [==============================] - 0s 0us/step\n",
      "Downloading data from http://fashion-mnist.s3-website.eu-central-1.amazonaws.com/t10k-labels-idx1-ubyte.gz\n",
      "8192/5148 [===============================================] - 0s 0us/step\n",
      "Downloading data from http://fashion-mnist.s3-website.eu-central-1.amazonaws.com/t10k-images-idx3-ubyte.gz\n",
      "4423680/4422102 [==============================] - 0s 0us/step\n"
     ]
    }
   ],
   "source": [
    "from keras.datasets import fashion_mnist\n",
    "(x_train, y_train), (x_test, y_test) = fashion_mnist.load_data()"
   ]
  },
  {
   "cell_type": "markdown",
   "metadata": {
    "colab_type": "text",
    "id": "hTI42-0qJjvw"
   },
   "source": [
    "### Find no.of samples are there in training and test datasets"
   ]
  },
  {
   "cell_type": "code",
   "execution_count": 0,
   "metadata": {
    "colab": {
     "base_uri": "https://localhost:8080/",
     "height": 70
    },
    "colab_type": "code",
    "id": "g2sf67VoJjvx",
    "outputId": "4a41135b-5f4b-4d75-d78c-06c869053393"
   },
   "outputs": [
    {
     "name": "stdout",
     "output_type": "stream",
     "text": [
      "--- THE TRAINING DATA ---\n",
      "x_train shape: (60000, 28, 28)\n",
      "x_test shape: (10000, 28, 28)\n"
     ]
    }
   ],
   "source": [
    "print('--- THE TRAINING DATA ---')\n",
    "print('x_train shape:', x_train.shape)\n",
    "print('x_test shape:', x_test.shape)"
   ]
  },
  {
   "cell_type": "code",
   "execution_count": 0,
   "metadata": {
    "colab": {
     "base_uri": "https://localhost:8080/",
     "height": 70
    },
    "colab_type": "code",
    "id": "zewyDcBlJjv1",
    "outputId": "8fa7012e-bcc0-4c93-8f0a-d6b78d3aea1f"
   },
   "outputs": [
    {
     "name": "stdout",
     "output_type": "stream",
     "text": [
      "--- THE TEST DATA ---\n",
      "y_train shape: (60000,)\n",
      "y_test shape: (10000,)\n"
     ]
    }
   ],
   "source": [
    "print('--- THE TEST DATA ---')\n",
    "print('y_train shape:', y_train.shape)\n",
    "print('y_test shape:', y_test.shape)"
   ]
  },
  {
   "cell_type": "markdown",
   "metadata": {
    "colab_type": "text",
    "id": "WytT2eRnJjv4"
   },
   "source": [
    "### Find dimensions of an image in the dataset"
   ]
  },
  {
   "cell_type": "code",
   "execution_count": 0,
   "metadata": {
    "colab": {
     "base_uri": "https://localhost:8080/",
     "height": 1000
    },
    "colab_type": "code",
    "id": "WSQtOfttGt44",
    "outputId": "85488674-9879-48b2-a201-729779e77bc4"
   },
   "outputs": [
    {
     "data": {
      "text/plain": [
       "array([[  0,   0,   0,   0,   0,   1,   0,   0,   0,   0,  41, 188, 103,\n",
       "         54,  48,  43,  87, 168, 133,  16,   0,   0,   0,   0,   0,   0,\n",
       "          0,   0],\n",
       "       [  0,   0,   0,   1,   0,   0,   0,  49, 136, 219, 216, 228, 236,\n",
       "        255, 255, 255, 255, 217, 215, 254, 231, 160,  45,   0,   0,   0,\n",
       "          0,   0],\n",
       "       [  0,   0,   0,   0,   0,  14, 176, 222, 224, 212, 203, 198, 196,\n",
       "        200, 215, 204, 202, 201, 201, 201, 209, 218, 224, 164,   0,   0,\n",
       "          0,   0],\n",
       "       [  0,   0,   0,   0,   0, 188, 219, 200, 198, 202, 198, 199, 199,\n",
       "        201, 196, 198, 198, 200, 200, 200, 200, 201, 200, 225,  41,   0,\n",
       "          0,   0],\n",
       "       [  0,   0,   0,   0,  51, 219, 199, 203, 203, 212, 238, 248, 250,\n",
       "        245, 249, 246, 247, 252, 248, 235, 207, 203, 203, 222, 140,   0,\n",
       "          0,   0],\n",
       "       [  0,   0,   0,   0, 116, 226, 206, 204, 207, 204, 101,  75,  47,\n",
       "         73,  48,  50,  45,  51,  63, 113, 222, 202, 206, 220, 224,   0,\n",
       "          0,   0],\n",
       "       [  0,   0,   0,   0, 200, 222, 209, 203, 215, 200,   0,  70,  98,\n",
       "          0, 103,  59,  68,  71,  49,   0, 219, 206, 214, 210, 250,  38,\n",
       "          0,   0],\n",
       "       [  0,   0,   0,   0, 247, 218, 212, 210, 215, 214,   0, 254, 243,\n",
       "        139, 255, 174, 251, 255, 205,   0, 215, 217, 214, 208, 220,  95,\n",
       "          0,   0],\n",
       "       [  0,   0,   0,  45, 226, 214, 214, 215, 224, 205,   0,  42,  35,\n",
       "         60,  16,  17,  12,  13,  70,   0, 189, 216, 212, 206, 212, 156,\n",
       "          0,   0],\n",
       "       [  0,   0,   0, 164, 235, 214, 211, 220, 216, 201,  52,  71,  89,\n",
       "         94,  83,  78,  70,  76,  92,  87, 206, 207, 222, 213, 219, 208,\n",
       "          0,   0],\n",
       "       [  0,   0,   0, 106, 187, 223, 237, 248, 211, 198, 252, 250, 248,\n",
       "        245, 248, 252, 253, 250, 252, 239, 201, 212, 225, 215, 193, 113,\n",
       "          0,   0],\n",
       "       [  0,   0,   0,   0,   0,  17,  54, 159, 222, 193, 208, 192, 197,\n",
       "        200, 200, 200, 200, 201, 203, 195, 210, 165,   0,   0,   0,   0,\n",
       "          0,   0],\n",
       "       [  0,   0,   0,   0,   0,   0,   0,  47, 225, 192, 214, 203, 206,\n",
       "        204, 204, 205, 206, 204, 212, 197, 218, 107,   0,   0,   0,   0,\n",
       "          0,   0],\n",
       "       [  0,   0,   0,   0,   1,   6,   0,  46, 212, 195, 212, 202, 206,\n",
       "        205, 204, 205, 206, 204, 212, 200, 218,  91,   0,   3,   1,   0,\n",
       "          0,   0],\n",
       "       [  0,   0,   0,   0,   0,   1,   0,  11, 197, 199, 205, 202, 205,\n",
       "        206, 204, 205, 207, 204, 205, 205, 218,  77,   0,   5,   0,   0,\n",
       "          0,   0],\n",
       "       [  0,   0,   0,   0,   0,   3,   0,   2, 191, 198, 201, 205, 206,\n",
       "        205, 205, 206, 209, 206, 199, 209, 219,  74,   0,   5,   0,   0,\n",
       "          0,   0],\n",
       "       [  0,   0,   0,   0,   0,   2,   0,   0, 188, 197, 200, 207, 207,\n",
       "        204, 207, 207, 210, 208, 198, 207, 221,  72,   0,   4,   0,   0,\n",
       "          0,   0],\n",
       "       [  0,   0,   0,   0,   0,   2,   0,   0, 215, 198, 203, 206, 208,\n",
       "        205, 207, 207, 210, 208, 200, 202, 222,  75,   0,   4,   0,   0,\n",
       "          0,   0],\n",
       "       [  0,   0,   0,   0,   0,   1,   0,   0, 212, 198, 209, 206, 209,\n",
       "        206, 208, 207, 211, 206, 205, 198, 221,  80,   0,   3,   0,   0,\n",
       "          0,   0],\n",
       "       [  0,   0,   0,   0,   0,   1,   0,   0, 204, 201, 205, 208, 207,\n",
       "        205, 211, 205, 210, 210, 209, 195, 221,  96,   0,   3,   0,   0,\n",
       "          0,   0],\n",
       "       [  0,   0,   0,   0,   0,   1,   0,   0, 202, 201, 205, 209, 207,\n",
       "        205, 213, 206, 210, 209, 210, 194, 217, 105,   0,   2,   0,   0,\n",
       "          0,   0],\n",
       "       [  0,   0,   0,   0,   0,   1,   0,   0, 204, 204, 205, 208, 207,\n",
       "        205, 215, 207, 210, 208, 211, 193, 213, 115,   0,   2,   0,   0,\n",
       "          0,   0],\n",
       "       [  0,   0,   0,   0,   0,   0,   0,   0, 204, 207, 207, 208, 206,\n",
       "        206, 215, 210, 210, 207, 212, 195, 210, 118,   0,   2,   0,   0,\n",
       "          0,   0],\n",
       "       [  0,   0,   0,   0,   0,   1,   0,   0, 198, 208, 208, 208, 204,\n",
       "        207, 212, 212, 210, 207, 211, 196, 207, 121,   0,   1,   0,   0,\n",
       "          0,   0],\n",
       "       [  0,   0,   0,   0,   0,   1,   0,   0, 198, 210, 207, 208, 206,\n",
       "        209, 213, 212, 211, 207, 210, 197, 207, 124,   0,   1,   0,   0,\n",
       "          0,   0],\n",
       "       [  0,   0,   0,   0,   0,   0,   0,   0, 172, 210, 203, 201, 199,\n",
       "        204, 207, 205, 204, 201, 205, 197, 206, 127,   0,   0,   0,   0,\n",
       "          0,   0],\n",
       "       [  0,   0,   0,   0,   0,   0,   0,   0, 188, 221, 214, 234, 236,\n",
       "        238, 244, 244, 244, 240, 243, 214, 224, 162,   0,   2,   0,   0,\n",
       "          0,   0],\n",
       "       [  0,   0,   0,   0,   0,   1,   0,   0, 139, 146, 130, 135, 135,\n",
       "        137, 125, 124, 125, 121, 119, 114, 130,  76,   0,   0,   0,   0,\n",
       "          0,   0]], dtype=uint8)"
      ]
     },
     "execution_count": 5,
     "metadata": {
      "tags": []
     },
     "output_type": "execute_result"
    }
   ],
   "source": [
    "x_train[1]"
   ]
  },
  {
   "cell_type": "code",
   "execution_count": 0,
   "metadata": {
    "colab": {
     "base_uri": "https://localhost:8080/",
     "height": 34
    },
    "colab_type": "code",
    "id": "XycQGBSGJjv5",
    "outputId": "680d3087-2ef6-41af-a11c-a6e274c40ef0"
   },
   "outputs": [
    {
     "data": {
      "text/plain": [
       "(28, 28)"
      ]
     },
     "execution_count": 6,
     "metadata": {
      "tags": []
     },
     "output_type": "execute_result"
    }
   ],
   "source": [
    "x_train[1].shape"
   ]
  },
  {
   "cell_type": "code",
   "execution_count": 0,
   "metadata": {
    "colab": {},
    "colab_type": "code",
    "id": "1XuDsJk8G2KW"
   },
   "outputs": [],
   "source": [
    "# the image size is 28 X 28 pixels"
   ]
  },
  {
   "cell_type": "code",
   "execution_count": 0,
   "metadata": {
    "colab": {},
    "colab_type": "code",
    "id": "xs2dpueNtW1V"
   },
   "outputs": [],
   "source": [
    "import matplotlib.pyplot as plt"
   ]
  },
  {
   "cell_type": "code",
   "execution_count": 0,
   "metadata": {
    "colab": {
     "base_uri": "https://localhost:8080/",
     "height": 282
    },
    "colab_type": "code",
    "id": "80fyf6zxtr5o",
    "outputId": "6d3f31cc-4aa2-4643-a114-5e5e215a571a"
   },
   "outputs": [
    {
     "data": {
      "text/plain": [
       "<matplotlib.image.AxesImage at 0x7f1aa2c567b8>"
      ]
     },
     "execution_count": 9,
     "metadata": {
      "tags": []
     },
     "output_type": "execute_result"
    },
    {
     "data": {
      "image/png": "[encoded data removed]",
      "text/plain": [
       "<Figure size 432x288 with 1 Axes>"
      ]
     },
     "metadata": {
      "tags": []
     },
     "output_type": "display_data"
    }
   ],
   "source": [
    "plt.imshow(x_train[1],cmap='gist_gray')"
   ]
  },
  {
   "cell_type": "markdown",
   "metadata": {
    "colab_type": "text",
    "id": "5jtdZ7RqJjv8"
   },
   "source": [
    "### Convert train and test labels to one hot vectors\n",
    "\n",
    "** check `keras.utils.to_categorical()` **"
   ]
  },
  {
   "cell_type": "code",
   "execution_count": 0,
   "metadata": {
    "colab": {},
    "colab_type": "code",
    "id": "VkMiitXg32Bl"
   },
   "outputs": [],
   "source": [
    "from keras.utils import np_utils"
   ]
  },
  {
   "cell_type": "code",
   "execution_count": 0,
   "metadata": {
    "colab": {},
    "colab_type": "code",
    "id": "HD_f7qcJ32Gd"
   },
   "outputs": [],
   "source": [
    "y_train = np_utils.to_categorical(y_train, 10) #10 is the number of classes\n",
    "y_test = np_utils.to_categorical(y_test, 10)"
   ]
  },
  {
   "cell_type": "code",
   "execution_count": 0,
   "metadata": {
    "colab": {
     "base_uri": "https://localhost:8080/",
     "height": 141
    },
    "colab_type": "code",
    "id": "fcT0hYef32NV",
    "outputId": "2b9b4da3-f1b9-40a1-d3da-c0412e914273"
   },
   "outputs": [
    {
     "data": {
      "text/plain": [
       "array([[0., 0., 0., ..., 0., 0., 1.],\n",
       "       [1., 0., 0., ..., 0., 0., 0.],\n",
       "       [1., 0., 0., ..., 0., 0., 0.],\n",
       "       ...,\n",
       "       [0., 0., 0., ..., 0., 0., 0.],\n",
       "       [1., 0., 0., ..., 0., 0., 0.],\n",
       "       [0., 0., 0., ..., 0., 0., 0.]], dtype=float32)"
      ]
     },
     "execution_count": 12,
     "metadata": {
      "tags": []
     },
     "output_type": "execute_result"
    }
   ],
   "source": [
    "y_train"
   ]
  },
  {
   "cell_type": "markdown",
   "metadata": {
    "colab_type": "text",
    "id": "xO5BRBzBJjwD"
   },
   "source": [
    "### Normalize both the train and test image data from 0-255 to 0-1"
   ]
  },
  {
   "cell_type": "code",
   "execution_count": 0,
   "metadata": {
    "colab": {},
    "colab_type": "code",
    "id": "3fUQpMHxJjwE"
   },
   "outputs": [],
   "source": [
    "x_train=x_train.astype('float32')"
   ]
  },
  {
   "cell_type": "code",
   "execution_count": 0,
   "metadata": {
    "colab": {},
    "colab_type": "code",
    "id": "Okwo_SB5JjwI"
   },
   "outputs": [],
   "source": [
    "x_train=x_train/255"
   ]
  },
  {
   "cell_type": "code",
   "execution_count": 0,
   "metadata": {
    "colab": {},
    "colab_type": "code",
    "id": "nZ_INMvv54_c"
   },
   "outputs": [],
   "source": [
    "x_test=x_test.astype('float32')"
   ]
  },
  {
   "cell_type": "code",
   "execution_count": 0,
   "metadata": {
    "colab": {},
    "colab_type": "code",
    "id": "nTSEZCqf58Q6"
   },
   "outputs": [],
   "source": [
    "x_test=x_test/255"
   ]
  },
  {
   "cell_type": "code",
   "execution_count": 0,
   "metadata": {
    "colab": {
     "base_uri": "https://localhost:8080/",
     "height": 1000
    },
    "colab_type": "code",
    "id": "i6jghB3f5kqn",
    "outputId": "5698036f-13ad-475d-8d96-fae82071a6e1"
   },
   "outputs": [
    {
     "data": {
      "text/plain": [
       "array([[0.        , 0.        , 0.        , 0.        , 0.        ,\n",
       "        0.00392157, 0.        , 0.        , 0.        , 0.        ,\n",
       "        0.16078432, 0.7372549 , 0.40392157, 0.21176471, 0.1882353 ,\n",
       "        0.16862746, 0.34117648, 0.65882355, 0.52156866, 0.0627451 ,\n",
       "        0.        , 0.        , 0.        , 0.        , 0.        ,\n",
       "        0.        , 0.        , 0.        ],\n",
       "       [0.        , 0.        , 0.        , 0.00392157, 0.        ,\n",
       "        0.        , 0.        , 0.19215687, 0.53333336, 0.85882354,\n",
       "        0.84705883, 0.89411765, 0.9254902 , 1.        , 1.        ,\n",
       "        1.        , 1.        , 0.8509804 , 0.84313726, 0.99607843,\n",
       "        0.90588236, 0.627451  , 0.1764706 , 0.        , 0.        ,\n",
       "        0.        , 0.        , 0.        ],\n",
       "       [0.        , 0.        , 0.        , 0.        , 0.        ,\n",
       "        0.05490196, 0.6901961 , 0.87058824, 0.8784314 , 0.83137256,\n",
       "        0.79607844, 0.7764706 , 0.76862746, 0.78431374, 0.84313726,\n",
       "        0.8       , 0.7921569 , 0.7882353 , 0.7882353 , 0.7882353 ,\n",
       "        0.81960785, 0.85490197, 0.8784314 , 0.6431373 , 0.        ,\n",
       "        0.        , 0.        , 0.        ],\n",
       "       [0.        , 0.        , 0.        , 0.        , 0.        ,\n",
       "        0.7372549 , 0.85882354, 0.78431374, 0.7764706 , 0.7921569 ,\n",
       "        0.7764706 , 0.78039217, 0.78039217, 0.7882353 , 0.76862746,\n",
       "        0.7764706 , 0.7764706 , 0.78431374, 0.78431374, 0.78431374,\n",
       "        0.78431374, 0.7882353 , 0.78431374, 0.88235295, 0.16078432,\n",
       "        0.        , 0.        , 0.        ],\n",
       "       [0.        , 0.        , 0.        , 0.        , 0.2       ,\n",
       "        0.85882354, 0.78039217, 0.79607844, 0.79607844, 0.83137256,\n",
       "        0.93333334, 0.972549  , 0.98039216, 0.9607843 , 0.9764706 ,\n",
       "        0.9647059 , 0.96862745, 0.9882353 , 0.972549  , 0.92156863,\n",
       "        0.8117647 , 0.79607844, 0.79607844, 0.87058824, 0.54901963,\n",
       "        0.        , 0.        , 0.        ],\n",
       "       [0.        , 0.        , 0.        , 0.        , 0.45490196,\n",
       "        0.8862745 , 0.80784315, 0.8       , 0.8117647 , 0.8       ,\n",
       "        0.39607844, 0.29411766, 0.18431373, 0.28627452, 0.1882353 ,\n",
       "        0.19607843, 0.1764706 , 0.2       , 0.24705882, 0.44313726,\n",
       "        0.87058824, 0.7921569 , 0.80784315, 0.8627451 , 0.8784314 ,\n",
       "        0.        , 0.        , 0.        ],\n",
       "       [0.        , 0.        , 0.        , 0.        , 0.78431374,\n",
       "        0.87058824, 0.81960785, 0.79607844, 0.84313726, 0.78431374,\n",
       "        0.        , 0.27450982, 0.38431373, 0.        , 0.40392157,\n",
       "        0.23137255, 0.26666668, 0.2784314 , 0.19215687, 0.        ,\n",
       "        0.85882354, 0.80784315, 0.8392157 , 0.8235294 , 0.98039216,\n",
       "        0.14901961, 0.        , 0.        ],\n",
       "       [0.        , 0.        , 0.        , 0.        , 0.96862745,\n",
       "        0.85490197, 0.83137256, 0.8235294 , 0.84313726, 0.8392157 ,\n",
       "        0.        , 0.99607843, 0.9529412 , 0.54509807, 1.        ,\n",
       "        0.68235296, 0.9843137 , 1.        , 0.8039216 , 0.        ,\n",
       "        0.84313726, 0.8509804 , 0.8392157 , 0.8156863 , 0.8627451 ,\n",
       "        0.37254903, 0.        , 0.        ],\n",
       "       [0.        , 0.        , 0.        , 0.1764706 , 0.8862745 ,\n",
       "        0.8392157 , 0.8392157 , 0.84313726, 0.8784314 , 0.8039216 ,\n",
       "        0.        , 0.16470589, 0.13725491, 0.23529412, 0.0627451 ,\n",
       "        0.06666667, 0.04705882, 0.05098039, 0.27450982, 0.        ,\n",
       "        0.7411765 , 0.84705883, 0.83137256, 0.80784315, 0.83137256,\n",
       "        0.6117647 , 0.        , 0.        ],\n",
       "       [0.        , 0.        , 0.        , 0.6431373 , 0.92156863,\n",
       "        0.8392157 , 0.827451  , 0.8627451 , 0.84705883, 0.7882353 ,\n",
       "        0.20392157, 0.2784314 , 0.34901962, 0.36862746, 0.3254902 ,\n",
       "        0.30588236, 0.27450982, 0.29803923, 0.36078432, 0.34117648,\n",
       "        0.80784315, 0.8117647 , 0.87058824, 0.8352941 , 0.85882354,\n",
       "        0.8156863 , 0.        , 0.        ],\n",
       "       [0.        , 0.        , 0.        , 0.41568628, 0.73333335,\n",
       "        0.8745098 , 0.92941177, 0.972549  , 0.827451  , 0.7764706 ,\n",
       "        0.9882353 , 0.98039216, 0.972549  , 0.9607843 , 0.972549  ,\n",
       "        0.9882353 , 0.99215686, 0.98039216, 0.9882353 , 0.9372549 ,\n",
       "        0.7882353 , 0.83137256, 0.88235295, 0.84313726, 0.75686276,\n",
       "        0.44313726, 0.        , 0.        ],\n",
       "       [0.        , 0.        , 0.        , 0.        , 0.        ,\n",
       "        0.06666667, 0.21176471, 0.62352943, 0.87058824, 0.75686276,\n",
       "        0.8156863 , 0.7529412 , 0.77254903, 0.78431374, 0.78431374,\n",
       "        0.78431374, 0.78431374, 0.7882353 , 0.79607844, 0.7647059 ,\n",
       "        0.8235294 , 0.64705884, 0.        , 0.        , 0.        ,\n",
       "        0.        , 0.        , 0.        ],\n",
       "       [0.        , 0.        , 0.        , 0.        , 0.        ,\n",
       "        0.        , 0.        , 0.18431373, 0.88235295, 0.7529412 ,\n",
       "        0.8392157 , 0.79607844, 0.80784315, 0.8       , 0.8       ,\n",
       "        0.8039216 , 0.80784315, 0.8       , 0.83137256, 0.77254903,\n",
       "        0.85490197, 0.41960785, 0.        , 0.        , 0.        ,\n",
       "        0.        , 0.        , 0.        ],\n",
       "       [0.        , 0.        , 0.        , 0.        , 0.00392157,\n",
       "        0.02352941, 0.        , 0.18039216, 0.83137256, 0.7647059 ,\n",
       "        0.83137256, 0.7921569 , 0.80784315, 0.8039216 , 0.8       ,\n",
       "        0.8039216 , 0.80784315, 0.8       , 0.83137256, 0.78431374,\n",
       "        0.85490197, 0.35686275, 0.        , 0.01176471, 0.00392157,\n",
       "        0.        , 0.        , 0.        ],\n",
       "       [0.        , 0.        , 0.        , 0.        , 0.        ,\n",
       "        0.00392157, 0.        , 0.04313726, 0.77254903, 0.78039217,\n",
       "        0.8039216 , 0.7921569 , 0.8039216 , 0.80784315, 0.8       ,\n",
       "        0.8039216 , 0.8117647 , 0.8       , 0.8039216 , 0.8039216 ,\n",
       "        0.85490197, 0.3019608 , 0.        , 0.01960784, 0.        ,\n",
       "        0.        , 0.        , 0.        ],\n",
       "       [0.        , 0.        , 0.        , 0.        , 0.        ,\n",
       "        0.01176471, 0.        , 0.00784314, 0.7490196 , 0.7764706 ,\n",
       "        0.7882353 , 0.8039216 , 0.80784315, 0.8039216 , 0.8039216 ,\n",
       "        0.80784315, 0.81960785, 0.80784315, 0.78039217, 0.81960785,\n",
       "        0.85882354, 0.2901961 , 0.        , 0.01960784, 0.        ,\n",
       "        0.        , 0.        , 0.        ],\n",
       "       [0.        , 0.        , 0.        , 0.        , 0.        ,\n",
       "        0.00784314, 0.        , 0.        , 0.7372549 , 0.77254903,\n",
       "        0.78431374, 0.8117647 , 0.8117647 , 0.8       , 0.8117647 ,\n",
       "        0.8117647 , 0.8235294 , 0.8156863 , 0.7764706 , 0.8117647 ,\n",
       "        0.8666667 , 0.28235295, 0.        , 0.01568628, 0.        ,\n",
       "        0.        , 0.        , 0.        ],\n",
       "       [0.        , 0.        , 0.        , 0.        , 0.        ,\n",
       "        0.00784314, 0.        , 0.        , 0.84313726, 0.7764706 ,\n",
       "        0.79607844, 0.80784315, 0.8156863 , 0.8039216 , 0.8117647 ,\n",
       "        0.8117647 , 0.8235294 , 0.8156863 , 0.78431374, 0.7921569 ,\n",
       "        0.87058824, 0.29411766, 0.        , 0.01568628, 0.        ,\n",
       "        0.        , 0.        , 0.        ],\n",
       "       [0.        , 0.        , 0.        , 0.        , 0.        ,\n",
       "        0.00392157, 0.        , 0.        , 0.83137256, 0.7764706 ,\n",
       "        0.81960785, 0.80784315, 0.81960785, 0.80784315, 0.8156863 ,\n",
       "        0.8117647 , 0.827451  , 0.80784315, 0.8039216 , 0.7764706 ,\n",
       "        0.8666667 , 0.3137255 , 0.        , 0.01176471, 0.        ,\n",
       "        0.        , 0.        , 0.        ],\n",
       "       [0.        , 0.        , 0.        , 0.        , 0.        ,\n",
       "        0.00392157, 0.        , 0.        , 0.8       , 0.7882353 ,\n",
       "        0.8039216 , 0.8156863 , 0.8117647 , 0.8039216 , 0.827451  ,\n",
       "        0.8039216 , 0.8235294 , 0.8235294 , 0.81960785, 0.7647059 ,\n",
       "        0.8666667 , 0.3764706 , 0.        , 0.01176471, 0.        ,\n",
       "        0.        , 0.        , 0.        ],\n",
       "       [0.        , 0.        , 0.        , 0.        , 0.        ,\n",
       "        0.00392157, 0.        , 0.        , 0.7921569 , 0.7882353 ,\n",
       "        0.8039216 , 0.81960785, 0.8117647 , 0.8039216 , 0.8352941 ,\n",
       "        0.80784315, 0.8235294 , 0.81960785, 0.8235294 , 0.7607843 ,\n",
       "        0.8509804 , 0.4117647 , 0.        , 0.00784314, 0.        ,\n",
       "        0.        , 0.        , 0.        ],\n",
       "       [0.        , 0.        , 0.        , 0.        , 0.        ,\n",
       "        0.00392157, 0.        , 0.        , 0.8       , 0.8       ,\n",
       "        0.8039216 , 0.8156863 , 0.8117647 , 0.8039216 , 0.84313726,\n",
       "        0.8117647 , 0.8235294 , 0.8156863 , 0.827451  , 0.75686276,\n",
       "        0.8352941 , 0.4509804 , 0.        , 0.00784314, 0.        ,\n",
       "        0.        , 0.        , 0.        ],\n",
       "       [0.        , 0.        , 0.        , 0.        , 0.        ,\n",
       "        0.        , 0.        , 0.        , 0.8       , 0.8117647 ,\n",
       "        0.8117647 , 0.8156863 , 0.80784315, 0.80784315, 0.84313726,\n",
       "        0.8235294 , 0.8235294 , 0.8117647 , 0.83137256, 0.7647059 ,\n",
       "        0.8235294 , 0.4627451 , 0.        , 0.00784314, 0.        ,\n",
       "        0.        , 0.        , 0.        ],\n",
       "       [0.        , 0.        , 0.        , 0.        , 0.        ,\n",
       "        0.00392157, 0.        , 0.        , 0.7764706 , 0.8156863 ,\n",
       "        0.8156863 , 0.8156863 , 0.8       , 0.8117647 , 0.83137256,\n",
       "        0.83137256, 0.8235294 , 0.8117647 , 0.827451  , 0.76862746,\n",
       "        0.8117647 , 0.4745098 , 0.        , 0.00392157, 0.        ,\n",
       "        0.        , 0.        , 0.        ],\n",
       "       [0.        , 0.        , 0.        , 0.        , 0.        ,\n",
       "        0.00392157, 0.        , 0.        , 0.7764706 , 0.8235294 ,\n",
       "        0.8117647 , 0.8156863 , 0.80784315, 0.81960785, 0.8352941 ,\n",
       "        0.83137256, 0.827451  , 0.8117647 , 0.8235294 , 0.77254903,\n",
       "        0.8117647 , 0.4862745 , 0.        , 0.00392157, 0.        ,\n",
       "        0.        , 0.        , 0.        ],\n",
       "       [0.        , 0.        , 0.        , 0.        , 0.        ,\n",
       "        0.        , 0.        , 0.        , 0.6745098 , 0.8235294 ,\n",
       "        0.79607844, 0.7882353 , 0.78039217, 0.8       , 0.8117647 ,\n",
       "        0.8039216 , 0.8       , 0.7882353 , 0.8039216 , 0.77254903,\n",
       "        0.80784315, 0.49803922, 0.        , 0.        , 0.        ,\n",
       "        0.        , 0.        , 0.        ],\n",
       "       [0.        , 0.        , 0.        , 0.        , 0.        ,\n",
       "        0.        , 0.        , 0.        , 0.7372549 , 0.8666667 ,\n",
       "        0.8392157 , 0.91764706, 0.9254902 , 0.93333334, 0.95686275,\n",
       "        0.95686275, 0.95686275, 0.9411765 , 0.9529412 , 0.8392157 ,\n",
       "        0.8784314 , 0.63529414, 0.        , 0.00784314, 0.        ,\n",
       "        0.        , 0.        , 0.        ],\n",
       "       [0.        , 0.        , 0.        , 0.        , 0.        ,\n",
       "        0.00392157, 0.        , 0.        , 0.54509807, 0.57254905,\n",
       "        0.50980395, 0.5294118 , 0.5294118 , 0.5372549 , 0.49019608,\n",
       "        0.4862745 , 0.49019608, 0.4745098 , 0.46666667, 0.44705883,\n",
       "        0.50980395, 0.29803923, 0.        , 0.        , 0.        ,\n",
       "        0.        , 0.        , 0.        ]], dtype=float32)"
      ]
     },
     "execution_count": 19,
     "metadata": {
      "tags": []
     },
     "output_type": "execute_result"
    }
   ],
   "source": [
    "x_train[1]"
   ]
  },
  {
   "cell_type": "markdown",
   "metadata": {
    "colab_type": "text",
    "id": "da5-DwgrJjwM"
   },
   "source": [
    "### Reshape the data from 28x28 to 28x28x1 to match input dimensions in Conv2D layer in keras"
   ]
  },
  {
   "cell_type": "code",
   "execution_count": 0,
   "metadata": {
    "colab": {},
    "colab_type": "code",
    "id": "LPGVQ-JJJjwN"
   },
   "outputs": [],
   "source": [
    "x_train = x_train.reshape(x_train.shape[0], 28, 28, 1)\n",
    "x_test = x_test.reshape(x_test.shape[0], 28, 28, 1)"
   ]
  },
  {
   "cell_type": "markdown",
   "metadata": {
    "colab_type": "text",
    "id": "OFRRTJq8JjwQ"
   },
   "source": [
    "### Import the necessary layers from keras to build the model"
   ]
  },
  {
   "cell_type": "code",
   "execution_count": 0,
   "metadata": {
    "colab": {},
    "colab_type": "code",
    "id": "dWTZYnKSJjwR"
   },
   "outputs": [],
   "source": [
    "import keras\n",
    "from keras.models import Sequential\n",
    "from keras.layers import Dense, Activation, Dropout, Flatten, Reshape\n",
    "from keras.layers import Convolution2D, MaxPooling2D"
   ]
  },
  {
   "cell_type": "markdown",
   "metadata": {
    "colab_type": "text",
    "id": "C18AoS7eJjwU"
   },
   "source": [
    "### Build a model \n",
    "\n",
    "** with 2 Conv layers having `32 3x3 filters` in both convolutions with `relu activations` and `flatten` before passing the feature map into 2 fully connected layers (or Dense Layers) having 128 and 10 neurons with `relu` and `softmax` activations respectively. Now, using `categorical_crossentropy` loss with `adam` optimizer train the model with early stopping `patience=5` and no.of `epochs=10`. **"
   ]
  },
  {
   "cell_type": "code",
   "execution_count": 0,
   "metadata": {
    "colab": {
     "base_uri": "https://localhost:8080/",
     "height": 87
    },
    "colab_type": "code",
    "id": "DORCLgSwJjwV",
    "outputId": "2c18ff5a-4e83-4c2b-ac84-f3ac30236b7b"
   },
   "outputs": [
    {
     "name": "stderr",
     "output_type": "stream",
     "text": [
      "/usr/local/lib/python3.6/dist-packages/ipykernel_launcher.py:4: UserWarning: Update your `Conv2D` call to the Keras 2 API: `Conv2D(32, (3, 3), input_shape=(28, 28, 1...)`\n",
      "  after removing the cwd from sys.path.\n",
      "/usr/local/lib/python3.6/dist-packages/ipykernel_launcher.py:8: UserWarning: Update your `Conv2D` call to the Keras 2 API: `Conv2D(32, (3, 3))`\n",
      "  \n"
     ]
    }
   ],
   "source": [
    "\n",
    "    # Define Model\n",
    "    c_model = Sequential()\n",
    "\n",
    "    # 1st Conv Layer\n",
    "    c_model.add(Convolution2D(32, 3, 3, input_shape=(28, 28, 1)))\n",
    "    c_model.add(Activation('relu'))\n",
    "\n",
    "    # 2nd Conv Layer\n",
    "    c_model.add(Convolution2D(32, 3, 3))\n",
    "    c_model.add(Activation('relu'))\n",
    "\n",
    "    \n",
    "    # Fully Connected Layer\n",
    "    c_model.add(Flatten())\n",
    "    c_model.add(Dense(128))\n",
    "    c_model.add(Activation('relu'))\n",
    "    \n",
    "\n",
    "    # Prediction Layer\n",
    "    c_model.add(Dense(10))\n",
    "    c_model.add(Activation('softmax'))\n",
    "\n",
    "    # Loss and Optimizer\n",
    "    c_model.compile(loss='categorical_crossentropy', optimizer='adam', metrics=['accuracy'])\n",
    "    \n",
    "    # Store Training Results\n",
    "    early_stopping = keras.callbacks.EarlyStopping(monitor='val_acc', patience=5, verbose=1, mode='auto')\n",
    "    callback_list = [early_stopping]"
   ]
  },
  {
   "cell_type": "code",
   "execution_count": 0,
   "metadata": {
    "colab": {
     "base_uri": "https://localhost:8080/",
     "height": 425
    },
    "colab_type": "code",
    "id": "LEv3kjRoO9V-",
    "outputId": "dafa7c0d-7ec5-4ff8-bf75-dab1691e9bfb"
   },
   "outputs": [
    {
     "name": "stderr",
     "output_type": "stream",
     "text": [
      "/usr/local/lib/python3.6/dist-packages/ipykernel_launcher.py:1: UserWarning: The `nb_epoch` argument in `fit` has been renamed `epochs`.\n",
      "  \"\"\"Entry point for launching an IPython kernel.\n"
     ]
    },
    {
     "name": "stdout",
     "output_type": "stream",
     "text": [
      "Train on 60000 samples, validate on 10000 samples\n",
      "Epoch 1/10\n",
      "60000/60000 [==============================] - 21s 356us/step - loss: 0.3742 - acc: 0.8660 - val_loss: 0.3148 - val_acc: 0.8861\n",
      "Epoch 2/10\n",
      "60000/60000 [==============================] - 21s 349us/step - loss: 0.2344 - acc: 0.9141 - val_loss: 0.2517 - val_acc: 0.9077\n",
      "Epoch 3/10\n",
      "60000/60000 [==============================] - 20s 337us/step - loss: 0.1708 - acc: 0.9361 - val_loss: 0.2418 - val_acc: 0.9165\n",
      "Epoch 4/10\n",
      "60000/60000 [==============================] - 20s 338us/step - loss: 0.1204 - acc: 0.9552 - val_loss: 0.2577 - val_acc: 0.9181\n",
      "Epoch 5/10\n",
      "60000/60000 [==============================] - 20s 335us/step - loss: 0.0812 - acc: 0.9697 - val_loss: 0.3172 - val_acc: 0.9105\n",
      "Epoch 6/10\n",
      "60000/60000 [==============================] - 20s 335us/step - loss: 0.0547 - acc: 0.9804 - val_loss: 0.3203 - val_acc: 0.9166\n",
      "Epoch 7/10\n",
      "60000/60000 [==============================] - 20s 333us/step - loss: 0.0396 - acc: 0.9853 - val_loss: 0.3795 - val_acc: 0.9160\n",
      "Epoch 8/10\n",
      "60000/60000 [==============================] - 20s 334us/step - loss: 0.0293 - acc: 0.9897 - val_loss: 0.4217 - val_acc: 0.9169\n",
      "Epoch 9/10\n",
      "60000/60000 [==============================] - 20s 330us/step - loss: 0.0244 - acc: 0.9911 - val_loss: 0.4633 - val_acc: 0.9144\n",
      "Epoch 00009: early stopping\n"
     ]
    },
    {
     "data": {
      "text/plain": [
       "<keras.callbacks.History at 0x7f1a93879da0>"
      ]
     },
     "execution_count": 28,
     "metadata": {
      "tags": []
     },
     "output_type": "execute_result"
    }
   ],
   "source": [
    "c_model.fit(x_train, y_train, batch_size=32, nb_epoch=10, validation_data=(x_test, y_test), callbacks=callback_list)  \n"
   ]
  },
  {
   "cell_type": "markdown",
   "metadata": {
    "colab_type": "text",
    "id": "ju69vKdIJjwX"
   },
   "source": [
    "### Now, to the above model add `max` pooling layer of `filter size 2x2` and `dropout` layer with `p=0.25` after the 2 conv layers and run the model"
   ]
  },
  {
   "cell_type": "code",
   "execution_count": 0,
   "metadata": {
    "colab": {
     "base_uri": "https://localhost:8080/",
     "height": 87
    },
    "colab_type": "code",
    "id": "L2hAP94vJjwY",
    "outputId": "dee49e0f-5670-4f9a-969c-62dd50af95a5"
   },
   "outputs": [
    {
     "name": "stderr",
     "output_type": "stream",
     "text": [
      "/usr/local/lib/python3.6/dist-packages/ipykernel_launcher.py:4: UserWarning: Update your `Conv2D` call to the Keras 2 API: `Conv2D(32, (3, 3), input_shape=(28, 28, 1...)`\n",
      "  after removing the cwd from sys.path.\n",
      "/usr/local/lib/python3.6/dist-packages/ipykernel_launcher.py:8: UserWarning: Update your `Conv2D` call to the Keras 2 API: `Conv2D(32, (3, 3))`\n",
      "  \n"
     ]
    }
   ],
   "source": [
    "# Define Model\n",
    "c_model_2 = Sequential()\n",
    "\n",
    "# 1st Conv Layer\n",
    "c_model_2.add(Convolution2D(32, 3, 3, input_shape=(28, 28, 1)))\n",
    "c_model_2.add(Activation('relu'))\n",
    "\n",
    "# 2nd Conv Layer\n",
    "c_model_2.add(Convolution2D(32, 3, 3))\n",
    "c_model_2.add(Activation('relu'))\n",
    "\n",
    "# Max Pooling\n",
    "c_model_2.add(MaxPooling2D(pool_size=(2,2)))\n",
    "    \n",
    "# Dropout\n",
    "c_model_2.add(Dropout(0.25))\n",
    "\n",
    "# flatten into 2 fully connected layers (or Dense Layers)\n",
    "c_model_2.add(Flatten())\n",
    "c_model_2.add(Dense(128))\n",
    "c_model_2.add(Activation('relu'))\n",
    "c_model_2.add(Dense(10))\n",
    "c_model_2.add(Activation('softmax'))\n",
    "\n",
    "# Loss and Optimizer\n",
    "c_model_2.compile(loss='categorical_crossentropy', optimizer='adam', metrics=['accuracy'])\n",
    "\n",
    "# Store Training Results\n",
    "from keras.callbacks import EarlyStopping\n",
    "early_stopping = EarlyStopping(monitor='val_acc', patience=5, verbose=1, mode='auto')\n",
    "callback_list = [early_stopping]\n",
    "\n"
   ]
  },
  {
   "cell_type": "code",
   "execution_count": 0,
   "metadata": {
    "colab": {
     "base_uri": "https://localhost:8080/",
     "height": 443
    },
    "colab_type": "code",
    "id": "PfnUlHJJQ5Hz",
    "outputId": "08c27b94-c86f-454b-9e1d-405a74071c6e"
   },
   "outputs": [
    {
     "name": "stderr",
     "output_type": "stream",
     "text": [
      "/usr/local/lib/python3.6/dist-packages/ipykernel_launcher.py:1: UserWarning: The `nb_epoch` argument in `fit` has been renamed `epochs`.\n",
      "  \"\"\"Entry point for launching an IPython kernel.\n"
     ]
    },
    {
     "name": "stdout",
     "output_type": "stream",
     "text": [
      "Train on 60000 samples, validate on 10000 samples\n",
      "Epoch 1/10\n",
      "60000/60000 [==============================] - 20s 326us/step - loss: 0.4051 - acc: 0.8552 - val_loss: 0.2972 - val_acc: 0.8920\n",
      "Epoch 2/10\n",
      "60000/60000 [==============================] - 19s 314us/step - loss: 0.2652 - acc: 0.9017 - val_loss: 0.2465 - val_acc: 0.9106\n",
      "Epoch 3/10\n",
      "60000/60000 [==============================] - 19s 314us/step - loss: 0.2156 - acc: 0.9195 - val_loss: 0.2548 - val_acc: 0.9078\n",
      "Epoch 4/10\n",
      "60000/60000 [==============================] - 19s 319us/step - loss: 0.1812 - acc: 0.9322 - val_loss: 0.2342 - val_acc: 0.9144\n",
      "Epoch 5/10\n",
      "60000/60000 [==============================] - 19s 322us/step - loss: 0.1507 - acc: 0.9432 - val_loss: 0.2275 - val_acc: 0.9208\n",
      "Epoch 6/10\n",
      "60000/60000 [==============================] - 19s 316us/step - loss: 0.1284 - acc: 0.9514 - val_loss: 0.2348 - val_acc: 0.9231\n",
      "Epoch 7/10\n",
      "60000/60000 [==============================] - 19s 314us/step - loss: 0.1090 - acc: 0.9588 - val_loss: 0.2606 - val_acc: 0.9175\n",
      "Epoch 8/10\n",
      "60000/60000 [==============================] - 19s 312us/step - loss: 0.0938 - acc: 0.9652 - val_loss: 0.2719 - val_acc: 0.9182\n",
      "Epoch 9/10\n",
      "60000/60000 [==============================] - 19s 316us/step - loss: 0.0834 - acc: 0.9696 - val_loss: 0.2810 - val_acc: 0.9203\n",
      "Epoch 10/10\n",
      "60000/60000 [==============================] - 19s 314us/step - loss: 0.0724 - acc: 0.9736 - val_loss: 0.2950 - val_acc: 0.9201\n"
     ]
    },
    {
     "data": {
      "text/plain": [
       "<keras.callbacks.History at 0x7f1a3bf32358>"
      ]
     },
     "execution_count": 32,
     "metadata": {
      "tags": []
     },
     "output_type": "execute_result"
    }
   ],
   "source": [
    "# Train the model\n",
    "c_model_2.fit(x_train, y_train, batch_size=32, nb_epoch=10, validation_data=(x_test, y_test), callbacks=callback_list)  "
   ]
  },
  {
   "cell_type": "markdown",
   "metadata": {
    "colab_type": "text",
    "id": "lGTA3bfEJjwa"
   },
   "source": [
    "### Now, to the above model, lets add Data Augmentation "
   ]
  },
  {
   "cell_type": "markdown",
   "metadata": {
    "colab_type": "text",
    "id": "F6gX8n5SJjwb"
   },
   "source": [
    "### Import the ImageDataGenrator from keras and fit the training images"
   ]
  },
  {
   "cell_type": "code",
   "execution_count": 0,
   "metadata": {
    "colab": {},
    "colab_type": "code",
    "id": "Cbz4uHBuJjwc"
   },
   "outputs": [],
   "source": [
    "from keras.preprocessing.image import ImageDataGenerator\n",
    "\n",
    "# This will do preprocessing and realtime data augmentation:\n",
    "datagen = ImageDataGenerator(\n",
    "    featurewise_center=False,  # set input mean to 0 over the dataset\n",
    "    samplewise_center=False,  # set each sample mean to 0\n",
    "    featurewise_std_normalization=False,  # divide inputs by std of the dataset\n",
    "    samplewise_std_normalization=False,  # divide each input by its std\n",
    "    zca_whitening=False,  # apply ZCA whitening\n",
    "    rotation_range=50,  # randomly rotate images in the range (degrees, 0 to 180)\n",
    "    width_shift_range=0.01,  # randomly shift images horizontally (fraction of total width)\n",
    "    height_shift_range=0.01,  # randomly shift images vertically (fraction of total height)\n",
    "    horizontal_flip=False,  # randomly flip images\n",
    "    vertical_flip=False)  # randomly flip images\n",
    "\n"
   ]
  },
  {
   "cell_type": "code",
   "execution_count": 0,
   "metadata": {
    "colab": {},
    "colab_type": "code",
    "id": "TJLmUJVjR6ua"
   },
   "outputs": [],
   "source": [
    "# Prepare the generator\n",
    "datagen.fit(x_train)"
   ]
  },
  {
   "cell_type": "markdown",
   "metadata": {
    "colab_type": "text",
    "id": "pl-8dOo7Jjwf"
   },
   "source": [
    "#### Showing 5 versions of the first image in training dataset using image datagenerator.flow()"
   ]
  },
  {
   "cell_type": "code",
   "execution_count": 0,
   "metadata": {
    "colab": {
     "base_uri": "https://localhost:8080/",
     "height": 88
    },
    "colab_type": "code",
    "id": "DpI1_McYJjwg",
    "outputId": "34230adf-4503-462f-e1e9-9c6d47060756",
    "scrolled": true
   },
   "outputs": [
    {
     "data": {
      "image/png": "[encoded data removed]",
      "text/plain": [
       "<Figure size 432x288 with 5 Axes>"
      ]
     },
     "metadata": {
      "tags": []
     },
     "output_type": "display_data"
    }
   ],
   "source": [
    "from matplotlib import pyplot as plt\n",
    "gen = datagen.flow(x_train[0:1], batch_size=1)\n",
    "for i in range(1, 6):\n",
    "    plt.subplot(1,5,i)\n",
    "    plt.axis(\"off\")\n",
    "    plt.imshow(gen.next().squeeze(), cmap='gray')\n",
    "    plt.plot()\n",
    "plt.show()"
   ]
  },
  {
   "cell_type": "markdown",
   "metadata": {
    "colab_type": "text",
    "id": "dmPl5yE8Jjwm"
   },
   "source": [
    "### Run the above model using fit_generator()"
   ]
  },
  {
   "cell_type": "code",
   "execution_count": 0,
   "metadata": {
    "colab": {
     "base_uri": "https://localhost:8080/",
     "height": 481
    },
    "colab_type": "code",
    "id": "44ZnDdJYJjwn",
    "outputId": "74b19304-0d9e-4aa1-f176-c882189339ff"
   },
   "outputs": [
    {
     "name": "stdout",
     "output_type": "stream",
     "text": [
      "Epoch 1/10\n",
      "   8/1875 [..............................] - ETA: 32s - loss: 3.0632 - acc: 0.5000"
     ]
    },
    {
     "name": "stderr",
     "output_type": "stream",
     "text": [
      "/usr/local/lib/python3.6/dist-packages/ipykernel_launcher.py:4: UserWarning: The semantics of the Keras 2 argument `steps_per_epoch` is not the same as the Keras 1 argument `samples_per_epoch`. `steps_per_epoch` is the number of batches to draw from the generator at each epoch. Basically steps_per_epoch = samples_per_epoch/batch_size. Similarly `nb_val_samples`->`validation_steps` and `val_samples`->`steps` arguments have changed. Update your method calls accordingly.\n",
      "  after removing the cwd from sys.path.\n",
      "/usr/local/lib/python3.6/dist-packages/ipykernel_launcher.py:4: UserWarning: Update your `fit_generator` call to the Keras 2 API: `fit_generator(<keras_pre..., validation_data=(array([[[..., callbacks=[<keras.ca..., steps_per_epoch=1875, epochs=10)`\n",
      "  after removing the cwd from sys.path.\n"
     ]
    },
    {
     "name": "stdout",
     "output_type": "stream",
     "text": [
      "1875/1875 [==============================] - 34s 18ms/step - loss: 0.5120 - acc: 0.8180 - val_loss: 0.2874 - val_acc: 0.9000\n",
      "Epoch 2/10\n",
      "1875/1875 [==============================] - 34s 18ms/step - loss: 0.3703 - acc: 0.8651 - val_loss: 0.2788 - val_acc: 0.9061\n",
      "Epoch 3/10\n",
      "1875/1875 [==============================] - 34s 18ms/step - loss: 0.3301 - acc: 0.8801 - val_loss: 0.2685 - val_acc: 0.9077\n",
      "Epoch 4/10\n",
      "1875/1875 [==============================] - 33s 18ms/step - loss: 0.3095 - acc: 0.8860 - val_loss: 0.2745 - val_acc: 0.9104\n",
      "Epoch 5/10\n",
      "1875/1875 [==============================] - 33s 18ms/step - loss: 0.2927 - acc: 0.8930 - val_loss: 0.2582 - val_acc: 0.9110\n",
      "Epoch 6/10\n",
      "1875/1875 [==============================] - 34s 18ms/step - loss: 0.2838 - acc: 0.8961 - val_loss: 0.2597 - val_acc: 0.9144\n",
      "Epoch 7/10\n",
      "1875/1875 [==============================] - 34s 18ms/step - loss: 0.2761 - acc: 0.8991 - val_loss: 0.2651 - val_acc: 0.9103\n",
      "Epoch 8/10\n",
      "1875/1875 [==============================] - 34s 18ms/step - loss: 0.2643 - acc: 0.9028 - val_loss: 0.2594 - val_acc: 0.9095\n",
      "Epoch 9/10\n",
      "1875/1875 [==============================] - 33s 18ms/step - loss: 0.2610 - acc: 0.9027 - val_loss: 0.2682 - val_acc: 0.9111\n",
      "Epoch 10/10\n",
      "1875/1875 [==============================] - 34s 18ms/step - loss: 0.2547 - acc: 0.9061 - val_loss: 0.2823 - val_acc: 0.9101\n"
     ]
    },
    {
     "data": {
      "text/plain": [
       "<keras.callbacks.History at 0x7f1a8012aac8>"
      ]
     },
     "execution_count": 37,
     "metadata": {
      "tags": []
     },
     "output_type": "execute_result"
    }
   ],
   "source": [
    "c_model_2.fit_generator(datagen.flow(x_train, y_train, batch_size=32),\n",
    "                    samples_per_epoch=x_train.shape[0],\n",
    "                    nb_epoch=10,\n",
    "                    validation_data=(x_test, y_test), callbacks=callback_list)"
   ]
  },
  {
   "cell_type": "markdown",
   "metadata": {
    "colab_type": "text",
    "id": "MwQQW5iOJjwq"
   },
   "source": [
    "###  Report the final train and validation accuracy"
   ]
  },
  {
   "cell_type": "code",
   "execution_count": 0,
   "metadata": {
    "colab": {
     "base_uri": "https://localhost:8080/",
     "height": 52
    },
    "colab_type": "code",
    "id": "ZBwVWNQC2qZD",
    "outputId": "108fe6fa-8465-4372-c3c3-a41c2b1b413a"
   },
   "outputs": [
    {
     "name": "stdout",
     "output_type": "stream",
     "text": [
      "60000/60000 [==============================] - 6s 92us/step\n",
      "Test accuracy: 0.9473166666666667\n"
     ]
    }
   ],
   "source": [
    "loss_and_metrics = c_model_2.evaluate(x_train, y_train)\n",
    "print('Test accuracy:', loss_and_metrics[1])"
   ]
  },
  {
   "cell_type": "markdown",
   "metadata": {
    "colab_type": "text",
    "id": "8KXqmUDW2rM1"
   },
   "source": [
    "## **DATA AUGMENTATION ON CIFAR10 DATASET**"
   ]
  },
  {
   "cell_type": "markdown",
   "metadata": {
    "colab_type": "text",
    "id": "8mja6OgQ3L18"
   },
   "source": [
    "One of the best ways to improve the performance of a Deep Learning model is to add more data to the training set. Aside from gathering more instances from the wild that are representative of the distinction task, we want to develop a set of methods that enhance the data we already have. There are many ways to augment existing datasets and produce more robust models. In the image domain, these are done to utilize the full power of the convolutional neural network, which is able to capture translational invariance. This translational invariance is what makes image recognition such a difficult task in the first place. You want the dataset to be representative of the many different positions, angles, lightings, and miscellaneous distortions that are of interest to the vision task."
   ]
  },
  {
   "cell_type": "markdown",
   "metadata": {
    "colab_type": "text",
    "id": "6HzVTPUM3WZJ"
   },
   "source": [
    "### **Import neessary libraries for data augmentation**"
   ]
  },
  {
   "cell_type": "code",
   "execution_count": 0,
   "metadata": {
    "colab": {},
    "colab_type": "code",
    "id": "PPM558TX4KMb"
   },
   "outputs": [],
   "source": [
    "from keras.preprocessing.image import ImageDataGenerator"
   ]
  },
  {
   "cell_type": "markdown",
   "metadata": {
    "colab_type": "text",
    "id": "W6hicLwP4SqY"
   },
   "source": [
    "### **Load CIFAR10 dataset**"
   ]
  },
  {
   "cell_type": "code",
   "execution_count": 0,
   "metadata": {
    "colab": {},
    "colab_type": "code",
    "id": "NQ1WzrXd4WNk"
   },
   "outputs": [],
   "source": [
    "from keras.datasets import cifar10\n",
    "(x_train2, y_train2), (x_test2, y_test2) = cifar10.load_data()"
   ]
  },
  {
   "cell_type": "markdown",
   "metadata": {
    "colab_type": "text",
    "id": "JN3vYYhK4W0u"
   },
   "source": [
    "### **Create a data_gen funtion to genererator with image rotation,shifting image horizontally and vertically with random flip horizontally.**"
   ]
  },
  {
   "cell_type": "code",
   "execution_count": 0,
   "metadata": {
    "colab": {},
    "colab_type": "code",
    "id": "JJbekTKi4cmM"
   },
   "outputs": [],
   "source": [
    "# This will do preprocessing and realtime data augmentation:\n",
    "data_gen = ImageDataGenerator(\n",
    "    featurewise_center=False,  # set input mean to 0 over the dataset\n",
    "    samplewise_center=False,  # set each sample mean to 0\n",
    "    featurewise_std_normalization=False,  # divide inputs by std of the dataset\n",
    "    samplewise_std_normalization=False,  # divide each input by its std\n",
    "    zca_whitening=False,  # apply ZCA whitening\n",
    "    rotation_range=50,  # randomly rotate images in the range (degrees, 0 to 180)\n",
    "    width_shift_range=0.01,  # randomly shift images horizontally (fraction of total width)\n",
    "    height_shift_range=0.01,  # randomly shift images vertically (fraction of total height)\n",
    "    horizontal_flip=True,  # randomly flip images\n",
    "    vertical_flip=True)  # randomly flip images"
   ]
  },
  {
   "cell_type": "markdown",
   "metadata": {
    "colab_type": "text",
    "id": "e-SLtUhC4dK2"
   },
   "source": [
    "### **Prepare/fit the generator.**"
   ]
  },
  {
   "cell_type": "code",
   "execution_count": 0,
   "metadata": {
    "colab": {},
    "colab_type": "code",
    "id": "CSw8Bv2_4hb0"
   },
   "outputs": [],
   "source": [
    "# Prepare the generator\n",
    "data_gen.fit(x_train2)"
   ]
  },
  {
   "cell_type": "markdown",
   "metadata": {
    "colab_type": "text",
    "id": "gYyF-P8O4jQ8"
   },
   "source": [
    "### **Generate 5 images for 1 of the image of CIFAR10 train dataset.**"
   ]
  },
  {
   "cell_type": "code",
   "execution_count": 0,
   "metadata": {
    "colab": {},
    "colab_type": "code",
    "id": "auYKtpVoT-ci"
   },
   "outputs": [],
   "source": [
    "x_train2=x_train2.astype('float32')/255"
   ]
  },
  {
   "cell_type": "code",
   "execution_count": 0,
   "metadata": {
    "colab": {},
    "colab_type": "code",
    "id": "WhajWiB8V3KX"
   },
   "outputs": [],
   "source": [
    "from matplotlib import pyplot as plt"
   ]
  },
  {
   "cell_type": "code",
   "execution_count": 0,
   "metadata": {
    "colab": {
     "base_uri": "https://localhost:8080/",
     "height": 88
    },
    "colab_type": "code",
    "id": "mXug4z234mwQ",
    "outputId": "52142c82-7770-40c9-c14a-5694d532834b"
   },
   "outputs": [
    {
     "data": {
      "image/png": "[encoded data removed]",
      "text/plain": [
       "<Figure size 432x288 with 5 Axes>"
      ]
     },
     "metadata": {
      "tags": []
     },
     "output_type": "display_data"
    }
   ],
   "source": [
    "gen = datagen.flow(x_train2[0:1], batch_size=1)\n",
    "for i in range(1, 6):\n",
    "    plt.subplot(1,5,i)\n",
    "    plt.axis(\"off\")\n",
    "    plt.imshow(gen.next().squeeze())\n",
    "    plt.plot()\n",
    "plt.show()"
   ]
  },
  {
   "cell_type": "code",
   "execution_count": 0,
   "metadata": {
    "colab": {},
    "colab_type": "code",
    "id": "A7hLCtciVKXM"
   },
   "outputs": [],
   "source": []
  }
 ],
 "metadata": {
  "accelerator": "GPU",
  "colab": {
   "collapsed_sections": [],
   "name": "R7_InternalLab_Questions_FMNIST_Simple_CNN_CIFAR_DATA_Augment.ipynb",
   "provenance": []
  },
  "kernelspec": {
   "display_name": "Python 3",
   "language": "python",
   "name": "python3"
  },
  "language_info": {
   "codemirror_mode": {
    "name": "ipython",
    "version": 3
   },
   "file_extension": ".py",
   "mimetype": "text/x-python",
   "name": "python",
   "nbconvert_exporter": "python",
   "pygments_lexer": "ipython3",
   "version": "3.7.3"
  }
 },
 "nbformat": 4,
 "nbformat_minor": 1
}
