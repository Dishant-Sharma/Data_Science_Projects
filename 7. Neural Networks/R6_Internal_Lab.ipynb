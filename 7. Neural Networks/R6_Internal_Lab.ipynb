{
 "cells": [
  {
   "cell_type": "markdown",
   "metadata": {
    "colab_type": "text",
    "id": "84Q8JfvaeZZ6"
   },
   "source": [
    "## Linear Classifier in TensorFlow \n",
    "Using Low Level API in Eager Execution mode"
   ]
  },
  {
   "cell_type": "code",
   "execution_count": 0,
   "metadata": {
    "colab": {},
    "colab_type": "code",
    "id": "AjUehV60cvvE"
   },
   "outputs": [],
   "source": [
    "from google.colab import drive"
   ]
  },
  {
   "cell_type": "code",
   "execution_count": 2,
   "metadata": {
    "colab": {
     "base_uri": "https://localhost:8080/",
     "height": 34
    },
    "colab_type": "code",
    "id": "m0STm3ztczJf",
    "outputId": "2aa145fb-a23a-40e0-c8be-54b3de5e2ef1"
   },
   "outputs": [
    {
     "name": "stdout",
     "output_type": "stream",
     "text": [
      "Drive already mounted at /content/drive; to attempt to forcibly remount, call drive.mount(\"/content/drive\", force_remount=True).\n"
     ]
    }
   ],
   "source": [
    "drive.mount('/content/drive')"
   ]
  },
  {
   "cell_type": "markdown",
   "metadata": {
    "colab_type": "text",
    "id": "sb7Epo0VOB58"
   },
   "source": [
    "### Load tensorflow"
   ]
  },
  {
   "cell_type": "code",
   "execution_count": 0,
   "metadata": {
    "colab": {},
    "colab_type": "code",
    "id": "aNVkt2c7dH__"
   },
   "outputs": [],
   "source": [
    "#!pip3 install -U tensorflow ==2.0 --quiet"
   ]
  },
  {
   "cell_type": "code",
   "execution_count": 0,
   "metadata": {
    "colab": {},
    "colab_type": "code",
    "id": "5HVlo3j6eMWk"
   },
   "outputs": [],
   "source": [
    "import tensorflow as tf"
   ]
  },
  {
   "cell_type": "code",
   "execution_count": 5,
   "metadata": {
    "colab": {
     "base_uri": "https://localhost:8080/",
     "height": 34
    },
    "colab_type": "code",
    "id": "Lyr3J5NGc-az",
    "outputId": "f9473361-fbfa-4d15-bad3-2c818b398adf"
   },
   "outputs": [
    {
     "data": {
      "text/plain": [
       "'2.0.0'"
      ]
     },
     "execution_count": 5,
     "metadata": {
      "tags": []
     },
     "output_type": "execute_result"
    }
   ],
   "source": [
    "tf.__version__"
   ]
  },
  {
   "cell_type": "code",
   "execution_count": 0,
   "metadata": {
    "colab": {},
    "colab_type": "code",
    "id": "Mjtb-EMcm5K0"
   },
   "outputs": [],
   "source": [
    "#Enable Eager Execution if using tensflow version < 2.0\n",
    "#From tensorflow v2.0 onwards, Eager Execution will be enabled by default\n"
   ]
  },
  {
   "cell_type": "markdown",
   "metadata": {
    "colab_type": "text",
    "id": "DxJDmJqqOB6K"
   },
   "source": [
    "### Collect Data"
   ]
  },
  {
   "cell_type": "code",
   "execution_count": 0,
   "metadata": {
    "colab": {},
    "colab_type": "code",
    "id": "KiObW4V4SIOz"
   },
   "outputs": [],
   "source": [
    "import pandas as pd"
   ]
  },
  {
   "cell_type": "code",
   "execution_count": 0,
   "metadata": {
    "colab": {},
    "colab_type": "code",
    "id": "B4yQKMiJOB6R"
   },
   "outputs": [],
   "source": [
    "data = pd.read_csv('/content/drive/My Drive/Great Learning Residency 6.2 neural networks/prices.csv')"
   ]
  },
  {
   "cell_type": "markdown",
   "metadata": {
    "colab_type": "text",
    "id": "fgkX6SEqOB6W"
   },
   "source": [
    "### Check all columns in the dataset"
   ]
  },
  {
   "cell_type": "code",
   "execution_count": 8,
   "metadata": {
    "colab": {
     "base_uri": "https://localhost:8080/",
     "height": 34
    },
    "colab_type": "code",
    "id": "7K8pWsNQOB6X",
    "outputId": "90ff46e9-49d8-4c78-deb4-87c851948746"
   },
   "outputs": [
    {
     "data": {
      "text/plain": [
       "Index(['date', 'symbol', 'open', 'close', 'low', 'high', 'volume'], dtype='object')"
      ]
     },
     "execution_count": 8,
     "metadata": {
      "tags": []
     },
     "output_type": "execute_result"
    }
   ],
   "source": [
    "data.columns"
   ]
  },
  {
   "cell_type": "code",
   "execution_count": 9,
   "metadata": {
    "colab": {
     "base_uri": "https://localhost:8080/",
     "height": 34
    },
    "colab_type": "code",
    "id": "XSkfIpFOewjr",
    "outputId": "64730200-2db9-4255-817d-b6bed868b37d"
   },
   "outputs": [
    {
     "data": {
      "text/plain": [
       "(851264, 7)"
      ]
     },
     "execution_count": 9,
     "metadata": {
      "tags": []
     },
     "output_type": "execute_result"
    }
   ],
   "source": [
    "data.shape"
   ]
  },
  {
   "cell_type": "code",
   "execution_count": 10,
   "metadata": {
    "colab": {
     "base_uri": "https://localhost:8080/",
     "height": 221
    },
    "colab_type": "code",
    "id": "ZFFmUyYwewpp",
    "outputId": "f961d823-fbdd-4db8-cd2f-601e1a6e1786"
   },
   "outputs": [
    {
     "name": "stdout",
     "output_type": "stream",
     "text": [
      "<class 'pandas.core.frame.DataFrame'>\n",
      "RangeIndex: 851264 entries, 0 to 851263\n",
      "Data columns (total 7 columns):\n",
      "date      851264 non-null object\n",
      "symbol    851264 non-null object\n",
      "open      851264 non-null float64\n",
      "close     851264 non-null float64\n",
      "low       851264 non-null float64\n",
      "high      851264 non-null float64\n",
      "volume    851264 non-null float64\n",
      "dtypes: float64(5), object(2)\n",
      "memory usage: 45.5+ MB\n"
     ]
    }
   ],
   "source": [
    "data.info()"
   ]
  },
  {
   "cell_type": "markdown",
   "metadata": {
    "colab_type": "text",
    "id": "7dU6X7MpOB6c"
   },
   "source": [
    "### Drop columns `date` and  `symbol`"
   ]
  },
  {
   "cell_type": "code",
   "execution_count": 0,
   "metadata": {
    "colab": {},
    "colab_type": "code",
    "id": "lh_6spSKOB6e"
   },
   "outputs": [],
   "source": [
    "data=data.drop(['date','symbol'],axis=1)"
   ]
  },
  {
   "cell_type": "code",
   "execution_count": 12,
   "metadata": {
    "colab": {
     "base_uri": "https://localhost:8080/",
     "height": 204
    },
    "colab_type": "code",
    "id": "gmDwpmpdfIqY",
    "outputId": "140ef709-4ed9-4a89-9a06-2468b3636715"
   },
   "outputs": [
    {
     "data": {
      "text/html": [
       "<div>\n",
       "<style scoped>\n",
       "    .dataframe tbody tr th:only-of-type {\n",
       "        vertical-align: middle;\n",
       "    }\n",
       "\n",
       "    .dataframe tbody tr th {\n",
       "        vertical-align: top;\n",
       "    }\n",
       "\n",
       "    .dataframe thead th {\n",
       "        text-align: right;\n",
       "    }\n",
       "</style>\n",
       "<table border=\"1\" class=\"dataframe\">\n",
       "  <thead>\n",
       "    <tr style=\"text-align: right;\">\n",
       "      <th></th>\n",
       "      <th>open</th>\n",
       "      <th>close</th>\n",
       "      <th>low</th>\n",
       "      <th>high</th>\n",
       "      <th>volume</th>\n",
       "    </tr>\n",
       "  </thead>\n",
       "  <tbody>\n",
       "    <tr>\n",
       "      <th>0</th>\n",
       "      <td>123.430000</td>\n",
       "      <td>125.839996</td>\n",
       "      <td>122.309998</td>\n",
       "      <td>126.250000</td>\n",
       "      <td>2163600.0</td>\n",
       "    </tr>\n",
       "    <tr>\n",
       "      <th>1</th>\n",
       "      <td>125.239998</td>\n",
       "      <td>119.980003</td>\n",
       "      <td>119.940002</td>\n",
       "      <td>125.540001</td>\n",
       "      <td>2386400.0</td>\n",
       "    </tr>\n",
       "    <tr>\n",
       "      <th>2</th>\n",
       "      <td>116.379997</td>\n",
       "      <td>114.949997</td>\n",
       "      <td>114.930000</td>\n",
       "      <td>119.739998</td>\n",
       "      <td>2489500.0</td>\n",
       "    </tr>\n",
       "    <tr>\n",
       "      <th>3</th>\n",
       "      <td>115.480003</td>\n",
       "      <td>116.620003</td>\n",
       "      <td>113.500000</td>\n",
       "      <td>117.440002</td>\n",
       "      <td>2006300.0</td>\n",
       "    </tr>\n",
       "    <tr>\n",
       "      <th>4</th>\n",
       "      <td>117.010002</td>\n",
       "      <td>114.970001</td>\n",
       "      <td>114.089996</td>\n",
       "      <td>117.330002</td>\n",
       "      <td>1408600.0</td>\n",
       "    </tr>\n",
       "  </tbody>\n",
       "</table>\n",
       "</div>"
      ],
      "text/plain": [
       "         open       close         low        high     volume\n",
       "0  123.430000  125.839996  122.309998  126.250000  2163600.0\n",
       "1  125.239998  119.980003  119.940002  125.540001  2386400.0\n",
       "2  116.379997  114.949997  114.930000  119.739998  2489500.0\n",
       "3  115.480003  116.620003  113.500000  117.440002  2006300.0\n",
       "4  117.010002  114.970001  114.089996  117.330002  1408600.0"
      ]
     },
     "execution_count": 12,
     "metadata": {
      "tags": []
     },
     "output_type": "execute_result"
    }
   ],
   "source": [
    "data.head()"
   ]
  },
  {
   "cell_type": "markdown",
   "metadata": {
    "colab_type": "text",
    "id": "3DBv3WWYOB6q"
   },
   "source": [
    "### Consider only first 1000 rows in the dataset for building feature set and target set\n",
    "Target 'Volume' has very high values. Divide 'Volume' by 1000,000"
   ]
  },
  {
   "cell_type": "code",
   "execution_count": 0,
   "metadata": {
    "colab": {},
    "colab_type": "code",
    "id": "Z_hG9rGBOB6s"
   },
   "outputs": [],
   "source": [
    "data['volume']=data['volume']/1000000"
   ]
  },
  {
   "cell_type": "code",
   "execution_count": 0,
   "metadata": {
    "colab": {},
    "colab_type": "code",
    "id": "WSadE52lfww9"
   },
   "outputs": [],
   "source": [
    "data_df=data.head(1000)"
   ]
  },
  {
   "cell_type": "code",
   "execution_count": 15,
   "metadata": {
    "colab": {
     "base_uri": "https://localhost:8080/",
     "height": 419
    },
    "colab_type": "code",
    "id": "nh4TJ6uoga49",
    "outputId": "c363a343-0636-4183-ae2c-25debb3a668e"
   },
   "outputs": [
    {
     "data": {
      "text/html": [
       "<div>\n",
       "<style scoped>\n",
       "    .dataframe tbody tr th:only-of-type {\n",
       "        vertical-align: middle;\n",
       "    }\n",
       "\n",
       "    .dataframe tbody tr th {\n",
       "        vertical-align: top;\n",
       "    }\n",
       "\n",
       "    .dataframe thead th {\n",
       "        text-align: right;\n",
       "    }\n",
       "</style>\n",
       "<table border=\"1\" class=\"dataframe\">\n",
       "  <thead>\n",
       "    <tr style=\"text-align: right;\">\n",
       "      <th></th>\n",
       "      <th>open</th>\n",
       "      <th>close</th>\n",
       "      <th>low</th>\n",
       "      <th>high</th>\n",
       "      <th>volume</th>\n",
       "    </tr>\n",
       "  </thead>\n",
       "  <tbody>\n",
       "    <tr>\n",
       "      <th>0</th>\n",
       "      <td>123.430000</td>\n",
       "      <td>125.839996</td>\n",
       "      <td>122.309998</td>\n",
       "      <td>126.250000</td>\n",
       "      <td>2.1636</td>\n",
       "    </tr>\n",
       "    <tr>\n",
       "      <th>1</th>\n",
       "      <td>125.239998</td>\n",
       "      <td>119.980003</td>\n",
       "      <td>119.940002</td>\n",
       "      <td>125.540001</td>\n",
       "      <td>2.3864</td>\n",
       "    </tr>\n",
       "    <tr>\n",
       "      <th>2</th>\n",
       "      <td>116.379997</td>\n",
       "      <td>114.949997</td>\n",
       "      <td>114.930000</td>\n",
       "      <td>119.739998</td>\n",
       "      <td>2.4895</td>\n",
       "    </tr>\n",
       "    <tr>\n",
       "      <th>3</th>\n",
       "      <td>115.480003</td>\n",
       "      <td>116.620003</td>\n",
       "      <td>113.500000</td>\n",
       "      <td>117.440002</td>\n",
       "      <td>2.0063</td>\n",
       "    </tr>\n",
       "    <tr>\n",
       "      <th>4</th>\n",
       "      <td>117.010002</td>\n",
       "      <td>114.970001</td>\n",
       "      <td>114.089996</td>\n",
       "      <td>117.330002</td>\n",
       "      <td>1.4086</td>\n",
       "    </tr>\n",
       "    <tr>\n",
       "      <th>...</th>\n",
       "      <td>...</td>\n",
       "      <td>...</td>\n",
       "      <td>...</td>\n",
       "      <td>...</td>\n",
       "      <td>...</td>\n",
       "    </tr>\n",
       "    <tr>\n",
       "      <th>995</th>\n",
       "      <td>63.310001</td>\n",
       "      <td>63.590000</td>\n",
       "      <td>63.240002</td>\n",
       "      <td>63.639999</td>\n",
       "      <td>2.1332</td>\n",
       "    </tr>\n",
       "    <tr>\n",
       "      <th>996</th>\n",
       "      <td>27.160000</td>\n",
       "      <td>26.990000</td>\n",
       "      <td>26.680000</td>\n",
       "      <td>27.299999</td>\n",
       "      <td>1.9824</td>\n",
       "    </tr>\n",
       "    <tr>\n",
       "      <th>997</th>\n",
       "      <td>28.320000</td>\n",
       "      <td>28.770000</td>\n",
       "      <td>28.010000</td>\n",
       "      <td>28.809999</td>\n",
       "      <td>37.1528</td>\n",
       "    </tr>\n",
       "    <tr>\n",
       "      <th>998</th>\n",
       "      <td>44.000000</td>\n",
       "      <td>44.799999</td>\n",
       "      <td>43.750000</td>\n",
       "      <td>44.810001</td>\n",
       "      <td>6.5686</td>\n",
       "    </tr>\n",
       "    <tr>\n",
       "      <th>999</th>\n",
       "      <td>36.080002</td>\n",
       "      <td>37.139999</td>\n",
       "      <td>36.009998</td>\n",
       "      <td>37.230000</td>\n",
       "      <td>5.6043</td>\n",
       "    </tr>\n",
       "  </tbody>\n",
       "</table>\n",
       "<p>1000 rows × 5 columns</p>\n",
       "</div>"
      ],
      "text/plain": [
       "           open       close         low        high   volume\n",
       "0    123.430000  125.839996  122.309998  126.250000   2.1636\n",
       "1    125.239998  119.980003  119.940002  125.540001   2.3864\n",
       "2    116.379997  114.949997  114.930000  119.739998   2.4895\n",
       "3    115.480003  116.620003  113.500000  117.440002   2.0063\n",
       "4    117.010002  114.970001  114.089996  117.330002   1.4086\n",
       "..          ...         ...         ...         ...      ...\n",
       "995   63.310001   63.590000   63.240002   63.639999   2.1332\n",
       "996   27.160000   26.990000   26.680000   27.299999   1.9824\n",
       "997   28.320000   28.770000   28.010000   28.809999  37.1528\n",
       "998   44.000000   44.799999   43.750000   44.810001   6.5686\n",
       "999   36.080002   37.139999   36.009998   37.230000   5.6043\n",
       "\n",
       "[1000 rows x 5 columns]"
      ]
     },
     "execution_count": 15,
     "metadata": {
      "tags": []
     },
     "output_type": "execute_result"
    }
   ],
   "source": [
    "data_df"
   ]
  },
  {
   "cell_type": "markdown",
   "metadata": {
    "colab_type": "text",
    "id": "M3UaApqYOB6x"
   },
   "source": [
    "### Divide the data into train and test sets"
   ]
  },
  {
   "cell_type": "code",
   "execution_count": 0,
   "metadata": {
    "colab": {},
    "colab_type": "code",
    "id": "4LE4U8lTdQJq"
   },
   "outputs": [],
   "source": [
    "from sklearn.model_selection import train_test_split"
   ]
  },
  {
   "cell_type": "code",
   "execution_count": 0,
   "metadata": {
    "colab": {},
    "colab_type": "code",
    "id": "5c371p8lg5om"
   },
   "outputs": [],
   "source": [
    "p=data_df.drop('volume', axis = 1)\n",
    "q=data_df['volume']"
   ]
  },
  {
   "cell_type": "code",
   "execution_count": 0,
   "metadata": {
    "colab": {},
    "colab_type": "code",
    "id": "BPFy7UqFggmB"
   },
   "outputs": [],
   "source": [
    "X_train, X_test, y_train, y_test = train_test_split(p, q, test_size=0.30, random_state=1)"
   ]
  },
  {
   "cell_type": "code",
   "execution_count": 19,
   "metadata": {
    "colab": {
     "base_uri": "https://localhost:8080/",
     "height": 34
    },
    "colab_type": "code",
    "id": "6dEcAQVJhOq7",
    "outputId": "446f1a20-2b60-49d5-e37d-9116cb4048b6"
   },
   "outputs": [
    {
     "data": {
      "text/plain": [
       "(700, 4)"
      ]
     },
     "execution_count": 19,
     "metadata": {
      "tags": []
     },
     "output_type": "execute_result"
    }
   ],
   "source": [
    "X_train.shape"
   ]
  },
  {
   "cell_type": "code",
   "execution_count": 20,
   "metadata": {
    "colab": {
     "base_uri": "https://localhost:8080/",
     "height": 34
    },
    "colab_type": "code",
    "id": "43HggEnJhWG6",
    "outputId": "bf25414c-ce5a-4070-dd0f-c84410942f6a"
   },
   "outputs": [
    {
     "data": {
      "text/plain": [
       "(300, 4)"
      ]
     },
     "execution_count": 20,
     "metadata": {
      "tags": []
     },
     "output_type": "execute_result"
    }
   ],
   "source": [
    "X_test.shape"
   ]
  },
  {
   "cell_type": "markdown",
   "metadata": {
    "colab_type": "text",
    "id": "oYK-aUuLbrz2"
   },
   "source": [
    "#### Convert Training and Test Data to numpy float32 arrays\n"
   ]
  },
  {
   "cell_type": "code",
   "execution_count": 21,
   "metadata": {
    "colab": {
     "base_uri": "https://localhost:8080/",
     "height": 102
    },
    "colab_type": "code",
    "id": "Icdg8keWiXZt",
    "outputId": "67f65a3f-6ba7-4643-d071-8e720e296d5c"
   },
   "outputs": [
    {
     "data": {
      "text/plain": [
       "open     float64\n",
       "close    float64\n",
       "low      float64\n",
       "high     float64\n",
       "dtype: object"
      ]
     },
     "execution_count": 21,
     "metadata": {
      "tags": []
     },
     "output_type": "execute_result"
    }
   ],
   "source": [
    "X_train.dtypes"
   ]
  },
  {
   "cell_type": "code",
   "execution_count": 22,
   "metadata": {
    "colab": {
     "base_uri": "https://localhost:8080/",
     "height": 34
    },
    "colab_type": "code",
    "id": "lE_j-YIBicKY",
    "outputId": "f5cae91c-29a1-44dd-a763-40ae450441a2"
   },
   "outputs": [
    {
     "data": {
      "text/plain": [
       "dtype('float64')"
      ]
     },
     "execution_count": 22,
     "metadata": {
      "tags": []
     },
     "output_type": "execute_result"
    }
   ],
   "source": [
    "y_train.dtypes"
   ]
  },
  {
   "cell_type": "code",
   "execution_count": 0,
   "metadata": {
    "colab": {},
    "colab_type": "code",
    "id": "repln8fXtmpM"
   },
   "outputs": [],
   "source": [
    "import numpy as np"
   ]
  },
  {
   "cell_type": "code",
   "execution_count": 0,
   "metadata": {
    "colab": {},
    "colab_type": "code",
    "id": "N1uNdp5CtrLi"
   },
   "outputs": [],
   "source": []
  },
  {
   "cell_type": "code",
   "execution_count": 0,
   "metadata": {
    "colab": {},
    "colab_type": "code",
    "id": "Ao-S0tQGcncz"
   },
   "outputs": [],
   "source": [
    "X_train = np.array(X_train).astype('float32')\n",
    "y_train = np.array(y_train).astype('float32')\n",
    "X_test = np.array(X_test).astype('float32')\n",
    "y_test = np.array(y_test).astype('float32')"
   ]
  },
  {
   "cell_type": "markdown",
   "metadata": {
    "colab_type": "text",
    "id": "im1ZegbDdKgv"
   },
   "source": [
    "### Normalize the data\n",
    "You can use Normalizer from sklearn.preprocessing"
   ]
  },
  {
   "cell_type": "code",
   "execution_count": 0,
   "metadata": {
    "colab": {},
    "colab_type": "code",
    "id": "2EkKAy7fOB6y"
   },
   "outputs": [],
   "source": [
    "from sklearn.preprocessing import Normalizer"
   ]
  },
  {
   "cell_type": "code",
   "execution_count": 0,
   "metadata": {
    "colab": {},
    "colab_type": "code",
    "id": "qAWXDjz9jN3v"
   },
   "outputs": [],
   "source": [
    "transformer = Normalizer()\n",
    "X_train = transformer.fit_transform(X_train)"
   ]
  },
  {
   "cell_type": "code",
   "execution_count": 0,
   "metadata": {
    "colab": {},
    "colab_type": "code",
    "id": "bczGmn5Yk5F6"
   },
   "outputs": [],
   "source": [
    "X_test=transformer.transform(X_test)"
   ]
  },
  {
   "cell_type": "markdown",
   "metadata": {
    "colab_type": "text",
    "id": "v6vE4eYCOB62"
   },
   "source": [
    "## Building the Model in tensorflow"
   ]
  },
  {
   "cell_type": "markdown",
   "metadata": {
    "colab_type": "text",
    "id": "297_qja4OB7A"
   },
   "source": [
    "1.Define Weights and Bias, use tf.zeros to initialize weights and Bias"
   ]
  },
  {
   "cell_type": "code",
   "execution_count": 0,
   "metadata": {
    "colab": {},
    "colab_type": "code",
    "id": "L205qPeQOB7B"
   },
   "outputs": [],
   "source": [
    "w = tf.zeros(shape=(4,1))  \n",
    "b = tf.zeros(shape=(1))"
   ]
  },
  {
   "cell_type": "markdown",
   "metadata": {
    "colab_type": "text",
    "id": "HgtWA-UIOB7F"
   },
   "source": [
    "2.Define a function to calculate prediction"
   ]
  },
  {
   "cell_type": "code",
   "execution_count": 0,
   "metadata": {
    "colab": {},
    "colab_type": "code",
    "id": "JveGlx25OB7H"
   },
   "outputs": [],
   "source": [
    "def prediction(x, w, b):\n",
    "    \n",
    "    xw_matmul = tf.matmul(x, w) # matrix multiplication between x and w\n",
    "    y = tf.add(xw_matmul, b)    # add bias\n",
    "    \n",
    "    return y"
   ]
  },
  {
   "cell_type": "markdown",
   "metadata": {
    "colab_type": "text",
    "id": "TL1hIwf_OB7M"
   },
   "source": [
    "3.Loss (Cost) Function [Mean square error]"
   ]
  },
  {
   "cell_type": "code",
   "execution_count": 0,
   "metadata": {
    "colab": {},
    "colab_type": "code",
    "id": "8VSWPiGXOB7P"
   },
   "outputs": [],
   "source": [
    "def loss(y_actual, y_predicted):\n",
    "    \n",
    "    diff = y_actual - y_predicted\n",
    "    sqr = tf.square(diff)\n",
    "    avg = tf.reduce_mean(sqr)\n",
    "    \n",
    "    return avg"
   ]
  },
  {
   "cell_type": "markdown",
   "metadata": {
    "colab_type": "text",
    "id": "jzG85FUlOB7U"
   },
   "source": [
    "4.Function to train the Model\n",
    "\n",
    "1.   Record all the mathematical steps to calculate Loss\n",
    "2.   Calculate Gradients of Loss w.r.t weights and bias\n",
    "3.   Update Weights and Bias based on gradients and learning rate to minimize loss"
   ]
  },
  {
   "cell_type": "code",
   "execution_count": 0,
   "metadata": {
    "colab": {},
    "colab_type": "code",
    "id": "cj802w-3OB7X"
   },
   "outputs": [],
   "source": [
    "def train(x, y_actual, w, b, learning_rate=0.01):\n",
    "    \n",
    "    #Record mathematical operations on 'tape' to calculate loss\n",
    "    with tf.GradientTape() as t:\n",
    "        \n",
    "        t.watch([w,b])\n",
    "        \n",
    "        current_prediction = prediction(x, w, b)\n",
    "        current_loss = loss(y_actual, current_prediction)\n",
    "    \n",
    "    #Calculate Gradients for Loss with respect to Weights and Bias\n",
    "    dw, db = t.gradient(current_loss,[w, b])\n",
    "    \n",
    "    #Update Weights and Bias\n",
    "    w = w - learning_rate*dw\n",
    "    b = b - learning_rate*db\n",
    "    \n",
    "    return w, b"
   ]
  },
  {
   "cell_type": "markdown",
   "metadata": {
    "colab_type": "text",
    "id": "xSypb_u8OB7e"
   },
   "source": [
    "## Train the model for 100 epochs \n",
    "1. Observe the training loss at every iteration\n",
    "2. Observe Train loss at every 5th iteration"
   ]
  },
  {
   "cell_type": "code",
   "execution_count": 54,
   "metadata": {
    "colab": {
     "base_uri": "https://localhost:8080/",
     "height": 1000
    },
    "colab_type": "code",
    "id": "DVvgj7eQOB7f",
    "outputId": "abb8f4f6-28c5-4170-e2ab-a2c9dc047262"
   },
   "outputs": [
    {
     "name": "stdout",
     "output_type": "stream",
     "text": [
      "Current Loss on iteration 0 223.49039\n",
      "Current Loss on iteration 1 221.28825\n",
      "Current Loss on iteration 2 219.259\n",
      "Current Loss on iteration 3 217.38876\n",
      "Current Loss on iteration 4 215.66518\n",
      "Current Loss on iteration 5 214.07668\n",
      "Current Loss on iteration 6 212.61269\n",
      "Current Loss on iteration 7 211.2635\n",
      "Current Loss on iteration 8 210.02014\n",
      "Current Loss on iteration 9 208.87439\n",
      "Current Loss on iteration 10 207.81828\n",
      "Current Loss on iteration 11 206.84483\n",
      "Current Loss on iteration 12 205.94785\n",
      "Current Loss on iteration 13 205.12125\n",
      "Current Loss on iteration 14 204.35938\n",
      "Current Loss on iteration 15 203.65736\n",
      "Current Loss on iteration 16 203.01028\n",
      "Current Loss on iteration 17 202.4139\n",
      "Current Loss on iteration 18 201.86417\n",
      "Current Loss on iteration 19 201.35777\n",
      "Current Loss on iteration 20 200.89096\n",
      "Current Loss on iteration 21 200.46075\n",
      "Current Loss on iteration 22 200.06422\n",
      "Current Loss on iteration 23 199.69885\n",
      "Current Loss on iteration 24 199.36218\n",
      "Current Loss on iteration 25 199.05173\n",
      "Current Loss on iteration 26 198.76591\n",
      "Current Loss on iteration 27 198.50227\n",
      "Current Loss on iteration 28 198.2592\n",
      "Current Loss on iteration 29 198.03539\n",
      "Current Loss on iteration 30 197.829\n",
      "Current Loss on iteration 31 197.63885\n",
      "Current Loss on iteration 32 197.46367\n",
      "Current Loss on iteration 33 197.30211\n",
      "Current Loss on iteration 34 197.15337\n",
      "Current Loss on iteration 35 197.01613\n",
      "Current Loss on iteration 36 196.88963\n",
      "Current Loss on iteration 37 196.77303\n",
      "Current Loss on iteration 38 196.66576\n",
      "Current Loss on iteration 39 196.56676\n",
      "Current Loss on iteration 40 196.4757\n",
      "Current Loss on iteration 41 196.3915\n",
      "Current Loss on iteration 42 196.31403\n",
      "Current Loss on iteration 43 196.24268\n",
      "Current Loss on iteration 44 196.17699\n",
      "Current Loss on iteration 45 196.11624\n",
      "Current Loss on iteration 46 196.06035\n",
      "Current Loss on iteration 47 196.00888\n",
      "Current Loss on iteration 48 195.9615\n",
      "Current Loss on iteration 49 195.91774\n",
      "Current Loss on iteration 50 195.87732\n",
      "Current Loss on iteration 51 195.84013\n",
      "Current Loss on iteration 52 195.80605\n",
      "Current Loss on iteration 53 195.77457\n",
      "Current Loss on iteration 54 195.7453\n",
      "Current Loss on iteration 55 195.71863\n",
      "Current Loss on iteration 56 195.69397\n",
      "Current Loss on iteration 57 195.67105\n",
      "Current Loss on iteration 58 195.65016\n",
      "Current Loss on iteration 59 195.63074\n",
      "Current Loss on iteration 60 195.61302\n",
      "Current Loss on iteration 61 195.59663\n",
      "Current Loss on iteration 62 195.58142\n",
      "Current Loss on iteration 63 195.56747\n",
      "Current Loss on iteration 64 195.5547\n",
      "Current Loss on iteration 65 195.5428\n",
      "Current Loss on iteration 66 195.53189\n",
      "Current Loss on iteration 67 195.52185\n",
      "Current Loss on iteration 68 195.51256\n",
      "Current Loss on iteration 69 195.50394\n",
      "Current Loss on iteration 70 195.49623\n",
      "Current Loss on iteration 71 195.48878\n",
      "Current Loss on iteration 72 195.48209\n",
      "Current Loss on iteration 73 195.47615\n",
      "Current Loss on iteration 74 195.47023\n",
      "Current Loss on iteration 75 195.46504\n",
      "Current Loss on iteration 76 195.4602\n",
      "Current Loss on iteration 77 195.4558\n",
      "Current Loss on iteration 78 195.45168\n",
      "Current Loss on iteration 79 195.44804\n",
      "Current Loss on iteration 80 195.4445\n",
      "Current Loss on iteration 81 195.44121\n",
      "Current Loss on iteration 82 195.43832\n",
      "Current Loss on iteration 83 195.4356\n",
      "Current Loss on iteration 84 195.433\n",
      "Current Loss on iteration 85 195.43065\n",
      "Current Loss on iteration 86 195.42867\n",
      "Current Loss on iteration 87 195.42668\n",
      "Current Loss on iteration 88 195.42479\n",
      "Current Loss on iteration 89 195.42308\n",
      "Current Loss on iteration 90 195.42162\n",
      "Current Loss on iteration 91 195.42036\n",
      "Current Loss on iteration 92 195.41888\n",
      "Current Loss on iteration 93 195.41757\n",
      "Current Loss on iteration 94 195.41655\n",
      "Current Loss on iteration 95 195.41551\n",
      "Current Loss on iteration 96 195.41473\n",
      "Current Loss on iteration 97 195.41368\n",
      "Current Loss on iteration 98 195.413\n",
      "Current Loss on iteration 99 195.41214\n"
     ]
    }
   ],
   "source": [
    "#Train for 100 Steps\n",
    "for i in range(100):\n",
    "    \n",
    "    w, b = train(X_train, y_train, w, b, learning_rate=0.01)\n",
    "    print('Current Loss on iteration', i, \n",
    "          loss(y_train, prediction(X_train, w, b)).numpy())"
   ]
  },
  {
   "cell_type": "markdown",
   "metadata": {
    "colab_type": "text",
    "id": "DOL2ncA1OB7q"
   },
   "source": [
    "### Get the shapes and values of W and b"
   ]
  },
  {
   "cell_type": "code",
   "execution_count": 57,
   "metadata": {
    "colab": {
     "base_uri": "https://localhost:8080/",
     "height": 136
    },
    "colab_type": "code",
    "id": "3Skq14uAuZTx",
    "outputId": "943890e4-f998-40c4-be17-a7f40ad10965"
   },
   "outputs": [
    {
     "name": "stdout",
     "output_type": "stream",
     "text": [
      "Weights:\n",
      " [[1.3549174]\n",
      " [1.3598168]\n",
      " [1.3410656]\n",
      " [1.3713948]]\n",
      "Bias:\n",
      " [2.7137554]\n"
     ]
    }
   ],
   "source": [
    "#Check Weights and Bias\n",
    "print('Weights:\\n', w.numpy())\n",
    "print('Bias:\\n',b.numpy())"
   ]
  },
  {
   "cell_type": "markdown",
   "metadata": {
    "colab_type": "text",
    "id": "ERq9GOKKciho"
   },
   "source": [
    "### Model Prediction on 1st Examples in Test Dataset"
   ]
  },
  {
   "cell_type": "code",
   "execution_count": 60,
   "metadata": {
    "colab": {
     "base_uri": "https://localhost:8080/",
     "height": 34
    },
    "colab_type": "code",
    "id": "gKGvUWahcihp",
    "outputId": "dd5f8924-99f7-4560-de80-2eb89c42432e"
   },
   "outputs": [
    {
     "data": {
      "text/plain": [
       "<tf.Tensor: id=5893139, shape=(1, 1), dtype=float32, numpy=array([[5.427437]], dtype=float32)>"
      ]
     },
     "execution_count": 60,
     "metadata": {
      "tags": []
     },
     "output_type": "execute_result"
    }
   ],
   "source": [
    "prediction(X_test[0:1],w,b)"
   ]
  },
  {
   "cell_type": "markdown",
   "metadata": {
    "colab_type": "text",
    "id": "YJRBuqXhOB7_"
   },
   "source": [
    "## Classification using tf.Keras\n",
    "\n",
    "In this exercise, we will build a Deep Neural Network using tf.Keras. We will use Iris Dataset for this exercise."
   ]
  },
  {
   "cell_type": "markdown",
   "metadata": {
    "colab_type": "text",
    "id": "O0g6lorycihf"
   },
   "source": [
    "### Load the given Iris data using pandas (Iris.csv)"
   ]
  },
  {
   "cell_type": "code",
   "execution_count": 0,
   "metadata": {
    "colab": {},
    "colab_type": "code",
    "id": "6xFvb5sRcihg"
   },
   "outputs": [],
   "source": [
    "iris=pd.read_csv('/content/drive/My Drive/Great Learning Residency 6.2 neural networks/Iris.csv')"
   ]
  },
  {
   "cell_type": "code",
   "execution_count": 78,
   "metadata": {
    "colab": {
     "base_uri": "https://localhost:8080/",
     "height": 204
    },
    "colab_type": "code",
    "id": "T-gtju1ftPdO",
    "outputId": "76d4e02b-cc75-417a-d721-9755a4d1fdd9"
   },
   "outputs": [
    {
     "data": {
      "text/html": [
       "<div>\n",
       "<style scoped>\n",
       "    .dataframe tbody tr th:only-of-type {\n",
       "        vertical-align: middle;\n",
       "    }\n",
       "\n",
       "    .dataframe tbody tr th {\n",
       "        vertical-align: top;\n",
       "    }\n",
       "\n",
       "    .dataframe thead th {\n",
       "        text-align: right;\n",
       "    }\n",
       "</style>\n",
       "<table border=\"1\" class=\"dataframe\">\n",
       "  <thead>\n",
       "    <tr style=\"text-align: right;\">\n",
       "      <th></th>\n",
       "      <th>Id</th>\n",
       "      <th>SepalLengthCm</th>\n",
       "      <th>SepalWidthCm</th>\n",
       "      <th>PetalLengthCm</th>\n",
       "      <th>PetalWidthCm</th>\n",
       "      <th>Species</th>\n",
       "    </tr>\n",
       "  </thead>\n",
       "  <tbody>\n",
       "    <tr>\n",
       "      <th>0</th>\n",
       "      <td>1</td>\n",
       "      <td>5.1</td>\n",
       "      <td>3.5</td>\n",
       "      <td>1.4</td>\n",
       "      <td>0.2</td>\n",
       "      <td>Iris-setosa</td>\n",
       "    </tr>\n",
       "    <tr>\n",
       "      <th>1</th>\n",
       "      <td>2</td>\n",
       "      <td>4.9</td>\n",
       "      <td>3.0</td>\n",
       "      <td>1.4</td>\n",
       "      <td>0.2</td>\n",
       "      <td>Iris-setosa</td>\n",
       "    </tr>\n",
       "    <tr>\n",
       "      <th>2</th>\n",
       "      <td>3</td>\n",
       "      <td>4.7</td>\n",
       "      <td>3.2</td>\n",
       "      <td>1.3</td>\n",
       "      <td>0.2</td>\n",
       "      <td>Iris-setosa</td>\n",
       "    </tr>\n",
       "    <tr>\n",
       "      <th>3</th>\n",
       "      <td>4</td>\n",
       "      <td>4.6</td>\n",
       "      <td>3.1</td>\n",
       "      <td>1.5</td>\n",
       "      <td>0.2</td>\n",
       "      <td>Iris-setosa</td>\n",
       "    </tr>\n",
       "    <tr>\n",
       "      <th>4</th>\n",
       "      <td>5</td>\n",
       "      <td>5.0</td>\n",
       "      <td>3.6</td>\n",
       "      <td>1.4</td>\n",
       "      <td>0.2</td>\n",
       "      <td>Iris-setosa</td>\n",
       "    </tr>\n",
       "  </tbody>\n",
       "</table>\n",
       "</div>"
      ],
      "text/plain": [
       "   Id  SepalLengthCm  SepalWidthCm  PetalLengthCm  PetalWidthCm      Species\n",
       "0   1            5.1           3.5            1.4           0.2  Iris-setosa\n",
       "1   2            4.9           3.0            1.4           0.2  Iris-setosa\n",
       "2   3            4.7           3.2            1.3           0.2  Iris-setosa\n",
       "3   4            4.6           3.1            1.5           0.2  Iris-setosa\n",
       "4   5            5.0           3.6            1.4           0.2  Iris-setosa"
      ]
     },
     "execution_count": 78,
     "metadata": {
      "tags": []
     },
     "output_type": "execute_result"
    }
   ],
   "source": [
    "iris.head()"
   ]
  },
  {
   "cell_type": "markdown",
   "metadata": {
    "colab_type": "text",
    "id": "SAB--Qdwcihm"
   },
   "source": [
    "### Target set has different categories. So, Label encode them. And convert into one-hot vectors using get_dummies in pandas."
   ]
  },
  {
   "cell_type": "code",
   "execution_count": 0,
   "metadata": {
    "colab": {},
    "colab_type": "code",
    "id": "IJr5dYnocihm"
   },
   "outputs": [],
   "source": [
    "iris_df=pd.get_dummies(iris)"
   ]
  },
  {
   "cell_type": "code",
   "execution_count": 80,
   "metadata": {
    "colab": {
     "base_uri": "https://localhost:8080/",
     "height": 359
    },
    "colab_type": "code",
    "id": "0sFe5ViktSyz",
    "outputId": "fe96b5be-6e30-4330-d7f8-ffe7c0c0cf8a"
   },
   "outputs": [
    {
     "data": {
      "text/html": [
       "<div>\n",
       "<style scoped>\n",
       "    .dataframe tbody tr th:only-of-type {\n",
       "        vertical-align: middle;\n",
       "    }\n",
       "\n",
       "    .dataframe tbody tr th {\n",
       "        vertical-align: top;\n",
       "    }\n",
       "\n",
       "    .dataframe thead th {\n",
       "        text-align: right;\n",
       "    }\n",
       "</style>\n",
       "<table border=\"1\" class=\"dataframe\">\n",
       "  <thead>\n",
       "    <tr style=\"text-align: right;\">\n",
       "      <th></th>\n",
       "      <th>Id</th>\n",
       "      <th>SepalLengthCm</th>\n",
       "      <th>SepalWidthCm</th>\n",
       "      <th>PetalLengthCm</th>\n",
       "      <th>PetalWidthCm</th>\n",
       "      <th>Species_Iris-setosa</th>\n",
       "      <th>Species_Iris-versicolor</th>\n",
       "      <th>Species_Iris-virginica</th>\n",
       "    </tr>\n",
       "  </thead>\n",
       "  <tbody>\n",
       "    <tr>\n",
       "      <th>0</th>\n",
       "      <td>1</td>\n",
       "      <td>5.1</td>\n",
       "      <td>3.5</td>\n",
       "      <td>1.4</td>\n",
       "      <td>0.2</td>\n",
       "      <td>1</td>\n",
       "      <td>0</td>\n",
       "      <td>0</td>\n",
       "    </tr>\n",
       "    <tr>\n",
       "      <th>1</th>\n",
       "      <td>2</td>\n",
       "      <td>4.9</td>\n",
       "      <td>3.0</td>\n",
       "      <td>1.4</td>\n",
       "      <td>0.2</td>\n",
       "      <td>1</td>\n",
       "      <td>0</td>\n",
       "      <td>0</td>\n",
       "    </tr>\n",
       "    <tr>\n",
       "      <th>2</th>\n",
       "      <td>3</td>\n",
       "      <td>4.7</td>\n",
       "      <td>3.2</td>\n",
       "      <td>1.3</td>\n",
       "      <td>0.2</td>\n",
       "      <td>1</td>\n",
       "      <td>0</td>\n",
       "      <td>0</td>\n",
       "    </tr>\n",
       "    <tr>\n",
       "      <th>3</th>\n",
       "      <td>4</td>\n",
       "      <td>4.6</td>\n",
       "      <td>3.1</td>\n",
       "      <td>1.5</td>\n",
       "      <td>0.2</td>\n",
       "      <td>1</td>\n",
       "      <td>0</td>\n",
       "      <td>0</td>\n",
       "    </tr>\n",
       "    <tr>\n",
       "      <th>4</th>\n",
       "      <td>5</td>\n",
       "      <td>5.0</td>\n",
       "      <td>3.6</td>\n",
       "      <td>1.4</td>\n",
       "      <td>0.2</td>\n",
       "      <td>1</td>\n",
       "      <td>0</td>\n",
       "      <td>0</td>\n",
       "    </tr>\n",
       "    <tr>\n",
       "      <th>5</th>\n",
       "      <td>6</td>\n",
       "      <td>5.4</td>\n",
       "      <td>3.9</td>\n",
       "      <td>1.7</td>\n",
       "      <td>0.4</td>\n",
       "      <td>1</td>\n",
       "      <td>0</td>\n",
       "      <td>0</td>\n",
       "    </tr>\n",
       "    <tr>\n",
       "      <th>6</th>\n",
       "      <td>7</td>\n",
       "      <td>4.6</td>\n",
       "      <td>3.4</td>\n",
       "      <td>1.4</td>\n",
       "      <td>0.3</td>\n",
       "      <td>1</td>\n",
       "      <td>0</td>\n",
       "      <td>0</td>\n",
       "    </tr>\n",
       "    <tr>\n",
       "      <th>7</th>\n",
       "      <td>8</td>\n",
       "      <td>5.0</td>\n",
       "      <td>3.4</td>\n",
       "      <td>1.5</td>\n",
       "      <td>0.2</td>\n",
       "      <td>1</td>\n",
       "      <td>0</td>\n",
       "      <td>0</td>\n",
       "    </tr>\n",
       "    <tr>\n",
       "      <th>8</th>\n",
       "      <td>9</td>\n",
       "      <td>4.4</td>\n",
       "      <td>2.9</td>\n",
       "      <td>1.4</td>\n",
       "      <td>0.2</td>\n",
       "      <td>1</td>\n",
       "      <td>0</td>\n",
       "      <td>0</td>\n",
       "    </tr>\n",
       "    <tr>\n",
       "      <th>9</th>\n",
       "      <td>10</td>\n",
       "      <td>4.9</td>\n",
       "      <td>3.1</td>\n",
       "      <td>1.5</td>\n",
       "      <td>0.1</td>\n",
       "      <td>1</td>\n",
       "      <td>0</td>\n",
       "      <td>0</td>\n",
       "    </tr>\n",
       "  </tbody>\n",
       "</table>\n",
       "</div>"
      ],
      "text/plain": [
       "   Id  SepalLengthCm  ...  Species_Iris-versicolor  Species_Iris-virginica\n",
       "0   1            5.1  ...                        0                       0\n",
       "1   2            4.9  ...                        0                       0\n",
       "2   3            4.7  ...                        0                       0\n",
       "3   4            4.6  ...                        0                       0\n",
       "4   5            5.0  ...                        0                       0\n",
       "5   6            5.4  ...                        0                       0\n",
       "6   7            4.6  ...                        0                       0\n",
       "7   8            5.0  ...                        0                       0\n",
       "8   9            4.4  ...                        0                       0\n",
       "9  10            4.9  ...                        0                       0\n",
       "\n",
       "[10 rows x 8 columns]"
      ]
     },
     "execution_count": 80,
     "metadata": {
      "tags": []
     },
     "output_type": "execute_result"
    }
   ],
   "source": [
    "iris_df.head(10)"
   ]
  },
  {
   "cell_type": "markdown",
   "metadata": {
    "colab_type": "text",
    "id": "D95nY5ILcihj"
   },
   "source": [
    "### Splitting the data into feature set and target set"
   ]
  },
  {
   "cell_type": "code",
   "execution_count": 0,
   "metadata": {
    "colab": {},
    "colab_type": "code",
    "id": "D6I9jNo_0ZZd"
   },
   "outputs": [],
   "source": [
    "x=iris_df.drop(['Id','Species_Iris-setosa','Species_Iris-versicolor','Species_Iris-virginica'], axis = 1)\n",
    "y=iris_df.iloc[0:,5:]"
   ]
  },
  {
   "cell_type": "code",
   "execution_count": 105,
   "metadata": {
    "colab": {
     "base_uri": "https://localhost:8080/",
     "height": 419
    },
    "colab_type": "code",
    "id": "5IC1LJqc67Km",
    "outputId": "084abc9b-785d-43fc-823b-bff583717436"
   },
   "outputs": [
    {
     "data": {
      "text/html": [
       "<div>\n",
       "<style scoped>\n",
       "    .dataframe tbody tr th:only-of-type {\n",
       "        vertical-align: middle;\n",
       "    }\n",
       "\n",
       "    .dataframe tbody tr th {\n",
       "        vertical-align: top;\n",
       "    }\n",
       "\n",
       "    .dataframe thead th {\n",
       "        text-align: right;\n",
       "    }\n",
       "</style>\n",
       "<table border=\"1\" class=\"dataframe\">\n",
       "  <thead>\n",
       "    <tr style=\"text-align: right;\">\n",
       "      <th></th>\n",
       "      <th>SepalLengthCm</th>\n",
       "      <th>SepalWidthCm</th>\n",
       "      <th>PetalLengthCm</th>\n",
       "      <th>PetalWidthCm</th>\n",
       "    </tr>\n",
       "  </thead>\n",
       "  <tbody>\n",
       "    <tr>\n",
       "      <th>0</th>\n",
       "      <td>5.1</td>\n",
       "      <td>3.5</td>\n",
       "      <td>1.4</td>\n",
       "      <td>0.2</td>\n",
       "    </tr>\n",
       "    <tr>\n",
       "      <th>1</th>\n",
       "      <td>4.9</td>\n",
       "      <td>3.0</td>\n",
       "      <td>1.4</td>\n",
       "      <td>0.2</td>\n",
       "    </tr>\n",
       "    <tr>\n",
       "      <th>2</th>\n",
       "      <td>4.7</td>\n",
       "      <td>3.2</td>\n",
       "      <td>1.3</td>\n",
       "      <td>0.2</td>\n",
       "    </tr>\n",
       "    <tr>\n",
       "      <th>3</th>\n",
       "      <td>4.6</td>\n",
       "      <td>3.1</td>\n",
       "      <td>1.5</td>\n",
       "      <td>0.2</td>\n",
       "    </tr>\n",
       "    <tr>\n",
       "      <th>4</th>\n",
       "      <td>5.0</td>\n",
       "      <td>3.6</td>\n",
       "      <td>1.4</td>\n",
       "      <td>0.2</td>\n",
       "    </tr>\n",
       "    <tr>\n",
       "      <th>...</th>\n",
       "      <td>...</td>\n",
       "      <td>...</td>\n",
       "      <td>...</td>\n",
       "      <td>...</td>\n",
       "    </tr>\n",
       "    <tr>\n",
       "      <th>145</th>\n",
       "      <td>6.7</td>\n",
       "      <td>3.0</td>\n",
       "      <td>5.2</td>\n",
       "      <td>2.3</td>\n",
       "    </tr>\n",
       "    <tr>\n",
       "      <th>146</th>\n",
       "      <td>6.3</td>\n",
       "      <td>2.5</td>\n",
       "      <td>5.0</td>\n",
       "      <td>1.9</td>\n",
       "    </tr>\n",
       "    <tr>\n",
       "      <th>147</th>\n",
       "      <td>6.5</td>\n",
       "      <td>3.0</td>\n",
       "      <td>5.2</td>\n",
       "      <td>2.0</td>\n",
       "    </tr>\n",
       "    <tr>\n",
       "      <th>148</th>\n",
       "      <td>6.2</td>\n",
       "      <td>3.4</td>\n",
       "      <td>5.4</td>\n",
       "      <td>2.3</td>\n",
       "    </tr>\n",
       "    <tr>\n",
       "      <th>149</th>\n",
       "      <td>5.9</td>\n",
       "      <td>3.0</td>\n",
       "      <td>5.1</td>\n",
       "      <td>1.8</td>\n",
       "    </tr>\n",
       "  </tbody>\n",
       "</table>\n",
       "<p>150 rows × 4 columns</p>\n",
       "</div>"
      ],
      "text/plain": [
       "     SepalLengthCm  SepalWidthCm  PetalLengthCm  PetalWidthCm\n",
       "0              5.1           3.5            1.4           0.2\n",
       "1              4.9           3.0            1.4           0.2\n",
       "2              4.7           3.2            1.3           0.2\n",
       "3              4.6           3.1            1.5           0.2\n",
       "4              5.0           3.6            1.4           0.2\n",
       "..             ...           ...            ...           ...\n",
       "145            6.7           3.0            5.2           2.3\n",
       "146            6.3           2.5            5.0           1.9\n",
       "147            6.5           3.0            5.2           2.0\n",
       "148            6.2           3.4            5.4           2.3\n",
       "149            5.9           3.0            5.1           1.8\n",
       "\n",
       "[150 rows x 4 columns]"
      ]
     },
     "execution_count": 105,
     "metadata": {
      "tags": []
     },
     "output_type": "execute_result"
    }
   ],
   "source": [
    "x"
   ]
  },
  {
   "cell_type": "code",
   "execution_count": 106,
   "metadata": {
    "colab": {
     "base_uri": "https://localhost:8080/",
     "height": 419
    },
    "colab_type": "code",
    "id": "Dnlxeemf32ss",
    "outputId": "667a6a04-5002-40b4-dacf-a92ad17bea27"
   },
   "outputs": [
    {
     "data": {
      "text/html": [
       "<div>\n",
       "<style scoped>\n",
       "    .dataframe tbody tr th:only-of-type {\n",
       "        vertical-align: middle;\n",
       "    }\n",
       "\n",
       "    .dataframe tbody tr th {\n",
       "        vertical-align: top;\n",
       "    }\n",
       "\n",
       "    .dataframe thead th {\n",
       "        text-align: right;\n",
       "    }\n",
       "</style>\n",
       "<table border=\"1\" class=\"dataframe\">\n",
       "  <thead>\n",
       "    <tr style=\"text-align: right;\">\n",
       "      <th></th>\n",
       "      <th>Species_Iris-setosa</th>\n",
       "      <th>Species_Iris-versicolor</th>\n",
       "      <th>Species_Iris-virginica</th>\n",
       "    </tr>\n",
       "  </thead>\n",
       "  <tbody>\n",
       "    <tr>\n",
       "      <th>0</th>\n",
       "      <td>1</td>\n",
       "      <td>0</td>\n",
       "      <td>0</td>\n",
       "    </tr>\n",
       "    <tr>\n",
       "      <th>1</th>\n",
       "      <td>1</td>\n",
       "      <td>0</td>\n",
       "      <td>0</td>\n",
       "    </tr>\n",
       "    <tr>\n",
       "      <th>2</th>\n",
       "      <td>1</td>\n",
       "      <td>0</td>\n",
       "      <td>0</td>\n",
       "    </tr>\n",
       "    <tr>\n",
       "      <th>3</th>\n",
       "      <td>1</td>\n",
       "      <td>0</td>\n",
       "      <td>0</td>\n",
       "    </tr>\n",
       "    <tr>\n",
       "      <th>4</th>\n",
       "      <td>1</td>\n",
       "      <td>0</td>\n",
       "      <td>0</td>\n",
       "    </tr>\n",
       "    <tr>\n",
       "      <th>...</th>\n",
       "      <td>...</td>\n",
       "      <td>...</td>\n",
       "      <td>...</td>\n",
       "    </tr>\n",
       "    <tr>\n",
       "      <th>145</th>\n",
       "      <td>0</td>\n",
       "      <td>0</td>\n",
       "      <td>1</td>\n",
       "    </tr>\n",
       "    <tr>\n",
       "      <th>146</th>\n",
       "      <td>0</td>\n",
       "      <td>0</td>\n",
       "      <td>1</td>\n",
       "    </tr>\n",
       "    <tr>\n",
       "      <th>147</th>\n",
       "      <td>0</td>\n",
       "      <td>0</td>\n",
       "      <td>1</td>\n",
       "    </tr>\n",
       "    <tr>\n",
       "      <th>148</th>\n",
       "      <td>0</td>\n",
       "      <td>0</td>\n",
       "      <td>1</td>\n",
       "    </tr>\n",
       "    <tr>\n",
       "      <th>149</th>\n",
       "      <td>0</td>\n",
       "      <td>0</td>\n",
       "      <td>1</td>\n",
       "    </tr>\n",
       "  </tbody>\n",
       "</table>\n",
       "<p>150 rows × 3 columns</p>\n",
       "</div>"
      ],
      "text/plain": [
       "     Species_Iris-setosa  Species_Iris-versicolor  Species_Iris-virginica\n",
       "0                      1                        0                       0\n",
       "1                      1                        0                       0\n",
       "2                      1                        0                       0\n",
       "3                      1                        0                       0\n",
       "4                      1                        0                       0\n",
       "..                   ...                      ...                     ...\n",
       "145                    0                        0                       1\n",
       "146                    0                        0                       1\n",
       "147                    0                        0                       1\n",
       "148                    0                        0                       1\n",
       "149                    0                        0                       1\n",
       "\n",
       "[150 rows x 3 columns]"
      ]
     },
     "execution_count": 106,
     "metadata": {
      "tags": []
     },
     "output_type": "execute_result"
    }
   ],
   "source": [
    "y"
   ]
  },
  {
   "cell_type": "code",
   "execution_count": 0,
   "metadata": {
    "colab": {},
    "colab_type": "code",
    "id": "RyMQoLMucihj"
   },
   "outputs": [],
   "source": [
    "X_train, X_test, y_train, y_test = train_test_split(x, y, test_size=0.30, random_state=1)"
   ]
  },
  {
   "cell_type": "markdown",
   "metadata": {
    "colab_type": "text",
    "id": "b22qpC5xcihr"
   },
   "source": [
    "###  Building Model in tf.keras\n",
    "\n",
    "Build a Linear Classifier model  <br>\n",
    "1.  Use Dense Layer  with input shape of 4 (according to the feature set) and number of outputs set to 3<br> \n",
    "2. Apply Softmax on Dense Layer outputs <br>\n",
    "3. Use SGD as Optimizer\n",
    "4. Use categorical_crossentropy as loss function "
   ]
  },
  {
   "cell_type": "code",
   "execution_count": 0,
   "metadata": {
    "colab": {},
    "colab_type": "code",
    "id": "Hov_UFnUciht"
   },
   "outputs": [],
   "source": [
    "#Initialize Sequential model\n",
    "model = tf.keras.models.Sequential()\n",
    "#Add Dense layer for prediction - Keras declares weights and bias automatically\n",
    "model.add(tf.keras.layers.Dense(1, input_shape=(4,)))\n",
    "\n",
    "#Normalize the data\n",
    "model.add(tf.keras.layers.BatchNormalization())\n",
    "\n",
    "#Add Dense Layer which provides 3 Outputs after applying softmax\n",
    "model.add(tf.keras.layers.Dense(3, activation='softmax'))\n",
    "\n",
    "#Comile the model\n",
    "model.compile(optimizer='sgd', loss='categorical_crossentropy', \n",
    "              metrics=['accuracy'])\n",
    "\n"
   ]
  },
  {
   "cell_type": "markdown",
   "metadata": {
    "colab_type": "text",
    "id": "T5FdzqIKcihw"
   },
   "source": [
    "### Model Training "
   ]
  },
  {
   "cell_type": "code",
   "execution_count": 117,
   "metadata": {
    "colab": {
     "base_uri": "https://localhost:8080/",
     "height": 1000
    },
    "colab_type": "code",
    "id": "4qLEdHPscihx",
    "outputId": "587a63f7-4c8a-4bb9-d04c-73cc994ab1de"
   },
   "outputs": [
    {
     "name": "stdout",
     "output_type": "stream",
     "text": [
      "WARNING:tensorflow:Falling back from v2 loop because of error: Failed to find data adapter that can handle input: <class 'pandas.core.frame.DataFrame'>, <class 'NoneType'>\n",
      "Train on 105 samples, validate on 45 samples\n",
      "Epoch 1/100\n",
      "105/105 [==============================] - 0s 950us/sample - loss: 0.4903 - accuracy: 0.7524 - val_loss: 0.5542 - val_accuracy: 0.7111\n",
      "Epoch 2/100\n",
      "105/105 [==============================] - 0s 56us/sample - loss: 0.4898 - accuracy: 0.7524 - val_loss: 0.5537 - val_accuracy: 0.7111\n",
      "Epoch 3/100\n",
      "105/105 [==============================] - 0s 45us/sample - loss: 0.4893 - accuracy: 0.7524 - val_loss: 0.5531 - val_accuracy: 0.7111\n",
      "Epoch 4/100\n",
      "105/105 [==============================] - 0s 63us/sample - loss: 0.4888 - accuracy: 0.7524 - val_loss: 0.5526 - val_accuracy: 0.7111\n",
      "Epoch 5/100\n",
      "105/105 [==============================] - 0s 46us/sample - loss: 0.4884 - accuracy: 0.7524 - val_loss: 0.5521 - val_accuracy: 0.7111\n",
      "Epoch 6/100\n",
      "105/105 [==============================] - 0s 43us/sample - loss: 0.4879 - accuracy: 0.7524 - val_loss: 0.5516 - val_accuracy: 0.7111\n",
      "Epoch 7/100\n",
      "105/105 [==============================] - 0s 38us/sample - loss: 0.4874 - accuracy: 0.7524 - val_loss: 0.5510 - val_accuracy: 0.7111\n",
      "Epoch 8/100\n",
      "105/105 [==============================] - 0s 47us/sample - loss: 0.4869 - accuracy: 0.7524 - val_loss: 0.5505 - val_accuracy: 0.7111\n",
      "Epoch 9/100\n",
      "105/105 [==============================] - 0s 40us/sample - loss: 0.4864 - accuracy: 0.7524 - val_loss: 0.5500 - val_accuracy: 0.7111\n",
      "Epoch 10/100\n",
      "105/105 [==============================] - 0s 35us/sample - loss: 0.4859 - accuracy: 0.7619 - val_loss: 0.5495 - val_accuracy: 0.7111\n",
      "Epoch 11/100\n",
      "105/105 [==============================] - 0s 46us/sample - loss: 0.4855 - accuracy: 0.7619 - val_loss: 0.5490 - val_accuracy: 0.7111\n",
      "Epoch 12/100\n",
      "105/105 [==============================] - 0s 40us/sample - loss: 0.4850 - accuracy: 0.7714 - val_loss: 0.5484 - val_accuracy: 0.7111\n",
      "Epoch 13/100\n",
      "105/105 [==============================] - 0s 65us/sample - loss: 0.4845 - accuracy: 0.7714 - val_loss: 0.5479 - val_accuracy: 0.7111\n",
      "Epoch 14/100\n",
      "105/105 [==============================] - 0s 39us/sample - loss: 0.4840 - accuracy: 0.7714 - val_loss: 0.5474 - val_accuracy: 0.7111\n",
      "Epoch 15/100\n",
      "105/105 [==============================] - 0s 62us/sample - loss: 0.4836 - accuracy: 0.7714 - val_loss: 0.5469 - val_accuracy: 0.7111\n",
      "Epoch 16/100\n",
      "105/105 [==============================] - 0s 48us/sample - loss: 0.4831 - accuracy: 0.7714 - val_loss: 0.5464 - val_accuracy: 0.7111\n",
      "Epoch 17/100\n",
      "105/105 [==============================] - 0s 65us/sample - loss: 0.4826 - accuracy: 0.7714 - val_loss: 0.5459 - val_accuracy: 0.7111\n",
      "Epoch 18/100\n",
      "105/105 [==============================] - 0s 52us/sample - loss: 0.4822 - accuracy: 0.7810 - val_loss: 0.5454 - val_accuracy: 0.7111\n",
      "Epoch 19/100\n",
      "105/105 [==============================] - 0s 66us/sample - loss: 0.4817 - accuracy: 0.7810 - val_loss: 0.5449 - val_accuracy: 0.7111\n",
      "Epoch 20/100\n",
      "105/105 [==============================] - 0s 57us/sample - loss: 0.4812 - accuracy: 0.7810 - val_loss: 0.5444 - val_accuracy: 0.7111\n",
      "Epoch 21/100\n",
      "105/105 [==============================] - 0s 41us/sample - loss: 0.4808 - accuracy: 0.7810 - val_loss: 0.5439 - val_accuracy: 0.7111\n",
      "Epoch 22/100\n",
      "105/105 [==============================] - 0s 62us/sample - loss: 0.4803 - accuracy: 0.7810 - val_loss: 0.5434 - val_accuracy: 0.7111\n",
      "Epoch 23/100\n",
      "105/105 [==============================] - 0s 50us/sample - loss: 0.4799 - accuracy: 0.7810 - val_loss: 0.5429 - val_accuracy: 0.7111\n",
      "Epoch 24/100\n",
      "105/105 [==============================] - 0s 42us/sample - loss: 0.4794 - accuracy: 0.7810 - val_loss: 0.5425 - val_accuracy: 0.7111\n",
      "Epoch 25/100\n",
      "105/105 [==============================] - 0s 47us/sample - loss: 0.4789 - accuracy: 0.7810 - val_loss: 0.5420 - val_accuracy: 0.7111\n",
      "Epoch 26/100\n",
      "105/105 [==============================] - 0s 76us/sample - loss: 0.4785 - accuracy: 0.7810 - val_loss: 0.5415 - val_accuracy: 0.7111\n",
      "Epoch 27/100\n",
      "105/105 [==============================] - 0s 65us/sample - loss: 0.4780 - accuracy: 0.7810 - val_loss: 0.5410 - val_accuracy: 0.7111\n",
      "Epoch 28/100\n",
      "105/105 [==============================] - 0s 59us/sample - loss: 0.4776 - accuracy: 0.7810 - val_loss: 0.5405 - val_accuracy: 0.7111\n",
      "Epoch 29/100\n",
      "105/105 [==============================] - 0s 66us/sample - loss: 0.4771 - accuracy: 0.7810 - val_loss: 0.5400 - val_accuracy: 0.7111\n",
      "Epoch 30/100\n",
      "105/105 [==============================] - 0s 78us/sample - loss: 0.4767 - accuracy: 0.7810 - val_loss: 0.5396 - val_accuracy: 0.7111\n",
      "Epoch 31/100\n",
      "105/105 [==============================] - 0s 78us/sample - loss: 0.4762 - accuracy: 0.7810 - val_loss: 0.5391 - val_accuracy: 0.7111\n",
      "Epoch 32/100\n",
      "105/105 [==============================] - 0s 68us/sample - loss: 0.4758 - accuracy: 0.7810 - val_loss: 0.5386 - val_accuracy: 0.7111\n",
      "Epoch 33/100\n",
      "105/105 [==============================] - 0s 74us/sample - loss: 0.4753 - accuracy: 0.7810 - val_loss: 0.5381 - val_accuracy: 0.7111\n",
      "Epoch 34/100\n",
      "105/105 [==============================] - 0s 65us/sample - loss: 0.4749 - accuracy: 0.7810 - val_loss: 0.5377 - val_accuracy: 0.7111\n",
      "Epoch 35/100\n",
      "105/105 [==============================] - 0s 72us/sample - loss: 0.4745 - accuracy: 0.7810 - val_loss: 0.5372 - val_accuracy: 0.7111\n",
      "Epoch 36/100\n",
      "105/105 [==============================] - 0s 39us/sample - loss: 0.4740 - accuracy: 0.7810 - val_loss: 0.5367 - val_accuracy: 0.7111\n",
      "Epoch 37/100\n",
      "105/105 [==============================] - 0s 46us/sample - loss: 0.4736 - accuracy: 0.7810 - val_loss: 0.5363 - val_accuracy: 0.7111\n",
      "Epoch 38/100\n",
      "105/105 [==============================] - 0s 64us/sample - loss: 0.4731 - accuracy: 0.7810 - val_loss: 0.5358 - val_accuracy: 0.7111\n",
      "Epoch 39/100\n",
      "105/105 [==============================] - 0s 82us/sample - loss: 0.4727 - accuracy: 0.7810 - val_loss: 0.5354 - val_accuracy: 0.7111\n",
      "Epoch 40/100\n",
      "105/105 [==============================] - 0s 88us/sample - loss: 0.4723 - accuracy: 0.7810 - val_loss: 0.5349 - val_accuracy: 0.7111\n",
      "Epoch 41/100\n",
      "105/105 [==============================] - 0s 49us/sample - loss: 0.4718 - accuracy: 0.7810 - val_loss: 0.5344 - val_accuracy: 0.7111\n",
      "Epoch 42/100\n",
      "105/105 [==============================] - 0s 66us/sample - loss: 0.4714 - accuracy: 0.7905 - val_loss: 0.5340 - val_accuracy: 0.7111\n",
      "Epoch 43/100\n",
      "105/105 [==============================] - 0s 75us/sample - loss: 0.4710 - accuracy: 0.7905 - val_loss: 0.5335 - val_accuracy: 0.7111\n",
      "Epoch 44/100\n",
      "105/105 [==============================] - 0s 78us/sample - loss: 0.4706 - accuracy: 0.7905 - val_loss: 0.5331 - val_accuracy: 0.7111\n",
      "Epoch 45/100\n",
      "105/105 [==============================] - 0s 70us/sample - loss: 0.4701 - accuracy: 0.7905 - val_loss: 0.5326 - val_accuracy: 0.7111\n",
      "Epoch 46/100\n",
      "105/105 [==============================] - 0s 68us/sample - loss: 0.4697 - accuracy: 0.7905 - val_loss: 0.5322 - val_accuracy: 0.7111\n",
      "Epoch 47/100\n",
      "105/105 [==============================] - 0s 58us/sample - loss: 0.4693 - accuracy: 0.7905 - val_loss: 0.5317 - val_accuracy: 0.7111\n",
      "Epoch 48/100\n",
      "105/105 [==============================] - 0s 60us/sample - loss: 0.4689 - accuracy: 0.7905 - val_loss: 0.5313 - val_accuracy: 0.7111\n",
      "Epoch 49/100\n",
      "105/105 [==============================] - 0s 76us/sample - loss: 0.4684 - accuracy: 0.7905 - val_loss: 0.5308 - val_accuracy: 0.7111\n",
      "Epoch 50/100\n",
      "105/105 [==============================] - 0s 72us/sample - loss: 0.4680 - accuracy: 0.7905 - val_loss: 0.5304 - val_accuracy: 0.7111\n",
      "Epoch 51/100\n",
      "105/105 [==============================] - 0s 64us/sample - loss: 0.4676 - accuracy: 0.7905 - val_loss: 0.5299 - val_accuracy: 0.7111\n",
      "Epoch 52/100\n",
      "105/105 [==============================] - 0s 65us/sample - loss: 0.4672 - accuracy: 0.7905 - val_loss: 0.5295 - val_accuracy: 0.7111\n",
      "Epoch 53/100\n",
      "105/105 [==============================] - 0s 79us/sample - loss: 0.4668 - accuracy: 0.7905 - val_loss: 0.5290 - val_accuracy: 0.7111\n",
      "Epoch 54/100\n",
      "105/105 [==============================] - 0s 77us/sample - loss: 0.4663 - accuracy: 0.7905 - val_loss: 0.5286 - val_accuracy: 0.7111\n",
      "Epoch 55/100\n",
      "105/105 [==============================] - 0s 60us/sample - loss: 0.4659 - accuracy: 0.7905 - val_loss: 0.5282 - val_accuracy: 0.7111\n",
      "Epoch 56/100\n",
      "105/105 [==============================] - 0s 65us/sample - loss: 0.4655 - accuracy: 0.7905 - val_loss: 0.5277 - val_accuracy: 0.7111\n",
      "Epoch 57/100\n",
      "105/105 [==============================] - 0s 89us/sample - loss: 0.4651 - accuracy: 0.7905 - val_loss: 0.5273 - val_accuracy: 0.7111\n",
      "Epoch 58/100\n",
      "105/105 [==============================] - 0s 97us/sample - loss: 0.4647 - accuracy: 0.7905 - val_loss: 0.5269 - val_accuracy: 0.7111\n",
      "Epoch 59/100\n",
      "105/105 [==============================] - 0s 79us/sample - loss: 0.4643 - accuracy: 0.7905 - val_loss: 0.5264 - val_accuracy: 0.7111\n",
      "Epoch 60/100\n",
      "105/105 [==============================] - 0s 55us/sample - loss: 0.4639 - accuracy: 0.7905 - val_loss: 0.5260 - val_accuracy: 0.7111\n",
      "Epoch 61/100\n",
      "105/105 [==============================] - 0s 48us/sample - loss: 0.4635 - accuracy: 0.7905 - val_loss: 0.5256 - val_accuracy: 0.7111\n",
      "Epoch 62/100\n",
      "105/105 [==============================] - 0s 69us/sample - loss: 0.4631 - accuracy: 0.7905 - val_loss: 0.5251 - val_accuracy: 0.7111\n",
      "Epoch 63/100\n",
      "105/105 [==============================] - 0s 42us/sample - loss: 0.4626 - accuracy: 0.7905 - val_loss: 0.5247 - val_accuracy: 0.7111\n",
      "Epoch 64/100\n",
      "105/105 [==============================] - 0s 50us/sample - loss: 0.4622 - accuracy: 0.7905 - val_loss: 0.5243 - val_accuracy: 0.7111\n",
      "Epoch 65/100\n",
      "105/105 [==============================] - 0s 98us/sample - loss: 0.4618 - accuracy: 0.7905 - val_loss: 0.5239 - val_accuracy: 0.7111\n",
      "Epoch 66/100\n",
      "105/105 [==============================] - 0s 70us/sample - loss: 0.4614 - accuracy: 0.7905 - val_loss: 0.5234 - val_accuracy: 0.7111\n",
      "Epoch 67/100\n",
      "105/105 [==============================] - 0s 72us/sample - loss: 0.4610 - accuracy: 0.7905 - val_loss: 0.5230 - val_accuracy: 0.7111\n",
      "Epoch 68/100\n",
      "105/105 [==============================] - 0s 66us/sample - loss: 0.4606 - accuracy: 0.7905 - val_loss: 0.5226 - val_accuracy: 0.7333\n",
      "Epoch 69/100\n",
      "105/105 [==============================] - 0s 76us/sample - loss: 0.4602 - accuracy: 0.7905 - val_loss: 0.5222 - val_accuracy: 0.7333\n",
      "Epoch 70/100\n",
      "105/105 [==============================] - 0s 77us/sample - loss: 0.4598 - accuracy: 0.7905 - val_loss: 0.5217 - val_accuracy: 0.7333\n",
      "Epoch 71/100\n",
      "105/105 [==============================] - 0s 74us/sample - loss: 0.4594 - accuracy: 0.7905 - val_loss: 0.5213 - val_accuracy: 0.7333\n",
      "Epoch 72/100\n",
      "105/105 [==============================] - 0s 71us/sample - loss: 0.4591 - accuracy: 0.7905 - val_loss: 0.5209 - val_accuracy: 0.7333\n",
      "Epoch 73/100\n",
      "105/105 [==============================] - 0s 68us/sample - loss: 0.4587 - accuracy: 0.7905 - val_loss: 0.5205 - val_accuracy: 0.7333\n",
      "Epoch 74/100\n",
      "105/105 [==============================] - 0s 45us/sample - loss: 0.4583 - accuracy: 0.7905 - val_loss: 0.5201 - val_accuracy: 0.7333\n",
      "Epoch 75/100\n",
      "105/105 [==============================] - 0s 79us/sample - loss: 0.4579 - accuracy: 0.7905 - val_loss: 0.5197 - val_accuracy: 0.7333\n",
      "Epoch 76/100\n",
      "105/105 [==============================] - 0s 39us/sample - loss: 0.4575 - accuracy: 0.7905 - val_loss: 0.5193 - val_accuracy: 0.7333\n",
      "Epoch 77/100\n",
      "105/105 [==============================] - 0s 40us/sample - loss: 0.4571 - accuracy: 0.7905 - val_loss: 0.5188 - val_accuracy: 0.7333\n",
      "Epoch 78/100\n",
      "105/105 [==============================] - 0s 63us/sample - loss: 0.4567 - accuracy: 0.7905 - val_loss: 0.5184 - val_accuracy: 0.7333\n",
      "Epoch 79/100\n",
      "105/105 [==============================] - 0s 59us/sample - loss: 0.4563 - accuracy: 0.7905 - val_loss: 0.5180 - val_accuracy: 0.7333\n",
      "Epoch 80/100\n",
      "105/105 [==============================] - 0s 62us/sample - loss: 0.4559 - accuracy: 0.7905 - val_loss: 0.5176 - val_accuracy: 0.7333\n",
      "Epoch 81/100\n",
      "105/105 [==============================] - 0s 52us/sample - loss: 0.4556 - accuracy: 0.7905 - val_loss: 0.5172 - val_accuracy: 0.7333\n",
      "Epoch 82/100\n",
      "105/105 [==============================] - 0s 90us/sample - loss: 0.4552 - accuracy: 0.7905 - val_loss: 0.5168 - val_accuracy: 0.7333\n",
      "Epoch 83/100\n",
      "105/105 [==============================] - 0s 68us/sample - loss: 0.4548 - accuracy: 0.7905 - val_loss: 0.5164 - val_accuracy: 0.7333\n",
      "Epoch 84/100\n",
      "105/105 [==============================] - 0s 52us/sample - loss: 0.4544 - accuracy: 0.7905 - val_loss: 0.5160 - val_accuracy: 0.7333\n",
      "Epoch 85/100\n",
      "105/105 [==============================] - 0s 77us/sample - loss: 0.4540 - accuracy: 0.7905 - val_loss: 0.5156 - val_accuracy: 0.7333\n",
      "Epoch 86/100\n",
      "105/105 [==============================] - 0s 74us/sample - loss: 0.4536 - accuracy: 0.7905 - val_loss: 0.5152 - val_accuracy: 0.7333\n",
      "Epoch 87/100\n",
      "105/105 [==============================] - 0s 69us/sample - loss: 0.4533 - accuracy: 0.7905 - val_loss: 0.5148 - val_accuracy: 0.7333\n",
      "Epoch 88/100\n",
      "105/105 [==============================] - 0s 66us/sample - loss: 0.4529 - accuracy: 0.7905 - val_loss: 0.5144 - val_accuracy: 0.7333\n",
      "Epoch 89/100\n",
      "105/105 [==============================] - 0s 73us/sample - loss: 0.4525 - accuracy: 0.7905 - val_loss: 0.5140 - val_accuracy: 0.7333\n",
      "Epoch 90/100\n",
      "105/105 [==============================] - 0s 71us/sample - loss: 0.4521 - accuracy: 0.7905 - val_loss: 0.5136 - val_accuracy: 0.7333\n",
      "Epoch 91/100\n",
      "105/105 [==============================] - 0s 80us/sample - loss: 0.4518 - accuracy: 0.7905 - val_loss: 0.5132 - val_accuracy: 0.7333\n",
      "Epoch 92/100\n",
      "105/105 [==============================] - 0s 75us/sample - loss: 0.4514 - accuracy: 0.7905 - val_loss: 0.5128 - val_accuracy: 0.7333\n",
      "Epoch 93/100\n",
      "105/105 [==============================] - 0s 67us/sample - loss: 0.4510 - accuracy: 0.7905 - val_loss: 0.5124 - val_accuracy: 0.7333\n",
      "Epoch 94/100\n",
      "105/105 [==============================] - 0s 78us/sample - loss: 0.4506 - accuracy: 0.7905 - val_loss: 0.5120 - val_accuracy: 0.7333\n",
      "Epoch 95/100\n",
      "105/105 [==============================] - 0s 81us/sample - loss: 0.4503 - accuracy: 0.7905 - val_loss: 0.5116 - val_accuracy: 0.7333\n",
      "Epoch 96/100\n",
      "105/105 [==============================] - 0s 59us/sample - loss: 0.4499 - accuracy: 0.7905 - val_loss: 0.5112 - val_accuracy: 0.7333\n",
      "Epoch 97/100\n",
      "105/105 [==============================] - 0s 42us/sample - loss: 0.4495 - accuracy: 0.7905 - val_loss: 0.5109 - val_accuracy: 0.7333\n",
      "Epoch 98/100\n",
      "105/105 [==============================] - 0s 53us/sample - loss: 0.4492 - accuracy: 0.7905 - val_loss: 0.5105 - val_accuracy: 0.7333\n",
      "Epoch 99/100\n",
      "105/105 [==============================] - 0s 48us/sample - loss: 0.4488 - accuracy: 0.7905 - val_loss: 0.5101 - val_accuracy: 0.7333\n",
      "Epoch 100/100\n",
      "105/105 [==============================] - 0s 41us/sample - loss: 0.4484 - accuracy: 0.7905 - val_loss: 0.5097 - val_accuracy: 0.7333\n"
     ]
    },
    {
     "data": {
      "text/plain": [
       "<tensorflow.python.keras.callbacks.History at 0x7f873300bcf8>"
      ]
     },
     "execution_count": 117,
     "metadata": {
      "tags": []
     },
     "output_type": "execute_result"
    }
   ],
   "source": [
    "model.fit(X_train, y_train, \n",
    "          validation_data=(X_test, y_test), \n",
    "          epochs=100,\n",
    "          batch_size=X_train.shape[0])"
   ]
  },
  {
   "cell_type": "markdown",
   "metadata": {
    "colab_type": "text",
    "id": "y-SgSSdRcih5"
   },
   "source": [
    "### Model Prediction"
   ]
  },
  {
   "cell_type": "code",
   "execution_count": 112,
   "metadata": {
    "colab": {
     "base_uri": "https://localhost:8080/",
     "height": 255
    },
    "colab_type": "code",
    "id": "GBgKZkhkcih6",
    "outputId": "247a763e-903c-40a4-d787-e42a52b66b2f"
   },
   "outputs": [
    {
     "name": "stdout",
     "output_type": "stream",
     "text": [
      "Model: \"sequential_6\"\n",
      "_________________________________________________________________\n",
      "Layer (type)                 Output Shape              Param #   \n",
      "=================================================================\n",
      "dense_9 (Dense)              (None, 1)                 5         \n",
      "_________________________________________________________________\n",
      "batch_normalization_6 (Batch (None, 1)                 4         \n",
      "_________________________________________________________________\n",
      "dense_10 (Dense)             (None, 3)                 6         \n",
      "=================================================================\n",
      "Total params: 15\n",
      "Trainable params: 13\n",
      "Non-trainable params: 2\n",
      "_________________________________________________________________\n"
     ]
    }
   ],
   "source": [
    "model.summary()"
   ]
  },
  {
   "cell_type": "code",
   "execution_count": 114,
   "metadata": {
    "colab": {
     "base_uri": "https://localhost:8080/",
     "height": 819
    },
    "colab_type": "code",
    "id": "IpC_zgP28UBV",
    "outputId": "50ba9e3c-4a3c-4357-ddf6-ebfee7d5c9cc"
   },
   "outputs": [
    {
     "name": "stdout",
     "output_type": "stream",
     "text": [
      "WARNING:tensorflow:Falling back from v2 loop because of error: Failed to find data adapter that can handle input: <class 'pandas.core.frame.DataFrame'>, <class 'NoneType'>\n"
     ]
    },
    {
     "data": {
      "text/plain": [
       "array([[0.87496   , 0.11151931, 0.01352074],\n",
       "       [0.6155405 , 0.28250834, 0.10195114],\n",
       "       [0.15254195, 0.35009626, 0.49736178],\n",
       "       [0.873466  , 0.11272191, 0.013812  ],\n",
       "       [0.0049456 , 0.09939636, 0.8956581 ],\n",
       "       [0.10649861, 0.32039258, 0.57310885],\n",
       "       [0.05286441, 0.25673282, 0.69040275],\n",
       "       [0.80586714, 0.1643882 , 0.02974461],\n",
       "       [0.8721388 , 0.1137881 , 0.01407305],\n",
       "       [0.02213463, 0.18534163, 0.79252374],\n",
       "       [0.24815112, 0.37626243, 0.3755865 ],\n",
       "       [0.8237378 , 0.15124235, 0.02501982],\n",
       "       [0.01674167, 0.16576098, 0.8174973 ],\n",
       "       [0.13581519, 0.3410646 , 0.5231202 ],\n",
       "       [0.15866745, 0.35298708, 0.48834547],\n",
       "       [0.906032  , 0.08587667, 0.00809122],\n",
       "       [0.29325953, 0.37805602, 0.32868442],\n",
       "       [0.1704561 , 0.3579859 , 0.47155803],\n",
       "       [0.8612571 , 0.12244935, 0.01629349],\n",
       "       [0.9039923 , 0.08759759, 0.00841009],\n",
       "       [0.21368706, 0.37090793, 0.415405  ],\n",
       "       [0.17828822, 0.36092526, 0.46078655],\n",
       "       [0.06955652, 0.28164646, 0.64879704],\n",
       "       [0.88978064, 0.0994396 , 0.01077976],\n",
       "       [0.01372362, 0.15286414, 0.83341223],\n",
       "       [0.262704  , 0.3774334 , 0.35986254],\n",
       "       [0.85540944, 0.12704532, 0.01754523],\n",
       "       [0.8610473 , 0.12261497, 0.01633771],\n",
       "       [0.12933555, 0.33707237, 0.53359205],\n",
       "       [0.08524737, 0.3003087 , 0.61444396],\n",
       "       [0.1368115 , 0.34165266, 0.5215359 ],\n",
       "       [0.01005096, 0.13435861, 0.8555904 ],\n",
       "       [0.3372659 , 0.37511858, 0.2876155 ],\n",
       "       [0.03365502, 0.21788947, 0.7484555 ],\n",
       "       [0.07611273, 0.2899154 , 0.6339718 ],\n",
       "       [0.85919034, 0.12407833, 0.01673125],\n",
       "       [0.32158527, 0.37664366, 0.30177107],\n",
       "       [0.8784129 , 0.1087291 , 0.01285793],\n",
       "       [0.1283351 , 0.33642924, 0.53523564],\n",
       "       [0.0258343 , 0.19691382, 0.77725184],\n",
       "       [0.03274246, 0.21564251, 0.751615  ],\n",
       "       [0.87790555, 0.10914003, 0.01295442],\n",
       "       [0.10248391, 0.31697828, 0.58053786],\n",
       "       [0.03491709, 0.22092186, 0.74416107],\n",
       "       [0.12486441, 0.33414045, 0.5409951 ]], dtype=float32)"
      ]
     },
     "execution_count": 114,
     "metadata": {
      "tags": []
     },
     "output_type": "execute_result"
    }
   ],
   "source": [
    "pred = model.predict(X_test)\n",
    "pred"
   ]
  },
  {
   "cell_type": "code",
   "execution_count": 128,
   "metadata": {
    "colab": {
     "base_uri": "https://localhost:8080/",
     "height": 782
    },
    "colab_type": "code",
    "id": "cSY82hrkCKJg",
    "outputId": "66e06aa6-a000-4d1d-bc32-dea6473c1f78"
   },
   "outputs": [
    {
     "name": "stdout",
     "output_type": "stream",
     "text": [
      "0\n",
      "0\n",
      "2\n",
      "0\n",
      "2\n",
      "2\n",
      "2\n",
      "0\n",
      "0\n",
      "2\n",
      "1\n",
      "0\n",
      "2\n",
      "2\n",
      "2\n",
      "0\n",
      "1\n",
      "2\n",
      "0\n",
      "0\n",
      "2\n",
      "2\n",
      "2\n",
      "0\n",
      "2\n",
      "1\n",
      "0\n",
      "0\n",
      "2\n",
      "2\n",
      "2\n",
      "2\n",
      "1\n",
      "2\n",
      "2\n",
      "0\n",
      "1\n",
      "0\n",
      "2\n",
      "2\n",
      "2\n",
      "0\n",
      "2\n",
      "2\n",
      "2\n"
     ]
    }
   ],
   "source": [
    "for i in pred:\n",
    "  predicted_num = np.argmax(i)\n",
    "  print(predicted_num)"
   ]
  },
  {
   "cell_type": "markdown",
   "metadata": {
    "colab_type": "text",
    "id": "P32ASP1Vjt0a"
   },
   "source": [
    "### Save the Model"
   ]
  },
  {
   "cell_type": "code",
   "execution_count": 0,
   "metadata": {
    "colab": {},
    "colab_type": "code",
    "id": "n8rd0jjAjyTR"
   },
   "outputs": [],
   "source": [
    "model.save('Iris.h5')\n"
   ]
  },
  {
   "cell_type": "markdown",
   "metadata": {
    "colab_type": "text",
    "id": "XiipRpe7rbVh"
   },
   "source": [
    "### Build and Train a Deep Neural network with 2 hidden layer  - Optional - For Practice\n",
    "\n",
    "Does it perform better than Linear Classifier? What could be the reason for difference in performance?"
   ]
  },
  {
   "cell_type": "code",
   "execution_count": 0,
   "metadata": {
    "colab": {},
    "colab_type": "code",
    "id": "v5Du3lubr4sA"
   },
   "outputs": [],
   "source": []
  }
 ],
 "metadata": {
  "accelerator": "GPU",
  "colab": {
   "name": "R6_Internal_Lab.ipynb",
   "provenance": []
  },
  "kernelspec": {
   "display_name": "Python 3",
   "language": "python",
   "name": "python3"
  },
  "language_info": {
   "codemirror_mode": {
    "name": "ipython",
    "version": 3
   },
   "file_extension": ".py",
   "mimetype": "text/x-python",
   "name": "python",
   "nbconvert_exporter": "python",
   "pygments_lexer": "ipython3",
   "version": "3.7.3"
  }
 },
 "nbformat": 4,
 "nbformat_minor": 1
}
