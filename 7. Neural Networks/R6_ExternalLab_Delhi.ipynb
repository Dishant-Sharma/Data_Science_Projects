{
  "nbformat": 4,
  "nbformat_minor": 0,
  "metadata": {
    "colab": {
      "name": "R6_ExternalLab_Delhi.ipynb",
      "provenance": [],
      "collapsed_sections": []
    },
    "kernelspec": {
      "name": "python2",
      "display_name": "Python 2"
    },
    "accelerator": "GPU"
  },
  "cells": [
    {
      "cell_type": "markdown",
      "metadata": {
        "id": "YYk8NG3yOIT9",
        "colab_type": "text"
      },
      "source": [
        "### A MNIST-like fashion product database\n",
        "\n",
        "In this, we classify the images into respective classes given in the dataset. We use a Neural Net and a Deep Neural Net in Keras to solve this and check the accuracy scores."
      ]
    },
    {
      "cell_type": "code",
      "metadata": {
        "id": "3tnGjFzh0uXJ",
        "colab_type": "code",
        "colab": {}
      },
      "source": [
        "from google.colab import drive"
      ],
      "execution_count": 0,
      "outputs": []
    },
    {
      "cell_type": "code",
      "metadata": {
        "id": "iL1K4c6V02Ta",
        "colab_type": "code",
        "outputId": "70dec496-59d6-44d6-cde7-f3028360d16a",
        "colab": {
          "base_uri": "https://localhost:8080/",
          "height": 34
        }
      },
      "source": [
        "drive.mount('/content/drive')"
      ],
      "execution_count": 2,
      "outputs": [
        {
          "output_type": "stream",
          "text": [
            "Drive already mounted at /content/drive; to attempt to forcibly remount, call drive.mount(\"/content/drive\", force_remount=True).\n"
          ],
          "name": "stdout"
        }
      ]
    },
    {
      "cell_type": "markdown",
      "metadata": {
        "id": "tFO6PuxzOIT_",
        "colab_type": "text"
      },
      "source": [
        "### Load tensorflow"
      ]
    },
    {
      "cell_type": "code",
      "metadata": {
        "id": "efNjNImfOIUC",
        "colab_type": "code",
        "colab": {}
      },
      "source": [
        "import tensorflow as tf"
      ],
      "execution_count": 0,
      "outputs": []
    },
    {
      "cell_type": "code",
      "metadata": {
        "id": "FYtbkXsx2jSD",
        "colab_type": "code",
        "colab": {}
      },
      "source": [
        "tf.random.set_seed(42) # this is new way to set random seed instead of tf.set_random_seed(42)"
      ],
      "execution_count": 0,
      "outputs": []
    },
    {
      "cell_type": "code",
      "metadata": {
        "id": "ar6-RhyBvnOS",
        "colab_type": "code",
        "colab": {}
      },
      "source": [
        "#!pip uninstall tensorflow"
      ],
      "execution_count": 0,
      "outputs": []
    },
    {
      "cell_type": "code",
      "metadata": {
        "id": "qmCv76c7vp9f",
        "colab_type": "code",
        "colab": {}
      },
      "source": [
        "#!pip install -U tensorflow==2.0 "
      ],
      "execution_count": 0,
      "outputs": []
    },
    {
      "cell_type": "code",
      "metadata": {
        "id": "l9C4aAIGOIUH",
        "colab_type": "code",
        "outputId": "e65ec6e3-ef3f-466f-c885-3c3639c8c88b",
        "colab": {
          "base_uri": "https://localhost:8080/",
          "height": 34
        }
      },
      "source": [
        "tf.__version__"
      ],
      "execution_count": 5,
      "outputs": [
        {
          "output_type": "execute_result",
          "data": {
            "text/plain": [
              "'2.0.0'"
            ]
          },
          "metadata": {
            "tags": []
          },
          "execution_count": 5
        }
      ]
    },
    {
      "cell_type": "markdown",
      "metadata": {
        "id": "HcoZBStrOIUQ",
        "colab_type": "text"
      },
      "source": [
        "### Collect Data"
      ]
    },
    {
      "cell_type": "code",
      "metadata": {
        "id": "XA1WsFSeOIUS",
        "colab_type": "code",
        "outputId": "dda67c5a-c7ee-4085-c3c5-7719bc6eb741",
        "colab": {
          "base_uri": "https://localhost:8080/",
          "height": 34
        }
      },
      "source": [
        "import keras"
      ],
      "execution_count": 6,
      "outputs": [
        {
          "output_type": "stream",
          "text": [
            "Using TensorFlow backend.\n"
          ],
          "name": "stderr"
        }
      ]
    },
    {
      "cell_type": "code",
      "metadata": {
        "id": "qnbx7TyQOIUY",
        "colab_type": "code",
        "colab": {}
      },
      "source": [
        "(trainX, trainY), (testX, testY) = keras.datasets.fashion_mnist.load_data()"
      ],
      "execution_count": 0,
      "outputs": []
    },
    {
      "cell_type": "code",
      "metadata": {
        "id": "UbiHj5YPOIUc",
        "colab_type": "code",
        "outputId": "f0e8bea2-1cb3-45b0-fbf3-83063354437b",
        "colab": {
          "base_uri": "https://localhost:8080/",
          "height": 34
        }
      },
      "source": [
        "print(testY[0:5])"
      ],
      "execution_count": 8,
      "outputs": [
        {
          "output_type": "stream",
          "text": [
            "[9 2 1 1 6]\n"
          ],
          "name": "stdout"
        }
      ]
    },
    {
      "cell_type": "markdown",
      "metadata": {
        "id": "lDAYzkwyOIUj",
        "colab_type": "text"
      },
      "source": [
        "### Convert both training and testing labels into one-hot vectors.\n",
        "\n",
        "**Hint:** check **tf.keras.utils.to_categorical()**"
      ]
    },
    {
      "cell_type": "code",
      "metadata": {
        "id": "bn6R91pMF9-H",
        "colab_type": "code",
        "outputId": "ee26ae32-254f-4f96-c169-f8b5d2cbded1",
        "colab": {
          "base_uri": "https://localhost:8080/",
          "height": 34
        }
      },
      "source": [
        "trainY"
      ],
      "execution_count": 9,
      "outputs": [
        {
          "output_type": "execute_result",
          "data": {
            "text/plain": [
              "array([9, 0, 0, ..., 3, 0, 5], dtype=uint8)"
            ]
          },
          "metadata": {
            "tags": []
          },
          "execution_count": 9
        }
      ]
    },
    {
      "cell_type": "code",
      "metadata": {
        "id": "vBlfYlANOIUk",
        "colab_type": "code",
        "colab": {}
      },
      "source": [
        "train_Y = tf.keras.utils.to_categorical(trainY, num_classes=10) # used a new variable because the int dtype trainY will be used in the visualization step \n",
        "test_Y = tf.keras.utils.to_categorical(testY, num_classes=10)"
      ],
      "execution_count": 0,
      "outputs": []
    },
    {
      "cell_type": "code",
      "metadata": {
        "id": "eho5Huer4Pcl",
        "colab_type": "code",
        "outputId": "fa1a17fe-842d-4f76-9d96-3f15dcee7923",
        "colab": {
          "base_uri": "https://localhost:8080/",
          "height": 119
        }
      },
      "source": [
        "print(train_Y.shape)\n",
        "print('First 5 examples now are: ', train_Y[0:5])"
      ],
      "execution_count": 11,
      "outputs": [
        {
          "output_type": "stream",
          "text": [
            "(60000, 10)\n",
            "('First 5 examples now are: ', array([[0., 0., 0., 0., 0., 0., 0., 0., 0., 1.],\n",
            "       [1., 0., 0., 0., 0., 0., 0., 0., 0., 0.],\n",
            "       [1., 0., 0., 0., 0., 0., 0., 0., 0., 0.],\n",
            "       [0., 0., 0., 1., 0., 0., 0., 0., 0., 0.],\n",
            "       [1., 0., 0., 0., 0., 0., 0., 0., 0., 0.]], dtype=float32))\n"
          ],
          "name": "stdout"
        }
      ]
    },
    {
      "cell_type": "code",
      "metadata": {
        "id": "-YyW7ZhzAHlS",
        "colab_type": "code",
        "outputId": "d90ea64c-136d-47ce-f742-fb923a68382e",
        "colab": {
          "base_uri": "https://localhost:8080/",
          "height": 34
        }
      },
      "source": [
        "trainX.shape"
      ],
      "execution_count": 12,
      "outputs": [
        {
          "output_type": "execute_result",
          "data": {
            "text/plain": [
              "(60000, 28, 28)"
            ]
          },
          "metadata": {
            "tags": []
          },
          "execution_count": 12
        }
      ]
    },
    {
      "cell_type": "code",
      "metadata": {
        "id": "xcN3eRDeAHz3",
        "colab_type": "code",
        "outputId": "7117133e-35de-4915-8cfb-95344abc6266",
        "colab": {
          "base_uri": "https://localhost:8080/",
          "height": 34
        }
      },
      "source": [
        "len(trainY)"
      ],
      "execution_count": 13,
      "outputs": [
        {
          "output_type": "execute_result",
          "data": {
            "text/plain": [
              "60000"
            ]
          },
          "metadata": {
            "tags": []
          },
          "execution_count": 13
        }
      ]
    },
    {
      "cell_type": "code",
      "metadata": {
        "id": "YX66zlQtBQGn",
        "colab_type": "code",
        "outputId": "7c05e01e-3bf3-4b20-f22e-d83872e13a44",
        "colab": {
          "base_uri": "https://localhost:8080/",
          "height": 34
        }
      },
      "source": [
        "trainY"
      ],
      "execution_count": 14,
      "outputs": [
        {
          "output_type": "execute_result",
          "data": {
            "text/plain": [
              "array([9, 0, 0, ..., 3, 0, 5], dtype=uint8)"
            ]
          },
          "metadata": {
            "tags": []
          },
          "execution_count": 14
        }
      ]
    },
    {
      "cell_type": "code",
      "metadata": {
        "id": "snSVgKjeBZrC",
        "colab_type": "code",
        "outputId": "e078bced-ca72-4e9d-92d1-6755e9ecdaa4",
        "colab": {
          "base_uri": "https://localhost:8080/",
          "height": 34
        }
      },
      "source": [
        "testX.shape"
      ],
      "execution_count": 15,
      "outputs": [
        {
          "output_type": "execute_result",
          "data": {
            "text/plain": [
              "(10000, 28, 28)"
            ]
          },
          "metadata": {
            "tags": []
          },
          "execution_count": 15
        }
      ]
    },
    {
      "cell_type": "code",
      "metadata": {
        "id": "0T739FO2BdGe",
        "colab_type": "code",
        "outputId": "13c2b834-953c-4b3c-cfb5-cabde8eeffce",
        "colab": {
          "base_uri": "https://localhost:8080/",
          "height": 34
        }
      },
      "source": [
        "len(testY)"
      ],
      "execution_count": 16,
      "outputs": [
        {
          "output_type": "execute_result",
          "data": {
            "text/plain": [
              "10000"
            ]
          },
          "metadata": {
            "tags": []
          },
          "execution_count": 16
        }
      ]
    },
    {
      "cell_type": "markdown",
      "metadata": {
        "id": "FwhQ8e7VOIUw",
        "colab_type": "text"
      },
      "source": [
        "### Visualize the data\n",
        "\n",
        "Plot first 10 images in the triaining set and their labels."
      ]
    },
    {
      "cell_type": "code",
      "metadata": {
        "id": "auchbkG59sZa",
        "colab_type": "code",
        "colab": {}
      },
      "source": [
        "import matplotlib.pyplot as plt"
      ],
      "execution_count": 0,
      "outputs": []
    },
    {
      "cell_type": "code",
      "metadata": {
        "id": "uiumwRMVCOg7",
        "colab_type": "code",
        "outputId": "2be26dbb-9110-4e54-83f7-d2e7b6658b96",
        "colab": {
          "base_uri": "https://localhost:8080/",
          "height": 102
        }
      },
      "source": [
        "plt.figure(figsize=(10,10))\n",
        "for i in range(10):\n",
        "    plt.subplot(1,10,i+1)\n",
        "    plt.xticks([])\n",
        "    plt.yticks([])\n",
        "    plt.grid(False)\n",
        "    plt.imshow(trainX[i],cmap='gist_gray')  # cmap has various others options like cmaps['Sequential (2)'] = ['binary', 'gist_yarg', 'gist_gray', 'gray', 'bone', 'pink','spring', 'summer', 'autumn', 'winter', 'cool', 'Wistia','hot', 'afmhot', 'gist_heat', 'copper']\n",
        "    \n",
        "plt.show()\n",
        "a=[]\n",
        "for i in range(10):\n",
        "    a.append(trainY[i])  # used trainY here because it contains labels in int form and train_Y has labels in array form\n",
        "\n",
        "print ('label for each of the above image:',str(a)[1:-1])\n"
      ],
      "execution_count": 18,
      "outputs": [
        {
          "output_type": "display_data",
          "data": {
            "image/png": "[encoded data removed]",
            "text/plain": [
              "<Figure size 720x720 with 10 Axes>"
            ]
          },
          "metadata": {
            "tags": []
          }
        },
        {
          "output_type": "stream",
          "text": [
            "('label for each of the above image:', '9, 0, 0, 3, 0, 2, 7, 2, 5, 5')\n"
          ],
          "name": "stdout"
        }
      ]
    },
    {
      "cell_type": "markdown",
      "metadata": {
        "id": "l4TbJGeSOIU4",
        "colab_type": "text"
      },
      "source": [
        "### Build a neural Network with a cross entropy loss function and sgd optimizer in Keras. The output layer with 10 neurons as we have 10 classes."
      ]
    },
    {
      "cell_type": "code",
      "metadata": {
        "id": "Ac06XZZTOIU6",
        "colab_type": "code",
        "colab": {}
      },
      "source": [
        "#Initialize Sequential model\n",
        "model = tf.keras.models.Sequential()\n",
        "\n",
        "#Reshape data from 2D to 1D -> 28x28 to 784\n",
        "model.add(tf.keras.layers.Reshape((784,),input_shape=(28,28,)))\n",
        "\n",
        "#Add Dense Layer which provides 10 Outputs\n",
        "model.add(tf.keras.layers.Dense(10, activation='softmax')) \n",
        "\n",
        "#Comile the model\n",
        "model.compile(optimizer='sgd', loss='categorical_crossentropy',\n",
        "              metrics=['accuracy'])"
      ],
      "execution_count": 0,
      "outputs": []
    },
    {
      "cell_type": "markdown",
      "metadata": {
        "id": "3hQpLv3aOIU_",
        "colab_type": "text"
      },
      "source": [
        "### Execute the model using model.fit()"
      ]
    },
    {
      "cell_type": "code",
      "metadata": {
        "id": "O59C_-IgOIVB",
        "colab_type": "code",
        "outputId": "5c0e83d4-56b3-461e-cb90-212db3e06c88",
        "colab": {
          "base_uri": "https://localhost:8080/",
          "height": 391
        }
      },
      "source": [
        "model.fit(trainX, train_Y, \n",
        "          validation_data=(testX, test_Y), \n",
        "          epochs=10)"
      ],
      "execution_count": 20,
      "outputs": [
        {
          "output_type": "stream",
          "text": [
            "Train on 60000 samples, validate on 10000 samples\n",
            "Epoch 1/10\n",
            "60000/60000 [==============================] - 4s 71us/sample - loss: 2011.6727 - accuracy: 0.7401 - val_loss: 1199.9495 - val_accuracy: 0.7971\n",
            "Epoch 2/10\n",
            "60000/60000 [==============================] - 4s 61us/sample - loss: 1633.6321 - accuracy: 0.7783 - val_loss: 2663.1756 - val_accuracy: 0.6535\n",
            "Epoch 3/10\n",
            "60000/60000 [==============================] - 4s 60us/sample - loss: 1537.2961 - accuracy: 0.7866 - val_loss: 1683.3549 - val_accuracy: 0.7954\n",
            "Epoch 4/10\n",
            "60000/60000 [==============================] - 4s 60us/sample - loss: 1490.8963 - accuracy: 0.7896 - val_loss: 936.9344 - val_accuracy: 0.8281\n",
            "Epoch 5/10\n",
            "60000/60000 [==============================] - 4s 60us/sample - loss: 1464.8133 - accuracy: 0.7960 - val_loss: 1086.2411 - val_accuracy: 0.7955\n",
            "Epoch 6/10\n",
            "60000/60000 [==============================] - 4s 60us/sample - loss: 1483.4326 - accuracy: 0.7934 - val_loss: 2105.1294 - val_accuracy: 0.7525\n",
            "Epoch 7/10\n",
            "60000/60000 [==============================] - 4s 61us/sample - loss: 1468.8121 - accuracy: 0.7968 - val_loss: 1487.0603 - val_accuracy: 0.7815\n",
            "Epoch 8/10\n",
            "60000/60000 [==============================] - 4s 61us/sample - loss: 1462.3635 - accuracy: 0.7987 - val_loss: 1644.9060 - val_accuracy: 0.7806\n",
            "Epoch 9/10\n",
            "60000/60000 [==============================] - 4s 61us/sample - loss: 1408.4048 - accuracy: 0.7984 - val_loss: 2014.4222 - val_accuracy: 0.7523\n",
            "Epoch 10/10\n",
            "60000/60000 [==============================] - 4s 61us/sample - loss: 1422.1565 - accuracy: 0.8011 - val_loss: 4625.2443 - val_accuracy: 0.6339\n"
          ],
          "name": "stdout"
        },
        {
          "output_type": "execute_result",
          "data": {
            "text/plain": [
              "<tensorflow.python.keras.callbacks.History at 0x7fb7ccd6e750>"
            ]
          },
          "metadata": {
            "tags": []
          },
          "execution_count": 20
        }
      ]
    },
    {
      "cell_type": "markdown",
      "metadata": {
        "id": "JdzDtGwDOIVF",
        "colab_type": "text"
      },
      "source": [
        "### In the above Neural Network model add Batch Normalization layer after the input layer and repeat the steps."
      ]
    },
    {
      "cell_type": "code",
      "metadata": {
        "id": "kndfpdidOIVI",
        "colab_type": "code",
        "colab": {}
      },
      "source": [
        "\n",
        "#Initialize Sequential model\n",
        "model = tf.keras.models.Sequential()\n",
        "\n",
        "#Reshape data from 2D to 1D -> 28x28 to 784\n",
        "model.add(tf.keras.layers.Reshape((784,),input_shape=(28,28,)))\n",
        "\n",
        "#Normalize the data\n",
        "model.add(tf.keras.layers.BatchNormalization()) # Batch Normalization\n",
        "\n",
        "#Add Dense Layer which provides 10 Outputs\n",
        "model.add(tf.keras.layers.Dense(10, activation='softmax')) \n",
        "\n",
        "\n",
        "#Comile the model\n",
        "model.compile(optimizer='sgd', loss='categorical_crossentropy', \n",
        "              metrics=['accuracy'])"
      ],
      "execution_count": 0,
      "outputs": []
    },
    {
      "cell_type": "markdown",
      "metadata": {
        "id": "mwk3T5LJOIVN",
        "colab_type": "text"
      },
      "source": [
        "### Execute the model"
      ]
    },
    {
      "cell_type": "code",
      "metadata": {
        "id": "JNLR8tcBOIVP",
        "colab_type": "code",
        "outputId": "c736f139-0e46-46d4-8fcc-9bdbc67a8328",
        "colab": {
          "base_uri": "https://localhost:8080/",
          "height": 391
        }
      },
      "source": [
        "model.fit(trainX, train_Y, \n",
        "          validation_data=(testX, test_Y), \n",
        "          epochs=10,\n",
        "          batch_size=32)"
      ],
      "execution_count": 22,
      "outputs": [
        {
          "output_type": "stream",
          "text": [
            "Train on 60000 samples, validate on 10000 samples\n",
            "Epoch 1/10\n",
            "60000/60000 [==============================] - 5s 88us/sample - loss: 0.5945 - accuracy: 0.7950 - val_loss: 0.5239 - val_accuracy: 0.8215\n",
            "Epoch 2/10\n",
            "60000/60000 [==============================] - 5s 79us/sample - loss: 0.4924 - accuracy: 0.8309 - val_loss: 0.4984 - val_accuracy: 0.8311\n",
            "Epoch 3/10\n",
            "60000/60000 [==============================] - 5s 79us/sample - loss: 0.4698 - accuracy: 0.8375 - val_loss: 0.4970 - val_accuracy: 0.8378\n",
            "Epoch 4/10\n",
            "60000/60000 [==============================] - 5s 79us/sample - loss: 0.4576 - accuracy: 0.8416 - val_loss: 0.4839 - val_accuracy: 0.8370\n",
            "Epoch 5/10\n",
            "60000/60000 [==============================] - 5s 79us/sample - loss: 0.4516 - accuracy: 0.8445 - val_loss: 0.4725 - val_accuracy: 0.8417\n",
            "Epoch 6/10\n",
            "60000/60000 [==============================] - 5s 79us/sample - loss: 0.4453 - accuracy: 0.8460 - val_loss: 0.4611 - val_accuracy: 0.8414\n",
            "Epoch 7/10\n",
            "60000/60000 [==============================] - 5s 76us/sample - loss: 0.4412 - accuracy: 0.8468 - val_loss: 0.4747 - val_accuracy: 0.8404\n",
            "Epoch 8/10\n",
            "60000/60000 [==============================] - 5s 78us/sample - loss: 0.4373 - accuracy: 0.8478 - val_loss: 0.4681 - val_accuracy: 0.8415\n",
            "Epoch 9/10\n",
            "60000/60000 [==============================] - 5s 80us/sample - loss: 0.4339 - accuracy: 0.8504 - val_loss: 0.4722 - val_accuracy: 0.8396\n",
            "Epoch 10/10\n",
            "60000/60000 [==============================] - 5s 78us/sample - loss: 0.4320 - accuracy: 0.8515 - val_loss: 0.4741 - val_accuracy: 0.8430\n"
          ],
          "name": "stdout"
        },
        {
          "output_type": "execute_result",
          "data": {
            "text/plain": [
              "<tensorflow.python.keras.callbacks.History at 0x7fb7cba21f10>"
            ]
          },
          "metadata": {
            "tags": []
          },
          "execution_count": 22
        }
      ]
    },
    {
      "cell_type": "markdown",
      "metadata": {
        "id": "Py-KwkmjOIVU",
        "colab_type": "text"
      },
      "source": [
        "### Customize the learning rate to 0.001 in sgd optimizer and run the model"
      ]
    },
    {
      "cell_type": "code",
      "metadata": {
        "id": "pJUqA5T4OIVc",
        "colab_type": "code",
        "colab": {}
      },
      "source": [
        "sgd_optimizer = tf.keras.optimizers.SGD(lr=0.001)\n",
        "model.compile(optimizer=sgd_optimizer,  loss='categorical_crossentropy', \n",
        "              metrics=['accuracy'])"
      ],
      "execution_count": 0,
      "outputs": []
    },
    {
      "cell_type": "code",
      "metadata": {
        "id": "tTDC_2_Ye042",
        "colab_type": "code",
        "outputId": "e80d0249-0108-4461-b219-3495c7a0a6ee",
        "colab": {
          "base_uri": "https://localhost:8080/",
          "height": 391
        }
      },
      "source": [
        "model.fit(trainX, train_Y, \n",
        "          validation_data=(testX, test_Y), \n",
        "          epochs=10,\n",
        "          batch_size=32)"
      ],
      "execution_count": 24,
      "outputs": [
        {
          "output_type": "stream",
          "text": [
            "Train on 60000 samples, validate on 10000 samples\n",
            "Epoch 1/10\n",
            "60000/60000 [==============================] - 5s 91us/sample - loss: 0.4174 - accuracy: 0.8555 - val_loss: 0.4640 - val_accuracy: 0.8432\n",
            "Epoch 2/10\n",
            "60000/60000 [==============================] - 5s 79us/sample - loss: 0.4168 - accuracy: 0.8566 - val_loss: 0.4613 - val_accuracy: 0.8439\n",
            "Epoch 3/10\n",
            "60000/60000 [==============================] - 5s 82us/sample - loss: 0.4156 - accuracy: 0.8550 - val_loss: 0.4686 - val_accuracy: 0.8444\n",
            "Epoch 4/10\n",
            "60000/60000 [==============================] - 5s 83us/sample - loss: 0.4150 - accuracy: 0.8568 - val_loss: 0.4615 - val_accuracy: 0.8434\n",
            "Epoch 5/10\n",
            "60000/60000 [==============================] - 5s 92us/sample - loss: 0.4160 - accuracy: 0.8556 - val_loss: 0.4617 - val_accuracy: 0.8438\n",
            "Epoch 6/10\n",
            "60000/60000 [==============================] - 5s 89us/sample - loss: 0.4148 - accuracy: 0.8561 - val_loss: 0.4526 - val_accuracy: 0.8446\n",
            "Epoch 7/10\n",
            "60000/60000 [==============================] - 5s 79us/sample - loss: 0.4155 - accuracy: 0.8549 - val_loss: 0.4674 - val_accuracy: 0.8437\n",
            "Epoch 8/10\n",
            "60000/60000 [==============================] - 5s 83us/sample - loss: 0.4150 - accuracy: 0.8558 - val_loss: 0.4603 - val_accuracy: 0.8447\n",
            "Epoch 9/10\n",
            "60000/60000 [==============================] - 5s 87us/sample - loss: 0.4136 - accuracy: 0.8577 - val_loss: 0.4586 - val_accuracy: 0.8448\n",
            "Epoch 10/10\n",
            "60000/60000 [==============================] - 5s 83us/sample - loss: 0.4141 - accuracy: 0.8571 - val_loss: 0.4663 - val_accuracy: 0.8455\n"
          ],
          "name": "stdout"
        },
        {
          "output_type": "execute_result",
          "data": {
            "text/plain": [
              "<tensorflow.python.keras.callbacks.History at 0x7fb7d4a0e750>"
            ]
          },
          "metadata": {
            "tags": []
          },
          "execution_count": 24
        }
      ]
    },
    {
      "cell_type": "markdown",
      "metadata": {
        "id": "j9CSqKvpOIVk",
        "colab_type": "text"
      },
      "source": [
        "### Build the Neural Network model with 3 Dense layers with 100,100,10 neurons respectively in each layer. Use cross entropy loss function and singmoid as activation in the hidden layers and softmax as activation function in the output layer. Use sgd optimizer with learning rate 0.03."
      ]
    },
    {
      "cell_type": "code",
      "metadata": {
        "id": "CNon9PRsrpvH",
        "colab_type": "code",
        "colab": {}
      },
      "source": [
        "#Initialize Sequential model\n",
        "model_1 = tf.keras.models.Sequential()\n",
        "\n",
        "#Reshape data from 2D to 1D -> 28x28 to 784\n",
        "model_1.add(tf.keras.layers.Reshape((784,),input_shape=(28,28,)))\n",
        "\n",
        "#Normalize the data\n",
        "model_1.add(tf.keras.layers.BatchNormalization())"
      ],
      "execution_count": 0,
      "outputs": []
    },
    {
      "cell_type": "code",
      "metadata": {
        "id": "GGAad54JOIVm",
        "colab_type": "code",
        "colab": {}
      },
      "source": [
        "#Add 1st hidden layer\n",
        "model_1.add(tf.keras.layers.Dense(100, activation='sigmoid'))"
      ],
      "execution_count": 0,
      "outputs": []
    },
    {
      "cell_type": "code",
      "metadata": {
        "id": "MQ7oIymROIVp",
        "colab_type": "code",
        "colab": {}
      },
      "source": [
        "#Add 2nd hidden layer\n",
        "model_1.add(tf.keras.layers.Dense(100, activation='sigmoid'))"
      ],
      "execution_count": 0,
      "outputs": []
    },
    {
      "cell_type": "code",
      "metadata": {
        "id": "X-O-fFxnOIVt",
        "colab_type": "code",
        "colab": {}
      },
      "source": [
        "#Add 3rd hidden layer\n",
        "model_1.add(tf.keras.layers.Dense(10, activation='sigmoid'))"
      ],
      "execution_count": 0,
      "outputs": []
    },
    {
      "cell_type": "code",
      "metadata": {
        "id": "BiP7IL52OIVw",
        "colab_type": "code",
        "colab": {}
      },
      "source": [
        "#Add OUTPUT layer\n",
        "model_1.add(tf.keras.layers.Dense(10, activation='softmax'))"
      ],
      "execution_count": 0,
      "outputs": []
    },
    {
      "cell_type": "code",
      "metadata": {
        "id": "MJzwgr9gt5Vc",
        "colab_type": "code",
        "colab": {}
      },
      "source": [
        "#Compile the model\n",
        "sgd_optimizer = tf.keras.optimizers.SGD(lr=0.03)\n",
        "model_1.compile(optimizer=sgd_optimizer,  loss='categorical_crossentropy', \n",
        "              metrics=['accuracy'])"
      ],
      "execution_count": 0,
      "outputs": []
    },
    {
      "cell_type": "markdown",
      "metadata": {
        "id": "Nr2YsZV0OIV0",
        "colab_type": "text"
      },
      "source": [
        "## Review model"
      ]
    },
    {
      "cell_type": "code",
      "metadata": {
        "id": "h4ojW6-oOIV2",
        "colab_type": "code",
        "outputId": "026e79ec-360b-42bc-f999-533e62478408",
        "colab": {
          "base_uri": "https://localhost:8080/",
          "height": 357
        }
      },
      "source": [
        "model_1.summary()"
      ],
      "execution_count": 31,
      "outputs": [
        {
          "output_type": "stream",
          "text": [
            "Model: \"sequential_2\"\n",
            "_________________________________________________________________\n",
            "Layer (type)                 Output Shape              Param #   \n",
            "=================================================================\n",
            "reshape_2 (Reshape)          (None, 784)               0         \n",
            "_________________________________________________________________\n",
            "batch_normalization_1 (Batch (None, 784)               3136      \n",
            "_________________________________________________________________\n",
            "dense_2 (Dense)              (None, 100)               78500     \n",
            "_________________________________________________________________\n",
            "dense_3 (Dense)              (None, 100)               10100     \n",
            "_________________________________________________________________\n",
            "dense_4 (Dense)              (None, 10)                1010      \n",
            "_________________________________________________________________\n",
            "dense_5 (Dense)              (None, 10)                110       \n",
            "=================================================================\n",
            "Total params: 92,856\n",
            "Trainable params: 91,288\n",
            "Non-trainable params: 1,568\n",
            "_________________________________________________________________\n"
          ],
          "name": "stdout"
        }
      ]
    },
    {
      "cell_type": "markdown",
      "metadata": {
        "id": "gfFGmbZLOIV5",
        "colab_type": "text"
      },
      "source": [
        "### Run the model"
      ]
    },
    {
      "cell_type": "code",
      "metadata": {
        "id": "bIkbMEN5OIV7",
        "colab_type": "code",
        "outputId": "e0d59f61-58b2-4762-ba52-df59fc261e7e",
        "colab": {
          "base_uri": "https://localhost:8080/",
          "height": 391
        }
      },
      "source": [
        "model_1.fit(trainX, train_Y, \n",
        "          validation_data=(testX, test_Y), \n",
        "          epochs=10,\n",
        "          batch_size=32)"
      ],
      "execution_count": 32,
      "outputs": [
        {
          "output_type": "stream",
          "text": [
            "Train on 60000 samples, validate on 10000 samples\n",
            "Epoch 1/10\n",
            "60000/60000 [==============================] - 8s 135us/sample - loss: 1.9490 - accuracy: 0.3557 - val_loss: 1.4082 - val_accuracy: 0.5513\n",
            "Epoch 2/10\n",
            "60000/60000 [==============================] - 7s 123us/sample - loss: 1.1553 - accuracy: 0.6157 - val_loss: 0.9329 - val_accuracy: 0.6861\n",
            "Epoch 3/10\n",
            "60000/60000 [==============================] - 7s 123us/sample - loss: 0.8217 - accuracy: 0.7121 - val_loss: 0.7121 - val_accuracy: 0.7442\n",
            "Epoch 4/10\n",
            "60000/60000 [==============================] - 7s 123us/sample - loss: 0.6843 - accuracy: 0.7591 - val_loss: 0.6236 - val_accuracy: 0.7777\n",
            "Epoch 5/10\n",
            "60000/60000 [==============================] - 7s 122us/sample - loss: 0.6103 - accuracy: 0.7922 - val_loss: 0.5659 - val_accuracy: 0.8086\n",
            "Epoch 6/10\n",
            "60000/60000 [==============================] - 7s 122us/sample - loss: 0.5557 - accuracy: 0.8116 - val_loss: 0.5247 - val_accuracy: 0.8237\n",
            "Epoch 7/10\n",
            "60000/60000 [==============================] - 7s 123us/sample - loss: 0.5160 - accuracy: 0.8248 - val_loss: 0.4945 - val_accuracy: 0.8320\n",
            "Epoch 8/10\n",
            "60000/60000 [==============================] - 7s 124us/sample - loss: 0.4841 - accuracy: 0.8354 - val_loss: 0.4709 - val_accuracy: 0.8373\n",
            "Epoch 9/10\n",
            "60000/60000 [==============================] - 7s 124us/sample - loss: 0.4579 - accuracy: 0.8447 - val_loss: 0.4526 - val_accuracy: 0.8399\n",
            "Epoch 10/10\n",
            "60000/60000 [==============================] - 7s 121us/sample - loss: 0.4369 - accuracy: 0.8497 - val_loss: 0.4347 - val_accuracy: 0.8492\n"
          ],
          "name": "stdout"
        },
        {
          "output_type": "execute_result",
          "data": {
            "text/plain": [
              "<tensorflow.python.keras.callbacks.History at 0x7fb7ca4139d0>"
            ]
          },
          "metadata": {
            "tags": []
          },
          "execution_count": 32
        }
      ]
    }
  ]
}