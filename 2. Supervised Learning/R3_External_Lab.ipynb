{
 "cells": [
  {
   "cell_type": "code",
   "execution_count": 1,
   "metadata": {
    "colab": {},
    "colab_type": "code",
    "id": "tgurv7cNHunL",
    "scrolled": false
   },
   "outputs": [],
   "source": [
    "import warnings \n",
    "warnings.filterwarnings('ignore')"
   ]
  },
  {
   "cell_type": "markdown",
   "metadata": {
    "colab_type": "text",
    "id": "rrfjYa2HHunT"
   },
   "source": [
    "## K-Nearest-Neighbors"
   ]
  },
  {
   "cell_type": "markdown",
   "metadata": {
    "colab_type": "text",
    "id": "Apk3bnmwHunW"
   },
   "source": [
    "KNN falls in the supervised learning family of algorithms. Informally, this means that we are given a labelled dataset consiting of training observations (x,y) and would like to capture the relationship between x and y. More formally, our goal is to learn a function h:X→Y so that given an unseen observation x, h(x) can confidently predict the corresponding output y.\n",
    "\n",
    "In this module we will explore the inner workings of KNN, choosing the optimal K values and using KNN from scikit-learn."
   ]
  },
  {
   "cell_type": "markdown",
   "metadata": {
    "colab_type": "text",
    "id": "mezpuK1ZHunX"
   },
   "source": [
    "## Overview\n",
    "\n",
    "1.Read the problem statement.\n",
    "\n",
    "2.Get the dataset.\n",
    "\n",
    "3.Explore the dataset.\n",
    "\n",
    "4.Pre-processing of dataset.\n",
    "\n",
    "5.Visualization\n",
    "\n",
    "6.Transform the dataset for building machine learning model.\n",
    "\n",
    "7.Split data into train, test set.\n",
    "\n",
    "7.Build Model.\n",
    "\n",
    "8.Apply the model.\n",
    "\n",
    "9.Evaluate the model.\n",
    "\n",
    "10.Finding Optimal K value\n",
    "\n",
    "11.Repeat 7,8,9 steps."
   ]
  },
  {
   "cell_type": "markdown",
   "metadata": {
    "colab_type": "text",
    "id": "6SA8iHIbHunZ"
   },
   "source": [
    "## Problem statement\n",
    "\n",
    "### Dataset\n",
    "\n",
    "The data set we’ll be using is the Iris Flower Dataset which was first introduced in 1936 by the famous statistician Ronald Fisher and consists of 50 observations from each of three species of Iris (Iris setosa, Iris virginica and Iris versicolor). Four features were measured from each sample: the length and the width of the sepals and petals.\n",
    "\n",
    "**Attributes of the dataset:** https://archive.ics.uci.edu/ml/datasets/Iris\n",
    "\n",
    "**Train the KNN algorithm to be able to distinguish the species from one another given the measurements of the 4 features.**"
   ]
  },
  {
   "cell_type": "markdown",
   "metadata": {
    "colab_type": "text",
    "id": "-wa55vNkHuna"
   },
   "source": [
    "## Question 1\n",
    "\n",
    "Import the data set and print 10 random rows from the data set"
   ]
  },
  {
   "cell_type": "code",
   "execution_count": 2,
   "metadata": {
    "colab": {},
    "colab_type": "code",
    "id": "sRB61Z9rHunc"
   },
   "outputs": [],
   "source": [
    "from sklearn import datasets # if datset is not available, iris can be imported from sklearn\n",
    "import pandas as pd\n",
    "import numpy as np"
   ]
  },
  {
   "cell_type": "code",
   "execution_count": 3,
   "metadata": {},
   "outputs": [],
   "source": [
    "iris=pd.read_csv(\"Iris.csv\")"
   ]
  },
  {
   "cell_type": "code",
   "execution_count": 4,
   "metadata": {},
   "outputs": [
    {
     "data": {
      "text/html": [
       "<div>\n",
       "<style scoped>\n",
       "    .dataframe tbody tr th:only-of-type {\n",
       "        vertical-align: middle;\n",
       "    }\n",
       "\n",
       "    .dataframe tbody tr th {\n",
       "        vertical-align: top;\n",
       "    }\n",
       "\n",
       "    .dataframe thead th {\n",
       "        text-align: right;\n",
       "    }\n",
       "</style>\n",
       "<table border=\"1\" class=\"dataframe\">\n",
       "  <thead>\n",
       "    <tr style=\"text-align: right;\">\n",
       "      <th></th>\n",
       "      <th>Sepal Length (in cm)</th>\n",
       "      <th>Sepal Width in (cm)</th>\n",
       "      <th>Petal length (in cm)</th>\n",
       "      <th>Petal width (in cm)</th>\n",
       "      <th>Class</th>\n",
       "    </tr>\n",
       "  </thead>\n",
       "  <tbody>\n",
       "    <tr>\n",
       "      <th>5</th>\n",
       "      <td>5.4</td>\n",
       "      <td>3.9</td>\n",
       "      <td>1.7</td>\n",
       "      <td>0.4</td>\n",
       "      <td>Iris-setosa</td>\n",
       "    </tr>\n",
       "    <tr>\n",
       "      <th>54</th>\n",
       "      <td>6.5</td>\n",
       "      <td>2.8</td>\n",
       "      <td>4.6</td>\n",
       "      <td>1.5</td>\n",
       "      <td>Iris-versicolor</td>\n",
       "    </tr>\n",
       "    <tr>\n",
       "      <th>63</th>\n",
       "      <td>6.1</td>\n",
       "      <td>2.9</td>\n",
       "      <td>4.7</td>\n",
       "      <td>1.4</td>\n",
       "      <td>Iris-versicolor</td>\n",
       "    </tr>\n",
       "    <tr>\n",
       "      <th>115</th>\n",
       "      <td>6.4</td>\n",
       "      <td>3.2</td>\n",
       "      <td>5.3</td>\n",
       "      <td>2.3</td>\n",
       "      <td>Iris-virginica</td>\n",
       "    </tr>\n",
       "    <tr>\n",
       "      <th>19</th>\n",
       "      <td>5.1</td>\n",
       "      <td>3.8</td>\n",
       "      <td>1.5</td>\n",
       "      <td>0.3</td>\n",
       "      <td>Iris-setosa</td>\n",
       "    </tr>\n",
       "    <tr>\n",
       "      <th>6</th>\n",
       "      <td>4.6</td>\n",
       "      <td>3.4</td>\n",
       "      <td>1.4</td>\n",
       "      <td>0.3</td>\n",
       "      <td>Iris-setosa</td>\n",
       "    </tr>\n",
       "    <tr>\n",
       "      <th>111</th>\n",
       "      <td>6.4</td>\n",
       "      <td>2.7</td>\n",
       "      <td>5.3</td>\n",
       "      <td>1.9</td>\n",
       "      <td>Iris-virginica</td>\n",
       "    </tr>\n",
       "    <tr>\n",
       "      <th>28</th>\n",
       "      <td>5.2</td>\n",
       "      <td>3.4</td>\n",
       "      <td>1.4</td>\n",
       "      <td>0.2</td>\n",
       "      <td>Iris-setosa</td>\n",
       "    </tr>\n",
       "    <tr>\n",
       "      <th>73</th>\n",
       "      <td>6.1</td>\n",
       "      <td>2.8</td>\n",
       "      <td>4.7</td>\n",
       "      <td>1.2</td>\n",
       "      <td>Iris-versicolor</td>\n",
       "    </tr>\n",
       "    <tr>\n",
       "      <th>50</th>\n",
       "      <td>7.0</td>\n",
       "      <td>3.2</td>\n",
       "      <td>4.7</td>\n",
       "      <td>1.4</td>\n",
       "      <td>Iris-versicolor</td>\n",
       "    </tr>\n",
       "  </tbody>\n",
       "</table>\n",
       "</div>"
      ],
      "text/plain": [
       "     Sepal Length (in cm)  Sepal Width in (cm)  Petal length (in cm)  \\\n",
       "5                     5.4                  3.9                   1.7   \n",
       "54                    6.5                  2.8                   4.6   \n",
       "63                    6.1                  2.9                   4.7   \n",
       "115                   6.4                  3.2                   5.3   \n",
       "19                    5.1                  3.8                   1.5   \n",
       "6                     4.6                  3.4                   1.4   \n",
       "111                   6.4                  2.7                   5.3   \n",
       "28                    5.2                  3.4                   1.4   \n",
       "73                    6.1                  2.8                   4.7   \n",
       "50                    7.0                  3.2                   4.7   \n",
       "\n",
       "     Petal width (in cm)            Class  \n",
       "5                    0.4      Iris-setosa  \n",
       "54                   1.5  Iris-versicolor  \n",
       "63                   1.4  Iris-versicolor  \n",
       "115                  2.3   Iris-virginica  \n",
       "19                   0.3      Iris-setosa  \n",
       "6                    0.3      Iris-setosa  \n",
       "111                  1.9   Iris-virginica  \n",
       "28                   0.2      Iris-setosa  \n",
       "73                   1.2  Iris-versicolor  \n",
       "50                   1.4  Iris-versicolor  "
      ]
     },
     "execution_count": 4,
     "metadata": {},
     "output_type": "execute_result"
    }
   ],
   "source": [
    "iris.sample(10)"
   ]
  },
  {
   "cell_type": "code",
   "execution_count": 5,
   "metadata": {},
   "outputs": [
    {
     "data": {
      "text/plain": [
       "(150, 5)"
      ]
     },
     "execution_count": 5,
     "metadata": {},
     "output_type": "execute_result"
    }
   ],
   "source": [
    "iris.shape"
   ]
  },
  {
   "cell_type": "markdown",
   "metadata": {
    "colab_type": "text",
    "id": "b9C0p94MHunh"
   },
   "source": [
    "## Data Pre-processing"
   ]
  },
  {
   "cell_type": "markdown",
   "metadata": {
    "colab_type": "text",
    "id": "jGECp-6FHunj"
   },
   "source": [
    "## Question 2 - Estimating missing values\n",
    "\n",
    "*Its not good to remove the records having missing values all the time. We may end up loosing some data points. So, we will have to see how to replace those missing values with some estimated values (median) *"
   ]
  },
  {
   "cell_type": "code",
   "execution_count": 6,
   "metadata": {
    "colab": {},
    "colab_type": "code",
    "id": "O_dYSD1zHunl"
   },
   "outputs": [
    {
     "data": {
      "text/plain": [
       "Sepal Length (in cm)    False\n",
       "Sepal Width in (cm)     False\n",
       "Petal length (in cm)    False\n",
       "Petal width (in cm)     False\n",
       "Class                   False\n",
       "dtype: bool"
      ]
     },
     "execution_count": 6,
     "metadata": {},
     "output_type": "execute_result"
    }
   ],
   "source": [
    "iris.isnull().any() \n",
    "# The datset doesn't have any missing values."
   ]
  },
  {
   "cell_type": "code",
   "execution_count": 7,
   "metadata": {},
   "outputs": [
    {
     "data": {
      "text/html": [
       "<div>\n",
       "<style scoped>\n",
       "    .dataframe tbody tr th:only-of-type {\n",
       "        vertical-align: middle;\n",
       "    }\n",
       "\n",
       "    .dataframe tbody tr th {\n",
       "        vertical-align: top;\n",
       "    }\n",
       "\n",
       "    .dataframe thead th {\n",
       "        text-align: right;\n",
       "    }\n",
       "</style>\n",
       "<table border=\"1\" class=\"dataframe\">\n",
       "  <thead>\n",
       "    <tr style=\"text-align: right;\">\n",
       "      <th></th>\n",
       "      <th>Sepal Length (in cm)</th>\n",
       "      <th>Sepal Width in (cm)</th>\n",
       "      <th>Petal length (in cm)</th>\n",
       "      <th>Petal width (in cm)</th>\n",
       "    </tr>\n",
       "  </thead>\n",
       "  <tbody>\n",
       "    <tr>\n",
       "      <th>count</th>\n",
       "      <td>150.000000</td>\n",
       "      <td>150.000000</td>\n",
       "      <td>150.000000</td>\n",
       "      <td>150.000000</td>\n",
       "    </tr>\n",
       "    <tr>\n",
       "      <th>mean</th>\n",
       "      <td>5.843333</td>\n",
       "      <td>3.054000</td>\n",
       "      <td>3.758667</td>\n",
       "      <td>1.198667</td>\n",
       "    </tr>\n",
       "    <tr>\n",
       "      <th>std</th>\n",
       "      <td>0.828066</td>\n",
       "      <td>0.433594</td>\n",
       "      <td>1.764420</td>\n",
       "      <td>0.763161</td>\n",
       "    </tr>\n",
       "    <tr>\n",
       "      <th>min</th>\n",
       "      <td>4.300000</td>\n",
       "      <td>2.000000</td>\n",
       "      <td>1.000000</td>\n",
       "      <td>0.100000</td>\n",
       "    </tr>\n",
       "    <tr>\n",
       "      <th>25%</th>\n",
       "      <td>5.100000</td>\n",
       "      <td>2.800000</td>\n",
       "      <td>1.600000</td>\n",
       "      <td>0.300000</td>\n",
       "    </tr>\n",
       "    <tr>\n",
       "      <th>50%</th>\n",
       "      <td>5.800000</td>\n",
       "      <td>3.000000</td>\n",
       "      <td>4.350000</td>\n",
       "      <td>1.300000</td>\n",
       "    </tr>\n",
       "    <tr>\n",
       "      <th>75%</th>\n",
       "      <td>6.400000</td>\n",
       "      <td>3.300000</td>\n",
       "      <td>5.100000</td>\n",
       "      <td>1.800000</td>\n",
       "    </tr>\n",
       "    <tr>\n",
       "      <th>max</th>\n",
       "      <td>7.900000</td>\n",
       "      <td>4.400000</td>\n",
       "      <td>6.900000</td>\n",
       "      <td>2.500000</td>\n",
       "    </tr>\n",
       "  </tbody>\n",
       "</table>\n",
       "</div>"
      ],
      "text/plain": [
       "       Sepal Length (in cm)  Sepal Width in (cm)  Petal length (in cm)  \\\n",
       "count            150.000000           150.000000            150.000000   \n",
       "mean               5.843333             3.054000              3.758667   \n",
       "std                0.828066             0.433594              1.764420   \n",
       "min                4.300000             2.000000              1.000000   \n",
       "25%                5.100000             2.800000              1.600000   \n",
       "50%                5.800000             3.000000              4.350000   \n",
       "75%                6.400000             3.300000              5.100000   \n",
       "max                7.900000             4.400000              6.900000   \n",
       "\n",
       "       Petal width (in cm)  \n",
       "count           150.000000  \n",
       "mean              1.198667  \n",
       "std               0.763161  \n",
       "min               0.100000  \n",
       "25%               0.300000  \n",
       "50%               1.300000  \n",
       "75%               1.800000  \n",
       "max               2.500000  "
      ]
     },
     "execution_count": 7,
     "metadata": {},
     "output_type": "execute_result"
    }
   ],
   "source": [
    "iris.describe()"
   ]
  },
  {
   "cell_type": "markdown",
   "metadata": {
    "colab_type": "text",
    "id": "Lzf0ZdGMHunq"
   },
   "source": [
    "## Question 3 - Dealing with categorical data\n",
    "\n",
    "Change all the classes to numericals (0to2)."
   ]
  },
  {
   "cell_type": "markdown",
   "metadata": {
    "colab": {},
    "colab_type": "code",
    "id": "C6rpSp2yHuns"
   },
   "source": [
    "#from sklearn.preprocessing import LabelEncoder\n",
    "#labelencoder=LabelEncoder()\n",
    "#iris['Class'] = labelencoder.fit_transform(iris['Class'])\n",
    "# This can be done using label encoder but the disadvantage for using label encoder in this case is that the model will #consider 0<1<2 which is not the case in this situation. "
   ]
  },
  {
   "cell_type": "code",
   "execution_count": 8,
   "metadata": {},
   "outputs": [],
   "source": [
    "iris['Class']=iris['Class'].astype(\"category\").cat.codes"
   ]
  },
  {
   "cell_type": "code",
   "execution_count": 9,
   "metadata": {},
   "outputs": [
    {
     "data": {
      "text/html": [
       "<div>\n",
       "<style scoped>\n",
       "    .dataframe tbody tr th:only-of-type {\n",
       "        vertical-align: middle;\n",
       "    }\n",
       "\n",
       "    .dataframe tbody tr th {\n",
       "        vertical-align: top;\n",
       "    }\n",
       "\n",
       "    .dataframe thead th {\n",
       "        text-align: right;\n",
       "    }\n",
       "</style>\n",
       "<table border=\"1\" class=\"dataframe\">\n",
       "  <thead>\n",
       "    <tr style=\"text-align: right;\">\n",
       "      <th></th>\n",
       "      <th>Sepal Length (in cm)</th>\n",
       "      <th>Sepal Width in (cm)</th>\n",
       "      <th>Petal length (in cm)</th>\n",
       "      <th>Petal width (in cm)</th>\n",
       "      <th>Class</th>\n",
       "    </tr>\n",
       "  </thead>\n",
       "  <tbody>\n",
       "    <tr>\n",
       "      <th>38</th>\n",
       "      <td>4.4</td>\n",
       "      <td>3.0</td>\n",
       "      <td>1.3</td>\n",
       "      <td>0.2</td>\n",
       "      <td>0</td>\n",
       "    </tr>\n",
       "    <tr>\n",
       "      <th>72</th>\n",
       "      <td>6.3</td>\n",
       "      <td>2.5</td>\n",
       "      <td>4.9</td>\n",
       "      <td>1.5</td>\n",
       "      <td>1</td>\n",
       "    </tr>\n",
       "    <tr>\n",
       "      <th>116</th>\n",
       "      <td>6.5</td>\n",
       "      <td>3.0</td>\n",
       "      <td>5.5</td>\n",
       "      <td>1.8</td>\n",
       "      <td>2</td>\n",
       "    </tr>\n",
       "    <tr>\n",
       "      <th>71</th>\n",
       "      <td>6.1</td>\n",
       "      <td>2.8</td>\n",
       "      <td>4.0</td>\n",
       "      <td>1.3</td>\n",
       "      <td>1</td>\n",
       "    </tr>\n",
       "    <tr>\n",
       "      <th>66</th>\n",
       "      <td>5.6</td>\n",
       "      <td>3.0</td>\n",
       "      <td>4.5</td>\n",
       "      <td>1.5</td>\n",
       "      <td>1</td>\n",
       "    </tr>\n",
       "    <tr>\n",
       "      <th>91</th>\n",
       "      <td>6.1</td>\n",
       "      <td>3.0</td>\n",
       "      <td>4.6</td>\n",
       "      <td>1.4</td>\n",
       "      <td>1</td>\n",
       "    </tr>\n",
       "    <tr>\n",
       "      <th>34</th>\n",
       "      <td>4.9</td>\n",
       "      <td>3.1</td>\n",
       "      <td>1.5</td>\n",
       "      <td>0.1</td>\n",
       "      <td>0</td>\n",
       "    </tr>\n",
       "    <tr>\n",
       "      <th>118</th>\n",
       "      <td>7.7</td>\n",
       "      <td>2.6</td>\n",
       "      <td>6.9</td>\n",
       "      <td>2.3</td>\n",
       "      <td>2</td>\n",
       "    </tr>\n",
       "    <tr>\n",
       "      <th>1</th>\n",
       "      <td>4.9</td>\n",
       "      <td>3.0</td>\n",
       "      <td>1.4</td>\n",
       "      <td>0.2</td>\n",
       "      <td>0</td>\n",
       "    </tr>\n",
       "    <tr>\n",
       "      <th>70</th>\n",
       "      <td>5.9</td>\n",
       "      <td>3.2</td>\n",
       "      <td>4.8</td>\n",
       "      <td>1.8</td>\n",
       "      <td>1</td>\n",
       "    </tr>\n",
       "    <tr>\n",
       "      <th>87</th>\n",
       "      <td>6.3</td>\n",
       "      <td>2.3</td>\n",
       "      <td>4.4</td>\n",
       "      <td>1.3</td>\n",
       "      <td>1</td>\n",
       "    </tr>\n",
       "    <tr>\n",
       "      <th>68</th>\n",
       "      <td>6.2</td>\n",
       "      <td>2.2</td>\n",
       "      <td>4.5</td>\n",
       "      <td>1.5</td>\n",
       "      <td>1</td>\n",
       "    </tr>\n",
       "    <tr>\n",
       "      <th>46</th>\n",
       "      <td>5.1</td>\n",
       "      <td>3.8</td>\n",
       "      <td>1.6</td>\n",
       "      <td>0.2</td>\n",
       "      <td>0</td>\n",
       "    </tr>\n",
       "    <tr>\n",
       "      <th>104</th>\n",
       "      <td>6.5</td>\n",
       "      <td>3.0</td>\n",
       "      <td>5.8</td>\n",
       "      <td>2.2</td>\n",
       "      <td>2</td>\n",
       "    </tr>\n",
       "    <tr>\n",
       "      <th>79</th>\n",
       "      <td>5.7</td>\n",
       "      <td>2.6</td>\n",
       "      <td>3.5</td>\n",
       "      <td>1.0</td>\n",
       "      <td>1</td>\n",
       "    </tr>\n",
       "    <tr>\n",
       "      <th>35</th>\n",
       "      <td>5.0</td>\n",
       "      <td>3.2</td>\n",
       "      <td>1.2</td>\n",
       "      <td>0.2</td>\n",
       "      <td>0</td>\n",
       "    </tr>\n",
       "    <tr>\n",
       "      <th>48</th>\n",
       "      <td>5.3</td>\n",
       "      <td>3.7</td>\n",
       "      <td>1.5</td>\n",
       "      <td>0.2</td>\n",
       "      <td>0</td>\n",
       "    </tr>\n",
       "    <tr>\n",
       "      <th>103</th>\n",
       "      <td>6.3</td>\n",
       "      <td>2.9</td>\n",
       "      <td>5.6</td>\n",
       "      <td>1.8</td>\n",
       "      <td>2</td>\n",
       "    </tr>\n",
       "    <tr>\n",
       "      <th>26</th>\n",
       "      <td>5.0</td>\n",
       "      <td>3.4</td>\n",
       "      <td>1.6</td>\n",
       "      <td>0.4</td>\n",
       "      <td>0</td>\n",
       "    </tr>\n",
       "    <tr>\n",
       "      <th>65</th>\n",
       "      <td>6.7</td>\n",
       "      <td>3.1</td>\n",
       "      <td>4.4</td>\n",
       "      <td>1.4</td>\n",
       "      <td>1</td>\n",
       "    </tr>\n",
       "  </tbody>\n",
       "</table>\n",
       "</div>"
      ],
      "text/plain": [
       "     Sepal Length (in cm)  Sepal Width in (cm)  Petal length (in cm)  \\\n",
       "38                    4.4                  3.0                   1.3   \n",
       "72                    6.3                  2.5                   4.9   \n",
       "116                   6.5                  3.0                   5.5   \n",
       "71                    6.1                  2.8                   4.0   \n",
       "66                    5.6                  3.0                   4.5   \n",
       "91                    6.1                  3.0                   4.6   \n",
       "34                    4.9                  3.1                   1.5   \n",
       "118                   7.7                  2.6                   6.9   \n",
       "1                     4.9                  3.0                   1.4   \n",
       "70                    5.9                  3.2                   4.8   \n",
       "87                    6.3                  2.3                   4.4   \n",
       "68                    6.2                  2.2                   4.5   \n",
       "46                    5.1                  3.8                   1.6   \n",
       "104                   6.5                  3.0                   5.8   \n",
       "79                    5.7                  2.6                   3.5   \n",
       "35                    5.0                  3.2                   1.2   \n",
       "48                    5.3                  3.7                   1.5   \n",
       "103                   6.3                  2.9                   5.6   \n",
       "26                    5.0                  3.4                   1.6   \n",
       "65                    6.7                  3.1                   4.4   \n",
       "\n",
       "     Petal width (in cm)  Class  \n",
       "38                   0.2      0  \n",
       "72                   1.5      1  \n",
       "116                  1.8      2  \n",
       "71                   1.3      1  \n",
       "66                   1.5      1  \n",
       "91                   1.4      1  \n",
       "34                   0.1      0  \n",
       "118                  2.3      2  \n",
       "1                    0.2      0  \n",
       "70                   1.8      1  \n",
       "87                   1.3      1  \n",
       "68                   1.5      1  \n",
       "46                   0.2      0  \n",
       "104                  2.2      2  \n",
       "79                   1.0      1  \n",
       "35                   0.2      0  \n",
       "48                   0.2      0  \n",
       "103                  1.8      2  \n",
       "26                   0.4      0  \n",
       "65                   1.4      1  "
      ]
     },
     "execution_count": 9,
     "metadata": {},
     "output_type": "execute_result"
    }
   ],
   "source": [
    "iris.sample(20)\n",
    "# The classes have been changed to  numericals (0 to 2)"
   ]
  },
  {
   "cell_type": "markdown",
   "metadata": {
    "colab_type": "text",
    "id": "GdXGD0yAHunx"
   },
   "source": [
    "## Question 4\n",
    "\n",
    "*Observe the association of each independent variable with target variable and drop variables from feature set having correlation in range -0.1 to 0.1 with target variable.*"
   ]
  },
  {
   "cell_type": "code",
   "execution_count": 10,
   "metadata": {
    "colab": {},
    "colab_type": "code",
    "id": "UP3Cxwj3Huny",
    "scrolled": true
   },
   "outputs": [
    {
     "data": {
      "text/html": [
       "<div>\n",
       "<style scoped>\n",
       "    .dataframe tbody tr th:only-of-type {\n",
       "        vertical-align: middle;\n",
       "    }\n",
       "\n",
       "    .dataframe tbody tr th {\n",
       "        vertical-align: top;\n",
       "    }\n",
       "\n",
       "    .dataframe thead th {\n",
       "        text-align: right;\n",
       "    }\n",
       "</style>\n",
       "<table border=\"1\" class=\"dataframe\">\n",
       "  <thead>\n",
       "    <tr style=\"text-align: right;\">\n",
       "      <th></th>\n",
       "      <th>Sepal Length (in cm)</th>\n",
       "      <th>Sepal Width in (cm)</th>\n",
       "      <th>Petal length (in cm)</th>\n",
       "      <th>Petal width (in cm)</th>\n",
       "      <th>Class</th>\n",
       "    </tr>\n",
       "  </thead>\n",
       "  <tbody>\n",
       "    <tr>\n",
       "      <th>Sepal Length (in cm)</th>\n",
       "      <td>1.000000</td>\n",
       "      <td>-0.109369</td>\n",
       "      <td>0.871754</td>\n",
       "      <td>0.817954</td>\n",
       "      <td>0.782561</td>\n",
       "    </tr>\n",
       "    <tr>\n",
       "      <th>Sepal Width in (cm)</th>\n",
       "      <td>-0.109369</td>\n",
       "      <td>1.000000</td>\n",
       "      <td>-0.420516</td>\n",
       "      <td>-0.356544</td>\n",
       "      <td>-0.419446</td>\n",
       "    </tr>\n",
       "    <tr>\n",
       "      <th>Petal length (in cm)</th>\n",
       "      <td>0.871754</td>\n",
       "      <td>-0.420516</td>\n",
       "      <td>1.000000</td>\n",
       "      <td>0.962757</td>\n",
       "      <td>0.949043</td>\n",
       "    </tr>\n",
       "    <tr>\n",
       "      <th>Petal width (in cm)</th>\n",
       "      <td>0.817954</td>\n",
       "      <td>-0.356544</td>\n",
       "      <td>0.962757</td>\n",
       "      <td>1.000000</td>\n",
       "      <td>0.956464</td>\n",
       "    </tr>\n",
       "    <tr>\n",
       "      <th>Class</th>\n",
       "      <td>0.782561</td>\n",
       "      <td>-0.419446</td>\n",
       "      <td>0.949043</td>\n",
       "      <td>0.956464</td>\n",
       "      <td>1.000000</td>\n",
       "    </tr>\n",
       "  </tbody>\n",
       "</table>\n",
       "</div>"
      ],
      "text/plain": [
       "                      Sepal Length (in cm)  Sepal Width in (cm)  \\\n",
       "Sepal Length (in cm)              1.000000            -0.109369   \n",
       "Sepal Width in (cm)              -0.109369             1.000000   \n",
       "Petal length (in cm)              0.871754            -0.420516   \n",
       "Petal width (in cm)               0.817954            -0.356544   \n",
       "Class                             0.782561            -0.419446   \n",
       "\n",
       "                      Petal length (in cm)  Petal width (in cm)     Class  \n",
       "Sepal Length (in cm)              0.871754             0.817954  0.782561  \n",
       "Sepal Width in (cm)              -0.420516            -0.356544 -0.419446  \n",
       "Petal length (in cm)              1.000000             0.962757  0.949043  \n",
       "Petal width (in cm)               0.962757             1.000000  0.956464  \n",
       "Class                             0.949043             0.956464  1.000000  "
      ]
     },
     "execution_count": 10,
     "metadata": {},
     "output_type": "execute_result"
    }
   ],
   "source": [
    "iris.corr()\n"
   ]
  },
  {
   "cell_type": "code",
   "execution_count": 11,
   "metadata": {},
   "outputs": [],
   "source": [
    "# As none of the independent variables have correlation in the range -0.1 to 0.1 with the target i.e. species variable so we do not have to drop any variable"
   ]
  },
  {
   "cell_type": "markdown",
   "metadata": {
    "colab_type": "text",
    "id": "oQ0XwK2qHun4"
   },
   "source": [
    "## Question 5\n",
    "\n",
    "*Observe the independent variables variance and drop such variables having no variance or almost zero variance(variance < 0.1). They will be having almost no influence on the classification.*"
   ]
  },
  {
   "cell_type": "code",
   "execution_count": 12,
   "metadata": {},
   "outputs": [
    {
     "data": {
      "text/plain": [
       "Sepal Length (in cm)    0.685694\n",
       "Sepal Width in (cm)     0.188004\n",
       "Petal length (in cm)    3.113179\n",
       "Petal width (in cm)     0.582414\n",
       "Class                   0.671141\n",
       "dtype: float64"
      ]
     },
     "execution_count": 12,
     "metadata": {},
     "output_type": "execute_result"
    }
   ],
   "source": [
    "iris.var()\n",
    "# there are no variables having no variance or almost zero variance(variance < 0.1)"
   ]
  },
  {
   "cell_type": "code",
   "execution_count": 13,
   "metadata": {},
   "outputs": [],
   "source": [
    "#import sklearn\n",
    "#sklearn.feature_selection.VarianceThreshold()\n",
    "#another way showing no variables have zero variance or almost zero variance"
   ]
  },
  {
   "cell_type": "markdown",
   "metadata": {
    "colab_type": "text",
    "id": "H7Ajl_WfHuoB"
   },
   "source": [
    "## Question 6\n",
    "\n",
    "*Plot the scatter matrix for all the variables.*"
   ]
  },
  {
   "cell_type": "code",
   "execution_count": 15,
   "metadata": {
    "colab": {},
    "colab_type": "code",
    "id": "np7YAIF8HuoC"
   },
   "outputs": [
    {
     "data": {
      "text/plain": [
       "<seaborn.axisgrid.PairGrid at 0x2347604e780>"
      ]
     },
     "execution_count": 15,
     "metadata": {},
     "output_type": "execute_result"
    },
    {
     "data": {
      "image/png": "[encoded data removed]",
      "text/plain": [
       "<Figure size 945.725x900 with 30 Axes>"
      ]
     },
     "metadata": {},
     "output_type": "display_data"
    }
   ],
   "source": [
    "import seaborn as sns\n",
    "sns.set(style=\"ticks\")\n",
    "sns.pairplot(iris, hue=\"Class\")"
   ]
  },
  {
   "cell_type": "markdown",
   "metadata": {
    "colab_type": "text",
    "id": "86y0-5mUHuoK"
   },
   "source": [
    "## Split the dataset into training and test sets\n",
    "\n",
    "## Question 7\n",
    "\n",
    "*Split the dataset into training and test sets with 80-20 ratio.*"
   ]
  },
  {
   "cell_type": "code",
   "execution_count": 16,
   "metadata": {
    "colab": {},
    "colab_type": "code",
    "id": "ucaAL9l0HuoM"
   },
   "outputs": [],
   "source": [
    "from sklearn.model_selection import train_test_split\n"
   ]
  },
  {
   "cell_type": "code",
   "execution_count": 17,
   "metadata": {},
   "outputs": [],
   "source": [
    "x=iris.drop(['Class'],axis=1)\n",
    "y=iris['Class']"
   ]
  },
  {
   "cell_type": "code",
   "execution_count": 18,
   "metadata": {},
   "outputs": [],
   "source": [
    "xTrain, xTest, yTrain, yTest = train_test_split(x, y, test_size = 0.2, random_state = 143)\n",
    "# splitting the dataset into training and test sets with 80-20 ratio."
   ]
  },
  {
   "cell_type": "markdown",
   "metadata": {
    "colab_type": "text",
    "id": "0NBIs8ryHuoS"
   },
   "source": [
    "## Question 8 - Model\n",
    "\n",
    "*Build the model and train and test on training and test sets respectively using **scikit-learn**. Print the Accuracy of the model with different values of **k=3,5,9**.*\n",
    "\n",
    "**Hint:** For accuracy you can check **accuracy_score()** in scikit-learn"
   ]
  },
  {
   "cell_type": "code",
   "execution_count": 19,
   "metadata": {
    "colab": {},
    "colab_type": "code",
    "id": "SyAgXdpmHuoU"
   },
   "outputs": [],
   "source": [
    "from sklearn.neighbors import KNeighborsClassifier\n",
    "from sklearn.metrics import accuracy_score"
   ]
  },
  {
   "cell_type": "code",
   "execution_count": 20,
   "metadata": {},
   "outputs": [],
   "source": [
    "# for k=3\n",
    "model= KNeighborsClassifier(n_neighbors=3)"
   ]
  },
  {
   "cell_type": "code",
   "execution_count": 21,
   "metadata": {},
   "outputs": [],
   "source": [
    "model=model.fit(xTrain,yTrain)"
   ]
  },
  {
   "cell_type": "code",
   "execution_count": 22,
   "metadata": {},
   "outputs": [],
   "source": [
    "y_pred=model.predict(xTest)"
   ]
  },
  {
   "cell_type": "code",
   "execution_count": 23,
   "metadata": {},
   "outputs": [
    {
     "data": {
      "text/plain": [
       "0.9333333333333333"
      ]
     },
     "execution_count": 23,
     "metadata": {},
     "output_type": "execute_result"
    }
   ],
   "source": [
    "accuracy_score(yTest,y_pred)\n",
    "#accuracy for k=3"
   ]
  },
  {
   "cell_type": "code",
   "execution_count": 24,
   "metadata": {},
   "outputs": [],
   "source": [
    "# Similarly for k=5"
   ]
  },
  {
   "cell_type": "code",
   "execution_count": 25,
   "metadata": {},
   "outputs": [
    {
     "data": {
      "text/plain": [
       "0.9333333333333333"
      ]
     },
     "execution_count": 25,
     "metadata": {},
     "output_type": "execute_result"
    }
   ],
   "source": [
    "model= KNeighborsClassifier(n_neighbors=5)\n",
    "model=model.fit(xTrain,yTrain)\n",
    "y_pred=model.predict(xTest)\n",
    "accuracy_score(yTest,y_pred)"
   ]
  },
  {
   "cell_type": "code",
   "execution_count": 26,
   "metadata": {},
   "outputs": [],
   "source": [
    "# Similarly for k=9"
   ]
  },
  {
   "cell_type": "code",
   "execution_count": 27,
   "metadata": {},
   "outputs": [
    {
     "data": {
      "text/plain": [
       "0.9333333333333333"
      ]
     },
     "execution_count": 27,
     "metadata": {},
     "output_type": "execute_result"
    }
   ],
   "source": [
    "model= KNeighborsClassifier(n_neighbors=9)\n",
    "model=model.fit(xTrain,yTrain)\n",
    "y_pred=model.predict(xTest)\n",
    "accuracy_score(yTest,y_pred)"
   ]
  },
  {
   "cell_type": "markdown",
   "metadata": {
    "colab_type": "text",
    "id": "SsPnubVeHuoY"
   },
   "source": [
    "## Question 9 - Cross Validation\n",
    "\n",
    "Run the KNN with no of neighbours to be 1,3,5..19 and *Find the **optimal number of neighbours** from the above list using the Mis classification error"
   ]
  },
  {
   "cell_type": "markdown",
   "metadata": {
    "colab_type": "text",
    "id": "jY6Vy-IjHuoZ"
   },
   "source": [
    "Hint:\n",
    "\n",
    "Misclassification error (MSE) = 1 - Test accuracy score. Calculated MSE for each model with neighbours = 1,3,5...19 and find the model with lowest MSE"
   ]
  },
  {
   "cell_type": "code",
   "execution_count": 28,
   "metadata": {
    "colab": {},
    "colab_type": "code",
    "id": "L3RcCZTxHuob"
   },
   "outputs": [
    {
     "data": {
      "text/plain": [
       "array([ 1,  3,  5,  7,  9, 11, 13, 15, 17, 19])"
      ]
     },
     "execution_count": 28,
     "metadata": {},
     "output_type": "execute_result"
    }
   ],
   "source": [
    "k=np.arange(1,20,2)\n",
    "k"
   ]
  },
  {
   "cell_type": "code",
   "execution_count": 29,
   "metadata": {},
   "outputs": [],
   "source": [
    "accuracy_scores=[]\n",
    "for i in k:\n",
    "    model= KNeighborsClassifier(n_neighbors= i)\n",
    "    model=model.fit(xTrain,yTrain)\n",
    "    y_pred=model.predict(xTest)\n",
    "    accuracy_scores.append(accuracy_score(yTest,y_pred))"
   ]
  },
  {
   "cell_type": "code",
   "execution_count": 30,
   "metadata": {},
   "outputs": [
    {
     "data": {
      "text/plain": [
       "[0.9333333333333333,\n",
       " 0.9333333333333333,\n",
       " 0.9333333333333333,\n",
       " 0.9666666666666667,\n",
       " 0.9333333333333333,\n",
       " 0.9333333333333333,\n",
       " 0.9666666666666667,\n",
       " 0.9666666666666667,\n",
       " 0.9666666666666667,\n",
       " 0.9666666666666667]"
      ]
     },
     "execution_count": 30,
     "metadata": {},
     "output_type": "execute_result"
    }
   ],
   "source": [
    "accuracy_scores\n",
    "#all the accuracy scores for k=1,3,...19"
   ]
  },
  {
   "cell_type": "code",
   "execution_count": 31,
   "metadata": {},
   "outputs": [],
   "source": [
    "mse=[]\n",
    "for i in accuracy_scores:\n",
    "    mse.append(1-i)"
   ]
  },
  {
   "cell_type": "code",
   "execution_count": 32,
   "metadata": {},
   "outputs": [
    {
     "data": {
      "text/plain": [
       "[0.06666666666666665,\n",
       " 0.06666666666666665,\n",
       " 0.06666666666666665,\n",
       " 0.033333333333333326,\n",
       " 0.06666666666666665,\n",
       " 0.06666666666666665,\n",
       " 0.033333333333333326,\n",
       " 0.033333333333333326,\n",
       " 0.033333333333333326,\n",
       " 0.033333333333333326]"
      ]
     },
     "execution_count": 32,
     "metadata": {},
     "output_type": "execute_result"
    }
   ],
   "source": [
    "mse\n",
    "# mse for all k's"
   ]
  },
  {
   "cell_type": "code",
   "execution_count": 33,
   "metadata": {},
   "outputs": [
    {
     "data": {
      "text/plain": [
       "0.033333333333333326"
      ]
     },
     "execution_count": 33,
     "metadata": {},
     "output_type": "execute_result"
    }
   ],
   "source": [
    "min(mse) # least mse"
   ]
  },
  {
   "cell_type": "code",
   "execution_count": 34,
   "metadata": {},
   "outputs": [
    {
     "data": {
      "text/plain": [
       "3"
      ]
     },
     "execution_count": 34,
     "metadata": {},
     "output_type": "execute_result"
    }
   ],
   "source": [
    "mse.index(0.033333333333333326)"
   ]
  },
  {
   "cell_type": "code",
   "execution_count": 35,
   "metadata": {},
   "outputs": [
    {
     "data": {
      "text/plain": [
       "0.9666666666666667"
      ]
     },
     "execution_count": 35,
     "metadata": {},
     "output_type": "execute_result"
    }
   ],
   "source": [
    "model= KNeighborsClassifier(n_neighbors=7)\n",
    "model=model.fit(xTrain,yTrain)\n",
    "y_pred=model.predict(xTest)\n",
    "accuracy_score(yTest,y_pred)\n",
    "# Max accuracy with least value of k is achieved at k=7 because in the list k at the third index we have the value 7 which is getting the least mse"
   ]
  },
  {
   "cell_type": "markdown",
   "metadata": {
    "colab_type": "text",
    "id": "qPj4qKLdHuog"
   },
   "source": [
    "## Question 10\n",
    "\n",
    "*Plot misclassification error vs k (with k value on X-axis) using matplotlib.*"
   ]
  },
  {
   "cell_type": "code",
   "execution_count": 36,
   "metadata": {
    "colab": {},
    "colab_type": "code",
    "id": "DkO_m64YHuoh"
   },
   "outputs": [
    {
     "data": {
      "text/plain": [
       "[<matplotlib.lines.Line2D at 0x23478b8d400>]"
      ]
     },
     "execution_count": 36,
     "metadata": {},
     "output_type": "execute_result"
    },
    {
     "data": {
      "image/png": "[encoded data removed]",
      "text/plain": [
       "<Figure size 432x288 with 1 Axes>"
      ]
     },
     "metadata": {
      "needs_background": "light"
     },
     "output_type": "display_data"
    }
   ],
   "source": [
    "%matplotlib inline\n",
    "import matplotlib.pyplot as plt\n",
    "plt.plot(k,mse)"
   ]
  },
  {
   "cell_type": "markdown",
   "metadata": {
    "colab_type": "text",
    "id": "v6sXbH93Huol"
   },
   "source": [
    "# Naive Bayes with Iris Data"
   ]
  },
  {
   "cell_type": "code",
   "execution_count": 37,
   "metadata": {
    "colab": {},
    "colab_type": "code",
    "id": "Fwgqcy8iHuon"
   },
   "outputs": [],
   "source": [
    "#Load all required library\n",
    "import pandas as pd\n",
    "import numpy as np\n",
    "from matplotlib import pyplot as plt\n",
    "%matplotlib inline\n",
    "from sklearn import datasets\n",
    "from sklearn.decomposition import PCA\n"
   ]
  },
  {
   "cell_type": "markdown",
   "metadata": {
    "colab_type": "text",
    "id": "mSUZN0ExHuot"
   },
   "source": [
    "### Slice  Iris data set for Independent variables and dependent variables\n",
    "#### Please note 'Species' is my dependent variables, name it y and independent set data as X"
   ]
  },
  {
   "cell_type": "code",
   "execution_count": 38,
   "metadata": {
    "colab": {},
    "colab_type": "code",
    "id": "MtjTNX6bHuov"
   },
   "outputs": [],
   "source": [
    "X=iris.drop(['Class'], axis=1)\n",
    "y=iris['Class']"
   ]
  },
  {
   "cell_type": "code",
   "execution_count": 39,
   "metadata": {
    "colab": {},
    "colab_type": "code",
    "id": "z4oZginZHuo2"
   },
   "outputs": [
    {
     "name": "stdout",
     "output_type": "stream",
     "text": [
      "0      0\n",
      "1      0\n",
      "2      0\n",
      "3      0\n",
      "4      0\n",
      "5      0\n",
      "6      0\n",
      "7      0\n",
      "8      0\n",
      "9      0\n",
      "10     0\n",
      "11     0\n",
      "12     0\n",
      "13     0\n",
      "14     0\n",
      "15     0\n",
      "16     0\n",
      "17     0\n",
      "18     0\n",
      "19     0\n",
      "20     0\n",
      "21     0\n",
      "22     0\n",
      "23     0\n",
      "24     0\n",
      "25     0\n",
      "26     0\n",
      "27     0\n",
      "28     0\n",
      "29     0\n",
      "      ..\n",
      "120    2\n",
      "121    2\n",
      "122    2\n",
      "123    2\n",
      "124    2\n",
      "125    2\n",
      "126    2\n",
      "127    2\n",
      "128    2\n",
      "129    2\n",
      "130    2\n",
      "131    2\n",
      "132    2\n",
      "133    2\n",
      "134    2\n",
      "135    2\n",
      "136    2\n",
      "137    2\n",
      "138    2\n",
      "139    2\n",
      "140    2\n",
      "141    2\n",
      "142    2\n",
      "143    2\n",
      "144    2\n",
      "145    2\n",
      "146    2\n",
      "147    2\n",
      "148    2\n",
      "149    2\n",
      "Name: Class, Length: 150, dtype: int8\n",
      "     Sepal Length (in cm)  Sepal Width in (cm)  Petal length (in cm)  \\\n",
      "0                     5.1                  3.5                   1.4   \n",
      "1                     4.9                  3.0                   1.4   \n",
      "2                     4.7                  3.2                   1.3   \n",
      "3                     4.6                  3.1                   1.5   \n",
      "4                     5.0                  3.6                   1.4   \n",
      "5                     5.4                  3.9                   1.7   \n",
      "6                     4.6                  3.4                   1.4   \n",
      "7                     5.0                  3.4                   1.5   \n",
      "8                     4.4                  2.9                   1.4   \n",
      "9                     4.9                  3.1                   1.5   \n",
      "10                    5.4                  3.7                   1.5   \n",
      "11                    4.8                  3.4                   1.6   \n",
      "12                    4.8                  3.0                   1.4   \n",
      "13                    4.3                  3.0                   1.1   \n",
      "14                    5.8                  4.0                   1.2   \n",
      "15                    5.7                  4.4                   1.5   \n",
      "16                    5.4                  3.9                   1.3   \n",
      "17                    5.1                  3.5                   1.4   \n",
      "18                    5.7                  3.8                   1.7   \n",
      "19                    5.1                  3.8                   1.5   \n",
      "20                    5.4                  3.4                   1.7   \n",
      "21                    5.1                  3.7                   1.5   \n",
      "22                    4.6                  3.6                   1.0   \n",
      "23                    5.1                  3.3                   1.7   \n",
      "24                    4.8                  3.4                   1.9   \n",
      "25                    5.0                  3.0                   1.6   \n",
      "26                    5.0                  3.4                   1.6   \n",
      "27                    5.2                  3.5                   1.5   \n",
      "28                    5.2                  3.4                   1.4   \n",
      "29                    4.7                  3.2                   1.6   \n",
      "..                    ...                  ...                   ...   \n",
      "120                   6.9                  3.2                   5.7   \n",
      "121                   5.6                  2.8                   4.9   \n",
      "122                   7.7                  2.8                   6.7   \n",
      "123                   6.3                  2.7                   4.9   \n",
      "124                   6.7                  3.3                   5.7   \n",
      "125                   7.2                  3.2                   6.0   \n",
      "126                   6.2                  2.8                   4.8   \n",
      "127                   6.1                  3.0                   4.9   \n",
      "128                   6.4                  2.8                   5.6   \n",
      "129                   7.2                  3.0                   5.8   \n",
      "130                   7.4                  2.8                   6.1   \n",
      "131                   7.9                  3.8                   6.4   \n",
      "132                   6.4                  2.8                   5.6   \n",
      "133                   6.3                  2.8                   5.1   \n",
      "134                   6.1                  2.6                   5.6   \n",
      "135                   7.7                  3.0                   6.1   \n",
      "136                   6.3                  3.4                   5.6   \n",
      "137                   6.4                  3.1                   5.5   \n",
      "138                   6.0                  3.0                   4.8   \n",
      "139                   6.9                  3.1                   5.4   \n",
      "140                   6.7                  3.1                   5.6   \n",
      "141                   6.9                  3.1                   5.1   \n",
      "142                   5.8                  2.7                   5.1   \n",
      "143                   6.8                  3.2                   5.9   \n",
      "144                   6.7                  3.3                   5.7   \n",
      "145                   6.7                  3.0                   5.2   \n",
      "146                   6.3                  2.5                   5.0   \n",
      "147                   6.5                  3.0                   5.2   \n",
      "148                   6.2                  3.4                   5.4   \n",
      "149                   5.9                  3.0                   5.1   \n",
      "\n",
      "     Petal width (in cm)  \n",
      "0                    0.2  \n",
      "1                    0.2  \n",
      "2                    0.2  \n",
      "3                    0.2  \n",
      "4                    0.2  \n",
      "5                    0.4  \n",
      "6                    0.3  \n",
      "7                    0.2  \n",
      "8                    0.2  \n",
      "9                    0.1  \n",
      "10                   0.2  \n",
      "11                   0.2  \n",
      "12                   0.1  \n",
      "13                   0.1  \n",
      "14                   0.2  \n",
      "15                   0.4  \n",
      "16                   0.4  \n",
      "17                   0.3  \n",
      "18                   0.3  \n",
      "19                   0.3  \n",
      "20                   0.2  \n",
      "21                   0.4  \n",
      "22                   0.2  \n",
      "23                   0.5  \n",
      "24                   0.2  \n",
      "25                   0.2  \n",
      "26                   0.4  \n",
      "27                   0.2  \n",
      "28                   0.2  \n",
      "29                   0.2  \n",
      "..                   ...  \n",
      "120                  2.3  \n",
      "121                  2.0  \n",
      "122                  2.0  \n",
      "123                  1.8  \n",
      "124                  2.1  \n",
      "125                  1.8  \n",
      "126                  1.8  \n",
      "127                  1.8  \n",
      "128                  2.1  \n",
      "129                  1.6  \n",
      "130                  1.9  \n",
      "131                  2.0  \n",
      "132                  2.2  \n",
      "133                  1.5  \n",
      "134                  1.4  \n",
      "135                  2.3  \n",
      "136                  2.4  \n",
      "137                  1.8  \n",
      "138                  1.8  \n",
      "139                  2.1  \n",
      "140                  2.4  \n",
      "141                  2.3  \n",
      "142                  1.9  \n",
      "143                  2.3  \n",
      "144                  2.5  \n",
      "145                  2.3  \n",
      "146                  1.9  \n",
      "147                  2.0  \n",
      "148                  2.3  \n",
      "149                  1.8  \n",
      "\n",
      "[150 rows x 4 columns]\n"
     ]
    }
   ],
   "source": [
    "#Check the dataset\n",
    "print(y)\n",
    "print(X)"
   ]
  },
  {
   "cell_type": "markdown",
   "metadata": {
    "colab_type": "text",
    "id": "0tjAAFABHuo8"
   },
   "source": [
    "# Question 11 \n",
    "Find the distribution of target variable (Class)\n",
    "\n",
    "And, Plot the distribution of target variable using histogram"
   ]
  },
  {
   "cell_type": "code",
   "execution_count": 40,
   "metadata": {
    "colab": {},
    "colab_type": "code",
    "id": "9MOM08lIHuo-"
   },
   "outputs": [
    {
     "data": {
      "text/plain": [
       "<matplotlib.axes._subplots.AxesSubplot at 0x23478d34e48>"
      ]
     },
     "execution_count": 40,
     "metadata": {},
     "output_type": "execute_result"
    },
    {
     "data": {
      "image/png": "[encoded data removed]",
      "text/plain": [
       "<Figure size 432x288 with 1 Axes>"
      ]
     },
     "metadata": {
      "needs_background": "light"
     },
     "output_type": "display_data"
    }
   ],
   "source": [
    "import seaborn as sns\n",
    "sns.countplot(x='Class', data=iris)"
   ]
  },
  {
   "cell_type": "code",
   "execution_count": 41,
   "metadata": {},
   "outputs": [],
   "source": [
    "#import matplotlib.pyplot as plt\n",
    "\n",
    "#plt.hist(iris['Class'])\n",
    "#plt.ylabel('No of times')\n",
    "#plt.show()"
   ]
  },
  {
   "cell_type": "code",
   "execution_count": 42,
   "metadata": {
    "colab": {},
    "colab_type": "code",
    "id": "RnfaMmoaHupH"
   },
   "outputs": [],
   "source": [
    "#Drop Id variable from data"
   ]
  },
  {
   "cell_type": "code",
   "execution_count": 43,
   "metadata": {},
   "outputs": [
    {
     "data": {
      "text/html": [
       "<style  type=\"text/css\" >\n",
       "</style>  \n",
       "<table id=\"T_6f5e872c_b6b9_11e9_b319_204747c6ba93\" > \n",
       "<thead>    <tr> \n",
       "        <th class=\"col_heading level0 col0\" >Sepal Length (in cm)</th> \n",
       "        <th class=\"col_heading level0 col1\" >Sepal Width in (cm)</th> \n",
       "        <th class=\"col_heading level0 col2\" >Petal length (in cm)</th> \n",
       "        <th class=\"col_heading level0 col3\" >Petal width (in cm)</th> \n",
       "        <th class=\"col_heading level0 col4\" >Class</th> \n",
       "    </tr></thead> \n",
       "<tbody>    <tr> \n",
       "        <td id=\"T_6f5e872c_b6b9_11e9_b319_204747c6ba93row0_col0\" class=\"data row0 col0\" >5.1</td> \n",
       "        <td id=\"T_6f5e872c_b6b9_11e9_b319_204747c6ba93row0_col1\" class=\"data row0 col1\" >3.5</td> \n",
       "        <td id=\"T_6f5e872c_b6b9_11e9_b319_204747c6ba93row0_col2\" class=\"data row0 col2\" >1.4</td> \n",
       "        <td id=\"T_6f5e872c_b6b9_11e9_b319_204747c6ba93row0_col3\" class=\"data row0 col3\" >0.2</td> \n",
       "        <td id=\"T_6f5e872c_b6b9_11e9_b319_204747c6ba93row0_col4\" class=\"data row0 col4\" >0</td> \n",
       "    </tr>    <tr> \n",
       "        <td id=\"T_6f5e872c_b6b9_11e9_b319_204747c6ba93row1_col0\" class=\"data row1 col0\" >4.9</td> \n",
       "        <td id=\"T_6f5e872c_b6b9_11e9_b319_204747c6ba93row1_col1\" class=\"data row1 col1\" >3</td> \n",
       "        <td id=\"T_6f5e872c_b6b9_11e9_b319_204747c6ba93row1_col2\" class=\"data row1 col2\" >1.4</td> \n",
       "        <td id=\"T_6f5e872c_b6b9_11e9_b319_204747c6ba93row1_col3\" class=\"data row1 col3\" >0.2</td> \n",
       "        <td id=\"T_6f5e872c_b6b9_11e9_b319_204747c6ba93row1_col4\" class=\"data row1 col4\" >0</td> \n",
       "    </tr>    <tr> \n",
       "        <td id=\"T_6f5e872c_b6b9_11e9_b319_204747c6ba93row2_col0\" class=\"data row2 col0\" >4.7</td> \n",
       "        <td id=\"T_6f5e872c_b6b9_11e9_b319_204747c6ba93row2_col1\" class=\"data row2 col1\" >3.2</td> \n",
       "        <td id=\"T_6f5e872c_b6b9_11e9_b319_204747c6ba93row2_col2\" class=\"data row2 col2\" >1.3</td> \n",
       "        <td id=\"T_6f5e872c_b6b9_11e9_b319_204747c6ba93row2_col3\" class=\"data row2 col3\" >0.2</td> \n",
       "        <td id=\"T_6f5e872c_b6b9_11e9_b319_204747c6ba93row2_col4\" class=\"data row2 col4\" >0</td> \n",
       "    </tr>    <tr> \n",
       "        <td id=\"T_6f5e872c_b6b9_11e9_b319_204747c6ba93row3_col0\" class=\"data row3 col0\" >4.6</td> \n",
       "        <td id=\"T_6f5e872c_b6b9_11e9_b319_204747c6ba93row3_col1\" class=\"data row3 col1\" >3.1</td> \n",
       "        <td id=\"T_6f5e872c_b6b9_11e9_b319_204747c6ba93row3_col2\" class=\"data row3 col2\" >1.5</td> \n",
       "        <td id=\"T_6f5e872c_b6b9_11e9_b319_204747c6ba93row3_col3\" class=\"data row3 col3\" >0.2</td> \n",
       "        <td id=\"T_6f5e872c_b6b9_11e9_b319_204747c6ba93row3_col4\" class=\"data row3 col4\" >0</td> \n",
       "    </tr>    <tr> \n",
       "        <td id=\"T_6f5e872c_b6b9_11e9_b319_204747c6ba93row4_col0\" class=\"data row4 col0\" >5</td> \n",
       "        <td id=\"T_6f5e872c_b6b9_11e9_b319_204747c6ba93row4_col1\" class=\"data row4 col1\" >3.6</td> \n",
       "        <td id=\"T_6f5e872c_b6b9_11e9_b319_204747c6ba93row4_col2\" class=\"data row4 col2\" >1.4</td> \n",
       "        <td id=\"T_6f5e872c_b6b9_11e9_b319_204747c6ba93row4_col3\" class=\"data row4 col3\" >0.2</td> \n",
       "        <td id=\"T_6f5e872c_b6b9_11e9_b319_204747c6ba93row4_col4\" class=\"data row4 col4\" >0</td> \n",
       "    </tr>    <tr> \n",
       "        <td id=\"T_6f5e872c_b6b9_11e9_b319_204747c6ba93row5_col0\" class=\"data row5 col0\" >5.4</td> \n",
       "        <td id=\"T_6f5e872c_b6b9_11e9_b319_204747c6ba93row5_col1\" class=\"data row5 col1\" >3.9</td> \n",
       "        <td id=\"T_6f5e872c_b6b9_11e9_b319_204747c6ba93row5_col2\" class=\"data row5 col2\" >1.7</td> \n",
       "        <td id=\"T_6f5e872c_b6b9_11e9_b319_204747c6ba93row5_col3\" class=\"data row5 col3\" >0.4</td> \n",
       "        <td id=\"T_6f5e872c_b6b9_11e9_b319_204747c6ba93row5_col4\" class=\"data row5 col4\" >0</td> \n",
       "    </tr>    <tr> \n",
       "        <td id=\"T_6f5e872c_b6b9_11e9_b319_204747c6ba93row6_col0\" class=\"data row6 col0\" >4.6</td> \n",
       "        <td id=\"T_6f5e872c_b6b9_11e9_b319_204747c6ba93row6_col1\" class=\"data row6 col1\" >3.4</td> \n",
       "        <td id=\"T_6f5e872c_b6b9_11e9_b319_204747c6ba93row6_col2\" class=\"data row6 col2\" >1.4</td> \n",
       "        <td id=\"T_6f5e872c_b6b9_11e9_b319_204747c6ba93row6_col3\" class=\"data row6 col3\" >0.3</td> \n",
       "        <td id=\"T_6f5e872c_b6b9_11e9_b319_204747c6ba93row6_col4\" class=\"data row6 col4\" >0</td> \n",
       "    </tr>    <tr> \n",
       "        <td id=\"T_6f5e872c_b6b9_11e9_b319_204747c6ba93row7_col0\" class=\"data row7 col0\" >5</td> \n",
       "        <td id=\"T_6f5e872c_b6b9_11e9_b319_204747c6ba93row7_col1\" class=\"data row7 col1\" >3.4</td> \n",
       "        <td id=\"T_6f5e872c_b6b9_11e9_b319_204747c6ba93row7_col2\" class=\"data row7 col2\" >1.5</td> \n",
       "        <td id=\"T_6f5e872c_b6b9_11e9_b319_204747c6ba93row7_col3\" class=\"data row7 col3\" >0.2</td> \n",
       "        <td id=\"T_6f5e872c_b6b9_11e9_b319_204747c6ba93row7_col4\" class=\"data row7 col4\" >0</td> \n",
       "    </tr>    <tr> \n",
       "        <td id=\"T_6f5e872c_b6b9_11e9_b319_204747c6ba93row8_col0\" class=\"data row8 col0\" >4.4</td> \n",
       "        <td id=\"T_6f5e872c_b6b9_11e9_b319_204747c6ba93row8_col1\" class=\"data row8 col1\" >2.9</td> \n",
       "        <td id=\"T_6f5e872c_b6b9_11e9_b319_204747c6ba93row8_col2\" class=\"data row8 col2\" >1.4</td> \n",
       "        <td id=\"T_6f5e872c_b6b9_11e9_b319_204747c6ba93row8_col3\" class=\"data row8 col3\" >0.2</td> \n",
       "        <td id=\"T_6f5e872c_b6b9_11e9_b319_204747c6ba93row8_col4\" class=\"data row8 col4\" >0</td> \n",
       "    </tr>    <tr> \n",
       "        <td id=\"T_6f5e872c_b6b9_11e9_b319_204747c6ba93row9_col0\" class=\"data row9 col0\" >4.9</td> \n",
       "        <td id=\"T_6f5e872c_b6b9_11e9_b319_204747c6ba93row9_col1\" class=\"data row9 col1\" >3.1</td> \n",
       "        <td id=\"T_6f5e872c_b6b9_11e9_b319_204747c6ba93row9_col2\" class=\"data row9 col2\" >1.5</td> \n",
       "        <td id=\"T_6f5e872c_b6b9_11e9_b319_204747c6ba93row9_col3\" class=\"data row9 col3\" >0.1</td> \n",
       "        <td id=\"T_6f5e872c_b6b9_11e9_b319_204747c6ba93row9_col4\" class=\"data row9 col4\" >0</td> \n",
       "    </tr>    <tr> \n",
       "        <td id=\"T_6f5e872c_b6b9_11e9_b319_204747c6ba93row10_col0\" class=\"data row10 col0\" >5.4</td> \n",
       "        <td id=\"T_6f5e872c_b6b9_11e9_b319_204747c6ba93row10_col1\" class=\"data row10 col1\" >3.7</td> \n",
       "        <td id=\"T_6f5e872c_b6b9_11e9_b319_204747c6ba93row10_col2\" class=\"data row10 col2\" >1.5</td> \n",
       "        <td id=\"T_6f5e872c_b6b9_11e9_b319_204747c6ba93row10_col3\" class=\"data row10 col3\" >0.2</td> \n",
       "        <td id=\"T_6f5e872c_b6b9_11e9_b319_204747c6ba93row10_col4\" class=\"data row10 col4\" >0</td> \n",
       "    </tr>    <tr> \n",
       "        <td id=\"T_6f5e872c_b6b9_11e9_b319_204747c6ba93row11_col0\" class=\"data row11 col0\" >4.8</td> \n",
       "        <td id=\"T_6f5e872c_b6b9_11e9_b319_204747c6ba93row11_col1\" class=\"data row11 col1\" >3.4</td> \n",
       "        <td id=\"T_6f5e872c_b6b9_11e9_b319_204747c6ba93row11_col2\" class=\"data row11 col2\" >1.6</td> \n",
       "        <td id=\"T_6f5e872c_b6b9_11e9_b319_204747c6ba93row11_col3\" class=\"data row11 col3\" >0.2</td> \n",
       "        <td id=\"T_6f5e872c_b6b9_11e9_b319_204747c6ba93row11_col4\" class=\"data row11 col4\" >0</td> \n",
       "    </tr>    <tr> \n",
       "        <td id=\"T_6f5e872c_b6b9_11e9_b319_204747c6ba93row12_col0\" class=\"data row12 col0\" >4.8</td> \n",
       "        <td id=\"T_6f5e872c_b6b9_11e9_b319_204747c6ba93row12_col1\" class=\"data row12 col1\" >3</td> \n",
       "        <td id=\"T_6f5e872c_b6b9_11e9_b319_204747c6ba93row12_col2\" class=\"data row12 col2\" >1.4</td> \n",
       "        <td id=\"T_6f5e872c_b6b9_11e9_b319_204747c6ba93row12_col3\" class=\"data row12 col3\" >0.1</td> \n",
       "        <td id=\"T_6f5e872c_b6b9_11e9_b319_204747c6ba93row12_col4\" class=\"data row12 col4\" >0</td> \n",
       "    </tr>    <tr> \n",
       "        <td id=\"T_6f5e872c_b6b9_11e9_b319_204747c6ba93row13_col0\" class=\"data row13 col0\" >4.3</td> \n",
       "        <td id=\"T_6f5e872c_b6b9_11e9_b319_204747c6ba93row13_col1\" class=\"data row13 col1\" >3</td> \n",
       "        <td id=\"T_6f5e872c_b6b9_11e9_b319_204747c6ba93row13_col2\" class=\"data row13 col2\" >1.1</td> \n",
       "        <td id=\"T_6f5e872c_b6b9_11e9_b319_204747c6ba93row13_col3\" class=\"data row13 col3\" >0.1</td> \n",
       "        <td id=\"T_6f5e872c_b6b9_11e9_b319_204747c6ba93row13_col4\" class=\"data row13 col4\" >0</td> \n",
       "    </tr>    <tr> \n",
       "        <td id=\"T_6f5e872c_b6b9_11e9_b319_204747c6ba93row14_col0\" class=\"data row14 col0\" >5.8</td> \n",
       "        <td id=\"T_6f5e872c_b6b9_11e9_b319_204747c6ba93row14_col1\" class=\"data row14 col1\" >4</td> \n",
       "        <td id=\"T_6f5e872c_b6b9_11e9_b319_204747c6ba93row14_col2\" class=\"data row14 col2\" >1.2</td> \n",
       "        <td id=\"T_6f5e872c_b6b9_11e9_b319_204747c6ba93row14_col3\" class=\"data row14 col3\" >0.2</td> \n",
       "        <td id=\"T_6f5e872c_b6b9_11e9_b319_204747c6ba93row14_col4\" class=\"data row14 col4\" >0</td> \n",
       "    </tr>    <tr> \n",
       "        <td id=\"T_6f5e872c_b6b9_11e9_b319_204747c6ba93row15_col0\" class=\"data row15 col0\" >5.7</td> \n",
       "        <td id=\"T_6f5e872c_b6b9_11e9_b319_204747c6ba93row15_col1\" class=\"data row15 col1\" >4.4</td> \n",
       "        <td id=\"T_6f5e872c_b6b9_11e9_b319_204747c6ba93row15_col2\" class=\"data row15 col2\" >1.5</td> \n",
       "        <td id=\"T_6f5e872c_b6b9_11e9_b319_204747c6ba93row15_col3\" class=\"data row15 col3\" >0.4</td> \n",
       "        <td id=\"T_6f5e872c_b6b9_11e9_b319_204747c6ba93row15_col4\" class=\"data row15 col4\" >0</td> \n",
       "    </tr>    <tr> \n",
       "        <td id=\"T_6f5e872c_b6b9_11e9_b319_204747c6ba93row16_col0\" class=\"data row16 col0\" >5.4</td> \n",
       "        <td id=\"T_6f5e872c_b6b9_11e9_b319_204747c6ba93row16_col1\" class=\"data row16 col1\" >3.9</td> \n",
       "        <td id=\"T_6f5e872c_b6b9_11e9_b319_204747c6ba93row16_col2\" class=\"data row16 col2\" >1.3</td> \n",
       "        <td id=\"T_6f5e872c_b6b9_11e9_b319_204747c6ba93row16_col3\" class=\"data row16 col3\" >0.4</td> \n",
       "        <td id=\"T_6f5e872c_b6b9_11e9_b319_204747c6ba93row16_col4\" class=\"data row16 col4\" >0</td> \n",
       "    </tr>    <tr> \n",
       "        <td id=\"T_6f5e872c_b6b9_11e9_b319_204747c6ba93row17_col0\" class=\"data row17 col0\" >5.1</td> \n",
       "        <td id=\"T_6f5e872c_b6b9_11e9_b319_204747c6ba93row17_col1\" class=\"data row17 col1\" >3.5</td> \n",
       "        <td id=\"T_6f5e872c_b6b9_11e9_b319_204747c6ba93row17_col2\" class=\"data row17 col2\" >1.4</td> \n",
       "        <td id=\"T_6f5e872c_b6b9_11e9_b319_204747c6ba93row17_col3\" class=\"data row17 col3\" >0.3</td> \n",
       "        <td id=\"T_6f5e872c_b6b9_11e9_b319_204747c6ba93row17_col4\" class=\"data row17 col4\" >0</td> \n",
       "    </tr>    <tr> \n",
       "        <td id=\"T_6f5e872c_b6b9_11e9_b319_204747c6ba93row18_col0\" class=\"data row18 col0\" >5.7</td> \n",
       "        <td id=\"T_6f5e872c_b6b9_11e9_b319_204747c6ba93row18_col1\" class=\"data row18 col1\" >3.8</td> \n",
       "        <td id=\"T_6f5e872c_b6b9_11e9_b319_204747c6ba93row18_col2\" class=\"data row18 col2\" >1.7</td> \n",
       "        <td id=\"T_6f5e872c_b6b9_11e9_b319_204747c6ba93row18_col3\" class=\"data row18 col3\" >0.3</td> \n",
       "        <td id=\"T_6f5e872c_b6b9_11e9_b319_204747c6ba93row18_col4\" class=\"data row18 col4\" >0</td> \n",
       "    </tr>    <tr> \n",
       "        <td id=\"T_6f5e872c_b6b9_11e9_b319_204747c6ba93row19_col0\" class=\"data row19 col0\" >5.1</td> \n",
       "        <td id=\"T_6f5e872c_b6b9_11e9_b319_204747c6ba93row19_col1\" class=\"data row19 col1\" >3.8</td> \n",
       "        <td id=\"T_6f5e872c_b6b9_11e9_b319_204747c6ba93row19_col2\" class=\"data row19 col2\" >1.5</td> \n",
       "        <td id=\"T_6f5e872c_b6b9_11e9_b319_204747c6ba93row19_col3\" class=\"data row19 col3\" >0.3</td> \n",
       "        <td id=\"T_6f5e872c_b6b9_11e9_b319_204747c6ba93row19_col4\" class=\"data row19 col4\" >0</td> \n",
       "    </tr>    <tr> \n",
       "        <td id=\"T_6f5e872c_b6b9_11e9_b319_204747c6ba93row20_col0\" class=\"data row20 col0\" >5.4</td> \n",
       "        <td id=\"T_6f5e872c_b6b9_11e9_b319_204747c6ba93row20_col1\" class=\"data row20 col1\" >3.4</td> \n",
       "        <td id=\"T_6f5e872c_b6b9_11e9_b319_204747c6ba93row20_col2\" class=\"data row20 col2\" >1.7</td> \n",
       "        <td id=\"T_6f5e872c_b6b9_11e9_b319_204747c6ba93row20_col3\" class=\"data row20 col3\" >0.2</td> \n",
       "        <td id=\"T_6f5e872c_b6b9_11e9_b319_204747c6ba93row20_col4\" class=\"data row20 col4\" >0</td> \n",
       "    </tr>    <tr> \n",
       "        <td id=\"T_6f5e872c_b6b9_11e9_b319_204747c6ba93row21_col0\" class=\"data row21 col0\" >5.1</td> \n",
       "        <td id=\"T_6f5e872c_b6b9_11e9_b319_204747c6ba93row21_col1\" class=\"data row21 col1\" >3.7</td> \n",
       "        <td id=\"T_6f5e872c_b6b9_11e9_b319_204747c6ba93row21_col2\" class=\"data row21 col2\" >1.5</td> \n",
       "        <td id=\"T_6f5e872c_b6b9_11e9_b319_204747c6ba93row21_col3\" class=\"data row21 col3\" >0.4</td> \n",
       "        <td id=\"T_6f5e872c_b6b9_11e9_b319_204747c6ba93row21_col4\" class=\"data row21 col4\" >0</td> \n",
       "    </tr>    <tr> \n",
       "        <td id=\"T_6f5e872c_b6b9_11e9_b319_204747c6ba93row22_col0\" class=\"data row22 col0\" >4.6</td> \n",
       "        <td id=\"T_6f5e872c_b6b9_11e9_b319_204747c6ba93row22_col1\" class=\"data row22 col1\" >3.6</td> \n",
       "        <td id=\"T_6f5e872c_b6b9_11e9_b319_204747c6ba93row22_col2\" class=\"data row22 col2\" >1</td> \n",
       "        <td id=\"T_6f5e872c_b6b9_11e9_b319_204747c6ba93row22_col3\" class=\"data row22 col3\" >0.2</td> \n",
       "        <td id=\"T_6f5e872c_b6b9_11e9_b319_204747c6ba93row22_col4\" class=\"data row22 col4\" >0</td> \n",
       "    </tr>    <tr> \n",
       "        <td id=\"T_6f5e872c_b6b9_11e9_b319_204747c6ba93row23_col0\" class=\"data row23 col0\" >5.1</td> \n",
       "        <td id=\"T_6f5e872c_b6b9_11e9_b319_204747c6ba93row23_col1\" class=\"data row23 col1\" >3.3</td> \n",
       "        <td id=\"T_6f5e872c_b6b9_11e9_b319_204747c6ba93row23_col2\" class=\"data row23 col2\" >1.7</td> \n",
       "        <td id=\"T_6f5e872c_b6b9_11e9_b319_204747c6ba93row23_col3\" class=\"data row23 col3\" >0.5</td> \n",
       "        <td id=\"T_6f5e872c_b6b9_11e9_b319_204747c6ba93row23_col4\" class=\"data row23 col4\" >0</td> \n",
       "    </tr>    <tr> \n",
       "        <td id=\"T_6f5e872c_b6b9_11e9_b319_204747c6ba93row24_col0\" class=\"data row24 col0\" >4.8</td> \n",
       "        <td id=\"T_6f5e872c_b6b9_11e9_b319_204747c6ba93row24_col1\" class=\"data row24 col1\" >3.4</td> \n",
       "        <td id=\"T_6f5e872c_b6b9_11e9_b319_204747c6ba93row24_col2\" class=\"data row24 col2\" >1.9</td> \n",
       "        <td id=\"T_6f5e872c_b6b9_11e9_b319_204747c6ba93row24_col3\" class=\"data row24 col3\" >0.2</td> \n",
       "        <td id=\"T_6f5e872c_b6b9_11e9_b319_204747c6ba93row24_col4\" class=\"data row24 col4\" >0</td> \n",
       "    </tr>    <tr> \n",
       "        <td id=\"T_6f5e872c_b6b9_11e9_b319_204747c6ba93row25_col0\" class=\"data row25 col0\" >5</td> \n",
       "        <td id=\"T_6f5e872c_b6b9_11e9_b319_204747c6ba93row25_col1\" class=\"data row25 col1\" >3</td> \n",
       "        <td id=\"T_6f5e872c_b6b9_11e9_b319_204747c6ba93row25_col2\" class=\"data row25 col2\" >1.6</td> \n",
       "        <td id=\"T_6f5e872c_b6b9_11e9_b319_204747c6ba93row25_col3\" class=\"data row25 col3\" >0.2</td> \n",
       "        <td id=\"T_6f5e872c_b6b9_11e9_b319_204747c6ba93row25_col4\" class=\"data row25 col4\" >0</td> \n",
       "    </tr>    <tr> \n",
       "        <td id=\"T_6f5e872c_b6b9_11e9_b319_204747c6ba93row26_col0\" class=\"data row26 col0\" >5</td> \n",
       "        <td id=\"T_6f5e872c_b6b9_11e9_b319_204747c6ba93row26_col1\" class=\"data row26 col1\" >3.4</td> \n",
       "        <td id=\"T_6f5e872c_b6b9_11e9_b319_204747c6ba93row26_col2\" class=\"data row26 col2\" >1.6</td> \n",
       "        <td id=\"T_6f5e872c_b6b9_11e9_b319_204747c6ba93row26_col3\" class=\"data row26 col3\" >0.4</td> \n",
       "        <td id=\"T_6f5e872c_b6b9_11e9_b319_204747c6ba93row26_col4\" class=\"data row26 col4\" >0</td> \n",
       "    </tr>    <tr> \n",
       "        <td id=\"T_6f5e872c_b6b9_11e9_b319_204747c6ba93row27_col0\" class=\"data row27 col0\" >5.2</td> \n",
       "        <td id=\"T_6f5e872c_b6b9_11e9_b319_204747c6ba93row27_col1\" class=\"data row27 col1\" >3.5</td> \n",
       "        <td id=\"T_6f5e872c_b6b9_11e9_b319_204747c6ba93row27_col2\" class=\"data row27 col2\" >1.5</td> \n",
       "        <td id=\"T_6f5e872c_b6b9_11e9_b319_204747c6ba93row27_col3\" class=\"data row27 col3\" >0.2</td> \n",
       "        <td id=\"T_6f5e872c_b6b9_11e9_b319_204747c6ba93row27_col4\" class=\"data row27 col4\" >0</td> \n",
       "    </tr>    <tr> \n",
       "        <td id=\"T_6f5e872c_b6b9_11e9_b319_204747c6ba93row28_col0\" class=\"data row28 col0\" >5.2</td> \n",
       "        <td id=\"T_6f5e872c_b6b9_11e9_b319_204747c6ba93row28_col1\" class=\"data row28 col1\" >3.4</td> \n",
       "        <td id=\"T_6f5e872c_b6b9_11e9_b319_204747c6ba93row28_col2\" class=\"data row28 col2\" >1.4</td> \n",
       "        <td id=\"T_6f5e872c_b6b9_11e9_b319_204747c6ba93row28_col3\" class=\"data row28 col3\" >0.2</td> \n",
       "        <td id=\"T_6f5e872c_b6b9_11e9_b319_204747c6ba93row28_col4\" class=\"data row28 col4\" >0</td> \n",
       "    </tr>    <tr> \n",
       "        <td id=\"T_6f5e872c_b6b9_11e9_b319_204747c6ba93row29_col0\" class=\"data row29 col0\" >4.7</td> \n",
       "        <td id=\"T_6f5e872c_b6b9_11e9_b319_204747c6ba93row29_col1\" class=\"data row29 col1\" >3.2</td> \n",
       "        <td id=\"T_6f5e872c_b6b9_11e9_b319_204747c6ba93row29_col2\" class=\"data row29 col2\" >1.6</td> \n",
       "        <td id=\"T_6f5e872c_b6b9_11e9_b319_204747c6ba93row29_col3\" class=\"data row29 col3\" >0.2</td> \n",
       "        <td id=\"T_6f5e872c_b6b9_11e9_b319_204747c6ba93row29_col4\" class=\"data row29 col4\" >0</td> \n",
       "    </tr>    <tr> \n",
       "        <td id=\"T_6f5e872c_b6b9_11e9_b319_204747c6ba93row30_col0\" class=\"data row30 col0\" >4.8</td> \n",
       "        <td id=\"T_6f5e872c_b6b9_11e9_b319_204747c6ba93row30_col1\" class=\"data row30 col1\" >3.1</td> \n",
       "        <td id=\"T_6f5e872c_b6b9_11e9_b319_204747c6ba93row30_col2\" class=\"data row30 col2\" >1.6</td> \n",
       "        <td id=\"T_6f5e872c_b6b9_11e9_b319_204747c6ba93row30_col3\" class=\"data row30 col3\" >0.2</td> \n",
       "        <td id=\"T_6f5e872c_b6b9_11e9_b319_204747c6ba93row30_col4\" class=\"data row30 col4\" >0</td> \n",
       "    </tr>    <tr> \n",
       "        <td id=\"T_6f5e872c_b6b9_11e9_b319_204747c6ba93row31_col0\" class=\"data row31 col0\" >5.4</td> \n",
       "        <td id=\"T_6f5e872c_b6b9_11e9_b319_204747c6ba93row31_col1\" class=\"data row31 col1\" >3.4</td> \n",
       "        <td id=\"T_6f5e872c_b6b9_11e9_b319_204747c6ba93row31_col2\" class=\"data row31 col2\" >1.5</td> \n",
       "        <td id=\"T_6f5e872c_b6b9_11e9_b319_204747c6ba93row31_col3\" class=\"data row31 col3\" >0.4</td> \n",
       "        <td id=\"T_6f5e872c_b6b9_11e9_b319_204747c6ba93row31_col4\" class=\"data row31 col4\" >0</td> \n",
       "    </tr>    <tr> \n",
       "        <td id=\"T_6f5e872c_b6b9_11e9_b319_204747c6ba93row32_col0\" class=\"data row32 col0\" >5.2</td> \n",
       "        <td id=\"T_6f5e872c_b6b9_11e9_b319_204747c6ba93row32_col1\" class=\"data row32 col1\" >4.1</td> \n",
       "        <td id=\"T_6f5e872c_b6b9_11e9_b319_204747c6ba93row32_col2\" class=\"data row32 col2\" >1.5</td> \n",
       "        <td id=\"T_6f5e872c_b6b9_11e9_b319_204747c6ba93row32_col3\" class=\"data row32 col3\" >0.1</td> \n",
       "        <td id=\"T_6f5e872c_b6b9_11e9_b319_204747c6ba93row32_col4\" class=\"data row32 col4\" >0</td> \n",
       "    </tr>    <tr> \n",
       "        <td id=\"T_6f5e872c_b6b9_11e9_b319_204747c6ba93row33_col0\" class=\"data row33 col0\" >5.5</td> \n",
       "        <td id=\"T_6f5e872c_b6b9_11e9_b319_204747c6ba93row33_col1\" class=\"data row33 col1\" >4.2</td> \n",
       "        <td id=\"T_6f5e872c_b6b9_11e9_b319_204747c6ba93row33_col2\" class=\"data row33 col2\" >1.4</td> \n",
       "        <td id=\"T_6f5e872c_b6b9_11e9_b319_204747c6ba93row33_col3\" class=\"data row33 col3\" >0.2</td> \n",
       "        <td id=\"T_6f5e872c_b6b9_11e9_b319_204747c6ba93row33_col4\" class=\"data row33 col4\" >0</td> \n",
       "    </tr>    <tr> \n",
       "        <td id=\"T_6f5e872c_b6b9_11e9_b319_204747c6ba93row34_col0\" class=\"data row34 col0\" >4.9</td> \n",
       "        <td id=\"T_6f5e872c_b6b9_11e9_b319_204747c6ba93row34_col1\" class=\"data row34 col1\" >3.1</td> \n",
       "        <td id=\"T_6f5e872c_b6b9_11e9_b319_204747c6ba93row34_col2\" class=\"data row34 col2\" >1.5</td> \n",
       "        <td id=\"T_6f5e872c_b6b9_11e9_b319_204747c6ba93row34_col3\" class=\"data row34 col3\" >0.1</td> \n",
       "        <td id=\"T_6f5e872c_b6b9_11e9_b319_204747c6ba93row34_col4\" class=\"data row34 col4\" >0</td> \n",
       "    </tr>    <tr> \n",
       "        <td id=\"T_6f5e872c_b6b9_11e9_b319_204747c6ba93row35_col0\" class=\"data row35 col0\" >5</td> \n",
       "        <td id=\"T_6f5e872c_b6b9_11e9_b319_204747c6ba93row35_col1\" class=\"data row35 col1\" >3.2</td> \n",
       "        <td id=\"T_6f5e872c_b6b9_11e9_b319_204747c6ba93row35_col2\" class=\"data row35 col2\" >1.2</td> \n",
       "        <td id=\"T_6f5e872c_b6b9_11e9_b319_204747c6ba93row35_col3\" class=\"data row35 col3\" >0.2</td> \n",
       "        <td id=\"T_6f5e872c_b6b9_11e9_b319_204747c6ba93row35_col4\" class=\"data row35 col4\" >0</td> \n",
       "    </tr>    <tr> \n",
       "        <td id=\"T_6f5e872c_b6b9_11e9_b319_204747c6ba93row36_col0\" class=\"data row36 col0\" >5.5</td> \n",
       "        <td id=\"T_6f5e872c_b6b9_11e9_b319_204747c6ba93row36_col1\" class=\"data row36 col1\" >3.5</td> \n",
       "        <td id=\"T_6f5e872c_b6b9_11e9_b319_204747c6ba93row36_col2\" class=\"data row36 col2\" >1.3</td> \n",
       "        <td id=\"T_6f5e872c_b6b9_11e9_b319_204747c6ba93row36_col3\" class=\"data row36 col3\" >0.2</td> \n",
       "        <td id=\"T_6f5e872c_b6b9_11e9_b319_204747c6ba93row36_col4\" class=\"data row36 col4\" >0</td> \n",
       "    </tr>    <tr> \n",
       "        <td id=\"T_6f5e872c_b6b9_11e9_b319_204747c6ba93row37_col0\" class=\"data row37 col0\" >4.9</td> \n",
       "        <td id=\"T_6f5e872c_b6b9_11e9_b319_204747c6ba93row37_col1\" class=\"data row37 col1\" >3.1</td> \n",
       "        <td id=\"T_6f5e872c_b6b9_11e9_b319_204747c6ba93row37_col2\" class=\"data row37 col2\" >1.5</td> \n",
       "        <td id=\"T_6f5e872c_b6b9_11e9_b319_204747c6ba93row37_col3\" class=\"data row37 col3\" >0.1</td> \n",
       "        <td id=\"T_6f5e872c_b6b9_11e9_b319_204747c6ba93row37_col4\" class=\"data row37 col4\" >0</td> \n",
       "    </tr>    <tr> \n",
       "        <td id=\"T_6f5e872c_b6b9_11e9_b319_204747c6ba93row38_col0\" class=\"data row38 col0\" >4.4</td> \n",
       "        <td id=\"T_6f5e872c_b6b9_11e9_b319_204747c6ba93row38_col1\" class=\"data row38 col1\" >3</td> \n",
       "        <td id=\"T_6f5e872c_b6b9_11e9_b319_204747c6ba93row38_col2\" class=\"data row38 col2\" >1.3</td> \n",
       "        <td id=\"T_6f5e872c_b6b9_11e9_b319_204747c6ba93row38_col3\" class=\"data row38 col3\" >0.2</td> \n",
       "        <td id=\"T_6f5e872c_b6b9_11e9_b319_204747c6ba93row38_col4\" class=\"data row38 col4\" >0</td> \n",
       "    </tr>    <tr> \n",
       "        <td id=\"T_6f5e872c_b6b9_11e9_b319_204747c6ba93row39_col0\" class=\"data row39 col0\" >5.1</td> \n",
       "        <td id=\"T_6f5e872c_b6b9_11e9_b319_204747c6ba93row39_col1\" class=\"data row39 col1\" >3.4</td> \n",
       "        <td id=\"T_6f5e872c_b6b9_11e9_b319_204747c6ba93row39_col2\" class=\"data row39 col2\" >1.5</td> \n",
       "        <td id=\"T_6f5e872c_b6b9_11e9_b319_204747c6ba93row39_col3\" class=\"data row39 col3\" >0.2</td> \n",
       "        <td id=\"T_6f5e872c_b6b9_11e9_b319_204747c6ba93row39_col4\" class=\"data row39 col4\" >0</td> \n",
       "    </tr>    <tr> \n",
       "        <td id=\"T_6f5e872c_b6b9_11e9_b319_204747c6ba93row40_col0\" class=\"data row40 col0\" >5</td> \n",
       "        <td id=\"T_6f5e872c_b6b9_11e9_b319_204747c6ba93row40_col1\" class=\"data row40 col1\" >3.5</td> \n",
       "        <td id=\"T_6f5e872c_b6b9_11e9_b319_204747c6ba93row40_col2\" class=\"data row40 col2\" >1.3</td> \n",
       "        <td id=\"T_6f5e872c_b6b9_11e9_b319_204747c6ba93row40_col3\" class=\"data row40 col3\" >0.3</td> \n",
       "        <td id=\"T_6f5e872c_b6b9_11e9_b319_204747c6ba93row40_col4\" class=\"data row40 col4\" >0</td> \n",
       "    </tr>    <tr> \n",
       "        <td id=\"T_6f5e872c_b6b9_11e9_b319_204747c6ba93row41_col0\" class=\"data row41 col0\" >4.5</td> \n",
       "        <td id=\"T_6f5e872c_b6b9_11e9_b319_204747c6ba93row41_col1\" class=\"data row41 col1\" >2.3</td> \n",
       "        <td id=\"T_6f5e872c_b6b9_11e9_b319_204747c6ba93row41_col2\" class=\"data row41 col2\" >1.3</td> \n",
       "        <td id=\"T_6f5e872c_b6b9_11e9_b319_204747c6ba93row41_col3\" class=\"data row41 col3\" >0.3</td> \n",
       "        <td id=\"T_6f5e872c_b6b9_11e9_b319_204747c6ba93row41_col4\" class=\"data row41 col4\" >0</td> \n",
       "    </tr>    <tr> \n",
       "        <td id=\"T_6f5e872c_b6b9_11e9_b319_204747c6ba93row42_col0\" class=\"data row42 col0\" >4.4</td> \n",
       "        <td id=\"T_6f5e872c_b6b9_11e9_b319_204747c6ba93row42_col1\" class=\"data row42 col1\" >3.2</td> \n",
       "        <td id=\"T_6f5e872c_b6b9_11e9_b319_204747c6ba93row42_col2\" class=\"data row42 col2\" >1.3</td> \n",
       "        <td id=\"T_6f5e872c_b6b9_11e9_b319_204747c6ba93row42_col3\" class=\"data row42 col3\" >0.2</td> \n",
       "        <td id=\"T_6f5e872c_b6b9_11e9_b319_204747c6ba93row42_col4\" class=\"data row42 col4\" >0</td> \n",
       "    </tr>    <tr> \n",
       "        <td id=\"T_6f5e872c_b6b9_11e9_b319_204747c6ba93row43_col0\" class=\"data row43 col0\" >5</td> \n",
       "        <td id=\"T_6f5e872c_b6b9_11e9_b319_204747c6ba93row43_col1\" class=\"data row43 col1\" >3.5</td> \n",
       "        <td id=\"T_6f5e872c_b6b9_11e9_b319_204747c6ba93row43_col2\" class=\"data row43 col2\" >1.6</td> \n",
       "        <td id=\"T_6f5e872c_b6b9_11e9_b319_204747c6ba93row43_col3\" class=\"data row43 col3\" >0.6</td> \n",
       "        <td id=\"T_6f5e872c_b6b9_11e9_b319_204747c6ba93row43_col4\" class=\"data row43 col4\" >0</td> \n",
       "    </tr>    <tr> \n",
       "        <td id=\"T_6f5e872c_b6b9_11e9_b319_204747c6ba93row44_col0\" class=\"data row44 col0\" >5.1</td> \n",
       "        <td id=\"T_6f5e872c_b6b9_11e9_b319_204747c6ba93row44_col1\" class=\"data row44 col1\" >3.8</td> \n",
       "        <td id=\"T_6f5e872c_b6b9_11e9_b319_204747c6ba93row44_col2\" class=\"data row44 col2\" >1.9</td> \n",
       "        <td id=\"T_6f5e872c_b6b9_11e9_b319_204747c6ba93row44_col3\" class=\"data row44 col3\" >0.4</td> \n",
       "        <td id=\"T_6f5e872c_b6b9_11e9_b319_204747c6ba93row44_col4\" class=\"data row44 col4\" >0</td> \n",
       "    </tr>    <tr> \n",
       "        <td id=\"T_6f5e872c_b6b9_11e9_b319_204747c6ba93row45_col0\" class=\"data row45 col0\" >4.8</td> \n",
       "        <td id=\"T_6f5e872c_b6b9_11e9_b319_204747c6ba93row45_col1\" class=\"data row45 col1\" >3</td> \n",
       "        <td id=\"T_6f5e872c_b6b9_11e9_b319_204747c6ba93row45_col2\" class=\"data row45 col2\" >1.4</td> \n",
       "        <td id=\"T_6f5e872c_b6b9_11e9_b319_204747c6ba93row45_col3\" class=\"data row45 col3\" >0.3</td> \n",
       "        <td id=\"T_6f5e872c_b6b9_11e9_b319_204747c6ba93row45_col4\" class=\"data row45 col4\" >0</td> \n",
       "    </tr>    <tr> \n",
       "        <td id=\"T_6f5e872c_b6b9_11e9_b319_204747c6ba93row46_col0\" class=\"data row46 col0\" >5.1</td> \n",
       "        <td id=\"T_6f5e872c_b6b9_11e9_b319_204747c6ba93row46_col1\" class=\"data row46 col1\" >3.8</td> \n",
       "        <td id=\"T_6f5e872c_b6b9_11e9_b319_204747c6ba93row46_col2\" class=\"data row46 col2\" >1.6</td> \n",
       "        <td id=\"T_6f5e872c_b6b9_11e9_b319_204747c6ba93row46_col3\" class=\"data row46 col3\" >0.2</td> \n",
       "        <td id=\"T_6f5e872c_b6b9_11e9_b319_204747c6ba93row46_col4\" class=\"data row46 col4\" >0</td> \n",
       "    </tr>    <tr> \n",
       "        <td id=\"T_6f5e872c_b6b9_11e9_b319_204747c6ba93row47_col0\" class=\"data row47 col0\" >4.6</td> \n",
       "        <td id=\"T_6f5e872c_b6b9_11e9_b319_204747c6ba93row47_col1\" class=\"data row47 col1\" >3.2</td> \n",
       "        <td id=\"T_6f5e872c_b6b9_11e9_b319_204747c6ba93row47_col2\" class=\"data row47 col2\" >1.4</td> \n",
       "        <td id=\"T_6f5e872c_b6b9_11e9_b319_204747c6ba93row47_col3\" class=\"data row47 col3\" >0.2</td> \n",
       "        <td id=\"T_6f5e872c_b6b9_11e9_b319_204747c6ba93row47_col4\" class=\"data row47 col4\" >0</td> \n",
       "    </tr>    <tr> \n",
       "        <td id=\"T_6f5e872c_b6b9_11e9_b319_204747c6ba93row48_col0\" class=\"data row48 col0\" >5.3</td> \n",
       "        <td id=\"T_6f5e872c_b6b9_11e9_b319_204747c6ba93row48_col1\" class=\"data row48 col1\" >3.7</td> \n",
       "        <td id=\"T_6f5e872c_b6b9_11e9_b319_204747c6ba93row48_col2\" class=\"data row48 col2\" >1.5</td> \n",
       "        <td id=\"T_6f5e872c_b6b9_11e9_b319_204747c6ba93row48_col3\" class=\"data row48 col3\" >0.2</td> \n",
       "        <td id=\"T_6f5e872c_b6b9_11e9_b319_204747c6ba93row48_col4\" class=\"data row48 col4\" >0</td> \n",
       "    </tr>    <tr> \n",
       "        <td id=\"T_6f5e872c_b6b9_11e9_b319_204747c6ba93row49_col0\" class=\"data row49 col0\" >5</td> \n",
       "        <td id=\"T_6f5e872c_b6b9_11e9_b319_204747c6ba93row49_col1\" class=\"data row49 col1\" >3.3</td> \n",
       "        <td id=\"T_6f5e872c_b6b9_11e9_b319_204747c6ba93row49_col2\" class=\"data row49 col2\" >1.4</td> \n",
       "        <td id=\"T_6f5e872c_b6b9_11e9_b319_204747c6ba93row49_col3\" class=\"data row49 col3\" >0.2</td> \n",
       "        <td id=\"T_6f5e872c_b6b9_11e9_b319_204747c6ba93row49_col4\" class=\"data row49 col4\" >0</td> \n",
       "    </tr>    <tr> \n",
       "        <td id=\"T_6f5e872c_b6b9_11e9_b319_204747c6ba93row50_col0\" class=\"data row50 col0\" >7</td> \n",
       "        <td id=\"T_6f5e872c_b6b9_11e9_b319_204747c6ba93row50_col1\" class=\"data row50 col1\" >3.2</td> \n",
       "        <td id=\"T_6f5e872c_b6b9_11e9_b319_204747c6ba93row50_col2\" class=\"data row50 col2\" >4.7</td> \n",
       "        <td id=\"T_6f5e872c_b6b9_11e9_b319_204747c6ba93row50_col3\" class=\"data row50 col3\" >1.4</td> \n",
       "        <td id=\"T_6f5e872c_b6b9_11e9_b319_204747c6ba93row50_col4\" class=\"data row50 col4\" >1</td> \n",
       "    </tr>    <tr> \n",
       "        <td id=\"T_6f5e872c_b6b9_11e9_b319_204747c6ba93row51_col0\" class=\"data row51 col0\" >6.4</td> \n",
       "        <td id=\"T_6f5e872c_b6b9_11e9_b319_204747c6ba93row51_col1\" class=\"data row51 col1\" >3.2</td> \n",
       "        <td id=\"T_6f5e872c_b6b9_11e9_b319_204747c6ba93row51_col2\" class=\"data row51 col2\" >4.5</td> \n",
       "        <td id=\"T_6f5e872c_b6b9_11e9_b319_204747c6ba93row51_col3\" class=\"data row51 col3\" >1.5</td> \n",
       "        <td id=\"T_6f5e872c_b6b9_11e9_b319_204747c6ba93row51_col4\" class=\"data row51 col4\" >1</td> \n",
       "    </tr>    <tr> \n",
       "        <td id=\"T_6f5e872c_b6b9_11e9_b319_204747c6ba93row52_col0\" class=\"data row52 col0\" >6.9</td> \n",
       "        <td id=\"T_6f5e872c_b6b9_11e9_b319_204747c6ba93row52_col1\" class=\"data row52 col1\" >3.1</td> \n",
       "        <td id=\"T_6f5e872c_b6b9_11e9_b319_204747c6ba93row52_col2\" class=\"data row52 col2\" >4.9</td> \n",
       "        <td id=\"T_6f5e872c_b6b9_11e9_b319_204747c6ba93row52_col3\" class=\"data row52 col3\" >1.5</td> \n",
       "        <td id=\"T_6f5e872c_b6b9_11e9_b319_204747c6ba93row52_col4\" class=\"data row52 col4\" >1</td> \n",
       "    </tr>    <tr> \n",
       "        <td id=\"T_6f5e872c_b6b9_11e9_b319_204747c6ba93row53_col0\" class=\"data row53 col0\" >5.5</td> \n",
       "        <td id=\"T_6f5e872c_b6b9_11e9_b319_204747c6ba93row53_col1\" class=\"data row53 col1\" >2.3</td> \n",
       "        <td id=\"T_6f5e872c_b6b9_11e9_b319_204747c6ba93row53_col2\" class=\"data row53 col2\" >4</td> \n",
       "        <td id=\"T_6f5e872c_b6b9_11e9_b319_204747c6ba93row53_col3\" class=\"data row53 col3\" >1.3</td> \n",
       "        <td id=\"T_6f5e872c_b6b9_11e9_b319_204747c6ba93row53_col4\" class=\"data row53 col4\" >1</td> \n",
       "    </tr>    <tr> \n",
       "        <td id=\"T_6f5e872c_b6b9_11e9_b319_204747c6ba93row54_col0\" class=\"data row54 col0\" >6.5</td> \n",
       "        <td id=\"T_6f5e872c_b6b9_11e9_b319_204747c6ba93row54_col1\" class=\"data row54 col1\" >2.8</td> \n",
       "        <td id=\"T_6f5e872c_b6b9_11e9_b319_204747c6ba93row54_col2\" class=\"data row54 col2\" >4.6</td> \n",
       "        <td id=\"T_6f5e872c_b6b9_11e9_b319_204747c6ba93row54_col3\" class=\"data row54 col3\" >1.5</td> \n",
       "        <td id=\"T_6f5e872c_b6b9_11e9_b319_204747c6ba93row54_col4\" class=\"data row54 col4\" >1</td> \n",
       "    </tr>    <tr> \n",
       "        <td id=\"T_6f5e872c_b6b9_11e9_b319_204747c6ba93row55_col0\" class=\"data row55 col0\" >5.7</td> \n",
       "        <td id=\"T_6f5e872c_b6b9_11e9_b319_204747c6ba93row55_col1\" class=\"data row55 col1\" >2.8</td> \n",
       "        <td id=\"T_6f5e872c_b6b9_11e9_b319_204747c6ba93row55_col2\" class=\"data row55 col2\" >4.5</td> \n",
       "        <td id=\"T_6f5e872c_b6b9_11e9_b319_204747c6ba93row55_col3\" class=\"data row55 col3\" >1.3</td> \n",
       "        <td id=\"T_6f5e872c_b6b9_11e9_b319_204747c6ba93row55_col4\" class=\"data row55 col4\" >1</td> \n",
       "    </tr>    <tr> \n",
       "        <td id=\"T_6f5e872c_b6b9_11e9_b319_204747c6ba93row56_col0\" class=\"data row56 col0\" >6.3</td> \n",
       "        <td id=\"T_6f5e872c_b6b9_11e9_b319_204747c6ba93row56_col1\" class=\"data row56 col1\" >3.3</td> \n",
       "        <td id=\"T_6f5e872c_b6b9_11e9_b319_204747c6ba93row56_col2\" class=\"data row56 col2\" >4.7</td> \n",
       "        <td id=\"T_6f5e872c_b6b9_11e9_b319_204747c6ba93row56_col3\" class=\"data row56 col3\" >1.6</td> \n",
       "        <td id=\"T_6f5e872c_b6b9_11e9_b319_204747c6ba93row56_col4\" class=\"data row56 col4\" >1</td> \n",
       "    </tr>    <tr> \n",
       "        <td id=\"T_6f5e872c_b6b9_11e9_b319_204747c6ba93row57_col0\" class=\"data row57 col0\" >4.9</td> \n",
       "        <td id=\"T_6f5e872c_b6b9_11e9_b319_204747c6ba93row57_col1\" class=\"data row57 col1\" >2.4</td> \n",
       "        <td id=\"T_6f5e872c_b6b9_11e9_b319_204747c6ba93row57_col2\" class=\"data row57 col2\" >3.3</td> \n",
       "        <td id=\"T_6f5e872c_b6b9_11e9_b319_204747c6ba93row57_col3\" class=\"data row57 col3\" >1</td> \n",
       "        <td id=\"T_6f5e872c_b6b9_11e9_b319_204747c6ba93row57_col4\" class=\"data row57 col4\" >1</td> \n",
       "    </tr>    <tr> \n",
       "        <td id=\"T_6f5e872c_b6b9_11e9_b319_204747c6ba93row58_col0\" class=\"data row58 col0\" >6.6</td> \n",
       "        <td id=\"T_6f5e872c_b6b9_11e9_b319_204747c6ba93row58_col1\" class=\"data row58 col1\" >2.9</td> \n",
       "        <td id=\"T_6f5e872c_b6b9_11e9_b319_204747c6ba93row58_col2\" class=\"data row58 col2\" >4.6</td> \n",
       "        <td id=\"T_6f5e872c_b6b9_11e9_b319_204747c6ba93row58_col3\" class=\"data row58 col3\" >1.3</td> \n",
       "        <td id=\"T_6f5e872c_b6b9_11e9_b319_204747c6ba93row58_col4\" class=\"data row58 col4\" >1</td> \n",
       "    </tr>    <tr> \n",
       "        <td id=\"T_6f5e872c_b6b9_11e9_b319_204747c6ba93row59_col0\" class=\"data row59 col0\" >5.2</td> \n",
       "        <td id=\"T_6f5e872c_b6b9_11e9_b319_204747c6ba93row59_col1\" class=\"data row59 col1\" >2.7</td> \n",
       "        <td id=\"T_6f5e872c_b6b9_11e9_b319_204747c6ba93row59_col2\" class=\"data row59 col2\" >3.9</td> \n",
       "        <td id=\"T_6f5e872c_b6b9_11e9_b319_204747c6ba93row59_col3\" class=\"data row59 col3\" >1.4</td> \n",
       "        <td id=\"T_6f5e872c_b6b9_11e9_b319_204747c6ba93row59_col4\" class=\"data row59 col4\" >1</td> \n",
       "    </tr>    <tr> \n",
       "        <td id=\"T_6f5e872c_b6b9_11e9_b319_204747c6ba93row60_col0\" class=\"data row60 col0\" >5</td> \n",
       "        <td id=\"T_6f5e872c_b6b9_11e9_b319_204747c6ba93row60_col1\" class=\"data row60 col1\" >2</td> \n",
       "        <td id=\"T_6f5e872c_b6b9_11e9_b319_204747c6ba93row60_col2\" class=\"data row60 col2\" >3.5</td> \n",
       "        <td id=\"T_6f5e872c_b6b9_11e9_b319_204747c6ba93row60_col3\" class=\"data row60 col3\" >1</td> \n",
       "        <td id=\"T_6f5e872c_b6b9_11e9_b319_204747c6ba93row60_col4\" class=\"data row60 col4\" >1</td> \n",
       "    </tr>    <tr> \n",
       "        <td id=\"T_6f5e872c_b6b9_11e9_b319_204747c6ba93row61_col0\" class=\"data row61 col0\" >5.9</td> \n",
       "        <td id=\"T_6f5e872c_b6b9_11e9_b319_204747c6ba93row61_col1\" class=\"data row61 col1\" >3</td> \n",
       "        <td id=\"T_6f5e872c_b6b9_11e9_b319_204747c6ba93row61_col2\" class=\"data row61 col2\" >4.2</td> \n",
       "        <td id=\"T_6f5e872c_b6b9_11e9_b319_204747c6ba93row61_col3\" class=\"data row61 col3\" >1.5</td> \n",
       "        <td id=\"T_6f5e872c_b6b9_11e9_b319_204747c6ba93row61_col4\" class=\"data row61 col4\" >1</td> \n",
       "    </tr>    <tr> \n",
       "        <td id=\"T_6f5e872c_b6b9_11e9_b319_204747c6ba93row62_col0\" class=\"data row62 col0\" >6</td> \n",
       "        <td id=\"T_6f5e872c_b6b9_11e9_b319_204747c6ba93row62_col1\" class=\"data row62 col1\" >2.2</td> \n",
       "        <td id=\"T_6f5e872c_b6b9_11e9_b319_204747c6ba93row62_col2\" class=\"data row62 col2\" >4</td> \n",
       "        <td id=\"T_6f5e872c_b6b9_11e9_b319_204747c6ba93row62_col3\" class=\"data row62 col3\" >1</td> \n",
       "        <td id=\"T_6f5e872c_b6b9_11e9_b319_204747c6ba93row62_col4\" class=\"data row62 col4\" >1</td> \n",
       "    </tr>    <tr> \n",
       "        <td id=\"T_6f5e872c_b6b9_11e9_b319_204747c6ba93row63_col0\" class=\"data row63 col0\" >6.1</td> \n",
       "        <td id=\"T_6f5e872c_b6b9_11e9_b319_204747c6ba93row63_col1\" class=\"data row63 col1\" >2.9</td> \n",
       "        <td id=\"T_6f5e872c_b6b9_11e9_b319_204747c6ba93row63_col2\" class=\"data row63 col2\" >4.7</td> \n",
       "        <td id=\"T_6f5e872c_b6b9_11e9_b319_204747c6ba93row63_col3\" class=\"data row63 col3\" >1.4</td> \n",
       "        <td id=\"T_6f5e872c_b6b9_11e9_b319_204747c6ba93row63_col4\" class=\"data row63 col4\" >1</td> \n",
       "    </tr>    <tr> \n",
       "        <td id=\"T_6f5e872c_b6b9_11e9_b319_204747c6ba93row64_col0\" class=\"data row64 col0\" >5.6</td> \n",
       "        <td id=\"T_6f5e872c_b6b9_11e9_b319_204747c6ba93row64_col1\" class=\"data row64 col1\" >2.9</td> \n",
       "        <td id=\"T_6f5e872c_b6b9_11e9_b319_204747c6ba93row64_col2\" class=\"data row64 col2\" >3.6</td> \n",
       "        <td id=\"T_6f5e872c_b6b9_11e9_b319_204747c6ba93row64_col3\" class=\"data row64 col3\" >1.3</td> \n",
       "        <td id=\"T_6f5e872c_b6b9_11e9_b319_204747c6ba93row64_col4\" class=\"data row64 col4\" >1</td> \n",
       "    </tr>    <tr> \n",
       "        <td id=\"T_6f5e872c_b6b9_11e9_b319_204747c6ba93row65_col0\" class=\"data row65 col0\" >6.7</td> \n",
       "        <td id=\"T_6f5e872c_b6b9_11e9_b319_204747c6ba93row65_col1\" class=\"data row65 col1\" >3.1</td> \n",
       "        <td id=\"T_6f5e872c_b6b9_11e9_b319_204747c6ba93row65_col2\" class=\"data row65 col2\" >4.4</td> \n",
       "        <td id=\"T_6f5e872c_b6b9_11e9_b319_204747c6ba93row65_col3\" class=\"data row65 col3\" >1.4</td> \n",
       "        <td id=\"T_6f5e872c_b6b9_11e9_b319_204747c6ba93row65_col4\" class=\"data row65 col4\" >1</td> \n",
       "    </tr>    <tr> \n",
       "        <td id=\"T_6f5e872c_b6b9_11e9_b319_204747c6ba93row66_col0\" class=\"data row66 col0\" >5.6</td> \n",
       "        <td id=\"T_6f5e872c_b6b9_11e9_b319_204747c6ba93row66_col1\" class=\"data row66 col1\" >3</td> \n",
       "        <td id=\"T_6f5e872c_b6b9_11e9_b319_204747c6ba93row66_col2\" class=\"data row66 col2\" >4.5</td> \n",
       "        <td id=\"T_6f5e872c_b6b9_11e9_b319_204747c6ba93row66_col3\" class=\"data row66 col3\" >1.5</td> \n",
       "        <td id=\"T_6f5e872c_b6b9_11e9_b319_204747c6ba93row66_col4\" class=\"data row66 col4\" >1</td> \n",
       "    </tr>    <tr> \n",
       "        <td id=\"T_6f5e872c_b6b9_11e9_b319_204747c6ba93row67_col0\" class=\"data row67 col0\" >5.8</td> \n",
       "        <td id=\"T_6f5e872c_b6b9_11e9_b319_204747c6ba93row67_col1\" class=\"data row67 col1\" >2.7</td> \n",
       "        <td id=\"T_6f5e872c_b6b9_11e9_b319_204747c6ba93row67_col2\" class=\"data row67 col2\" >4.1</td> \n",
       "        <td id=\"T_6f5e872c_b6b9_11e9_b319_204747c6ba93row67_col3\" class=\"data row67 col3\" >1</td> \n",
       "        <td id=\"T_6f5e872c_b6b9_11e9_b319_204747c6ba93row67_col4\" class=\"data row67 col4\" >1</td> \n",
       "    </tr>    <tr> \n",
       "        <td id=\"T_6f5e872c_b6b9_11e9_b319_204747c6ba93row68_col0\" class=\"data row68 col0\" >6.2</td> \n",
       "        <td id=\"T_6f5e872c_b6b9_11e9_b319_204747c6ba93row68_col1\" class=\"data row68 col1\" >2.2</td> \n",
       "        <td id=\"T_6f5e872c_b6b9_11e9_b319_204747c6ba93row68_col2\" class=\"data row68 col2\" >4.5</td> \n",
       "        <td id=\"T_6f5e872c_b6b9_11e9_b319_204747c6ba93row68_col3\" class=\"data row68 col3\" >1.5</td> \n",
       "        <td id=\"T_6f5e872c_b6b9_11e9_b319_204747c6ba93row68_col4\" class=\"data row68 col4\" >1</td> \n",
       "    </tr>    <tr> \n",
       "        <td id=\"T_6f5e872c_b6b9_11e9_b319_204747c6ba93row69_col0\" class=\"data row69 col0\" >5.6</td> \n",
       "        <td id=\"T_6f5e872c_b6b9_11e9_b319_204747c6ba93row69_col1\" class=\"data row69 col1\" >2.5</td> \n",
       "        <td id=\"T_6f5e872c_b6b9_11e9_b319_204747c6ba93row69_col2\" class=\"data row69 col2\" >3.9</td> \n",
       "        <td id=\"T_6f5e872c_b6b9_11e9_b319_204747c6ba93row69_col3\" class=\"data row69 col3\" >1.1</td> \n",
       "        <td id=\"T_6f5e872c_b6b9_11e9_b319_204747c6ba93row69_col4\" class=\"data row69 col4\" >1</td> \n",
       "    </tr>    <tr> \n",
       "        <td id=\"T_6f5e872c_b6b9_11e9_b319_204747c6ba93row70_col0\" class=\"data row70 col0\" >5.9</td> \n",
       "        <td id=\"T_6f5e872c_b6b9_11e9_b319_204747c6ba93row70_col1\" class=\"data row70 col1\" >3.2</td> \n",
       "        <td id=\"T_6f5e872c_b6b9_11e9_b319_204747c6ba93row70_col2\" class=\"data row70 col2\" >4.8</td> \n",
       "        <td id=\"T_6f5e872c_b6b9_11e9_b319_204747c6ba93row70_col3\" class=\"data row70 col3\" >1.8</td> \n",
       "        <td id=\"T_6f5e872c_b6b9_11e9_b319_204747c6ba93row70_col4\" class=\"data row70 col4\" >1</td> \n",
       "    </tr>    <tr> \n",
       "        <td id=\"T_6f5e872c_b6b9_11e9_b319_204747c6ba93row71_col0\" class=\"data row71 col0\" >6.1</td> \n",
       "        <td id=\"T_6f5e872c_b6b9_11e9_b319_204747c6ba93row71_col1\" class=\"data row71 col1\" >2.8</td> \n",
       "        <td id=\"T_6f5e872c_b6b9_11e9_b319_204747c6ba93row71_col2\" class=\"data row71 col2\" >4</td> \n",
       "        <td id=\"T_6f5e872c_b6b9_11e9_b319_204747c6ba93row71_col3\" class=\"data row71 col3\" >1.3</td> \n",
       "        <td id=\"T_6f5e872c_b6b9_11e9_b319_204747c6ba93row71_col4\" class=\"data row71 col4\" >1</td> \n",
       "    </tr>    <tr> \n",
       "        <td id=\"T_6f5e872c_b6b9_11e9_b319_204747c6ba93row72_col0\" class=\"data row72 col0\" >6.3</td> \n",
       "        <td id=\"T_6f5e872c_b6b9_11e9_b319_204747c6ba93row72_col1\" class=\"data row72 col1\" >2.5</td> \n",
       "        <td id=\"T_6f5e872c_b6b9_11e9_b319_204747c6ba93row72_col2\" class=\"data row72 col2\" >4.9</td> \n",
       "        <td id=\"T_6f5e872c_b6b9_11e9_b319_204747c6ba93row72_col3\" class=\"data row72 col3\" >1.5</td> \n",
       "        <td id=\"T_6f5e872c_b6b9_11e9_b319_204747c6ba93row72_col4\" class=\"data row72 col4\" >1</td> \n",
       "    </tr>    <tr> \n",
       "        <td id=\"T_6f5e872c_b6b9_11e9_b319_204747c6ba93row73_col0\" class=\"data row73 col0\" >6.1</td> \n",
       "        <td id=\"T_6f5e872c_b6b9_11e9_b319_204747c6ba93row73_col1\" class=\"data row73 col1\" >2.8</td> \n",
       "        <td id=\"T_6f5e872c_b6b9_11e9_b319_204747c6ba93row73_col2\" class=\"data row73 col2\" >4.7</td> \n",
       "        <td id=\"T_6f5e872c_b6b9_11e9_b319_204747c6ba93row73_col3\" class=\"data row73 col3\" >1.2</td> \n",
       "        <td id=\"T_6f5e872c_b6b9_11e9_b319_204747c6ba93row73_col4\" class=\"data row73 col4\" >1</td> \n",
       "    </tr>    <tr> \n",
       "        <td id=\"T_6f5e872c_b6b9_11e9_b319_204747c6ba93row74_col0\" class=\"data row74 col0\" >6.4</td> \n",
       "        <td id=\"T_6f5e872c_b6b9_11e9_b319_204747c6ba93row74_col1\" class=\"data row74 col1\" >2.9</td> \n",
       "        <td id=\"T_6f5e872c_b6b9_11e9_b319_204747c6ba93row74_col2\" class=\"data row74 col2\" >4.3</td> \n",
       "        <td id=\"T_6f5e872c_b6b9_11e9_b319_204747c6ba93row74_col3\" class=\"data row74 col3\" >1.3</td> \n",
       "        <td id=\"T_6f5e872c_b6b9_11e9_b319_204747c6ba93row74_col4\" class=\"data row74 col4\" >1</td> \n",
       "    </tr>    <tr> \n",
       "        <td id=\"T_6f5e872c_b6b9_11e9_b319_204747c6ba93row75_col0\" class=\"data row75 col0\" >6.6</td> \n",
       "        <td id=\"T_6f5e872c_b6b9_11e9_b319_204747c6ba93row75_col1\" class=\"data row75 col1\" >3</td> \n",
       "        <td id=\"T_6f5e872c_b6b9_11e9_b319_204747c6ba93row75_col2\" class=\"data row75 col2\" >4.4</td> \n",
       "        <td id=\"T_6f5e872c_b6b9_11e9_b319_204747c6ba93row75_col3\" class=\"data row75 col3\" >1.4</td> \n",
       "        <td id=\"T_6f5e872c_b6b9_11e9_b319_204747c6ba93row75_col4\" class=\"data row75 col4\" >1</td> \n",
       "    </tr>    <tr> \n",
       "        <td id=\"T_6f5e872c_b6b9_11e9_b319_204747c6ba93row76_col0\" class=\"data row76 col0\" >6.8</td> \n",
       "        <td id=\"T_6f5e872c_b6b9_11e9_b319_204747c6ba93row76_col1\" class=\"data row76 col1\" >2.8</td> \n",
       "        <td id=\"T_6f5e872c_b6b9_11e9_b319_204747c6ba93row76_col2\" class=\"data row76 col2\" >4.8</td> \n",
       "        <td id=\"T_6f5e872c_b6b9_11e9_b319_204747c6ba93row76_col3\" class=\"data row76 col3\" >1.4</td> \n",
       "        <td id=\"T_6f5e872c_b6b9_11e9_b319_204747c6ba93row76_col4\" class=\"data row76 col4\" >1</td> \n",
       "    </tr>    <tr> \n",
       "        <td id=\"T_6f5e872c_b6b9_11e9_b319_204747c6ba93row77_col0\" class=\"data row77 col0\" >6.7</td> \n",
       "        <td id=\"T_6f5e872c_b6b9_11e9_b319_204747c6ba93row77_col1\" class=\"data row77 col1\" >3</td> \n",
       "        <td id=\"T_6f5e872c_b6b9_11e9_b319_204747c6ba93row77_col2\" class=\"data row77 col2\" >5</td> \n",
       "        <td id=\"T_6f5e872c_b6b9_11e9_b319_204747c6ba93row77_col3\" class=\"data row77 col3\" >1.7</td> \n",
       "        <td id=\"T_6f5e872c_b6b9_11e9_b319_204747c6ba93row77_col4\" class=\"data row77 col4\" >1</td> \n",
       "    </tr>    <tr> \n",
       "        <td id=\"T_6f5e872c_b6b9_11e9_b319_204747c6ba93row78_col0\" class=\"data row78 col0\" >6</td> \n",
       "        <td id=\"T_6f5e872c_b6b9_11e9_b319_204747c6ba93row78_col1\" class=\"data row78 col1\" >2.9</td> \n",
       "        <td id=\"T_6f5e872c_b6b9_11e9_b319_204747c6ba93row78_col2\" class=\"data row78 col2\" >4.5</td> \n",
       "        <td id=\"T_6f5e872c_b6b9_11e9_b319_204747c6ba93row78_col3\" class=\"data row78 col3\" >1.5</td> \n",
       "        <td id=\"T_6f5e872c_b6b9_11e9_b319_204747c6ba93row78_col4\" class=\"data row78 col4\" >1</td> \n",
       "    </tr>    <tr> \n",
       "        <td id=\"T_6f5e872c_b6b9_11e9_b319_204747c6ba93row79_col0\" class=\"data row79 col0\" >5.7</td> \n",
       "        <td id=\"T_6f5e872c_b6b9_11e9_b319_204747c6ba93row79_col1\" class=\"data row79 col1\" >2.6</td> \n",
       "        <td id=\"T_6f5e872c_b6b9_11e9_b319_204747c6ba93row79_col2\" class=\"data row79 col2\" >3.5</td> \n",
       "        <td id=\"T_6f5e872c_b6b9_11e9_b319_204747c6ba93row79_col3\" class=\"data row79 col3\" >1</td> \n",
       "        <td id=\"T_6f5e872c_b6b9_11e9_b319_204747c6ba93row79_col4\" class=\"data row79 col4\" >1</td> \n",
       "    </tr>    <tr> \n",
       "        <td id=\"T_6f5e872c_b6b9_11e9_b319_204747c6ba93row80_col0\" class=\"data row80 col0\" >5.5</td> \n",
       "        <td id=\"T_6f5e872c_b6b9_11e9_b319_204747c6ba93row80_col1\" class=\"data row80 col1\" >2.4</td> \n",
       "        <td id=\"T_6f5e872c_b6b9_11e9_b319_204747c6ba93row80_col2\" class=\"data row80 col2\" >3.8</td> \n",
       "        <td id=\"T_6f5e872c_b6b9_11e9_b319_204747c6ba93row80_col3\" class=\"data row80 col3\" >1.1</td> \n",
       "        <td id=\"T_6f5e872c_b6b9_11e9_b319_204747c6ba93row80_col4\" class=\"data row80 col4\" >1</td> \n",
       "    </tr>    <tr> \n",
       "        <td id=\"T_6f5e872c_b6b9_11e9_b319_204747c6ba93row81_col0\" class=\"data row81 col0\" >5.5</td> \n",
       "        <td id=\"T_6f5e872c_b6b9_11e9_b319_204747c6ba93row81_col1\" class=\"data row81 col1\" >2.4</td> \n",
       "        <td id=\"T_6f5e872c_b6b9_11e9_b319_204747c6ba93row81_col2\" class=\"data row81 col2\" >3.7</td> \n",
       "        <td id=\"T_6f5e872c_b6b9_11e9_b319_204747c6ba93row81_col3\" class=\"data row81 col3\" >1</td> \n",
       "        <td id=\"T_6f5e872c_b6b9_11e9_b319_204747c6ba93row81_col4\" class=\"data row81 col4\" >1</td> \n",
       "    </tr>    <tr> \n",
       "        <td id=\"T_6f5e872c_b6b9_11e9_b319_204747c6ba93row82_col0\" class=\"data row82 col0\" >5.8</td> \n",
       "        <td id=\"T_6f5e872c_b6b9_11e9_b319_204747c6ba93row82_col1\" class=\"data row82 col1\" >2.7</td> \n",
       "        <td id=\"T_6f5e872c_b6b9_11e9_b319_204747c6ba93row82_col2\" class=\"data row82 col2\" >3.9</td> \n",
       "        <td id=\"T_6f5e872c_b6b9_11e9_b319_204747c6ba93row82_col3\" class=\"data row82 col3\" >1.2</td> \n",
       "        <td id=\"T_6f5e872c_b6b9_11e9_b319_204747c6ba93row82_col4\" class=\"data row82 col4\" >1</td> \n",
       "    </tr>    <tr> \n",
       "        <td id=\"T_6f5e872c_b6b9_11e9_b319_204747c6ba93row83_col0\" class=\"data row83 col0\" >6</td> \n",
       "        <td id=\"T_6f5e872c_b6b9_11e9_b319_204747c6ba93row83_col1\" class=\"data row83 col1\" >2.7</td> \n",
       "        <td id=\"T_6f5e872c_b6b9_11e9_b319_204747c6ba93row83_col2\" class=\"data row83 col2\" >5.1</td> \n",
       "        <td id=\"T_6f5e872c_b6b9_11e9_b319_204747c6ba93row83_col3\" class=\"data row83 col3\" >1.6</td> \n",
       "        <td id=\"T_6f5e872c_b6b9_11e9_b319_204747c6ba93row83_col4\" class=\"data row83 col4\" >1</td> \n",
       "    </tr>    <tr> \n",
       "        <td id=\"T_6f5e872c_b6b9_11e9_b319_204747c6ba93row84_col0\" class=\"data row84 col0\" >5.4</td> \n",
       "        <td id=\"T_6f5e872c_b6b9_11e9_b319_204747c6ba93row84_col1\" class=\"data row84 col1\" >3</td> \n",
       "        <td id=\"T_6f5e872c_b6b9_11e9_b319_204747c6ba93row84_col2\" class=\"data row84 col2\" >4.5</td> \n",
       "        <td id=\"T_6f5e872c_b6b9_11e9_b319_204747c6ba93row84_col3\" class=\"data row84 col3\" >1.5</td> \n",
       "        <td id=\"T_6f5e872c_b6b9_11e9_b319_204747c6ba93row84_col4\" class=\"data row84 col4\" >1</td> \n",
       "    </tr>    <tr> \n",
       "        <td id=\"T_6f5e872c_b6b9_11e9_b319_204747c6ba93row85_col0\" class=\"data row85 col0\" >6</td> \n",
       "        <td id=\"T_6f5e872c_b6b9_11e9_b319_204747c6ba93row85_col1\" class=\"data row85 col1\" >3.4</td> \n",
       "        <td id=\"T_6f5e872c_b6b9_11e9_b319_204747c6ba93row85_col2\" class=\"data row85 col2\" >4.5</td> \n",
       "        <td id=\"T_6f5e872c_b6b9_11e9_b319_204747c6ba93row85_col3\" class=\"data row85 col3\" >1.6</td> \n",
       "        <td id=\"T_6f5e872c_b6b9_11e9_b319_204747c6ba93row85_col4\" class=\"data row85 col4\" >1</td> \n",
       "    </tr>    <tr> \n",
       "        <td id=\"T_6f5e872c_b6b9_11e9_b319_204747c6ba93row86_col0\" class=\"data row86 col0\" >6.7</td> \n",
       "        <td id=\"T_6f5e872c_b6b9_11e9_b319_204747c6ba93row86_col1\" class=\"data row86 col1\" >3.1</td> \n",
       "        <td id=\"T_6f5e872c_b6b9_11e9_b319_204747c6ba93row86_col2\" class=\"data row86 col2\" >4.7</td> \n",
       "        <td id=\"T_6f5e872c_b6b9_11e9_b319_204747c6ba93row86_col3\" class=\"data row86 col3\" >1.5</td> \n",
       "        <td id=\"T_6f5e872c_b6b9_11e9_b319_204747c6ba93row86_col4\" class=\"data row86 col4\" >1</td> \n",
       "    </tr>    <tr> \n",
       "        <td id=\"T_6f5e872c_b6b9_11e9_b319_204747c6ba93row87_col0\" class=\"data row87 col0\" >6.3</td> \n",
       "        <td id=\"T_6f5e872c_b6b9_11e9_b319_204747c6ba93row87_col1\" class=\"data row87 col1\" >2.3</td> \n",
       "        <td id=\"T_6f5e872c_b6b9_11e9_b319_204747c6ba93row87_col2\" class=\"data row87 col2\" >4.4</td> \n",
       "        <td id=\"T_6f5e872c_b6b9_11e9_b319_204747c6ba93row87_col3\" class=\"data row87 col3\" >1.3</td> \n",
       "        <td id=\"T_6f5e872c_b6b9_11e9_b319_204747c6ba93row87_col4\" class=\"data row87 col4\" >1</td> \n",
       "    </tr>    <tr> \n",
       "        <td id=\"T_6f5e872c_b6b9_11e9_b319_204747c6ba93row88_col0\" class=\"data row88 col0\" >5.6</td> \n",
       "        <td id=\"T_6f5e872c_b6b9_11e9_b319_204747c6ba93row88_col1\" class=\"data row88 col1\" >3</td> \n",
       "        <td id=\"T_6f5e872c_b6b9_11e9_b319_204747c6ba93row88_col2\" class=\"data row88 col2\" >4.1</td> \n",
       "        <td id=\"T_6f5e872c_b6b9_11e9_b319_204747c6ba93row88_col3\" class=\"data row88 col3\" >1.3</td> \n",
       "        <td id=\"T_6f5e872c_b6b9_11e9_b319_204747c6ba93row88_col4\" class=\"data row88 col4\" >1</td> \n",
       "    </tr>    <tr> \n",
       "        <td id=\"T_6f5e872c_b6b9_11e9_b319_204747c6ba93row89_col0\" class=\"data row89 col0\" >5.5</td> \n",
       "        <td id=\"T_6f5e872c_b6b9_11e9_b319_204747c6ba93row89_col1\" class=\"data row89 col1\" >2.5</td> \n",
       "        <td id=\"T_6f5e872c_b6b9_11e9_b319_204747c6ba93row89_col2\" class=\"data row89 col2\" >4</td> \n",
       "        <td id=\"T_6f5e872c_b6b9_11e9_b319_204747c6ba93row89_col3\" class=\"data row89 col3\" >1.3</td> \n",
       "        <td id=\"T_6f5e872c_b6b9_11e9_b319_204747c6ba93row89_col4\" class=\"data row89 col4\" >1</td> \n",
       "    </tr>    <tr> \n",
       "        <td id=\"T_6f5e872c_b6b9_11e9_b319_204747c6ba93row90_col0\" class=\"data row90 col0\" >5.5</td> \n",
       "        <td id=\"T_6f5e872c_b6b9_11e9_b319_204747c6ba93row90_col1\" class=\"data row90 col1\" >2.6</td> \n",
       "        <td id=\"T_6f5e872c_b6b9_11e9_b319_204747c6ba93row90_col2\" class=\"data row90 col2\" >4.4</td> \n",
       "        <td id=\"T_6f5e872c_b6b9_11e9_b319_204747c6ba93row90_col3\" class=\"data row90 col3\" >1.2</td> \n",
       "        <td id=\"T_6f5e872c_b6b9_11e9_b319_204747c6ba93row90_col4\" class=\"data row90 col4\" >1</td> \n",
       "    </tr>    <tr> \n",
       "        <td id=\"T_6f5e872c_b6b9_11e9_b319_204747c6ba93row91_col0\" class=\"data row91 col0\" >6.1</td> \n",
       "        <td id=\"T_6f5e872c_b6b9_11e9_b319_204747c6ba93row91_col1\" class=\"data row91 col1\" >3</td> \n",
       "        <td id=\"T_6f5e872c_b6b9_11e9_b319_204747c6ba93row91_col2\" class=\"data row91 col2\" >4.6</td> \n",
       "        <td id=\"T_6f5e872c_b6b9_11e9_b319_204747c6ba93row91_col3\" class=\"data row91 col3\" >1.4</td> \n",
       "        <td id=\"T_6f5e872c_b6b9_11e9_b319_204747c6ba93row91_col4\" class=\"data row91 col4\" >1</td> \n",
       "    </tr>    <tr> \n",
       "        <td id=\"T_6f5e872c_b6b9_11e9_b319_204747c6ba93row92_col0\" class=\"data row92 col0\" >5.8</td> \n",
       "        <td id=\"T_6f5e872c_b6b9_11e9_b319_204747c6ba93row92_col1\" class=\"data row92 col1\" >2.6</td> \n",
       "        <td id=\"T_6f5e872c_b6b9_11e9_b319_204747c6ba93row92_col2\" class=\"data row92 col2\" >4</td> \n",
       "        <td id=\"T_6f5e872c_b6b9_11e9_b319_204747c6ba93row92_col3\" class=\"data row92 col3\" >1.2</td> \n",
       "        <td id=\"T_6f5e872c_b6b9_11e9_b319_204747c6ba93row92_col4\" class=\"data row92 col4\" >1</td> \n",
       "    </tr>    <tr> \n",
       "        <td id=\"T_6f5e872c_b6b9_11e9_b319_204747c6ba93row93_col0\" class=\"data row93 col0\" >5</td> \n",
       "        <td id=\"T_6f5e872c_b6b9_11e9_b319_204747c6ba93row93_col1\" class=\"data row93 col1\" >2.3</td> \n",
       "        <td id=\"T_6f5e872c_b6b9_11e9_b319_204747c6ba93row93_col2\" class=\"data row93 col2\" >3.3</td> \n",
       "        <td id=\"T_6f5e872c_b6b9_11e9_b319_204747c6ba93row93_col3\" class=\"data row93 col3\" >1</td> \n",
       "        <td id=\"T_6f5e872c_b6b9_11e9_b319_204747c6ba93row93_col4\" class=\"data row93 col4\" >1</td> \n",
       "    </tr>    <tr> \n",
       "        <td id=\"T_6f5e872c_b6b9_11e9_b319_204747c6ba93row94_col0\" class=\"data row94 col0\" >5.6</td> \n",
       "        <td id=\"T_6f5e872c_b6b9_11e9_b319_204747c6ba93row94_col1\" class=\"data row94 col1\" >2.7</td> \n",
       "        <td id=\"T_6f5e872c_b6b9_11e9_b319_204747c6ba93row94_col2\" class=\"data row94 col2\" >4.2</td> \n",
       "        <td id=\"T_6f5e872c_b6b9_11e9_b319_204747c6ba93row94_col3\" class=\"data row94 col3\" >1.3</td> \n",
       "        <td id=\"T_6f5e872c_b6b9_11e9_b319_204747c6ba93row94_col4\" class=\"data row94 col4\" >1</td> \n",
       "    </tr>    <tr> \n",
       "        <td id=\"T_6f5e872c_b6b9_11e9_b319_204747c6ba93row95_col0\" class=\"data row95 col0\" >5.7</td> \n",
       "        <td id=\"T_6f5e872c_b6b9_11e9_b319_204747c6ba93row95_col1\" class=\"data row95 col1\" >3</td> \n",
       "        <td id=\"T_6f5e872c_b6b9_11e9_b319_204747c6ba93row95_col2\" class=\"data row95 col2\" >4.2</td> \n",
       "        <td id=\"T_6f5e872c_b6b9_11e9_b319_204747c6ba93row95_col3\" class=\"data row95 col3\" >1.2</td> \n",
       "        <td id=\"T_6f5e872c_b6b9_11e9_b319_204747c6ba93row95_col4\" class=\"data row95 col4\" >1</td> \n",
       "    </tr>    <tr> \n",
       "        <td id=\"T_6f5e872c_b6b9_11e9_b319_204747c6ba93row96_col0\" class=\"data row96 col0\" >5.7</td> \n",
       "        <td id=\"T_6f5e872c_b6b9_11e9_b319_204747c6ba93row96_col1\" class=\"data row96 col1\" >2.9</td> \n",
       "        <td id=\"T_6f5e872c_b6b9_11e9_b319_204747c6ba93row96_col2\" class=\"data row96 col2\" >4.2</td> \n",
       "        <td id=\"T_6f5e872c_b6b9_11e9_b319_204747c6ba93row96_col3\" class=\"data row96 col3\" >1.3</td> \n",
       "        <td id=\"T_6f5e872c_b6b9_11e9_b319_204747c6ba93row96_col4\" class=\"data row96 col4\" >1</td> \n",
       "    </tr>    <tr> \n",
       "        <td id=\"T_6f5e872c_b6b9_11e9_b319_204747c6ba93row97_col0\" class=\"data row97 col0\" >6.2</td> \n",
       "        <td id=\"T_6f5e872c_b6b9_11e9_b319_204747c6ba93row97_col1\" class=\"data row97 col1\" >2.9</td> \n",
       "        <td id=\"T_6f5e872c_b6b9_11e9_b319_204747c6ba93row97_col2\" class=\"data row97 col2\" >4.3</td> \n",
       "        <td id=\"T_6f5e872c_b6b9_11e9_b319_204747c6ba93row97_col3\" class=\"data row97 col3\" >1.3</td> \n",
       "        <td id=\"T_6f5e872c_b6b9_11e9_b319_204747c6ba93row97_col4\" class=\"data row97 col4\" >1</td> \n",
       "    </tr>    <tr> \n",
       "        <td id=\"T_6f5e872c_b6b9_11e9_b319_204747c6ba93row98_col0\" class=\"data row98 col0\" >5.1</td> \n",
       "        <td id=\"T_6f5e872c_b6b9_11e9_b319_204747c6ba93row98_col1\" class=\"data row98 col1\" >2.5</td> \n",
       "        <td id=\"T_6f5e872c_b6b9_11e9_b319_204747c6ba93row98_col2\" class=\"data row98 col2\" >3</td> \n",
       "        <td id=\"T_6f5e872c_b6b9_11e9_b319_204747c6ba93row98_col3\" class=\"data row98 col3\" >1.1</td> \n",
       "        <td id=\"T_6f5e872c_b6b9_11e9_b319_204747c6ba93row98_col4\" class=\"data row98 col4\" >1</td> \n",
       "    </tr>    <tr> \n",
       "        <td id=\"T_6f5e872c_b6b9_11e9_b319_204747c6ba93row99_col0\" class=\"data row99 col0\" >5.7</td> \n",
       "        <td id=\"T_6f5e872c_b6b9_11e9_b319_204747c6ba93row99_col1\" class=\"data row99 col1\" >2.8</td> \n",
       "        <td id=\"T_6f5e872c_b6b9_11e9_b319_204747c6ba93row99_col2\" class=\"data row99 col2\" >4.1</td> \n",
       "        <td id=\"T_6f5e872c_b6b9_11e9_b319_204747c6ba93row99_col3\" class=\"data row99 col3\" >1.3</td> \n",
       "        <td id=\"T_6f5e872c_b6b9_11e9_b319_204747c6ba93row99_col4\" class=\"data row99 col4\" >1</td> \n",
       "    </tr>    <tr> \n",
       "        <td id=\"T_6f5e872c_b6b9_11e9_b319_204747c6ba93row100_col0\" class=\"data row100 col0\" >6.3</td> \n",
       "        <td id=\"T_6f5e872c_b6b9_11e9_b319_204747c6ba93row100_col1\" class=\"data row100 col1\" >3.3</td> \n",
       "        <td id=\"T_6f5e872c_b6b9_11e9_b319_204747c6ba93row100_col2\" class=\"data row100 col2\" >6</td> \n",
       "        <td id=\"T_6f5e872c_b6b9_11e9_b319_204747c6ba93row100_col3\" class=\"data row100 col3\" >2.5</td> \n",
       "        <td id=\"T_6f5e872c_b6b9_11e9_b319_204747c6ba93row100_col4\" class=\"data row100 col4\" >2</td> \n",
       "    </tr>    <tr> \n",
       "        <td id=\"T_6f5e872c_b6b9_11e9_b319_204747c6ba93row101_col0\" class=\"data row101 col0\" >5.8</td> \n",
       "        <td id=\"T_6f5e872c_b6b9_11e9_b319_204747c6ba93row101_col1\" class=\"data row101 col1\" >2.7</td> \n",
       "        <td id=\"T_6f5e872c_b6b9_11e9_b319_204747c6ba93row101_col2\" class=\"data row101 col2\" >5.1</td> \n",
       "        <td id=\"T_6f5e872c_b6b9_11e9_b319_204747c6ba93row101_col3\" class=\"data row101 col3\" >1.9</td> \n",
       "        <td id=\"T_6f5e872c_b6b9_11e9_b319_204747c6ba93row101_col4\" class=\"data row101 col4\" >2</td> \n",
       "    </tr>    <tr> \n",
       "        <td id=\"T_6f5e872c_b6b9_11e9_b319_204747c6ba93row102_col0\" class=\"data row102 col0\" >7.1</td> \n",
       "        <td id=\"T_6f5e872c_b6b9_11e9_b319_204747c6ba93row102_col1\" class=\"data row102 col1\" >3</td> \n",
       "        <td id=\"T_6f5e872c_b6b9_11e9_b319_204747c6ba93row102_col2\" class=\"data row102 col2\" >5.9</td> \n",
       "        <td id=\"T_6f5e872c_b6b9_11e9_b319_204747c6ba93row102_col3\" class=\"data row102 col3\" >2.1</td> \n",
       "        <td id=\"T_6f5e872c_b6b9_11e9_b319_204747c6ba93row102_col4\" class=\"data row102 col4\" >2</td> \n",
       "    </tr>    <tr> \n",
       "        <td id=\"T_6f5e872c_b6b9_11e9_b319_204747c6ba93row103_col0\" class=\"data row103 col0\" >6.3</td> \n",
       "        <td id=\"T_6f5e872c_b6b9_11e9_b319_204747c6ba93row103_col1\" class=\"data row103 col1\" >2.9</td> \n",
       "        <td id=\"T_6f5e872c_b6b9_11e9_b319_204747c6ba93row103_col2\" class=\"data row103 col2\" >5.6</td> \n",
       "        <td id=\"T_6f5e872c_b6b9_11e9_b319_204747c6ba93row103_col3\" class=\"data row103 col3\" >1.8</td> \n",
       "        <td id=\"T_6f5e872c_b6b9_11e9_b319_204747c6ba93row103_col4\" class=\"data row103 col4\" >2</td> \n",
       "    </tr>    <tr> \n",
       "        <td id=\"T_6f5e872c_b6b9_11e9_b319_204747c6ba93row104_col0\" class=\"data row104 col0\" >6.5</td> \n",
       "        <td id=\"T_6f5e872c_b6b9_11e9_b319_204747c6ba93row104_col1\" class=\"data row104 col1\" >3</td> \n",
       "        <td id=\"T_6f5e872c_b6b9_11e9_b319_204747c6ba93row104_col2\" class=\"data row104 col2\" >5.8</td> \n",
       "        <td id=\"T_6f5e872c_b6b9_11e9_b319_204747c6ba93row104_col3\" class=\"data row104 col3\" >2.2</td> \n",
       "        <td id=\"T_6f5e872c_b6b9_11e9_b319_204747c6ba93row104_col4\" class=\"data row104 col4\" >2</td> \n",
       "    </tr>    <tr> \n",
       "        <td id=\"T_6f5e872c_b6b9_11e9_b319_204747c6ba93row105_col0\" class=\"data row105 col0\" >7.6</td> \n",
       "        <td id=\"T_6f5e872c_b6b9_11e9_b319_204747c6ba93row105_col1\" class=\"data row105 col1\" >3</td> \n",
       "        <td id=\"T_6f5e872c_b6b9_11e9_b319_204747c6ba93row105_col2\" class=\"data row105 col2\" >6.6</td> \n",
       "        <td id=\"T_6f5e872c_b6b9_11e9_b319_204747c6ba93row105_col3\" class=\"data row105 col3\" >2.1</td> \n",
       "        <td id=\"T_6f5e872c_b6b9_11e9_b319_204747c6ba93row105_col4\" class=\"data row105 col4\" >2</td> \n",
       "    </tr>    <tr> \n",
       "        <td id=\"T_6f5e872c_b6b9_11e9_b319_204747c6ba93row106_col0\" class=\"data row106 col0\" >4.9</td> \n",
       "        <td id=\"T_6f5e872c_b6b9_11e9_b319_204747c6ba93row106_col1\" class=\"data row106 col1\" >2.5</td> \n",
       "        <td id=\"T_6f5e872c_b6b9_11e9_b319_204747c6ba93row106_col2\" class=\"data row106 col2\" >4.5</td> \n",
       "        <td id=\"T_6f5e872c_b6b9_11e9_b319_204747c6ba93row106_col3\" class=\"data row106 col3\" >1.7</td> \n",
       "        <td id=\"T_6f5e872c_b6b9_11e9_b319_204747c6ba93row106_col4\" class=\"data row106 col4\" >2</td> \n",
       "    </tr>    <tr> \n",
       "        <td id=\"T_6f5e872c_b6b9_11e9_b319_204747c6ba93row107_col0\" class=\"data row107 col0\" >7.3</td> \n",
       "        <td id=\"T_6f5e872c_b6b9_11e9_b319_204747c6ba93row107_col1\" class=\"data row107 col1\" >2.9</td> \n",
       "        <td id=\"T_6f5e872c_b6b9_11e9_b319_204747c6ba93row107_col2\" class=\"data row107 col2\" >6.3</td> \n",
       "        <td id=\"T_6f5e872c_b6b9_11e9_b319_204747c6ba93row107_col3\" class=\"data row107 col3\" >1.8</td> \n",
       "        <td id=\"T_6f5e872c_b6b9_11e9_b319_204747c6ba93row107_col4\" class=\"data row107 col4\" >2</td> \n",
       "    </tr>    <tr> \n",
       "        <td id=\"T_6f5e872c_b6b9_11e9_b319_204747c6ba93row108_col0\" class=\"data row108 col0\" >6.7</td> \n",
       "        <td id=\"T_6f5e872c_b6b9_11e9_b319_204747c6ba93row108_col1\" class=\"data row108 col1\" >2.5</td> \n",
       "        <td id=\"T_6f5e872c_b6b9_11e9_b319_204747c6ba93row108_col2\" class=\"data row108 col2\" >5.8</td> \n",
       "        <td id=\"T_6f5e872c_b6b9_11e9_b319_204747c6ba93row108_col3\" class=\"data row108 col3\" >1.8</td> \n",
       "        <td id=\"T_6f5e872c_b6b9_11e9_b319_204747c6ba93row108_col4\" class=\"data row108 col4\" >2</td> \n",
       "    </tr>    <tr> \n",
       "        <td id=\"T_6f5e872c_b6b9_11e9_b319_204747c6ba93row109_col0\" class=\"data row109 col0\" >7.2</td> \n",
       "        <td id=\"T_6f5e872c_b6b9_11e9_b319_204747c6ba93row109_col1\" class=\"data row109 col1\" >3.6</td> \n",
       "        <td id=\"T_6f5e872c_b6b9_11e9_b319_204747c6ba93row109_col2\" class=\"data row109 col2\" >6.1</td> \n",
       "        <td id=\"T_6f5e872c_b6b9_11e9_b319_204747c6ba93row109_col3\" class=\"data row109 col3\" >2.5</td> \n",
       "        <td id=\"T_6f5e872c_b6b9_11e9_b319_204747c6ba93row109_col4\" class=\"data row109 col4\" >2</td> \n",
       "    </tr>    <tr> \n",
       "        <td id=\"T_6f5e872c_b6b9_11e9_b319_204747c6ba93row110_col0\" class=\"data row110 col0\" >6.5</td> \n",
       "        <td id=\"T_6f5e872c_b6b9_11e9_b319_204747c6ba93row110_col1\" class=\"data row110 col1\" >3.2</td> \n",
       "        <td id=\"T_6f5e872c_b6b9_11e9_b319_204747c6ba93row110_col2\" class=\"data row110 col2\" >5.1</td> \n",
       "        <td id=\"T_6f5e872c_b6b9_11e9_b319_204747c6ba93row110_col3\" class=\"data row110 col3\" >2</td> \n",
       "        <td id=\"T_6f5e872c_b6b9_11e9_b319_204747c6ba93row110_col4\" class=\"data row110 col4\" >2</td> \n",
       "    </tr>    <tr> \n",
       "        <td id=\"T_6f5e872c_b6b9_11e9_b319_204747c6ba93row111_col0\" class=\"data row111 col0\" >6.4</td> \n",
       "        <td id=\"T_6f5e872c_b6b9_11e9_b319_204747c6ba93row111_col1\" class=\"data row111 col1\" >2.7</td> \n",
       "        <td id=\"T_6f5e872c_b6b9_11e9_b319_204747c6ba93row111_col2\" class=\"data row111 col2\" >5.3</td> \n",
       "        <td id=\"T_6f5e872c_b6b9_11e9_b319_204747c6ba93row111_col3\" class=\"data row111 col3\" >1.9</td> \n",
       "        <td id=\"T_6f5e872c_b6b9_11e9_b319_204747c6ba93row111_col4\" class=\"data row111 col4\" >2</td> \n",
       "    </tr>    <tr> \n",
       "        <td id=\"T_6f5e872c_b6b9_11e9_b319_204747c6ba93row112_col0\" class=\"data row112 col0\" >6.8</td> \n",
       "        <td id=\"T_6f5e872c_b6b9_11e9_b319_204747c6ba93row112_col1\" class=\"data row112 col1\" >3</td> \n",
       "        <td id=\"T_6f5e872c_b6b9_11e9_b319_204747c6ba93row112_col2\" class=\"data row112 col2\" >5.5</td> \n",
       "        <td id=\"T_6f5e872c_b6b9_11e9_b319_204747c6ba93row112_col3\" class=\"data row112 col3\" >2.1</td> \n",
       "        <td id=\"T_6f5e872c_b6b9_11e9_b319_204747c6ba93row112_col4\" class=\"data row112 col4\" >2</td> \n",
       "    </tr>    <tr> \n",
       "        <td id=\"T_6f5e872c_b6b9_11e9_b319_204747c6ba93row113_col0\" class=\"data row113 col0\" >5.7</td> \n",
       "        <td id=\"T_6f5e872c_b6b9_11e9_b319_204747c6ba93row113_col1\" class=\"data row113 col1\" >2.5</td> \n",
       "        <td id=\"T_6f5e872c_b6b9_11e9_b319_204747c6ba93row113_col2\" class=\"data row113 col2\" >5</td> \n",
       "        <td id=\"T_6f5e872c_b6b9_11e9_b319_204747c6ba93row113_col3\" class=\"data row113 col3\" >2</td> \n",
       "        <td id=\"T_6f5e872c_b6b9_11e9_b319_204747c6ba93row113_col4\" class=\"data row113 col4\" >2</td> \n",
       "    </tr>    <tr> \n",
       "        <td id=\"T_6f5e872c_b6b9_11e9_b319_204747c6ba93row114_col0\" class=\"data row114 col0\" >5.8</td> \n",
       "        <td id=\"T_6f5e872c_b6b9_11e9_b319_204747c6ba93row114_col1\" class=\"data row114 col1\" >2.8</td> \n",
       "        <td id=\"T_6f5e872c_b6b9_11e9_b319_204747c6ba93row114_col2\" class=\"data row114 col2\" >5.1</td> \n",
       "        <td id=\"T_6f5e872c_b6b9_11e9_b319_204747c6ba93row114_col3\" class=\"data row114 col3\" >2.4</td> \n",
       "        <td id=\"T_6f5e872c_b6b9_11e9_b319_204747c6ba93row114_col4\" class=\"data row114 col4\" >2</td> \n",
       "    </tr>    <tr> \n",
       "        <td id=\"T_6f5e872c_b6b9_11e9_b319_204747c6ba93row115_col0\" class=\"data row115 col0\" >6.4</td> \n",
       "        <td id=\"T_6f5e872c_b6b9_11e9_b319_204747c6ba93row115_col1\" class=\"data row115 col1\" >3.2</td> \n",
       "        <td id=\"T_6f5e872c_b6b9_11e9_b319_204747c6ba93row115_col2\" class=\"data row115 col2\" >5.3</td> \n",
       "        <td id=\"T_6f5e872c_b6b9_11e9_b319_204747c6ba93row115_col3\" class=\"data row115 col3\" >2.3</td> \n",
       "        <td id=\"T_6f5e872c_b6b9_11e9_b319_204747c6ba93row115_col4\" class=\"data row115 col4\" >2</td> \n",
       "    </tr>    <tr> \n",
       "        <td id=\"T_6f5e872c_b6b9_11e9_b319_204747c6ba93row116_col0\" class=\"data row116 col0\" >6.5</td> \n",
       "        <td id=\"T_6f5e872c_b6b9_11e9_b319_204747c6ba93row116_col1\" class=\"data row116 col1\" >3</td> \n",
       "        <td id=\"T_6f5e872c_b6b9_11e9_b319_204747c6ba93row116_col2\" class=\"data row116 col2\" >5.5</td> \n",
       "        <td id=\"T_6f5e872c_b6b9_11e9_b319_204747c6ba93row116_col3\" class=\"data row116 col3\" >1.8</td> \n",
       "        <td id=\"T_6f5e872c_b6b9_11e9_b319_204747c6ba93row116_col4\" class=\"data row116 col4\" >2</td> \n",
       "    </tr>    <tr> \n",
       "        <td id=\"T_6f5e872c_b6b9_11e9_b319_204747c6ba93row117_col0\" class=\"data row117 col0\" >7.7</td> \n",
       "        <td id=\"T_6f5e872c_b6b9_11e9_b319_204747c6ba93row117_col1\" class=\"data row117 col1\" >3.8</td> \n",
       "        <td id=\"T_6f5e872c_b6b9_11e9_b319_204747c6ba93row117_col2\" class=\"data row117 col2\" >6.7</td> \n",
       "        <td id=\"T_6f5e872c_b6b9_11e9_b319_204747c6ba93row117_col3\" class=\"data row117 col3\" >2.2</td> \n",
       "        <td id=\"T_6f5e872c_b6b9_11e9_b319_204747c6ba93row117_col4\" class=\"data row117 col4\" >2</td> \n",
       "    </tr>    <tr> \n",
       "        <td id=\"T_6f5e872c_b6b9_11e9_b319_204747c6ba93row118_col0\" class=\"data row118 col0\" >7.7</td> \n",
       "        <td id=\"T_6f5e872c_b6b9_11e9_b319_204747c6ba93row118_col1\" class=\"data row118 col1\" >2.6</td> \n",
       "        <td id=\"T_6f5e872c_b6b9_11e9_b319_204747c6ba93row118_col2\" class=\"data row118 col2\" >6.9</td> \n",
       "        <td id=\"T_6f5e872c_b6b9_11e9_b319_204747c6ba93row118_col3\" class=\"data row118 col3\" >2.3</td> \n",
       "        <td id=\"T_6f5e872c_b6b9_11e9_b319_204747c6ba93row118_col4\" class=\"data row118 col4\" >2</td> \n",
       "    </tr>    <tr> \n",
       "        <td id=\"T_6f5e872c_b6b9_11e9_b319_204747c6ba93row119_col0\" class=\"data row119 col0\" >6</td> \n",
       "        <td id=\"T_6f5e872c_b6b9_11e9_b319_204747c6ba93row119_col1\" class=\"data row119 col1\" >2.2</td> \n",
       "        <td id=\"T_6f5e872c_b6b9_11e9_b319_204747c6ba93row119_col2\" class=\"data row119 col2\" >5</td> \n",
       "        <td id=\"T_6f5e872c_b6b9_11e9_b319_204747c6ba93row119_col3\" class=\"data row119 col3\" >1.5</td> \n",
       "        <td id=\"T_6f5e872c_b6b9_11e9_b319_204747c6ba93row119_col4\" class=\"data row119 col4\" >2</td> \n",
       "    </tr>    <tr> \n",
       "        <td id=\"T_6f5e872c_b6b9_11e9_b319_204747c6ba93row120_col0\" class=\"data row120 col0\" >6.9</td> \n",
       "        <td id=\"T_6f5e872c_b6b9_11e9_b319_204747c6ba93row120_col1\" class=\"data row120 col1\" >3.2</td> \n",
       "        <td id=\"T_6f5e872c_b6b9_11e9_b319_204747c6ba93row120_col2\" class=\"data row120 col2\" >5.7</td> \n",
       "        <td id=\"T_6f5e872c_b6b9_11e9_b319_204747c6ba93row120_col3\" class=\"data row120 col3\" >2.3</td> \n",
       "        <td id=\"T_6f5e872c_b6b9_11e9_b319_204747c6ba93row120_col4\" class=\"data row120 col4\" >2</td> \n",
       "    </tr>    <tr> \n",
       "        <td id=\"T_6f5e872c_b6b9_11e9_b319_204747c6ba93row121_col0\" class=\"data row121 col0\" >5.6</td> \n",
       "        <td id=\"T_6f5e872c_b6b9_11e9_b319_204747c6ba93row121_col1\" class=\"data row121 col1\" >2.8</td> \n",
       "        <td id=\"T_6f5e872c_b6b9_11e9_b319_204747c6ba93row121_col2\" class=\"data row121 col2\" >4.9</td> \n",
       "        <td id=\"T_6f5e872c_b6b9_11e9_b319_204747c6ba93row121_col3\" class=\"data row121 col3\" >2</td> \n",
       "        <td id=\"T_6f5e872c_b6b9_11e9_b319_204747c6ba93row121_col4\" class=\"data row121 col4\" >2</td> \n",
       "    </tr>    <tr> \n",
       "        <td id=\"T_6f5e872c_b6b9_11e9_b319_204747c6ba93row122_col0\" class=\"data row122 col0\" >7.7</td> \n",
       "        <td id=\"T_6f5e872c_b6b9_11e9_b319_204747c6ba93row122_col1\" class=\"data row122 col1\" >2.8</td> \n",
       "        <td id=\"T_6f5e872c_b6b9_11e9_b319_204747c6ba93row122_col2\" class=\"data row122 col2\" >6.7</td> \n",
       "        <td id=\"T_6f5e872c_b6b9_11e9_b319_204747c6ba93row122_col3\" class=\"data row122 col3\" >2</td> \n",
       "        <td id=\"T_6f5e872c_b6b9_11e9_b319_204747c6ba93row122_col4\" class=\"data row122 col4\" >2</td> \n",
       "    </tr>    <tr> \n",
       "        <td id=\"T_6f5e872c_b6b9_11e9_b319_204747c6ba93row123_col0\" class=\"data row123 col0\" >6.3</td> \n",
       "        <td id=\"T_6f5e872c_b6b9_11e9_b319_204747c6ba93row123_col1\" class=\"data row123 col1\" >2.7</td> \n",
       "        <td id=\"T_6f5e872c_b6b9_11e9_b319_204747c6ba93row123_col2\" class=\"data row123 col2\" >4.9</td> \n",
       "        <td id=\"T_6f5e872c_b6b9_11e9_b319_204747c6ba93row123_col3\" class=\"data row123 col3\" >1.8</td> \n",
       "        <td id=\"T_6f5e872c_b6b9_11e9_b319_204747c6ba93row123_col4\" class=\"data row123 col4\" >2</td> \n",
       "    </tr>    <tr> \n",
       "        <td id=\"T_6f5e872c_b6b9_11e9_b319_204747c6ba93row124_col0\" class=\"data row124 col0\" >6.7</td> \n",
       "        <td id=\"T_6f5e872c_b6b9_11e9_b319_204747c6ba93row124_col1\" class=\"data row124 col1\" >3.3</td> \n",
       "        <td id=\"T_6f5e872c_b6b9_11e9_b319_204747c6ba93row124_col2\" class=\"data row124 col2\" >5.7</td> \n",
       "        <td id=\"T_6f5e872c_b6b9_11e9_b319_204747c6ba93row124_col3\" class=\"data row124 col3\" >2.1</td> \n",
       "        <td id=\"T_6f5e872c_b6b9_11e9_b319_204747c6ba93row124_col4\" class=\"data row124 col4\" >2</td> \n",
       "    </tr>    <tr> \n",
       "        <td id=\"T_6f5e872c_b6b9_11e9_b319_204747c6ba93row125_col0\" class=\"data row125 col0\" >7.2</td> \n",
       "        <td id=\"T_6f5e872c_b6b9_11e9_b319_204747c6ba93row125_col1\" class=\"data row125 col1\" >3.2</td> \n",
       "        <td id=\"T_6f5e872c_b6b9_11e9_b319_204747c6ba93row125_col2\" class=\"data row125 col2\" >6</td> \n",
       "        <td id=\"T_6f5e872c_b6b9_11e9_b319_204747c6ba93row125_col3\" class=\"data row125 col3\" >1.8</td> \n",
       "        <td id=\"T_6f5e872c_b6b9_11e9_b319_204747c6ba93row125_col4\" class=\"data row125 col4\" >2</td> \n",
       "    </tr>    <tr> \n",
       "        <td id=\"T_6f5e872c_b6b9_11e9_b319_204747c6ba93row126_col0\" class=\"data row126 col0\" >6.2</td> \n",
       "        <td id=\"T_6f5e872c_b6b9_11e9_b319_204747c6ba93row126_col1\" class=\"data row126 col1\" >2.8</td> \n",
       "        <td id=\"T_6f5e872c_b6b9_11e9_b319_204747c6ba93row126_col2\" class=\"data row126 col2\" >4.8</td> \n",
       "        <td id=\"T_6f5e872c_b6b9_11e9_b319_204747c6ba93row126_col3\" class=\"data row126 col3\" >1.8</td> \n",
       "        <td id=\"T_6f5e872c_b6b9_11e9_b319_204747c6ba93row126_col4\" class=\"data row126 col4\" >2</td> \n",
       "    </tr>    <tr> \n",
       "        <td id=\"T_6f5e872c_b6b9_11e9_b319_204747c6ba93row127_col0\" class=\"data row127 col0\" >6.1</td> \n",
       "        <td id=\"T_6f5e872c_b6b9_11e9_b319_204747c6ba93row127_col1\" class=\"data row127 col1\" >3</td> \n",
       "        <td id=\"T_6f5e872c_b6b9_11e9_b319_204747c6ba93row127_col2\" class=\"data row127 col2\" >4.9</td> \n",
       "        <td id=\"T_6f5e872c_b6b9_11e9_b319_204747c6ba93row127_col3\" class=\"data row127 col3\" >1.8</td> \n",
       "        <td id=\"T_6f5e872c_b6b9_11e9_b319_204747c6ba93row127_col4\" class=\"data row127 col4\" >2</td> \n",
       "    </tr>    <tr> \n",
       "        <td id=\"T_6f5e872c_b6b9_11e9_b319_204747c6ba93row128_col0\" class=\"data row128 col0\" >6.4</td> \n",
       "        <td id=\"T_6f5e872c_b6b9_11e9_b319_204747c6ba93row128_col1\" class=\"data row128 col1\" >2.8</td> \n",
       "        <td id=\"T_6f5e872c_b6b9_11e9_b319_204747c6ba93row128_col2\" class=\"data row128 col2\" >5.6</td> \n",
       "        <td id=\"T_6f5e872c_b6b9_11e9_b319_204747c6ba93row128_col3\" class=\"data row128 col3\" >2.1</td> \n",
       "        <td id=\"T_6f5e872c_b6b9_11e9_b319_204747c6ba93row128_col4\" class=\"data row128 col4\" >2</td> \n",
       "    </tr>    <tr> \n",
       "        <td id=\"T_6f5e872c_b6b9_11e9_b319_204747c6ba93row129_col0\" class=\"data row129 col0\" >7.2</td> \n",
       "        <td id=\"T_6f5e872c_b6b9_11e9_b319_204747c6ba93row129_col1\" class=\"data row129 col1\" >3</td> \n",
       "        <td id=\"T_6f5e872c_b6b9_11e9_b319_204747c6ba93row129_col2\" class=\"data row129 col2\" >5.8</td> \n",
       "        <td id=\"T_6f5e872c_b6b9_11e9_b319_204747c6ba93row129_col3\" class=\"data row129 col3\" >1.6</td> \n",
       "        <td id=\"T_6f5e872c_b6b9_11e9_b319_204747c6ba93row129_col4\" class=\"data row129 col4\" >2</td> \n",
       "    </tr>    <tr> \n",
       "        <td id=\"T_6f5e872c_b6b9_11e9_b319_204747c6ba93row130_col0\" class=\"data row130 col0\" >7.4</td> \n",
       "        <td id=\"T_6f5e872c_b6b9_11e9_b319_204747c6ba93row130_col1\" class=\"data row130 col1\" >2.8</td> \n",
       "        <td id=\"T_6f5e872c_b6b9_11e9_b319_204747c6ba93row130_col2\" class=\"data row130 col2\" >6.1</td> \n",
       "        <td id=\"T_6f5e872c_b6b9_11e9_b319_204747c6ba93row130_col3\" class=\"data row130 col3\" >1.9</td> \n",
       "        <td id=\"T_6f5e872c_b6b9_11e9_b319_204747c6ba93row130_col4\" class=\"data row130 col4\" >2</td> \n",
       "    </tr>    <tr> \n",
       "        <td id=\"T_6f5e872c_b6b9_11e9_b319_204747c6ba93row131_col0\" class=\"data row131 col0\" >7.9</td> \n",
       "        <td id=\"T_6f5e872c_b6b9_11e9_b319_204747c6ba93row131_col1\" class=\"data row131 col1\" >3.8</td> \n",
       "        <td id=\"T_6f5e872c_b6b9_11e9_b319_204747c6ba93row131_col2\" class=\"data row131 col2\" >6.4</td> \n",
       "        <td id=\"T_6f5e872c_b6b9_11e9_b319_204747c6ba93row131_col3\" class=\"data row131 col3\" >2</td> \n",
       "        <td id=\"T_6f5e872c_b6b9_11e9_b319_204747c6ba93row131_col4\" class=\"data row131 col4\" >2</td> \n",
       "    </tr>    <tr> \n",
       "        <td id=\"T_6f5e872c_b6b9_11e9_b319_204747c6ba93row132_col0\" class=\"data row132 col0\" >6.4</td> \n",
       "        <td id=\"T_6f5e872c_b6b9_11e9_b319_204747c6ba93row132_col1\" class=\"data row132 col1\" >2.8</td> \n",
       "        <td id=\"T_6f5e872c_b6b9_11e9_b319_204747c6ba93row132_col2\" class=\"data row132 col2\" >5.6</td> \n",
       "        <td id=\"T_6f5e872c_b6b9_11e9_b319_204747c6ba93row132_col3\" class=\"data row132 col3\" >2.2</td> \n",
       "        <td id=\"T_6f5e872c_b6b9_11e9_b319_204747c6ba93row132_col4\" class=\"data row132 col4\" >2</td> \n",
       "    </tr>    <tr> \n",
       "        <td id=\"T_6f5e872c_b6b9_11e9_b319_204747c6ba93row133_col0\" class=\"data row133 col0\" >6.3</td> \n",
       "        <td id=\"T_6f5e872c_b6b9_11e9_b319_204747c6ba93row133_col1\" class=\"data row133 col1\" >2.8</td> \n",
       "        <td id=\"T_6f5e872c_b6b9_11e9_b319_204747c6ba93row133_col2\" class=\"data row133 col2\" >5.1</td> \n",
       "        <td id=\"T_6f5e872c_b6b9_11e9_b319_204747c6ba93row133_col3\" class=\"data row133 col3\" >1.5</td> \n",
       "        <td id=\"T_6f5e872c_b6b9_11e9_b319_204747c6ba93row133_col4\" class=\"data row133 col4\" >2</td> \n",
       "    </tr>    <tr> \n",
       "        <td id=\"T_6f5e872c_b6b9_11e9_b319_204747c6ba93row134_col0\" class=\"data row134 col0\" >6.1</td> \n",
       "        <td id=\"T_6f5e872c_b6b9_11e9_b319_204747c6ba93row134_col1\" class=\"data row134 col1\" >2.6</td> \n",
       "        <td id=\"T_6f5e872c_b6b9_11e9_b319_204747c6ba93row134_col2\" class=\"data row134 col2\" >5.6</td> \n",
       "        <td id=\"T_6f5e872c_b6b9_11e9_b319_204747c6ba93row134_col3\" class=\"data row134 col3\" >1.4</td> \n",
       "        <td id=\"T_6f5e872c_b6b9_11e9_b319_204747c6ba93row134_col4\" class=\"data row134 col4\" >2</td> \n",
       "    </tr>    <tr> \n",
       "        <td id=\"T_6f5e872c_b6b9_11e9_b319_204747c6ba93row135_col0\" class=\"data row135 col0\" >7.7</td> \n",
       "        <td id=\"T_6f5e872c_b6b9_11e9_b319_204747c6ba93row135_col1\" class=\"data row135 col1\" >3</td> \n",
       "        <td id=\"T_6f5e872c_b6b9_11e9_b319_204747c6ba93row135_col2\" class=\"data row135 col2\" >6.1</td> \n",
       "        <td id=\"T_6f5e872c_b6b9_11e9_b319_204747c6ba93row135_col3\" class=\"data row135 col3\" >2.3</td> \n",
       "        <td id=\"T_6f5e872c_b6b9_11e9_b319_204747c6ba93row135_col4\" class=\"data row135 col4\" >2</td> \n",
       "    </tr>    <tr> \n",
       "        <td id=\"T_6f5e872c_b6b9_11e9_b319_204747c6ba93row136_col0\" class=\"data row136 col0\" >6.3</td> \n",
       "        <td id=\"T_6f5e872c_b6b9_11e9_b319_204747c6ba93row136_col1\" class=\"data row136 col1\" >3.4</td> \n",
       "        <td id=\"T_6f5e872c_b6b9_11e9_b319_204747c6ba93row136_col2\" class=\"data row136 col2\" >5.6</td> \n",
       "        <td id=\"T_6f5e872c_b6b9_11e9_b319_204747c6ba93row136_col3\" class=\"data row136 col3\" >2.4</td> \n",
       "        <td id=\"T_6f5e872c_b6b9_11e9_b319_204747c6ba93row136_col4\" class=\"data row136 col4\" >2</td> \n",
       "    </tr>    <tr> \n",
       "        <td id=\"T_6f5e872c_b6b9_11e9_b319_204747c6ba93row137_col0\" class=\"data row137 col0\" >6.4</td> \n",
       "        <td id=\"T_6f5e872c_b6b9_11e9_b319_204747c6ba93row137_col1\" class=\"data row137 col1\" >3.1</td> \n",
       "        <td id=\"T_6f5e872c_b6b9_11e9_b319_204747c6ba93row137_col2\" class=\"data row137 col2\" >5.5</td> \n",
       "        <td id=\"T_6f5e872c_b6b9_11e9_b319_204747c6ba93row137_col3\" class=\"data row137 col3\" >1.8</td> \n",
       "        <td id=\"T_6f5e872c_b6b9_11e9_b319_204747c6ba93row137_col4\" class=\"data row137 col4\" >2</td> \n",
       "    </tr>    <tr> \n",
       "        <td id=\"T_6f5e872c_b6b9_11e9_b319_204747c6ba93row138_col0\" class=\"data row138 col0\" >6</td> \n",
       "        <td id=\"T_6f5e872c_b6b9_11e9_b319_204747c6ba93row138_col1\" class=\"data row138 col1\" >3</td> \n",
       "        <td id=\"T_6f5e872c_b6b9_11e9_b319_204747c6ba93row138_col2\" class=\"data row138 col2\" >4.8</td> \n",
       "        <td id=\"T_6f5e872c_b6b9_11e9_b319_204747c6ba93row138_col3\" class=\"data row138 col3\" >1.8</td> \n",
       "        <td id=\"T_6f5e872c_b6b9_11e9_b319_204747c6ba93row138_col4\" class=\"data row138 col4\" >2</td> \n",
       "    </tr>    <tr> \n",
       "        <td id=\"T_6f5e872c_b6b9_11e9_b319_204747c6ba93row139_col0\" class=\"data row139 col0\" >6.9</td> \n",
       "        <td id=\"T_6f5e872c_b6b9_11e9_b319_204747c6ba93row139_col1\" class=\"data row139 col1\" >3.1</td> \n",
       "        <td id=\"T_6f5e872c_b6b9_11e9_b319_204747c6ba93row139_col2\" class=\"data row139 col2\" >5.4</td> \n",
       "        <td id=\"T_6f5e872c_b6b9_11e9_b319_204747c6ba93row139_col3\" class=\"data row139 col3\" >2.1</td> \n",
       "        <td id=\"T_6f5e872c_b6b9_11e9_b319_204747c6ba93row139_col4\" class=\"data row139 col4\" >2</td> \n",
       "    </tr>    <tr> \n",
       "        <td id=\"T_6f5e872c_b6b9_11e9_b319_204747c6ba93row140_col0\" class=\"data row140 col0\" >6.7</td> \n",
       "        <td id=\"T_6f5e872c_b6b9_11e9_b319_204747c6ba93row140_col1\" class=\"data row140 col1\" >3.1</td> \n",
       "        <td id=\"T_6f5e872c_b6b9_11e9_b319_204747c6ba93row140_col2\" class=\"data row140 col2\" >5.6</td> \n",
       "        <td id=\"T_6f5e872c_b6b9_11e9_b319_204747c6ba93row140_col3\" class=\"data row140 col3\" >2.4</td> \n",
       "        <td id=\"T_6f5e872c_b6b9_11e9_b319_204747c6ba93row140_col4\" class=\"data row140 col4\" >2</td> \n",
       "    </tr>    <tr> \n",
       "        <td id=\"T_6f5e872c_b6b9_11e9_b319_204747c6ba93row141_col0\" class=\"data row141 col0\" >6.9</td> \n",
       "        <td id=\"T_6f5e872c_b6b9_11e9_b319_204747c6ba93row141_col1\" class=\"data row141 col1\" >3.1</td> \n",
       "        <td id=\"T_6f5e872c_b6b9_11e9_b319_204747c6ba93row141_col2\" class=\"data row141 col2\" >5.1</td> \n",
       "        <td id=\"T_6f5e872c_b6b9_11e9_b319_204747c6ba93row141_col3\" class=\"data row141 col3\" >2.3</td> \n",
       "        <td id=\"T_6f5e872c_b6b9_11e9_b319_204747c6ba93row141_col4\" class=\"data row141 col4\" >2</td> \n",
       "    </tr>    <tr> \n",
       "        <td id=\"T_6f5e872c_b6b9_11e9_b319_204747c6ba93row142_col0\" class=\"data row142 col0\" >5.8</td> \n",
       "        <td id=\"T_6f5e872c_b6b9_11e9_b319_204747c6ba93row142_col1\" class=\"data row142 col1\" >2.7</td> \n",
       "        <td id=\"T_6f5e872c_b6b9_11e9_b319_204747c6ba93row142_col2\" class=\"data row142 col2\" >5.1</td> \n",
       "        <td id=\"T_6f5e872c_b6b9_11e9_b319_204747c6ba93row142_col3\" class=\"data row142 col3\" >1.9</td> \n",
       "        <td id=\"T_6f5e872c_b6b9_11e9_b319_204747c6ba93row142_col4\" class=\"data row142 col4\" >2</td> \n",
       "    </tr>    <tr> \n",
       "        <td id=\"T_6f5e872c_b6b9_11e9_b319_204747c6ba93row143_col0\" class=\"data row143 col0\" >6.8</td> \n",
       "        <td id=\"T_6f5e872c_b6b9_11e9_b319_204747c6ba93row143_col1\" class=\"data row143 col1\" >3.2</td> \n",
       "        <td id=\"T_6f5e872c_b6b9_11e9_b319_204747c6ba93row143_col2\" class=\"data row143 col2\" >5.9</td> \n",
       "        <td id=\"T_6f5e872c_b6b9_11e9_b319_204747c6ba93row143_col3\" class=\"data row143 col3\" >2.3</td> \n",
       "        <td id=\"T_6f5e872c_b6b9_11e9_b319_204747c6ba93row143_col4\" class=\"data row143 col4\" >2</td> \n",
       "    </tr>    <tr> \n",
       "        <td id=\"T_6f5e872c_b6b9_11e9_b319_204747c6ba93row144_col0\" class=\"data row144 col0\" >6.7</td> \n",
       "        <td id=\"T_6f5e872c_b6b9_11e9_b319_204747c6ba93row144_col1\" class=\"data row144 col1\" >3.3</td> \n",
       "        <td id=\"T_6f5e872c_b6b9_11e9_b319_204747c6ba93row144_col2\" class=\"data row144 col2\" >5.7</td> \n",
       "        <td id=\"T_6f5e872c_b6b9_11e9_b319_204747c6ba93row144_col3\" class=\"data row144 col3\" >2.5</td> \n",
       "        <td id=\"T_6f5e872c_b6b9_11e9_b319_204747c6ba93row144_col4\" class=\"data row144 col4\" >2</td> \n",
       "    </tr>    <tr> \n",
       "        <td id=\"T_6f5e872c_b6b9_11e9_b319_204747c6ba93row145_col0\" class=\"data row145 col0\" >6.7</td> \n",
       "        <td id=\"T_6f5e872c_b6b9_11e9_b319_204747c6ba93row145_col1\" class=\"data row145 col1\" >3</td> \n",
       "        <td id=\"T_6f5e872c_b6b9_11e9_b319_204747c6ba93row145_col2\" class=\"data row145 col2\" >5.2</td> \n",
       "        <td id=\"T_6f5e872c_b6b9_11e9_b319_204747c6ba93row145_col3\" class=\"data row145 col3\" >2.3</td> \n",
       "        <td id=\"T_6f5e872c_b6b9_11e9_b319_204747c6ba93row145_col4\" class=\"data row145 col4\" >2</td> \n",
       "    </tr>    <tr> \n",
       "        <td id=\"T_6f5e872c_b6b9_11e9_b319_204747c6ba93row146_col0\" class=\"data row146 col0\" >6.3</td> \n",
       "        <td id=\"T_6f5e872c_b6b9_11e9_b319_204747c6ba93row146_col1\" class=\"data row146 col1\" >2.5</td> \n",
       "        <td id=\"T_6f5e872c_b6b9_11e9_b319_204747c6ba93row146_col2\" class=\"data row146 col2\" >5</td> \n",
       "        <td id=\"T_6f5e872c_b6b9_11e9_b319_204747c6ba93row146_col3\" class=\"data row146 col3\" >1.9</td> \n",
       "        <td id=\"T_6f5e872c_b6b9_11e9_b319_204747c6ba93row146_col4\" class=\"data row146 col4\" >2</td> \n",
       "    </tr>    <tr> \n",
       "        <td id=\"T_6f5e872c_b6b9_11e9_b319_204747c6ba93row147_col0\" class=\"data row147 col0\" >6.5</td> \n",
       "        <td id=\"T_6f5e872c_b6b9_11e9_b319_204747c6ba93row147_col1\" class=\"data row147 col1\" >3</td> \n",
       "        <td id=\"T_6f5e872c_b6b9_11e9_b319_204747c6ba93row147_col2\" class=\"data row147 col2\" >5.2</td> \n",
       "        <td id=\"T_6f5e872c_b6b9_11e9_b319_204747c6ba93row147_col3\" class=\"data row147 col3\" >2</td> \n",
       "        <td id=\"T_6f5e872c_b6b9_11e9_b319_204747c6ba93row147_col4\" class=\"data row147 col4\" >2</td> \n",
       "    </tr>    <tr> \n",
       "        <td id=\"T_6f5e872c_b6b9_11e9_b319_204747c6ba93row148_col0\" class=\"data row148 col0\" >6.2</td> \n",
       "        <td id=\"T_6f5e872c_b6b9_11e9_b319_204747c6ba93row148_col1\" class=\"data row148 col1\" >3.4</td> \n",
       "        <td id=\"T_6f5e872c_b6b9_11e9_b319_204747c6ba93row148_col2\" class=\"data row148 col2\" >5.4</td> \n",
       "        <td id=\"T_6f5e872c_b6b9_11e9_b319_204747c6ba93row148_col3\" class=\"data row148 col3\" >2.3</td> \n",
       "        <td id=\"T_6f5e872c_b6b9_11e9_b319_204747c6ba93row148_col4\" class=\"data row148 col4\" >2</td> \n",
       "    </tr>    <tr> \n",
       "        <td id=\"T_6f5e872c_b6b9_11e9_b319_204747c6ba93row149_col0\" class=\"data row149 col0\" >5.9</td> \n",
       "        <td id=\"T_6f5e872c_b6b9_11e9_b319_204747c6ba93row149_col1\" class=\"data row149 col1\" >3</td> \n",
       "        <td id=\"T_6f5e872c_b6b9_11e9_b319_204747c6ba93row149_col2\" class=\"data row149 col2\" >5.1</td> \n",
       "        <td id=\"T_6f5e872c_b6b9_11e9_b319_204747c6ba93row149_col3\" class=\"data row149 col3\" >1.8</td> \n",
       "        <td id=\"T_6f5e872c_b6b9_11e9_b319_204747c6ba93row149_col4\" class=\"data row149 col4\" >2</td> \n",
       "    </tr></tbody> \n",
       "</table> "
      ],
      "text/plain": [
       "<pandas.io.formats.style.Styler at 0x23478d87828>"
      ]
     },
     "execution_count": 43,
     "metadata": {},
     "output_type": "execute_result"
    }
   ],
   "source": [
    "\n",
    "iris_d=iris.style.hide_index()\n",
    "iris_d\n"
   ]
  },
  {
   "cell_type": "markdown",
   "metadata": {
    "colab_type": "text",
    "id": "4t25mCgtHupL"
   },
   "source": [
    "### Question 12 \n",
    "Find Correlation among all variables and give your insights "
   ]
  },
  {
   "cell_type": "code",
   "execution_count": 44,
   "metadata": {
    "colab": {},
    "colab_type": "code",
    "id": "QH1X0KHKHupN"
   },
   "outputs": [],
   "source": [
    "#Please note, it's Require to remove correlated features because they are voted twice in the model and \n",
    "## it can lead to over inflating importance.We will ignore it here"
   ]
  },
  {
   "cell_type": "code",
   "execution_count": 45,
   "metadata": {
    "colab": {},
    "colab_type": "code",
    "id": "Hpx6ESv0HupS"
   },
   "outputs": [
    {
     "data": {
      "text/html": [
       "<div>\n",
       "<style scoped>\n",
       "    .dataframe tbody tr th:only-of-type {\n",
       "        vertical-align: middle;\n",
       "    }\n",
       "\n",
       "    .dataframe tbody tr th {\n",
       "        vertical-align: top;\n",
       "    }\n",
       "\n",
       "    .dataframe thead th {\n",
       "        text-align: right;\n",
       "    }\n",
       "</style>\n",
       "<table border=\"1\" class=\"dataframe\">\n",
       "  <thead>\n",
       "    <tr style=\"text-align: right;\">\n",
       "      <th></th>\n",
       "      <th>Sepal Length (in cm)</th>\n",
       "      <th>Sepal Width in (cm)</th>\n",
       "      <th>Petal length (in cm)</th>\n",
       "      <th>Petal width (in cm)</th>\n",
       "      <th>Class</th>\n",
       "    </tr>\n",
       "  </thead>\n",
       "  <tbody>\n",
       "    <tr>\n",
       "      <th>Sepal Length (in cm)</th>\n",
       "      <td>1.000000</td>\n",
       "      <td>-0.109369</td>\n",
       "      <td>0.871754</td>\n",
       "      <td>0.817954</td>\n",
       "      <td>0.782561</td>\n",
       "    </tr>\n",
       "    <tr>\n",
       "      <th>Sepal Width in (cm)</th>\n",
       "      <td>-0.109369</td>\n",
       "      <td>1.000000</td>\n",
       "      <td>-0.420516</td>\n",
       "      <td>-0.356544</td>\n",
       "      <td>-0.419446</td>\n",
       "    </tr>\n",
       "    <tr>\n",
       "      <th>Petal length (in cm)</th>\n",
       "      <td>0.871754</td>\n",
       "      <td>-0.420516</td>\n",
       "      <td>1.000000</td>\n",
       "      <td>0.962757</td>\n",
       "      <td>0.949043</td>\n",
       "    </tr>\n",
       "    <tr>\n",
       "      <th>Petal width (in cm)</th>\n",
       "      <td>0.817954</td>\n",
       "      <td>-0.356544</td>\n",
       "      <td>0.962757</td>\n",
       "      <td>1.000000</td>\n",
       "      <td>0.956464</td>\n",
       "    </tr>\n",
       "    <tr>\n",
       "      <th>Class</th>\n",
       "      <td>0.782561</td>\n",
       "      <td>-0.419446</td>\n",
       "      <td>0.949043</td>\n",
       "      <td>0.956464</td>\n",
       "      <td>1.000000</td>\n",
       "    </tr>\n",
       "  </tbody>\n",
       "</table>\n",
       "</div>"
      ],
      "text/plain": [
       "                      Sepal Length (in cm)  Sepal Width in (cm)  \\\n",
       "Sepal Length (in cm)              1.000000            -0.109369   \n",
       "Sepal Width in (cm)              -0.109369             1.000000   \n",
       "Petal length (in cm)              0.871754            -0.420516   \n",
       "Petal width (in cm)               0.817954            -0.356544   \n",
       "Class                             0.782561            -0.419446   \n",
       "\n",
       "                      Petal length (in cm)  Petal width (in cm)     Class  \n",
       "Sepal Length (in cm)              0.871754             0.817954  0.782561  \n",
       "Sepal Width in (cm)              -0.420516            -0.356544 -0.419446  \n",
       "Petal length (in cm)              1.000000             0.962757  0.949043  \n",
       "Petal width (in cm)               0.962757             1.000000  0.956464  \n",
       "Class                             0.949043             0.956464  1.000000  "
      ]
     },
     "execution_count": 45,
     "metadata": {},
     "output_type": "execute_result"
    }
   ],
   "source": [
    "iris.corr()"
   ]
  },
  {
   "cell_type": "code",
   "execution_count": 46,
   "metadata": {},
   "outputs": [
    {
     "data": {
      "text/plain": [
       "<seaborn.axisgrid.PairGrid at 0x23478ec2eb8>"
      ]
     },
     "execution_count": 46,
     "metadata": {},
     "output_type": "execute_result"
    },
    {
     "data": {
      "image/png": "[encoded data removed]",
      "text/plain": [
       "<Figure size 945.725x900 with 30 Axes>"
      ]
     },
     "metadata": {
      "needs_background": "light"
     },
     "output_type": "display_data"
    }
   ],
   "source": [
    "sns.pairplot(iris, hue='Class')"
   ]
  },
  {
   "cell_type": "code",
   "execution_count": 47,
   "metadata": {},
   "outputs": [],
   "source": [
    "#Inferences\n",
    "# 1) The setosa class has higher sepal lengths as compared to veriscolor and virginica which tend to have similar average sepal lengths.\n",
    "# 2) The virginica class has mean sepal width of approximately 4.4 cm whereas the setosa has the minimum out of three classes upto 3.8 cm\n",
    "# 3) The setosa clearly dominates in the petal length with mean above 6cm whereas versicolor has mean petal length slightly above 2 cm and virginica slightly less than 2 cm being the least out of the three categories.\n",
    "# 4) Similarly for the petal width seta class has mean petal width of about 2.5 cm and versicolor having 0.5 cm and virginica with least mean petal width.\n",
    "# 5) Also the correlation for variables petal lent=gth and petal width is 94% and 95% respectively with the class being the highest for all the variables present in the dataset."
   ]
  },
  {
   "cell_type": "markdown",
   "metadata": {
    "colab_type": "text",
    "id": "fMwqZfKEHupV"
   },
   "source": [
    "### Split data in Training and test set in 80:20."
   ]
  },
  {
   "cell_type": "code",
   "execution_count": 48,
   "metadata": {
    "colab": {},
    "colab_type": "code",
    "id": "yRCFfCqHHupW"
   },
   "outputs": [],
   "source": [
    "X_train, X_test,Y_train,Y_test = train_test_split(X,y, test_size = 0.2)"
   ]
  },
  {
   "cell_type": "markdown",
   "metadata": {
    "colab_type": "text",
    "id": "z8d4yxofHupb"
   },
   "source": [
    "### Question 13 \n",
    "Do Feature Scaling "
   ]
  },
  {
   "cell_type": "code",
   "execution_count": 49,
   "metadata": {
    "colab": {},
    "colab_type": "code",
    "id": "Y7o_ra27Hupe"
   },
   "outputs": [],
   "source": [
    "# Use StandardScaler or similar methods"
   ]
  },
  {
   "cell_type": "code",
   "execution_count": 50,
   "metadata": {},
   "outputs": [],
   "source": [
    "from sklearn.preprocessing import StandardScaler  \n",
    "scaler = StandardScaler() \n",
    "scaler.fit(X_train)\n",
    "\n",
    "X_train = scaler.transform(X_train)  \n",
    "X_test = scaler.transform(X_test)  "
   ]
  },
  {
   "cell_type": "markdown",
   "metadata": {
    "colab_type": "text",
    "id": "yLtqsTXwHupn"
   },
   "source": [
    "### Question 14 \n",
    "Train and Fit NaiveBayes Model"
   ]
  },
  {
   "cell_type": "code",
   "execution_count": 51,
   "metadata": {
    "colab": {},
    "colab_type": "code",
    "id": "7gqp9ej6Hupp"
   },
   "outputs": [],
   "source": [
    "#Fit the model\n",
    "from sklearn.naive_bayes import GaussianNB\n",
    "\n",
    "clf_GNB = GaussianNB()\n",
    "clf_GNB = clf_GNB.fit(X_train, Y_train)"
   ]
  },
  {
   "cell_type": "code",
   "execution_count": 52,
   "metadata": {
    "colab": {},
    "colab_type": "code",
    "id": "v_4CFBdRHupt"
   },
   "outputs": [],
   "source": [
    "#Predict\n",
    "y_pred_GNB=clf_GNB.predict(X_test)"
   ]
  },
  {
   "cell_type": "code",
   "execution_count": 53,
   "metadata": {},
   "outputs": [
    {
     "data": {
      "text/plain": [
       "array([2, 1, 1, 2, 0, 1, 1, 0, 0, 0, 1, 0, 1, 1, 0, 1, 0, 0, 1, 0, 1, 2,\n",
       "       2, 0, 0, 1, 2, 1, 0, 1], dtype=int8)"
      ]
     },
     "execution_count": 53,
     "metadata": {},
     "output_type": "execute_result"
    }
   ],
   "source": [
    "y_pred_GNB"
   ]
  },
  {
   "cell_type": "markdown",
   "metadata": {
    "colab_type": "text",
    "id": "UW_HXYOeHupy"
   },
   "source": [
    "\n",
    "### Question 15 \n",
    "Print Accuracy and Confusion Matrix and Conclude your findings"
   ]
  },
  {
   "cell_type": "code",
   "execution_count": 54,
   "metadata": {
    "colab": {},
    "colab_type": "code",
    "id": "8mZGt-uLHup0"
   },
   "outputs": [
    {
     "name": "stdout",
     "output_type": "stream",
     "text": [
      "[[12  0  0]\n",
      " [ 0 11  0]\n",
      " [ 0  2  5]]\n"
     ]
    }
   ],
   "source": [
    "# show Confusion Matrix\n",
    "from sklearn.metrics import confusion_matrix\n",
    "confusion_matrix = confusion_matrix(Y_test, y_pred_GNB)\n",
    "print(confusion_matrix)"
   ]
  },
  {
   "cell_type": "code",
   "execution_count": 55,
   "metadata": {
    "colab": {},
    "colab_type": "code",
    "id": "AUqBiwmiHup4"
   },
   "outputs": [
    {
     "data": {
      "text/plain": [
       "0.9333333333333333"
      ]
     },
     "execution_count": 55,
     "metadata": {},
     "output_type": "execute_result"
    }
   ],
   "source": [
    "# show accuracy\n",
    "from sklearn.metrics import accuracy_score\n",
    "accuracy_score(Y_test, y_pred_GNB)"
   ]
  },
  {
   "cell_type": "code",
   "execution_count": 56,
   "metadata": {
    "colab": {},
    "colab_type": "code",
    "id": "bhCN30DZHup-"
   },
   "outputs": [],
   "source": [
    "#Show precision and Recall metrics"
   ]
  },
  {
   "cell_type": "code",
   "execution_count": 57,
   "metadata": {
    "colab": {},
    "colab_type": "code",
    "id": "xoj4zdh6HuqC"
   },
   "outputs": [
    {
     "name": "stdout",
     "output_type": "stream",
     "text": [
      "              precision    recall  f1-score   support\n",
      "\n",
      "           0       0.50      0.50      0.50        12\n",
      "           1       0.33      0.18      0.24        11\n",
      "           2       0.17      0.29      0.21         7\n",
      "\n",
      "   micro avg       0.33      0.33      0.33        30\n",
      "   macro avg       0.33      0.32      0.32        30\n",
      "weighted avg       0.36      0.33      0.34        30\n",
      "\n"
     ]
    }
   ],
   "source": [
    "from sklearn.metrics import classification_report  \n",
    "print(classification_report(Y_test, y_pred))  "
   ]
  },
  {
   "cell_type": "code",
   "execution_count": null,
   "metadata": {},
   "outputs": [],
   "source": []
  },
  {
   "cell_type": "code",
   "execution_count": null,
   "metadata": {},
   "outputs": [],
   "source": []
  }
 ],
 "metadata": {
  "colab": {
   "name": "R3_External_Lab_kNN_Naive_Bayes.ipynb",
   "provenance": [],
   "version": "0.3.2"
  },
  "kernelspec": {
   "display_name": "Python 3",
   "language": "python",
   "name": "python3"
  },
  "language_info": {
   "codemirror_mode": {
    "name": "ipython",
    "version": 3
   },
   "file_extension": ".py",
   "mimetype": "text/x-python",
   "name": "python",
   "nbconvert_exporter": "python",
   "pygments_lexer": "ipython3",
   "version": "3.7.3"
  }
 },
 "nbformat": 4,
 "nbformat_minor": 1
}
