{
 "cells": [
  {
   "cell_type": "markdown",
   "metadata": {
    "colab_type": "text",
    "id": "I-P5m4iA_xe7"
   },
   "source": [
    "# Bounding box detection - Racoon data\n",
    "\n",
    "\n",
    "## Data files\n",
    "- images_racoon.rar: contain images of racoons\n",
    "- train_labels.cv: contains coordinates for bounding box for every image"
   ]
  },
  {
   "cell_type": "markdown",
   "metadata": {
    "colab_type": "text",
    "id": "d8M5gzwKWGiU"
   },
   "source": [
    "### Import the necessary libraries"
   ]
  },
  {
   "cell_type": "code",
   "execution_count": 1,
   "metadata": {
    "colab": {
     "base_uri": "https://localhost:8080/",
     "height": 34
    },
    "colab_type": "code",
    "id": "2nRoPKhgJ5NB",
    "outputId": "8d0a535b-3b32-48d1-e5c7-3a07576aee32"
   },
   "outputs": [
    {
     "name": "stdout",
     "output_type": "stream",
     "text": [
      "Drive already mounted at /content/drive; to attempt to forcibly remount, call drive.mount(\"/content/drive\", force_remount=True).\n"
     ]
    }
   ],
   "source": [
    "from google.colab import drive\n",
    "drive.mount('/content/drive')"
   ]
  },
  {
   "cell_type": "code",
   "execution_count": 2,
   "metadata": {
    "colab": {
     "base_uri": "https://localhost:8080/",
     "height": 81
    },
    "colab_type": "code",
    "id": "VOMKpZJcWGiV",
    "outputId": "91671912-19a3-4773-8d4a-43a0617487a7"
   },
   "outputs": [
    {
     "data": {
      "text/html": [
       "<p style=\"color: red;\">\n",
       "The default version of TensorFlow in Colab will soon switch to TensorFlow 2.x.<br>\n",
       "We recommend you <a href=\"https://www.tensorflow.org/guide/migrate\" target=\"_blank\">upgrade</a> now \n",
       "or ensure your notebook will continue to use TensorFlow 1.x via the <code>%tensorflow_version 1.x</code> magic:\n",
       "<a href=\"https://colab.research.google.com/notebooks/tensorflow_version.ipynb\" target=\"_blank\">more info</a>.</p>\n"
      ],
      "text/plain": [
       "<IPython.core.display.HTML object>"
      ]
     },
     "metadata": {
      "tags": []
     },
     "output_type": "display_data"
    },
    {
     "name": "stderr",
     "output_type": "stream",
     "text": [
      "Using TensorFlow backend.\n"
     ]
    }
   ],
   "source": [
    "# IMPORT LIBRARIES AND PACKAGES\n",
    "import tensorflow as tf\n",
    "import csv\n",
    "import numpy as np\n",
    "from PIL import Image\n",
    "\n",
    "from keras import Model\n",
    "from keras.applications.mobilenet import MobileNet, preprocess_input\n",
    "from keras.callbacks import ModelCheckpoint, EarlyStopping, ReduceLROnPlateau, Callback\n",
    "from keras.layers import Conv2D, Reshape\n",
    "from keras.utils import Sequence\n",
    "from keras.backend import epsilon"
   ]
  },
  {
   "cell_type": "markdown",
   "metadata": {
    "colab_type": "text",
    "id": "Z_INIZOi_tUW"
   },
   "source": [
    "### Change directory"
   ]
  },
  {
   "cell_type": "code",
   "execution_count": 0,
   "metadata": {
    "colab": {},
    "colab_type": "code",
    "id": "Sxgw3GT1AR9Y"
   },
   "outputs": [],
   "source": [
    "import os\n",
    "os.chdir('/content/drive/My Drive/Great Learning Residency 9.2 ACV/lab9/')"
   ]
  },
  {
   "cell_type": "markdown",
   "metadata": {
    "colab_type": "text",
    "id": "lwxBtvYRWGii"
   },
   "source": [
    "### Load the training data from train.csv file"
   ]
  },
  {
   "cell_type": "code",
   "execution_count": 0,
   "metadata": {
    "colab": {},
    "colab_type": "code",
    "id": "wiTjjKtpWGij"
   },
   "outputs": [],
   "source": [
    "DATASET_FOLDER = \"/content/drive/My Drive/Great Learning Residency 9.2 ACV/lab9/\"\n",
    "TRAIN_CSV = DATASET_FOLDER+\"train_labels.csv\""
   ]
  },
  {
   "cell_type": "markdown",
   "metadata": {
    "colab_type": "text",
    "id": "-F3CkYxUWGin"
   },
   "source": [
    "### Print the shape of the train dataset"
   ]
  },
  {
   "cell_type": "code",
   "execution_count": 0,
   "metadata": {
    "colab": {},
    "colab_type": "code",
    "id": "XSFVbAG0LJkj"
   },
   "outputs": [],
   "source": [
    "import pandas as pd"
   ]
  },
  {
   "cell_type": "code",
   "execution_count": 0,
   "metadata": {
    "colab": {},
    "colab_type": "code",
    "id": "uRz_MtnvWGip"
   },
   "outputs": [],
   "source": [
    "train_data=pd.read_csv(TRAIN_CSV)"
   ]
  },
  {
   "cell_type": "code",
   "execution_count": 7,
   "metadata": {
    "colab": {
     "base_uri": "https://localhost:8080/",
     "height": 34
    },
    "colab_type": "code",
    "id": "mJ_mtnUtLVoU",
    "outputId": "2c7513fa-2866-451e-a552-0b730e9302e6"
   },
   "outputs": [
    {
     "data": {
      "text/plain": [
       "(173, 8)"
      ]
     },
     "execution_count": 7,
     "metadata": {
      "tags": []
     },
     "output_type": "execute_result"
    }
   ],
   "source": [
    "train_data.shape"
   ]
  },
  {
   "cell_type": "markdown",
   "metadata": {
    "colab_type": "text",
    "id": "axf5m10eWGis"
   },
   "source": [
    "### Declare a variable IMAGE_SIZE = 128 as we will be using MobileNet which will be taking Input shape as 128 * 128 "
   ]
  },
  {
   "cell_type": "code",
   "execution_count": 0,
   "metadata": {
    "colab": {},
    "colab_type": "code",
    "id": "7ayEk2c9WGit"
   },
   "outputs": [],
   "source": [
    " IMAGE_SIZE = 128"
   ]
  },
  {
   "cell_type": "markdown",
   "metadata": {
    "colab_type": "text",
    "id": "wbrrYb5IWGix"
   },
   "source": [
    "### With the help of csv.reader write a for loop which can load the train.csv file and store the path, width, height, x0,y0,x1,y1 in induvidual variables. <br>\n",
    "1. Create a list variable known as 'path' which has all the path for all the training images\n",
    "2. Create an array 'coords' which has the resized coordinates of the bounding box for the training images\n",
    "\n",
    "<u>Note:</u> All the training images should be downsampled to 128 * 128 as it is the input shape of MobileNet (which we will be using for Object detection). Hence the corresponding coordinates of the bounding boxes should be changed to match the image dimension of 128 * 128 "
   ]
  },
  {
   "cell_type": "code",
   "execution_count": 9,
   "metadata": {
    "colab": {
     "base_uri": "https://localhost:8080/",
     "height": 121
    },
    "colab_type": "code",
    "id": "jus-yfpJNOmK",
    "outputId": "ba4b0fc7-6d60-42a0-ce11-c0d040866fd7"
   },
   "outputs": [
    {
     "name": "stdout",
     "output_type": "stream",
     "text": [
      "Requirement already satisfied: patool in /usr/local/lib/python3.6/dist-packages (1.12)\n",
      "patool: Extracting /content/drive/My Drive/Great Learning Residency 9.2 ACV/lab9/images_racoon.rar ...\n",
      "patool: running /usr/bin/unrar x -- \"/content/drive/My Drive/Great Learning Residency 9.2 ACV/lab9/images_racoon.rar\"\n",
      "patool:     with cwd='./Unpack_0zhiuorm'\n",
      "patool: ... /content/drive/My Drive/Great Learning Residency 9.2 ACV/lab9/images_racoon.rar extracted to `images_racoon1' (local file exists).\n"
     ]
    },
    {
     "data": {
      "text/plain": [
       "'images_racoon1'"
      ]
     },
     "execution_count": 9,
     "metadata": {
      "tags": []
     },
     "output_type": "execute_result"
    }
   ],
   "source": [
    "!pip install patool \n",
    "import patoolib\n",
    "patoolib.extract_archive(\"/content/drive/My Drive/Great Learning Residency 9.2 ACV/lab9/images_racoon.rar\")"
   ]
  },
  {
   "cell_type": "code",
   "execution_count": 0,
   "metadata": {
    "colab": {},
    "colab_type": "code",
    "id": "twSTiPpRWGiy"
   },
   "outputs": [],
   "source": [
    "import csv\n",
    "with open(TRAIN_CSV, 'r') as csvfile:\n",
    "    paths = []\n",
    "    coords = np.zeros((sum(1 for line in csvfile)-1, 4))\n",
    "    reader = csv.reader(csvfile, delimiter=',')\n",
    "    csvfile.seek(0)\n",
    "    next(reader)\n",
    "    for col, row in enumerate(reader):\n",
    "               \n",
    "        #for i, r in enumerate(row[1:7]): # Parse row with seven entities\n",
    "            #row[i+1] = int(r)\n",
    "              \n",
    "        image_name, image_width, image_height,_, x0, y0, x1, y1 = row  \n",
    "       # path = \"/content/drive/My Drive/Great Learning Residency 9.2 ACV/lab9/images./\" + path.split('/')[-2] + \"/\" + path.split('/')[-1]\n",
    "        coords[col, 0] = int(x0) * IMAGE_SIZE / int(image_width) # Normalize bounding box by image size\n",
    "        coords[col, 1] = int(y0) * IMAGE_SIZE / int(image_height) # Normalize bounding box by image size\n",
    "        coords[col, 2] = (int(x1) - int(x0)) * IMAGE_SIZE / int(image_width) # Normalize bounding box by image size\n",
    "        coords[col, 3] = (int(y1) - int(y0)) * IMAGE_SIZE / int(image_height)\n",
    "        paths.append(image_name)"
   ]
  },
  {
   "cell_type": "code",
   "execution_count": 11,
   "metadata": {
    "colab": {
     "base_uri": "https://localhost:8080/",
     "height": 34
    },
    "colab_type": "code",
    "id": "4jYl49ODdyfb",
    "outputId": "b182a126-6f07-45cc-c28e-210c2e27241b"
   },
   "outputs": [
    {
     "data": {
      "text/plain": [
       "(173, 4)"
      ]
     },
     "execution_count": 11,
     "metadata": {
      "tags": []
     },
     "output_type": "execute_result"
    }
   ],
   "source": [
    "coords.shape"
   ]
  },
  {
   "cell_type": "markdown",
   "metadata": {
    "colab_type": "text",
    "id": "Z9iZWEpKWGi2"
   },
   "source": [
    "### Write a for loop which can load all the training images into a variable 'batch_images' using the paths from the 'paths' variable\n",
    "<u>Note:</u> Convert the image to RGB scale as the MobileNet accepts 3 channels as inputs   "
   ]
  },
  {
   "cell_type": "code",
   "execution_count": 0,
   "metadata": {
    "colab": {},
    "colab_type": "code",
    "id": "h6e99qquWGi3"
   },
   "outputs": [],
   "source": [
    "batch_images = np.zeros((len(paths), IMAGE_SIZE, IMAGE_SIZE, 3), dtype=np.float32)\n",
    "for i, f in enumerate(paths):\n",
    "    img = Image.open(\"/content/drive/My Drive/Great Learning Residency 9.2 ACV/lab9/images/\"+f) # Read image\n",
    "    img = img.resize((IMAGE_SIZE, IMAGE_SIZE)) # Resize image\n",
    "    img = img.convert('RGB')\n",
    "    batch_images[i] = preprocess_input(np.array(img, dtype=np.float32))"
   ]
  },
  {
   "cell_type": "code",
   "execution_count": 13,
   "metadata": {
    "colab": {
     "base_uri": "https://localhost:8080/",
     "height": 34
    },
    "colab_type": "code",
    "id": "Zwox3hZVcycI",
    "outputId": "45610ab8-a65e-4e0a-c801-f65ce7b4d2a9"
   },
   "outputs": [
    {
     "data": {
      "text/plain": [
       "173"
      ]
     },
     "execution_count": 13,
     "metadata": {
      "tags": []
     },
     "output_type": "execute_result"
    }
   ],
   "source": [
    "len(batch_images)"
   ]
  },
  {
   "cell_type": "markdown",
   "metadata": {
    "colab_type": "text",
    "id": "C9KU6pUTWGi9"
   },
   "source": [
    "### Import MobileNet and load MobileNet into a variable named 'model' which takes input shape of 128 * 128 * 3. Freeze all the layers. Add convolution and reshape layers at the end to ensure the output is 4 coordinates"
   ]
  },
  {
   "cell_type": "code",
   "execution_count": 0,
   "metadata": {
    "colab": {},
    "colab_type": "code",
    "id": "A3wtjx1ubTWy"
   },
   "outputs": [],
   "source": [
    "ALPHA = 1.0 # Width hyper parameter for MobileNet (0.25, 0.5, 0.75, 1.0). Higher width means more accurate but slower"
   ]
  },
  {
   "cell_type": "code",
   "execution_count": 15,
   "metadata": {
    "colab": {
     "base_uri": "https://localhost:8080/",
     "height": 398
    },
    "colab_type": "code",
    "id": "nosEtf1lWGi-",
    "outputId": "47fe0e57-4687-41d6-909b-087e8e094234"
   },
   "outputs": [
    {
     "name": "stdout",
     "output_type": "stream",
     "text": [
      "WARNING:tensorflow:From /usr/local/lib/python3.6/dist-packages/keras/backend/tensorflow_backend.py:66: The name tf.get_default_graph is deprecated. Please use tf.compat.v1.get_default_graph instead.\n",
      "\n",
      "WARNING:tensorflow:From /usr/local/lib/python3.6/dist-packages/keras/backend/tensorflow_backend.py:541: The name tf.placeholder is deprecated. Please use tf.compat.v1.placeholder instead.\n",
      "\n",
      "WARNING:tensorflow:From /usr/local/lib/python3.6/dist-packages/keras/backend/tensorflow_backend.py:4432: The name tf.random_uniform is deprecated. Please use tf.random.uniform instead.\n",
      "\n",
      "WARNING:tensorflow:From /usr/local/lib/python3.6/dist-packages/keras/backend/tensorflow_backend.py:190: The name tf.get_default_session is deprecated. Please use tf.compat.v1.get_default_session instead.\n",
      "\n",
      "WARNING:tensorflow:From /usr/local/lib/python3.6/dist-packages/keras/backend/tensorflow_backend.py:197: The name tf.ConfigProto is deprecated. Please use tf.compat.v1.ConfigProto instead.\n",
      "\n",
      "WARNING:tensorflow:From /usr/local/lib/python3.6/dist-packages/keras/backend/tensorflow_backend.py:203: The name tf.Session is deprecated. Please use tf.compat.v1.Session instead.\n",
      "\n",
      "WARNING:tensorflow:From /usr/local/lib/python3.6/dist-packages/keras/backend/tensorflow_backend.py:207: The name tf.global_variables is deprecated. Please use tf.compat.v1.global_variables instead.\n",
      "\n",
      "WARNING:tensorflow:From /usr/local/lib/python3.6/dist-packages/keras/backend/tensorflow_backend.py:216: The name tf.is_variable_initialized is deprecated. Please use tf.compat.v1.is_variable_initialized instead.\n",
      "\n",
      "WARNING:tensorflow:From /usr/local/lib/python3.6/dist-packages/keras/backend/tensorflow_backend.py:223: The name tf.variables_initializer is deprecated. Please use tf.compat.v1.variables_initializer instead.\n",
      "\n",
      "WARNING:tensorflow:From /usr/local/lib/python3.6/dist-packages/keras/backend/tensorflow_backend.py:2041: The name tf.nn.fused_batch_norm is deprecated. Please use tf.compat.v1.nn.fused_batch_norm instead.\n",
      "\n",
      "WARNING:tensorflow:From /usr/local/lib/python3.6/dist-packages/keras/backend/tensorflow_backend.py:148: The name tf.placeholder_with_default is deprecated. Please use tf.compat.v1.placeholder_with_default instead.\n",
      "\n"
     ]
    }
   ],
   "source": [
    "model = MobileNet(input_shape=(IMAGE_SIZE, IMAGE_SIZE, 3), include_top=False, alpha=ALPHA) # Load pre-trained mobilenet\n",
    "# Do not include classification (top) layer\n",
    "\n",
    "# to freeze layers, except the new top layer, of course, which will be added below\n",
    "for layer in model.layers:\n",
    "    layer.trainable = False\n",
    "\n",
    "# Add new top layer which is a conv layer of the same size as the previous layer so that only 4 coords of BBox can be output\n",
    "x = model.layers[-1].output\n",
    "x = Conv2D(4, kernel_size=4, name=\"coords\")(x)\n",
    "# In the line above kernel size should be 3 for img size 96, 4 for img size 128, 5 for img size 160 etc.\n",
    "x = Reshape((4,))(x) # These are the 4 predicted coordinates of one BBox\n",
    "\n",
    "model = Model(inputs=model.input, outputs=x)"
   ]
  },
  {
   "cell_type": "markdown",
   "metadata": {
    "colab_type": "text",
    "id": "nsQSHWgpWGjC"
   },
   "source": [
    "### Define a custom loss function IoU which calculates Intersection Over Union"
   ]
  },
  {
   "cell_type": "code",
   "execution_count": 0,
   "metadata": {
    "colab": {},
    "colab_type": "code",
    "id": "7Ig_Gsn-WGjD"
   },
   "outputs": [],
   "source": [
    "gt = coords\n",
    "def loss(gt,pred):\n",
    "    intersections = 0\n",
    "    unions = 0\n",
    "    diff_width = np.minimum(gt[:,0] + gt[:,2], pred[:,0] + pred[:,2]) - np.maximum(gt[:,0], pred[:,0])\n",
    "    diff_height = np.minimum(gt[:,1] + gt[:,3], pred[:,1] + pred[:,3]) - np.maximum(gt[:,1], pred[:,1])\n",
    "    intersection = diff_width * diff_height\n",
    "    \n",
    "    # Compute union\n",
    "    area_gt = gt[:,2] * gt[:,3]\n",
    "    area_pred = pred[:,2] * pred[:,3]\n",
    "    union = area_gt + area_pred - intersection\n",
    "\n",
    "#     Compute intersection and union over multiple boxes\n",
    "    for j, _ in enumerate(union):\n",
    "        if union[j] > 0 and intersection[j] > 0 and union[j] >= intersection[j]:\n",
    "            intersections += intersection[j]\n",
    "            unions += union[j]\n",
    "\n",
    "    # Compute IOU. Use epsilon to prevent division by zero\n",
    "    iou = np.round(intersections / (unions + epsilon()), 4)\n",
    "    iou = iou.astype(np.float32)\n",
    "    return iou\n",
    "\n",
    "def IoU(y_true, y_pred):\n",
    "    iou = tf.py_func(loss, [y_true, y_pred], tf.float32)\n",
    "    return iou"
   ]
  },
  {
   "cell_type": "markdown",
   "metadata": {
    "colab_type": "text",
    "id": "2Zs7VcSVWGjF"
   },
   "source": [
    "### Write model.compile function & model.fit function with: <br>\n",
    "1. Optimizer = Adam, Loss = 'mse' and metrics = IoU\n",
    "2. Epochs = 30, batch_size = 32, verbose = 1"
   ]
  },
  {
   "cell_type": "code",
   "execution_count": 17,
   "metadata": {
    "colab": {
     "base_uri": "https://localhost:8080/",
     "height": 1000
    },
    "colab_type": "code",
    "id": "f35dLEJlWGjG",
    "outputId": "31505109-e09f-4d08-c079-36e33c65809d"
   },
   "outputs": [
    {
     "name": "stdout",
     "output_type": "stream",
     "text": [
      "WARNING:tensorflow:From /usr/local/lib/python3.6/dist-packages/keras/optimizers.py:793: The name tf.train.Optimizer is deprecated. Please use tf.compat.v1.train.Optimizer instead.\n",
      "\n",
      "WARNING:tensorflow:From <ipython-input-16-580612f9cb82>:26: py_func (from tensorflow.python.ops.script_ops) is deprecated and will be removed in a future version.\n",
      "Instructions for updating:\n",
      "tf.py_func is deprecated in TF V2. Instead, there are two\n",
      "    options available in V2.\n",
      "    - tf.py_function takes a python function which manipulates tf eager\n",
      "    tensors instead of numpy arrays. It's easy to convert a tf eager tensor to\n",
      "    an ndarray (just call tensor.numpy()) but having access to eager tensors\n",
      "    means `tf.py_function`s can use accelerators such as GPUs as well as\n",
      "    being differentiable using a gradient tape.\n",
      "    - tf.numpy_function maintains the semantics of the deprecated tf.py_func\n",
      "    (it is not differentiable, and manipulates numpy arrays). It drops the\n",
      "    stateful argument making all functions stateful.\n",
      "    \n",
      "WARNING:tensorflow:From /usr/local/lib/python3.6/dist-packages/keras/backend/tensorflow_backend.py:1033: The name tf.assign_add is deprecated. Please use tf.compat.v1.assign_add instead.\n",
      "\n",
      "WARNING:tensorflow:From /usr/local/lib/python3.6/dist-packages/keras/backend/tensorflow_backend.py:1020: The name tf.assign is deprecated. Please use tf.compat.v1.assign instead.\n",
      "\n",
      "Epoch 1/30\n",
      "173/173 [==============================] - 3s 20ms/step - loss: 2860.5795 - IoU: 0.0764\n",
      "Epoch 2/30\n",
      "173/173 [==============================] - 0s 510us/step - loss: 658.3266 - IoU: 0.4360\n",
      "Epoch 3/30\n",
      "173/173 [==============================] - 0s 488us/step - loss: 637.7895 - IoU: 0.5412\n",
      "Epoch 4/30\n",
      "173/173 [==============================] - 0s 499us/step - loss: 580.8130 - IoU: 0.5294\n",
      "Epoch 5/30\n",
      "173/173 [==============================] - 0s 503us/step - loss: 346.3304 - IoU: 0.5910\n",
      "Epoch 6/30\n",
      "173/173 [==============================] - 0s 512us/step - loss: 287.1307 - IoU: 0.5699\n",
      "Epoch 7/30\n",
      "173/173 [==============================] - 0s 544us/step - loss: 248.8318 - IoU: 0.5953\n",
      "Epoch 8/30\n",
      "173/173 [==============================] - 0s 507us/step - loss: 198.0236 - IoU: 0.6600\n",
      "Epoch 9/30\n",
      "173/173 [==============================] - 0s 487us/step - loss: 169.8190 - IoU: 0.6998\n",
      "Epoch 10/30\n",
      "173/173 [==============================] - 0s 496us/step - loss: 157.6267 - IoU: 0.7101\n",
      "Epoch 11/30\n",
      "173/173 [==============================] - 0s 491us/step - loss: 122.6042 - IoU: 0.7342\n",
      "Epoch 12/30\n",
      "173/173 [==============================] - 0s 481us/step - loss: 113.8221 - IoU: 0.7305\n",
      "Epoch 13/30\n",
      "173/173 [==============================] - 0s 476us/step - loss: 114.9064 - IoU: 0.7397\n",
      "Epoch 14/30\n",
      "173/173 [==============================] - 0s 479us/step - loss: 98.0067 - IoU: 0.7622\n",
      "Epoch 15/30\n",
      "173/173 [==============================] - 0s 488us/step - loss: 89.8684 - IoU: 0.7851\n",
      "Epoch 16/30\n",
      "173/173 [==============================] - 0s 498us/step - loss: 84.7381 - IoU: 0.7845\n",
      "Epoch 17/30\n",
      "173/173 [==============================] - 0s 499us/step - loss: 80.3974 - IoU: 0.7858\n",
      "Epoch 18/30\n",
      "173/173 [==============================] - 0s 491us/step - loss: 80.3649 - IoU: 0.7894\n",
      "Epoch 19/30\n",
      "173/173 [==============================] - 0s 512us/step - loss: 75.6646 - IoU: 0.7990\n",
      "Epoch 20/30\n",
      "173/173 [==============================] - 0s 479us/step - loss: 71.0472 - IoU: 0.8095\n",
      "Epoch 21/30\n",
      "173/173 [==============================] - 0s 480us/step - loss: 68.4735 - IoU: 0.8129\n",
      "Epoch 22/30\n",
      "173/173 [==============================] - 0s 504us/step - loss: 70.0303 - IoU: 0.8153\n",
      "Epoch 23/30\n",
      "173/173 [==============================] - 0s 485us/step - loss: 63.7063 - IoU: 0.8223\n",
      "Epoch 24/30\n",
      "173/173 [==============================] - 0s 497us/step - loss: 60.6631 - IoU: 0.8215\n",
      "Epoch 25/30\n",
      "173/173 [==============================] - 0s 492us/step - loss: 59.3394 - IoU: 0.8262\n",
      "Epoch 26/30\n",
      "173/173 [==============================] - 0s 493us/step - loss: 62.7989 - IoU: 0.8311\n",
      "Epoch 27/30\n",
      "173/173 [==============================] - 0s 483us/step - loss: 58.9623 - IoU: 0.8228\n",
      "Epoch 28/30\n",
      "173/173 [==============================] - 0s 482us/step - loss: 59.3274 - IoU: 0.8175\n",
      "Epoch 29/30\n",
      "173/173 [==============================] - 0s 500us/step - loss: 58.4448 - IoU: 0.8281\n",
      "Epoch 30/30\n",
      "173/173 [==============================] - 0s 508us/step - loss: 69.8538 - IoU: 0.8198\n"
     ]
    },
    {
     "data": {
      "text/plain": [
       "<keras.callbacks.History at 0x7fb5a160f160>"
      ]
     },
     "execution_count": 17,
     "metadata": {
      "tags": []
     },
     "output_type": "execute_result"
    }
   ],
   "source": [
    "model.compile(optimizer='Adam', loss='mse', metrics=[IoU]) # Regression loss is MSE\n",
    "model.fit(batch_images,gt,\n",
    "            epochs=30,batch_size = 32,\n",
    "            verbose=1)"
   ]
  },
  {
   "cell_type": "markdown",
   "metadata": {
    "colab_type": "text",
    "id": "II1itmqiWGjK"
   },
   "source": [
    "### Pick a test image from the given data"
   ]
  },
  {
   "cell_type": "code",
   "execution_count": 0,
   "metadata": {
    "colab": {},
    "colab_type": "code",
    "id": "0ULErYeSWGjK"
   },
   "outputs": [],
   "source": [
    "# Pick a test image, run model, show image, and show predicted bounding box overlaid on the image\n",
    "import cv2\n",
    "filename = './images/raccoon-1.jpg'\n",
    "unscaled = cv2.imread(filename) # Original image for display"
   ]
  },
  {
   "cell_type": "markdown",
   "metadata": {
    "colab_type": "text",
    "id": "h99SC9MjWGjO"
   },
   "source": [
    "### Resize the image to 128 * 128 and preprocess the image for the MobileNet model"
   ]
  },
  {
   "cell_type": "code",
   "execution_count": 0,
   "metadata": {
    "colab": {},
    "colab_type": "code",
    "id": "J3jbKm7_WGjP"
   },
   "outputs": [],
   "source": [
    "image_height, image_width, _ = unscaled.shape\n",
    "image = cv2.resize(unscaled, (IMAGE_SIZE, IMAGE_SIZE)) # Rescaled image to run the network\n",
    "feat_scaled = preprocess_input(np.array(image, dtype=np.float32))"
   ]
  },
  {
   "cell_type": "markdown",
   "metadata": {
    "colab_type": "text",
    "id": "aGK4IjdaWGjR"
   },
   "source": [
    "### Predict the coordinates of the bounding box for the given test image"
   ]
  },
  {
   "cell_type": "code",
   "execution_count": 0,
   "metadata": {
    "colab": {},
    "colab_type": "code",
    "id": "abnXH5F7WGjS"
   },
   "outputs": [],
   "source": [
    "region = model.predict(x=np.array([feat_scaled]))[0] # Predict the BBox"
   ]
  },
  {
   "cell_type": "markdown",
   "metadata": {
    "colab_type": "text",
    "id": "CXbjVdLWWGjW"
   },
   "source": [
    "### Plot the test image using .imshow and draw a boundary box around the image with the coordinates obtained from the model"
   ]
  },
  {
   "cell_type": "code",
   "execution_count": 21,
   "metadata": {
    "colab": {
     "base_uri": "https://localhost:8080/",
     "height": 266
    },
    "colab_type": "code",
    "id": "t4Ah05MlWGjY",
    "outputId": "dc6897f3-5a52-4071-cc9a-54157bb44b36"
   },
   "outputs": [
    {
     "data": {
      "image/png": "[encoded data removed]",
      "text/plain": [
       "<Figure size 432x288 with 1 Axes>"
      ]
     },
     "metadata": {
      "tags": []
     },
     "output_type": "display_data"
    }
   ],
   "source": [
    "x0 = int(region[0] * image_width / IMAGE_SIZE) # Scale the BBox\n",
    "y0 = int(region[1] * image_height / IMAGE_SIZE)\n",
    "\n",
    "x1 = int((region[2]) * image_width / IMAGE_SIZE)\n",
    "y1 = int((region[3]) * image_height / IMAGE_SIZE)\n",
    "\n",
    "\n",
    "import matplotlib.pyplot as plt\n",
    "import matplotlib.patches as patches\n",
    "from PIL import Image\n",
    "import numpy as np\n",
    "\n",
    "\n",
    "# Create figure and axes\n",
    "fig,ax = plt.subplots(1)\n",
    "\n",
    "# Display the image\n",
    "ax.imshow(unscaled)\n",
    "\n",
    "# Create a Rectangle patch\n",
    "rect = patches.Rectangle((x0, y0), (x1 - x0) , (y1 - y0) , linewidth=2, edgecolor='r', facecolor='none')\n",
    "\n",
    "# Add the patch to the Axes\n",
    "ax.add_patch(rect)\n",
    "\n",
    "plt.show()"
   ]
  },
  {
   "cell_type": "markdown",
   "metadata": {
    "colab_type": "text",
    "id": "70uye82rMg3S"
   },
   "source": [
    "# Time Series Prediction using LSTM"
   ]
  },
  {
   "cell_type": "markdown",
   "metadata": {
    "colab_type": "text",
    "id": "CBdggSYjMg3U"
   },
   "source": [
    "### Download Data\n",
    "Link: https://datamarket.com/data/set/2324/daily-minimum-temperatures-in-melbourne-australia-1981-1990#!ds=2324&display=line\n",
    "\n",
    "#### Description\n",
    "Daily minimum temperatures in Melbourne, Australia, 1981-1990\n",
    "\n",
    "Units: Degrees Celcius\n",
    "\n",
    "#### Steps before loading\n",
    "- Rename the column name with temprature values to \"Temprature\"\n",
    "- In the last, there is one extra row in the data, remove it by opening the file and save it again.\n",
    "- There are some values in Temprature column which have a \"?\" before them, they will give error, remove \"?\" before them and save the file\n",
    "- If you don't want to do these steps, just load the data file given by Great Learning."
   ]
  },
  {
   "cell_type": "code",
   "execution_count": 0,
   "metadata": {
    "colab": {},
    "colab_type": "code",
    "id": "B3TsPZJyjhxi"
   },
   "outputs": [],
   "source": [
    "import matplotlib.pyplot as plt"
   ]
  },
  {
   "cell_type": "markdown",
   "metadata": {
    "colab_type": "text",
    "id": "xXaEyK4qMg3W"
   },
   "source": [
    "#### Mount google drive"
   ]
  },
  {
   "cell_type": "code",
   "execution_count": 26,
   "metadata": {
    "colab": {
     "base_uri": "https://localhost:8080/",
     "height": 34
    },
    "colab_type": "code",
    "id": "VjoLRSg57qlt",
    "outputId": "c2e683c6-7ab2-4380-ff09-b27cef4fe8aa"
   },
   "outputs": [
    {
     "name": "stdout",
     "output_type": "stream",
     "text": [
      "Drive already mounted at /content/drive; to attempt to forcibly remount, call drive.mount(\"/content/drive\", force_remount=True).\n"
     ]
    }
   ],
   "source": [
    "from google.colab import drive\n",
    "drive.mount('/content/drive')"
   ]
  },
  {
   "cell_type": "markdown",
   "metadata": {
    "colab_type": "text",
    "id": "BghKtCKlMg3b"
   },
   "source": [
    "#### Change your present working directory"
   ]
  },
  {
   "cell_type": "code",
   "execution_count": 0,
   "metadata": {
    "colab": {},
    "colab_type": "code",
    "id": "JOYCPgwJMg3c"
   },
   "outputs": [],
   "source": [
    "os.chdir(\"/content/drive/My Drive/Great Learning Residency 9.2 ACV/lab9/\")"
   ]
  },
  {
   "cell_type": "markdown",
   "metadata": {
    "colab_type": "text",
    "id": "UMP39JKEMg3f"
   },
   "source": [
    "### Load your data file"
   ]
  },
  {
   "cell_type": "code",
   "execution_count": 0,
   "metadata": {
    "colab": {},
    "colab_type": "code",
    "id": "AanHqGBu7Jw2"
   },
   "outputs": [],
   "source": [
    "min_temp=pd.read_csv('/content/drive/My Drive/Great Learning Residency 9.2 ACV/lab9/daily-minimum-temperatures-in-me.csv',index_col='Date')"
   ]
  },
  {
   "cell_type": "markdown",
   "metadata": {
    "colab_type": "text",
    "id": "EAfx3bsQMg3j"
   },
   "source": [
    "#### Plot data"
   ]
  },
  {
   "cell_type": "code",
   "execution_count": 27,
   "metadata": {
    "colab": {
     "base_uri": "https://localhost:8080/",
     "height": 233
    },
    "colab_type": "code",
    "id": "REU4UapqMg3k",
    "outputId": "f97b0707-ec16-4b37-b01d-bd40a81afad9"
   },
   "outputs": [
    {
     "data": {
      "text/html": [
       "<div>\n",
       "<style scoped>\n",
       "    .dataframe tbody tr th:only-of-type {\n",
       "        vertical-align: middle;\n",
       "    }\n",
       "\n",
       "    .dataframe tbody tr th {\n",
       "        vertical-align: top;\n",
       "    }\n",
       "\n",
       "    .dataframe thead th {\n",
       "        text-align: right;\n",
       "    }\n",
       "</style>\n",
       "<table border=\"1\" class=\"dataframe\">\n",
       "  <thead>\n",
       "    <tr style=\"text-align: right;\">\n",
       "      <th></th>\n",
       "      <th>Temperature</th>\n",
       "    </tr>\n",
       "    <tr>\n",
       "      <th>Date</th>\n",
       "      <th></th>\n",
       "    </tr>\n",
       "  </thead>\n",
       "  <tbody>\n",
       "    <tr>\n",
       "      <th>1981-01-01</th>\n",
       "      <td>20.7</td>\n",
       "    </tr>\n",
       "    <tr>\n",
       "      <th>1981-01-02</th>\n",
       "      <td>17.9</td>\n",
       "    </tr>\n",
       "    <tr>\n",
       "      <th>1981-01-03</th>\n",
       "      <td>18.8</td>\n",
       "    </tr>\n",
       "    <tr>\n",
       "      <th>1981-01-04</th>\n",
       "      <td>14.6</td>\n",
       "    </tr>\n",
       "    <tr>\n",
       "      <th>1981-01-05</th>\n",
       "      <td>15.8</td>\n",
       "    </tr>\n",
       "  </tbody>\n",
       "</table>\n",
       "</div>"
      ],
      "text/plain": [
       "            Temperature\n",
       "Date                   \n",
       "1981-01-01         20.7\n",
       "1981-01-02         17.9\n",
       "1981-01-03         18.8\n",
       "1981-01-04         14.6\n",
       "1981-01-05         15.8"
      ]
     },
     "execution_count": 27,
     "metadata": {
      "tags": []
     },
     "output_type": "execute_result"
    }
   ],
   "source": [
    "min_temp.head()"
   ]
  },
  {
   "cell_type": "code",
   "execution_count": 28,
   "metadata": {
    "colab": {
     "base_uri": "https://localhost:8080/",
     "height": 296
    },
    "colab_type": "code",
    "id": "OqMdUEObjUoK",
    "outputId": "223772c5-f726-4d44-916b-78501bc2c0af"
   },
   "outputs": [
    {
     "data": {
      "text/plain": [
       "<matplotlib.axes._subplots.AxesSubplot at 0x7fb37803d748>"
      ]
     },
     "execution_count": 28,
     "metadata": {
      "tags": []
     },
     "output_type": "execute_result"
    },
    {
     "data": {
      "image/png": "[encoded data removed]",
      "text/plain": [
       "<Figure size 432x288 with 1 Axes>"
      ]
     },
     "metadata": {
      "tags": []
     },
     "output_type": "display_data"
    }
   ],
   "source": [
    "min_temp.plot()"
   ]
  },
  {
   "cell_type": "markdown",
   "metadata": {
    "colab_type": "text",
    "id": "LWGBEOdNMg3n"
   },
   "source": [
    "#### Descibe your dataframe"
   ]
  },
  {
   "cell_type": "code",
   "execution_count": 29,
   "metadata": {
    "colab": {
     "base_uri": "https://localhost:8080/",
     "height": 294
    },
    "colab_type": "code",
    "id": "oBWNA_kG7JxC",
    "outputId": "f434350c-2b0e-4818-98a6-d6983756d170"
   },
   "outputs": [
    {
     "data": {
      "text/html": [
       "<div>\n",
       "<style scoped>\n",
       "    .dataframe tbody tr th:only-of-type {\n",
       "        vertical-align: middle;\n",
       "    }\n",
       "\n",
       "    .dataframe tbody tr th {\n",
       "        vertical-align: top;\n",
       "    }\n",
       "\n",
       "    .dataframe thead th {\n",
       "        text-align: right;\n",
       "    }\n",
       "</style>\n",
       "<table border=\"1\" class=\"dataframe\">\n",
       "  <thead>\n",
       "    <tr style=\"text-align: right;\">\n",
       "      <th></th>\n",
       "      <th>Temperature</th>\n",
       "    </tr>\n",
       "  </thead>\n",
       "  <tbody>\n",
       "    <tr>\n",
       "      <th>count</th>\n",
       "      <td>3650.000000</td>\n",
       "    </tr>\n",
       "    <tr>\n",
       "      <th>mean</th>\n",
       "      <td>11.177753</td>\n",
       "    </tr>\n",
       "    <tr>\n",
       "      <th>std</th>\n",
       "      <td>4.071837</td>\n",
       "    </tr>\n",
       "    <tr>\n",
       "      <th>min</th>\n",
       "      <td>0.000000</td>\n",
       "    </tr>\n",
       "    <tr>\n",
       "      <th>25%</th>\n",
       "      <td>8.300000</td>\n",
       "    </tr>\n",
       "    <tr>\n",
       "      <th>50%</th>\n",
       "      <td>11.000000</td>\n",
       "    </tr>\n",
       "    <tr>\n",
       "      <th>75%</th>\n",
       "      <td>14.000000</td>\n",
       "    </tr>\n",
       "    <tr>\n",
       "      <th>max</th>\n",
       "      <td>26.300000</td>\n",
       "    </tr>\n",
       "  </tbody>\n",
       "</table>\n",
       "</div>"
      ],
      "text/plain": [
       "       Temperature\n",
       "count  3650.000000\n",
       "mean     11.177753\n",
       "std       4.071837\n",
       "min       0.000000\n",
       "25%       8.300000\n",
       "50%      11.000000\n",
       "75%      14.000000\n",
       "max      26.300000"
      ]
     },
     "execution_count": 29,
     "metadata": {
      "tags": []
     },
     "output_type": "execute_result"
    }
   ],
   "source": [
    "min_temp.describe()"
   ]
  },
  {
   "cell_type": "markdown",
   "metadata": {
    "colab_type": "text",
    "id": "HlPYgFPLMg3r"
   },
   "source": [
    "#### Check for null values"
   ]
  },
  {
   "cell_type": "code",
   "execution_count": 30,
   "metadata": {
    "colab": {
     "base_uri": "https://localhost:8080/",
     "height": 52
    },
    "colab_type": "code",
    "id": "97MVIy_N7JxH",
    "outputId": "19746786-246f-4e7b-e787-e37a6df580db"
   },
   "outputs": [
    {
     "data": {
      "text/plain": [
       "Temperature    0\n",
       "dtype: int64"
      ]
     },
     "execution_count": 30,
     "metadata": {
      "tags": []
     },
     "output_type": "execute_result"
    }
   ],
   "source": [
    "min_temp.isnull().sum()"
   ]
  },
  {
   "cell_type": "markdown",
   "metadata": {
    "colab_type": "text",
    "id": "qo6HzStBMg3v"
   },
   "source": [
    "#### Drop null values"
   ]
  },
  {
   "cell_type": "code",
   "execution_count": 0,
   "metadata": {
    "colab": {},
    "colab_type": "code",
    "id": "fgh7mdOI7JxS"
   },
   "outputs": [],
   "source": [
    "min_temp.dropna(inplace=True)"
   ]
  },
  {
   "cell_type": "markdown",
   "metadata": {
    "colab_type": "text",
    "id": "LcJgcz37Mg30"
   },
   "source": [
    "#### Get the representation of the distribution of data in the form of histogram"
   ]
  },
  {
   "cell_type": "code",
   "execution_count": 32,
   "metadata": {
    "colab": {
     "base_uri": "https://localhost:8080/",
     "height": 316
    },
    "colab_type": "code",
    "id": "659sLAx27Jxc",
    "outputId": "cd502735-f93f-4123-bcb8-616b45745434"
   },
   "outputs": [
    {
     "data": {
      "text/plain": [
       "array([[<matplotlib.axes._subplots.AxesSubplot object at 0x7fb376f39940>]],\n",
       "      dtype=object)"
      ]
     },
     "execution_count": 32,
     "metadata": {
      "tags": []
     },
     "output_type": "execute_result"
    },
    {
     "data": {
      "image/png": "[encoded data removed]",
      "text/plain": [
       "<Figure size 432x288 with 1 Axes>"
      ]
     },
     "metadata": {
      "tags": []
     },
     "output_type": "display_data"
    }
   ],
   "source": [
    "min_temp.hist(bins=10)"
   ]
  },
  {
   "cell_type": "markdown",
   "metadata": {
    "colab_type": "text",
    "id": "GpH88qtBMg34"
   },
   "source": [
    "#### Check the maximum and minimum values"
   ]
  },
  {
   "cell_type": "code",
   "execution_count": 33,
   "metadata": {
    "colab": {
     "base_uri": "https://localhost:8080/",
     "height": 52
    },
    "colab_type": "code",
    "id": "WmkjCx8c7Jxn",
    "outputId": "2ffcb133-e101-4771-d4c2-7e2fa169fd7b"
   },
   "outputs": [
    {
     "name": "stdout",
     "output_type": "stream",
     "text": [
      "minimum Temperature    0.0\n",
      "dtype: float64\n"
     ]
    }
   ],
   "source": [
    "print(\"minimum\",np.min(min_temp))"
   ]
  },
  {
   "cell_type": "code",
   "execution_count": 34,
   "metadata": {
    "colab": {
     "base_uri": "https://localhost:8080/",
     "height": 52
    },
    "colab_type": "code",
    "id": "P9lXMH-ck0ez",
    "outputId": "ae76fb74-d2f6-4b05-da5f-65e5a6186df1"
   },
   "outputs": [
    {
     "name": "stdout",
     "output_type": "stream",
     "text": [
      "maximum Temperature    26.3\n",
      "dtype: float64\n"
     ]
    }
   ],
   "source": [
    "print(\"maximum\",np.max(min_temp))"
   ]
  },
  {
   "cell_type": "markdown",
   "metadata": {
    "colab_type": "text",
    "id": "AQVmR3ENMg37"
   },
   "source": [
    "### Normalize the data"
   ]
  },
  {
   "cell_type": "code",
   "execution_count": 35,
   "metadata": {
    "colab": {
     "base_uri": "https://localhost:8080/",
     "height": 52
    },
    "colab_type": "code",
    "id": "VyVm5OH9mPWi",
    "outputId": "1bd096c5-30af-4638-dec7-fa08a87d2538"
   },
   "outputs": [
    {
     "data": {
      "text/plain": [
       "Temperature    float64\n",
       "dtype: object"
      ]
     },
     "execution_count": 35,
     "metadata": {
      "tags": []
     },
     "output_type": "execute_result"
    }
   ],
   "source": [
    "min_temp.dtypes"
   ]
  },
  {
   "cell_type": "code",
   "execution_count": 0,
   "metadata": {
    "colab": {},
    "colab_type": "code",
    "id": "fb4SNzD27Jxw"
   },
   "outputs": [],
   "source": [
    "from sklearn.preprocessing import MinMaxScaler"
   ]
  },
  {
   "cell_type": "code",
   "execution_count": 0,
   "metadata": {
    "colab": {},
    "colab_type": "code",
    "id": "aGnYR9TLlJp2"
   },
   "outputs": [],
   "source": [
    "min_temp_dataset=min_temp.astype('float32')"
   ]
  },
  {
   "cell_type": "code",
   "execution_count": 0,
   "metadata": {
    "colab": {},
    "colab_type": "code",
    "id": "LqvTf6qBnDMU"
   },
   "outputs": [],
   "source": [
    "#Normalize the data\n",
    "scaler = MinMaxScaler(feature_range=(0, 1))\n",
    "scaled = scaler.fit_transform(min_temp_dataset)"
   ]
  },
  {
   "cell_type": "code",
   "execution_count": 39,
   "metadata": {
    "colab": {
     "base_uri": "https://localhost:8080/",
     "height": 190
    },
    "colab_type": "code",
    "id": "0C2nNAuroY85",
    "outputId": "728c6a13-1494-4bce-e765-c692168797bd"
   },
   "outputs": [
    {
     "data": {
      "text/plain": [
       "array([[0.7870723 ],\n",
       "       [0.6806084 ],\n",
       "       [0.7148289 ],\n",
       "       [0.5551331 ],\n",
       "       [0.6007605 ],\n",
       "       [0.6007605 ],\n",
       "       [0.6007605 ],\n",
       "       [0.661597  ],\n",
       "       [0.82889736],\n",
       "       [0.7604563 ]], dtype=float32)"
      ]
     },
     "execution_count": 39,
     "metadata": {
      "tags": []
     },
     "output_type": "execute_result"
    }
   ],
   "source": [
    "scaled[:10]"
   ]
  },
  {
   "cell_type": "markdown",
   "metadata": {
    "colab_type": "text",
    "id": "Amc8j4P-Mg3-"
   },
   "source": [
    "#### Check the maximum and minimum values of scaled data"
   ]
  },
  {
   "cell_type": "code",
   "execution_count": 40,
   "metadata": {
    "colab": {
     "base_uri": "https://localhost:8080/",
     "height": 34
    },
    "colab_type": "code",
    "id": "clv2rSfL7Jx4",
    "outputId": "85f45512-91c9-4f01-b450-16dbf35dc578"
   },
   "outputs": [
    {
     "name": "stdout",
     "output_type": "stream",
     "text": [
      "minimum 0.0\n"
     ]
    }
   ],
   "source": [
    "print(\"minimum\",np.min(scaled))"
   ]
  },
  {
   "cell_type": "code",
   "execution_count": 41,
   "metadata": {
    "colab": {
     "base_uri": "https://localhost:8080/",
     "height": 34
    },
    "colab_type": "code",
    "id": "fBzBBmWOoyaf",
    "outputId": "dce4c7b4-6886-42bf-db51-4b903ecd7831"
   },
   "outputs": [
    {
     "name": "stdout",
     "output_type": "stream",
     "text": [
      "maximum 1.0\n"
     ]
    }
   ],
   "source": [
    "print(\"maximum\",np.max(scaled))"
   ]
  },
  {
   "cell_type": "markdown",
   "metadata": {
    "colab_type": "text",
    "id": "mPwfKLsbMg4B"
   },
   "source": [
    "#### Look into some of the scaled values"
   ]
  },
  {
   "cell_type": "code",
   "execution_count": 42,
   "metadata": {
    "colab": {
     "base_uri": "https://localhost:8080/",
     "height": 537
    },
    "colab_type": "code",
    "id": "Xq9CBinO7Jx9",
    "outputId": "7df4085e-fbb9-4441-9869-a90b07baf2bb"
   },
   "outputs": [
    {
     "data": {
      "text/plain": [
       "array([[0.7870723 ],\n",
       "       [0.6806084 ],\n",
       "       [0.7148289 ],\n",
       "       [0.5551331 ],\n",
       "       [0.6007605 ],\n",
       "       [0.6007605 ],\n",
       "       [0.6007605 ],\n",
       "       [0.661597  ],\n",
       "       [0.82889736],\n",
       "       [0.7604563 ],\n",
       "       [0.61596966],\n",
       "       [0.50570345],\n",
       "       [0.63498104],\n",
       "       [0.8174906 ],\n",
       "       [0.9505704 ],\n",
       "       [0.7870723 ],\n",
       "       [0.78327   ],\n",
       "       [0.9429658 ],\n",
       "       [0.67300385],\n",
       "       [0.5893537 ],\n",
       "       [0.6920153 ],\n",
       "       [0.4600761 ],\n",
       "       [0.54752856],\n",
       "       [0.60836506],\n",
       "       [0.62737644],\n",
       "       [0.71102667],\n",
       "       [0.73764265],\n",
       "       [0.6539925 ],\n",
       "       [0.5893537 ],\n",
       "       [0.57414454]], dtype=float32)"
      ]
     },
     "execution_count": 42,
     "metadata": {
      "tags": []
     },
     "output_type": "execute_result"
    }
   ],
   "source": [
    "scaled[:30]"
   ]
  },
  {
   "cell_type": "markdown",
   "metadata": {
    "colab_type": "text",
    "id": "4i6aEeORMg4F"
   },
   "source": [
    "### Split data into Training and Testing"
   ]
  },
  {
   "cell_type": "code",
   "execution_count": 0,
   "metadata": {
    "colab": {},
    "colab_type": "code",
    "id": "-0Uh7lCO7JyD"
   },
   "outputs": [],
   "source": [
    "#70% examples will used for training (in the begining)\n",
    "train_size = int(len(scaled) * 0.70)\n",
    "\n",
    "#30% will be used for Test\n",
    "test_size = len(scaled - train_size)"
   ]
  },
  {
   "cell_type": "markdown",
   "metadata": {
    "colab_type": "text",
    "id": "MYxgFlAHMg4I"
   },
   "source": [
    "#### Print train and test size"
   ]
  },
  {
   "cell_type": "code",
   "execution_count": 44,
   "metadata": {
    "colab": {
     "base_uri": "https://localhost:8080/",
     "height": 52
    },
    "colab_type": "code",
    "id": "T9pRem3FMg4J",
    "outputId": "ea7e01c5-bacd-41d7-c610-50097374dd1c"
   },
   "outputs": [
    {
     "name": "stdout",
     "output_type": "stream",
     "text": [
      "train: 2555\n",
      "test: 1095\n"
     ]
    }
   ],
   "source": [
    "#Split the data\n",
    "train, test = scaled[0:train_size, :], scaled[train_size: len(scaled), :]\n",
    "print('train: {}\\ntest: {}'.format(len(train), len(test)))"
   ]
  },
  {
   "cell_type": "markdown",
   "metadata": {
    "colab_type": "text",
    "id": "-UKovqKBMg4L"
   },
   "source": [
    "## Create the sequential data\n",
    "Map the temprature at a particular time t to the temprature at time t+n, where n is any number you define.\n",
    "\n",
    "For example: to map tempratures of consecutive days, use t+1, i.e. loop_back = 1"
   ]
  },
  {
   "cell_type": "markdown",
   "metadata": {
    "colab_type": "text",
    "id": "m7uoSqtKMg4M"
   },
   "source": [
    "#### Define your function to create dataset"
   ]
  },
  {
   "cell_type": "code",
   "execution_count": 0,
   "metadata": {
    "colab": {},
    "colab_type": "code",
    "id": "jWIvInPB7JyK"
   },
   "outputs": [],
   "source": [
    "#window - how long the sequence will be\n",
    "def create_dataset(dataset, window=1):\n",
    "    \n",
    "    dataX, dataY = [], []\n",
    "    \n",
    "    for i in range(len(dataset)-window):\n",
    "        \n",
    "        a = dataset[i:(i+window), 0]        \n",
    "        dataX.append(a)\n",
    "        dataY.append(dataset[i + window, 0])\n",
    "    \n",
    "    return np.array(dataX), np.array(dataY)"
   ]
  },
  {
   "cell_type": "markdown",
   "metadata": {
    "colab_type": "text",
    "id": "WePfiYR6Mg4R"
   },
   "source": [
    "#### Use function to get training and test set"
   ]
  },
  {
   "cell_type": "code",
   "execution_count": 0,
   "metadata": {
    "colab": {},
    "colab_type": "code",
    "id": "uarOJcPk7JyQ",
    "scrolled": true
   },
   "outputs": [],
   "source": [
    "#Create Input and Output\n",
    "window_size = 1\n",
    "X_train, y_train = create_dataset(train, window_size)\n",
    "X_test, y_test = create_dataset(test, window_size)"
   ]
  },
  {
   "cell_type": "markdown",
   "metadata": {
    "colab_type": "text",
    "id": "w_vztTvsMg4X"
   },
   "source": [
    "#### Transform the prepared train and test input data into the expected structure using numpy.reshape()"
   ]
  },
  {
   "cell_type": "code",
   "execution_count": 47,
   "metadata": {
    "colab": {
     "base_uri": "https://localhost:8080/",
     "height": 34
    },
    "colab_type": "code",
    "id": "UJZ4VB4N7JyV",
    "outputId": "6d68b041-46cc-404b-abda-4f0c5be63473"
   },
   "outputs": [
    {
     "data": {
      "text/plain": [
       "(2554,)"
      ]
     },
     "execution_count": 47,
     "metadata": {
      "tags": []
     },
     "output_type": "execute_result"
    }
   ],
   "source": [
    "y_train.shape"
   ]
  },
  {
   "cell_type": "code",
   "execution_count": 48,
   "metadata": {
    "colab": {
     "base_uri": "https://localhost:8080/",
     "height": 34
    },
    "colab_type": "code",
    "id": "6ZMUgBLNrG_5",
    "outputId": "6335c896-4af3-41c8-843a-3d26b62904d5"
   },
   "outputs": [
    {
     "data": {
      "text/plain": [
       "(2554, 1, 1)"
      ]
     },
     "execution_count": 48,
     "metadata": {
      "tags": []
     },
     "output_type": "execute_result"
    }
   ],
   "source": [
    "(X_train.shape[0], X_train.shape[1], 1)"
   ]
  },
  {
   "cell_type": "code",
   "execution_count": 49,
   "metadata": {
    "colab": {
     "base_uri": "https://localhost:8080/",
     "height": 34
    },
    "colab_type": "code",
    "id": "xoDiu8lGrHD7",
    "outputId": "dc9c39ce-6c93-4c80-c500-7daff20f11c2"
   },
   "outputs": [
    {
     "data": {
      "text/plain": [
       "(2554, 1)"
      ]
     },
     "execution_count": 49,
     "metadata": {
      "tags": []
     },
     "output_type": "execute_result"
    }
   ],
   "source": [
    "X_train.shape"
   ]
  },
  {
   "cell_type": "code",
   "execution_count": 50,
   "metadata": {
    "colab": {
     "base_uri": "https://localhost:8080/",
     "height": 52
    },
    "colab_type": "code",
    "id": "8oyExy-grHG7",
    "outputId": "6aaba535-5dfa-42aa-bf0c-f89d4e4a8e90"
   },
   "outputs": [
    {
     "name": "stdout",
     "output_type": "stream",
     "text": [
      "(2554, 1, 1)\n",
      "(1094, 1, 1)\n"
     ]
    }
   ],
   "source": [
    "#Make it 3 Dimensional Data - needed for LSTM\n",
    "X_train = np.reshape(X_train, (X_train.shape[0], X_train.shape[1], 1))\n",
    "X_test = np.reshape(X_test, (X_test.shape[0], X_test.shape[1], 1))\n",
    "print(X_train.shape)\n",
    "print(X_test.shape)"
   ]
  },
  {
   "cell_type": "markdown",
   "metadata": {
    "colab_type": "text",
    "id": "2ApGy3FBMg4a"
   },
   "source": [
    "## Define Model"
   ]
  },
  {
   "cell_type": "markdown",
   "metadata": {
    "colab_type": "text",
    "id": "kx0ctZLiMg4b"
   },
   "source": [
    "### Define sequntial model, add LSTM layer and compile the model"
   ]
  },
  {
   "cell_type": "code",
   "execution_count": 51,
   "metadata": {
    "colab": {
     "base_uri": "https://localhost:8080/",
     "height": 89
    },
    "colab_type": "code",
    "id": "yRW-Txvt7Jya",
    "outputId": "e35aeb43-a577-407e-ec6c-483d9853cb8c"
   },
   "outputs": [
    {
     "name": "stdout",
     "output_type": "stream",
     "text": [
      "WARNING:tensorflow:From /usr/local/lib/python3.6/dist-packages/tensorflow_core/python/ops/resource_variable_ops.py:1630: calling BaseResourceVariable.__init__ (from tensorflow.python.ops.resource_variable_ops) with constraint is deprecated and will be removed in a future version.\n",
      "Instructions for updating:\n",
      "If using Keras pass *_constraint arguments to layers.\n"
     ]
    }
   ],
   "source": [
    "tf.keras.backend.clear_session()\n",
    "model = tf.keras.Sequential()\n",
    "model.add(tf.keras.layers.LSTM(32, input_shape=(window_size, 1)))\n",
    "model.add(tf.keras.layers.Dense(1))\n",
    "model.compile(optimizer='adam', loss='mse')"
   ]
  },
  {
   "cell_type": "markdown",
   "metadata": {
    "colab_type": "text",
    "id": "zyAxLVdxMg4f"
   },
   "source": [
    "### Summarize your model"
   ]
  },
  {
   "cell_type": "code",
   "execution_count": 52,
   "metadata": {
    "colab": {
     "base_uri": "https://localhost:8080/",
     "height": 225
    },
    "colab_type": "code",
    "id": "0I_UO7GOMg4g",
    "outputId": "82f23e56-9366-4e11-8a01-89710aa5e00a"
   },
   "outputs": [
    {
     "name": "stdout",
     "output_type": "stream",
     "text": [
      "Model: \"sequential\"\n",
      "_________________________________________________________________\n",
      "Layer (type)                 Output Shape              Param #   \n",
      "=================================================================\n",
      "lstm (LSTM)                  (None, 32)                4352      \n",
      "_________________________________________________________________\n",
      "dense (Dense)                (None, 1)                 33        \n",
      "=================================================================\n",
      "Total params: 4,385\n",
      "Trainable params: 4,385\n",
      "Non-trainable params: 0\n",
      "_________________________________________________________________\n"
     ]
    }
   ],
   "source": [
    "model.summary()"
   ]
  },
  {
   "cell_type": "markdown",
   "metadata": {
    "colab_type": "text",
    "id": "orlJW-1_Mg4j"
   },
   "source": [
    "### Train the model"
   ]
  },
  {
   "cell_type": "code",
   "execution_count": 53,
   "metadata": {
    "colab": {
     "base_uri": "https://localhost:8080/",
     "height": 1000
    },
    "colab_type": "code",
    "id": "yyzESxsmMg4j",
    "outputId": "20128f04-f81a-4b22-ed9e-6b2eb49b6543"
   },
   "outputs": [
    {
     "name": "stdout",
     "output_type": "stream",
     "text": [
      "WARNING:tensorflow:From /usr/local/lib/python3.6/dist-packages/tensorflow_core/python/ops/math_grad.py:1424: where (from tensorflow.python.ops.array_ops) is deprecated and will be removed in a future version.\n",
      "Instructions for updating:\n",
      "Use tf.where in 2.0, which has the same broadcast rule as np.where\n",
      "Train on 2554 samples, validate on 1094 samples\n",
      "Epoch 1/200\n",
      "2554/2554 [==============================] - 1s 350us/sample - loss: 0.0932 - val_loss: 0.0279\n",
      "Epoch 2/200\n",
      "2554/2554 [==============================] - 0s 148us/sample - loss: 0.0162 - val_loss: 0.0131\n",
      "Epoch 3/200\n",
      "2554/2554 [==============================] - 0s 144us/sample - loss: 0.0138 - val_loss: 0.0123\n",
      "Epoch 4/200\n",
      "2554/2554 [==============================] - 0s 155us/sample - loss: 0.0131 - val_loss: 0.0116\n",
      "Epoch 5/200\n",
      "2554/2554 [==============================] - 0s 147us/sample - loss: 0.0123 - val_loss: 0.0108\n",
      "Epoch 6/200\n",
      "2554/2554 [==============================] - 0s 150us/sample - loss: 0.0116 - val_loss: 0.0100\n",
      "Epoch 7/200\n",
      "2554/2554 [==============================] - 0s 175us/sample - loss: 0.0111 - val_loss: 0.0096\n",
      "Epoch 8/200\n",
      "2554/2554 [==============================] - 0s 154us/sample - loss: 0.0106 - val_loss: 0.0092\n",
      "Epoch 9/200\n",
      "2554/2554 [==============================] - 0s 155us/sample - loss: 0.0103 - val_loss: 0.0091\n",
      "Epoch 10/200\n",
      "2554/2554 [==============================] - 0s 150us/sample - loss: 0.0101 - val_loss: 0.0087\n",
      "Epoch 11/200\n",
      "2554/2554 [==============================] - 0s 154us/sample - loss: 0.0101 - val_loss: 0.0088\n",
      "Epoch 12/200\n",
      "2554/2554 [==============================] - 0s 151us/sample - loss: 0.0100 - val_loss: 0.0087\n",
      "Epoch 13/200\n",
      "2554/2554 [==============================] - 0s 149us/sample - loss: 0.0101 - val_loss: 0.0089\n",
      "Epoch 14/200\n",
      "2554/2554 [==============================] - 0s 154us/sample - loss: 0.0100 - val_loss: 0.0088\n",
      "Epoch 15/200\n",
      "2554/2554 [==============================] - 0s 152us/sample - loss: 0.0100 - val_loss: 0.0088\n",
      "Epoch 16/200\n",
      "2554/2554 [==============================] - 0s 151us/sample - loss: 0.0101 - val_loss: 0.0087\n",
      "Epoch 17/200\n",
      "2554/2554 [==============================] - 0s 150us/sample - loss: 0.0100 - val_loss: 0.0087\n",
      "Epoch 18/200\n",
      "2554/2554 [==============================] - 0s 146us/sample - loss: 0.0100 - val_loss: 0.0087\n",
      "Epoch 19/200\n",
      "2554/2554 [==============================] - 0s 150us/sample - loss: 0.0100 - val_loss: 0.0087\n",
      "Epoch 20/200\n",
      "2554/2554 [==============================] - 0s 153us/sample - loss: 0.0100 - val_loss: 0.0087\n",
      "Epoch 21/200\n",
      "2554/2554 [==============================] - 0s 151us/sample - loss: 0.0100 - val_loss: 0.0088\n",
      "Epoch 22/200\n",
      "2554/2554 [==============================] - 0s 151us/sample - loss: 0.0101 - val_loss: 0.0086\n",
      "Epoch 23/200\n",
      "2554/2554 [==============================] - 0s 151us/sample - loss: 0.0100 - val_loss: 0.0088\n",
      "Epoch 24/200\n",
      "2554/2554 [==============================] - 0s 147us/sample - loss: 0.0100 - val_loss: 0.0086\n",
      "Epoch 25/200\n",
      "2554/2554 [==============================] - 0s 151us/sample - loss: 0.0100 - val_loss: 0.0086\n",
      "Epoch 26/200\n",
      "2554/2554 [==============================] - 0s 148us/sample - loss: 0.0101 - val_loss: 0.0087\n",
      "Epoch 27/200\n",
      "2554/2554 [==============================] - 0s 158us/sample - loss: 0.0100 - val_loss: 0.0089\n",
      "Epoch 28/200\n",
      "2554/2554 [==============================] - 0s 148us/sample - loss: 0.0101 - val_loss: 0.0087\n",
      "Epoch 29/200\n",
      "2554/2554 [==============================] - 0s 146us/sample - loss: 0.0100 - val_loss: 0.0090\n",
      "Epoch 30/200\n",
      "2554/2554 [==============================] - 0s 151us/sample - loss: 0.0100 - val_loss: 0.0087\n",
      "Epoch 31/200\n",
      "2554/2554 [==============================] - 0s 154us/sample - loss: 0.0100 - val_loss: 0.0089\n",
      "Epoch 32/200\n",
      "2554/2554 [==============================] - 0s 149us/sample - loss: 0.0100 - val_loss: 0.0087\n",
      "Epoch 33/200\n",
      "2554/2554 [==============================] - 0s 158us/sample - loss: 0.0100 - val_loss: 0.0087\n",
      "Epoch 34/200\n",
      "2554/2554 [==============================] - 0s 144us/sample - loss: 0.0100 - val_loss: 0.0086\n",
      "Epoch 35/200\n",
      "2554/2554 [==============================] - 0s 151us/sample - loss: 0.0100 - val_loss: 0.0087\n",
      "Epoch 36/200\n",
      "2554/2554 [==============================] - 0s 155us/sample - loss: 0.0100 - val_loss: 0.0086\n",
      "Epoch 37/200\n",
      "2554/2554 [==============================] - 0s 145us/sample - loss: 0.0100 - val_loss: 0.0088\n",
      "Epoch 38/200\n",
      "2554/2554 [==============================] - 0s 150us/sample - loss: 0.0100 - val_loss: 0.0087\n",
      "Epoch 39/200\n",
      "2554/2554 [==============================] - 0s 149us/sample - loss: 0.0100 - val_loss: 0.0087\n",
      "Epoch 40/200\n",
      "2554/2554 [==============================] - 0s 147us/sample - loss: 0.0101 - val_loss: 0.0089\n",
      "Epoch 41/200\n",
      "2554/2554 [==============================] - 0s 150us/sample - loss: 0.0100 - val_loss: 0.0088\n",
      "Epoch 42/200\n",
      "2554/2554 [==============================] - 0s 150us/sample - loss: 0.0100 - val_loss: 0.0087\n",
      "Epoch 43/200\n",
      "2554/2554 [==============================] - 0s 151us/sample - loss: 0.0100 - val_loss: 0.0087\n",
      "Epoch 44/200\n",
      "2554/2554 [==============================] - 0s 148us/sample - loss: 0.0100 - val_loss: 0.0086\n",
      "Epoch 45/200\n",
      "2554/2554 [==============================] - 0s 158us/sample - loss: 0.0100 - val_loss: 0.0087\n",
      "Epoch 46/200\n",
      "2554/2554 [==============================] - 0s 155us/sample - loss: 0.0101 - val_loss: 0.0088\n",
      "Epoch 47/200\n",
      "2554/2554 [==============================] - 0s 151us/sample - loss: 0.0100 - val_loss: 0.0086\n",
      "Epoch 48/200\n",
      "2554/2554 [==============================] - 0s 157us/sample - loss: 0.0101 - val_loss: 0.0089\n",
      "Epoch 49/200\n",
      "2554/2554 [==============================] - 0s 152us/sample - loss: 0.0100 - val_loss: 0.0087\n",
      "Epoch 50/200\n",
      "2554/2554 [==============================] - 0s 148us/sample - loss: 0.0100 - val_loss: 0.0089\n",
      "Epoch 51/200\n",
      "2554/2554 [==============================] - 0s 153us/sample - loss: 0.0101 - val_loss: 0.0087\n",
      "Epoch 52/200\n",
      "2554/2554 [==============================] - 0s 149us/sample - loss: 0.0100 - val_loss: 0.0089\n",
      "Epoch 53/200\n",
      "2554/2554 [==============================] - 0s 148us/sample - loss: 0.0101 - val_loss: 0.0087\n",
      "Epoch 54/200\n",
      "2554/2554 [==============================] - 0s 152us/sample - loss: 0.0101 - val_loss: 0.0086\n",
      "Epoch 55/200\n",
      "2554/2554 [==============================] - 0s 158us/sample - loss: 0.0100 - val_loss: 0.0087\n",
      "Epoch 56/200\n",
      "2554/2554 [==============================] - 0s 172us/sample - loss: 0.0100 - val_loss: 0.0090\n",
      "Epoch 57/200\n",
      "2554/2554 [==============================] - 0s 147us/sample - loss: 0.0100 - val_loss: 0.0087\n",
      "Epoch 58/200\n",
      "2554/2554 [==============================] - 0s 153us/sample - loss: 0.0100 - val_loss: 0.0087\n",
      "Epoch 59/200\n",
      "2554/2554 [==============================] - 0s 152us/sample - loss: 0.0100 - val_loss: 0.0086\n",
      "Epoch 60/200\n",
      "2554/2554 [==============================] - 0s 147us/sample - loss: 0.0100 - val_loss: 0.0087\n",
      "Epoch 61/200\n",
      "2554/2554 [==============================] - 0s 152us/sample - loss: 0.0100 - val_loss: 0.0087\n",
      "Epoch 62/200\n",
      "2554/2554 [==============================] - 0s 155us/sample - loss: 0.0100 - val_loss: 0.0086\n",
      "Epoch 63/200\n",
      "2554/2554 [==============================] - 0s 152us/sample - loss: 0.0100 - val_loss: 0.0086\n",
      "Epoch 64/200\n",
      "2554/2554 [==============================] - 0s 158us/sample - loss: 0.0100 - val_loss: 0.0087\n",
      "Epoch 65/200\n",
      "2554/2554 [==============================] - 0s 151us/sample - loss: 0.0100 - val_loss: 0.0087\n",
      "Epoch 66/200\n",
      "2554/2554 [==============================] - 0s 153us/sample - loss: 0.0100 - val_loss: 0.0086\n",
      "Epoch 67/200\n",
      "2554/2554 [==============================] - 0s 155us/sample - loss: 0.0100 - val_loss: 0.0086\n",
      "Epoch 68/200\n",
      "2554/2554 [==============================] - 0s 158us/sample - loss: 0.0100 - val_loss: 0.0087\n",
      "Epoch 69/200\n",
      "2554/2554 [==============================] - 0s 160us/sample - loss: 0.0101 - val_loss: 0.0087\n",
      "Epoch 70/200\n",
      "2554/2554 [==============================] - 0s 159us/sample - loss: 0.0100 - val_loss: 0.0088\n",
      "Epoch 71/200\n",
      "2554/2554 [==============================] - 0s 158us/sample - loss: 0.0100 - val_loss: 0.0086\n",
      "Epoch 72/200\n",
      "2554/2554 [==============================] - 0s 158us/sample - loss: 0.0100 - val_loss: 0.0087\n",
      "Epoch 73/200\n",
      "2554/2554 [==============================] - 0s 153us/sample - loss: 0.0100 - val_loss: 0.0088\n",
      "Epoch 74/200\n",
      "2554/2554 [==============================] - 0s 161us/sample - loss: 0.0100 - val_loss: 0.0087\n",
      "Epoch 75/200\n",
      "2554/2554 [==============================] - 0s 152us/sample - loss: 0.0100 - val_loss: 0.0089\n",
      "Epoch 76/200\n",
      "2554/2554 [==============================] - 0s 152us/sample - loss: 0.0100 - val_loss: 0.0087\n",
      "Epoch 77/200\n",
      "2554/2554 [==============================] - 0s 163us/sample - loss: 0.0100 - val_loss: 0.0086\n",
      "Epoch 78/200\n",
      "2554/2554 [==============================] - 0s 155us/sample - loss: 0.0100 - val_loss: 0.0088\n",
      "Epoch 79/200\n",
      "2554/2554 [==============================] - 0s 156us/sample - loss: 0.0100 - val_loss: 0.0087\n",
      "Epoch 80/200\n",
      "2554/2554 [==============================] - 0s 152us/sample - loss: 0.0100 - val_loss: 0.0087\n",
      "Epoch 81/200\n",
      "2554/2554 [==============================] - 0s 151us/sample - loss: 0.0100 - val_loss: 0.0087\n",
      "Epoch 82/200\n",
      "2554/2554 [==============================] - 0s 157us/sample - loss: 0.0100 - val_loss: 0.0087\n",
      "Epoch 83/200\n",
      "2554/2554 [==============================] - 0s 150us/sample - loss: 0.0100 - val_loss: 0.0087\n",
      "Epoch 84/200\n",
      "2554/2554 [==============================] - 0s 151us/sample - loss: 0.0100 - val_loss: 0.0087\n",
      "Epoch 85/200\n",
      "2554/2554 [==============================] - 0s 154us/sample - loss: 0.0100 - val_loss: 0.0086\n",
      "Epoch 86/200\n",
      "2554/2554 [==============================] - 0s 152us/sample - loss: 0.0100 - val_loss: 0.0086\n",
      "Epoch 87/200\n",
      "2554/2554 [==============================] - 0s 157us/sample - loss: 0.0100 - val_loss: 0.0087\n",
      "Epoch 88/200\n",
      "2554/2554 [==============================] - 0s 152us/sample - loss: 0.0100 - val_loss: 0.0087\n",
      "Epoch 89/200\n",
      "2554/2554 [==============================] - 0s 150us/sample - loss: 0.0100 - val_loss: 0.0087\n",
      "Epoch 90/200\n",
      "2554/2554 [==============================] - 0s 155us/sample - loss: 0.0100 - val_loss: 0.0088\n",
      "Epoch 91/200\n",
      "2554/2554 [==============================] - 0s 150us/sample - loss: 0.0100 - val_loss: 0.0087\n",
      "Epoch 92/200\n",
      "2554/2554 [==============================] - 0s 149us/sample - loss: 0.0100 - val_loss: 0.0088\n",
      "Epoch 93/200\n",
      "2554/2554 [==============================] - 0s 160us/sample - loss: 0.0100 - val_loss: 0.0088\n",
      "Epoch 94/200\n",
      "2554/2554 [==============================] - 0s 149us/sample - loss: 0.0100 - val_loss: 0.0086\n",
      "Epoch 95/200\n",
      "2554/2554 [==============================] - 0s 152us/sample - loss: 0.0100 - val_loss: 0.0086\n",
      "Epoch 96/200\n",
      "2554/2554 [==============================] - 0s 152us/sample - loss: 0.0100 - val_loss: 0.0087\n",
      "Epoch 97/200\n",
      "2554/2554 [==============================] - 0s 150us/sample - loss: 0.0100 - val_loss: 0.0086\n",
      "Epoch 98/200\n",
      "2554/2554 [==============================] - 0s 154us/sample - loss: 0.0100 - val_loss: 0.0086\n",
      "Epoch 99/200\n",
      "2554/2554 [==============================] - 0s 171us/sample - loss: 0.0100 - val_loss: 0.0089\n",
      "Epoch 100/200\n",
      "2554/2554 [==============================] - 0s 159us/sample - loss: 0.0100 - val_loss: 0.0087\n",
      "Epoch 101/200\n",
      "2554/2554 [==============================] - 0s 150us/sample - loss: 0.0100 - val_loss: 0.0087\n",
      "Epoch 102/200\n",
      "2554/2554 [==============================] - 0s 147us/sample - loss: 0.0100 - val_loss: 0.0087\n",
      "Epoch 103/200\n",
      "2554/2554 [==============================] - 0s 153us/sample - loss: 0.0100 - val_loss: 0.0087\n",
      "Epoch 104/200\n",
      "2554/2554 [==============================] - 0s 153us/sample - loss: 0.0100 - val_loss: 0.0087\n",
      "Epoch 105/200\n",
      "2554/2554 [==============================] - 0s 148us/sample - loss: 0.0100 - val_loss: 0.0089\n",
      "Epoch 106/200\n",
      "2554/2554 [==============================] - 0s 152us/sample - loss: 0.0100 - val_loss: 0.0086\n",
      "Epoch 107/200\n",
      "2554/2554 [==============================] - 0s 150us/sample - loss: 0.0100 - val_loss: 0.0087\n",
      "Epoch 108/200\n",
      "2554/2554 [==============================] - 0s 151us/sample - loss: 0.0100 - val_loss: 0.0086\n",
      "Epoch 109/200\n",
      "2554/2554 [==============================] - 0s 149us/sample - loss: 0.0100 - val_loss: 0.0087\n",
      "Epoch 110/200\n",
      "2554/2554 [==============================] - 0s 152us/sample - loss: 0.0100 - val_loss: 0.0087\n",
      "Epoch 111/200\n",
      "2554/2554 [==============================] - 0s 151us/sample - loss: 0.0100 - val_loss: 0.0087\n",
      "Epoch 112/200\n",
      "2554/2554 [==============================] - 0s 156us/sample - loss: 0.0100 - val_loss: 0.0087\n",
      "Epoch 113/200\n",
      "2554/2554 [==============================] - 0s 149us/sample - loss: 0.0100 - val_loss: 0.0088\n",
      "Epoch 114/200\n",
      "2554/2554 [==============================] - 0s 153us/sample - loss: 0.0100 - val_loss: 0.0090\n",
      "Epoch 115/200\n",
      "2554/2554 [==============================] - 0s 152us/sample - loss: 0.0100 - val_loss: 0.0087\n",
      "Epoch 116/200\n",
      "2554/2554 [==============================] - 0s 162us/sample - loss: 0.0100 - val_loss: 0.0088\n",
      "Epoch 117/200\n",
      "2554/2554 [==============================] - 0s 166us/sample - loss: 0.0100 - val_loss: 0.0089\n",
      "Epoch 118/200\n",
      "2554/2554 [==============================] - 0s 150us/sample - loss: 0.0100 - val_loss: 0.0087\n",
      "Epoch 119/200\n",
      "2554/2554 [==============================] - 0s 157us/sample - loss: 0.0100 - val_loss: 0.0087\n",
      "Epoch 120/200\n",
      "2554/2554 [==============================] - 0s 150us/sample - loss: 0.0100 - val_loss: 0.0087\n",
      "Epoch 121/200\n",
      "2554/2554 [==============================] - 0s 152us/sample - loss: 0.0100 - val_loss: 0.0087\n",
      "Epoch 122/200\n",
      "2554/2554 [==============================] - 0s 151us/sample - loss: 0.0100 - val_loss: 0.0087\n",
      "Epoch 123/200\n",
      "2554/2554 [==============================] - 0s 145us/sample - loss: 0.0100 - val_loss: 0.0089\n",
      "Epoch 124/200\n",
      "2554/2554 [==============================] - 0s 151us/sample - loss: 0.0100 - val_loss: 0.0087\n",
      "Epoch 125/200\n",
      "2554/2554 [==============================] - 0s 154us/sample - loss: 0.0100 - val_loss: 0.0088\n",
      "Epoch 126/200\n",
      "2554/2554 [==============================] - 0s 152us/sample - loss: 0.0100 - val_loss: 0.0088\n",
      "Epoch 127/200\n",
      "2554/2554 [==============================] - 0s 151us/sample - loss: 0.0100 - val_loss: 0.0087\n",
      "Epoch 128/200\n",
      "2554/2554 [==============================] - 0s 152us/sample - loss: 0.0100 - val_loss: 0.0087\n",
      "Epoch 129/200\n",
      "2554/2554 [==============================] - 0s 152us/sample - loss: 0.0100 - val_loss: 0.0088\n",
      "Epoch 130/200\n",
      "2554/2554 [==============================] - 0s 145us/sample - loss: 0.0100 - val_loss: 0.0087\n",
      "Epoch 131/200\n",
      "2554/2554 [==============================] - 0s 152us/sample - loss: 0.0100 - val_loss: 0.0088\n",
      "Epoch 132/200\n",
      "2554/2554 [==============================] - 0s 152us/sample - loss: 0.0100 - val_loss: 0.0086\n",
      "Epoch 133/200\n",
      "2554/2554 [==============================] - 0s 153us/sample - loss: 0.0099 - val_loss: 0.0087\n",
      "Epoch 134/200\n",
      "2554/2554 [==============================] - 0s 157us/sample - loss: 0.0100 - val_loss: 0.0087\n",
      "Epoch 135/200\n",
      "2554/2554 [==============================] - 0s 150us/sample - loss: 0.0100 - val_loss: 0.0087\n",
      "Epoch 136/200\n",
      "2554/2554 [==============================] - 0s 149us/sample - loss: 0.0100 - val_loss: 0.0087\n",
      "Epoch 137/200\n",
      "2554/2554 [==============================] - 0s 150us/sample - loss: 0.0100 - val_loss: 0.0087\n",
      "Epoch 138/200\n",
      "2554/2554 [==============================] - 0s 149us/sample - loss: 0.0100 - val_loss: 0.0087\n",
      "Epoch 139/200\n",
      "2554/2554 [==============================] - 0s 152us/sample - loss: 0.0100 - val_loss: 0.0088\n",
      "Epoch 140/200\n",
      "2554/2554 [==============================] - 0s 156us/sample - loss: 0.0100 - val_loss: 0.0087\n",
      "Epoch 141/200\n",
      "2554/2554 [==============================] - 0s 152us/sample - loss: 0.0100 - val_loss: 0.0088\n",
      "Epoch 142/200\n",
      "2554/2554 [==============================] - 0s 155us/sample - loss: 0.0100 - val_loss: 0.0087\n",
      "Epoch 143/200\n",
      "2554/2554 [==============================] - 0s 149us/sample - loss: 0.0100 - val_loss: 0.0088\n",
      "Epoch 144/200\n",
      "2554/2554 [==============================] - 0s 150us/sample - loss: 0.0100 - val_loss: 0.0087\n",
      "Epoch 145/200\n",
      "2554/2554 [==============================] - 0s 155us/sample - loss: 0.0100 - val_loss: 0.0087\n",
      "Epoch 146/200\n",
      "2554/2554 [==============================] - 0s 148us/sample - loss: 0.0100 - val_loss: 0.0088\n",
      "Epoch 147/200\n",
      "2554/2554 [==============================] - 0s 163us/sample - loss: 0.0100 - val_loss: 0.0088\n",
      "Epoch 148/200\n",
      "2554/2554 [==============================] - 0s 153us/sample - loss: 0.0100 - val_loss: 0.0089\n",
      "Epoch 149/200\n",
      "2554/2554 [==============================] - 0s 149us/sample - loss: 0.0100 - val_loss: 0.0087\n",
      "Epoch 150/200\n",
      "2554/2554 [==============================] - 0s 153us/sample - loss: 0.0100 - val_loss: 0.0087\n",
      "Epoch 151/200\n",
      "2554/2554 [==============================] - 0s 150us/sample - loss: 0.0100 - val_loss: 0.0087\n",
      "Epoch 152/200\n",
      "2554/2554 [==============================] - 0s 151us/sample - loss: 0.0100 - val_loss: 0.0087\n",
      "Epoch 153/200\n",
      "2554/2554 [==============================] - 0s 153us/sample - loss: 0.0100 - val_loss: 0.0087\n",
      "Epoch 154/200\n",
      "2554/2554 [==============================] - 0s 157us/sample - loss: 0.0100 - val_loss: 0.0087\n",
      "Epoch 155/200\n",
      "2554/2554 [==============================] - 0s 153us/sample - loss: 0.0100 - val_loss: 0.0087\n",
      "Epoch 156/200\n",
      "2554/2554 [==============================] - 0s 141us/sample - loss: 0.0100 - val_loss: 0.0087\n",
      "Epoch 157/200\n",
      "2554/2554 [==============================] - 0s 145us/sample - loss: 0.0100 - val_loss: 0.0087\n",
      "Epoch 158/200\n",
      "2554/2554 [==============================] - 0s 152us/sample - loss: 0.0100 - val_loss: 0.0087\n",
      "Epoch 159/200\n",
      "2554/2554 [==============================] - 0s 154us/sample - loss: 0.0099 - val_loss: 0.0087\n",
      "Epoch 160/200\n",
      "2554/2554 [==============================] - 0s 163us/sample - loss: 0.0100 - val_loss: 0.0091\n",
      "Epoch 161/200\n",
      "2554/2554 [==============================] - 0s 164us/sample - loss: 0.0100 - val_loss: 0.0087\n",
      "Epoch 162/200\n",
      "2554/2554 [==============================] - 0s 145us/sample - loss: 0.0100 - val_loss: 0.0087\n",
      "Epoch 163/200\n",
      "2554/2554 [==============================] - 0s 154us/sample - loss: 0.0100 - val_loss: 0.0087\n",
      "Epoch 164/200\n",
      "2554/2554 [==============================] - 0s 151us/sample - loss: 0.0100 - val_loss: 0.0090\n",
      "Epoch 165/200\n",
      "2554/2554 [==============================] - 0s 150us/sample - loss: 0.0100 - val_loss: 0.0087\n",
      "Epoch 166/200\n",
      "2554/2554 [==============================] - 0s 155us/sample - loss: 0.0100 - val_loss: 0.0087\n",
      "Epoch 167/200\n",
      "2554/2554 [==============================] - 0s 149us/sample - loss: 0.0100 - val_loss: 0.0088\n",
      "Epoch 168/200\n",
      "2554/2554 [==============================] - 0s 154us/sample - loss: 0.0099 - val_loss: 0.0087\n",
      "Epoch 169/200\n",
      "2554/2554 [==============================] - 0s 149us/sample - loss: 0.0100 - val_loss: 0.0087\n",
      "Epoch 170/200\n",
      "2554/2554 [==============================] - 0s 148us/sample - loss: 0.0100 - val_loss: 0.0087\n",
      "Epoch 171/200\n",
      "2554/2554 [==============================] - 0s 152us/sample - loss: 0.0100 - val_loss: 0.0088\n",
      "Epoch 172/200\n",
      "2554/2554 [==============================] - 0s 150us/sample - loss: 0.0100 - val_loss: 0.0090\n",
      "Epoch 173/200\n",
      "2554/2554 [==============================] - 0s 148us/sample - loss: 0.0100 - val_loss: 0.0087\n",
      "Epoch 174/200\n",
      "2554/2554 [==============================] - 0s 152us/sample - loss: 0.0100 - val_loss: 0.0087\n",
      "Epoch 175/200\n",
      "2554/2554 [==============================] - 0s 147us/sample - loss: 0.0100 - val_loss: 0.0087\n",
      "Epoch 176/200\n",
      "2554/2554 [==============================] - 0s 147us/sample - loss: 0.0100 - val_loss: 0.0087\n",
      "Epoch 177/200\n",
      "2554/2554 [==============================] - 0s 149us/sample - loss: 0.0100 - val_loss: 0.0087\n",
      "Epoch 178/200\n",
      "2554/2554 [==============================] - 0s 150us/sample - loss: 0.0100 - val_loss: 0.0087\n",
      "Epoch 179/200\n",
      "2554/2554 [==============================] - 0s 155us/sample - loss: 0.0100 - val_loss: 0.0089\n",
      "Epoch 180/200\n",
      "2554/2554 [==============================] - 0s 152us/sample - loss: 0.0100 - val_loss: 0.0088\n",
      "Epoch 181/200\n",
      "2554/2554 [==============================] - 0s 148us/sample - loss: 0.0100 - val_loss: 0.0088\n",
      "Epoch 182/200\n",
      "2554/2554 [==============================] - 0s 160us/sample - loss: 0.0100 - val_loss: 0.0087\n",
      "Epoch 183/200\n",
      "2554/2554 [==============================] - 0s 146us/sample - loss: 0.0100 - val_loss: 0.0088\n",
      "Epoch 184/200\n",
      "2554/2554 [==============================] - 0s 155us/sample - loss: 0.0100 - val_loss: 0.0087\n",
      "Epoch 185/200\n",
      "2554/2554 [==============================] - 0s 152us/sample - loss: 0.0100 - val_loss: 0.0088\n",
      "Epoch 186/200\n",
      "2554/2554 [==============================] - 0s 151us/sample - loss: 0.0101 - val_loss: 0.0087\n",
      "Epoch 187/200\n",
      "2554/2554 [==============================] - 0s 155us/sample - loss: 0.0100 - val_loss: 0.0087\n",
      "Epoch 188/200\n",
      "2554/2554 [==============================] - 0s 144us/sample - loss: 0.0100 - val_loss: 0.0087\n",
      "Epoch 189/200\n",
      "2554/2554 [==============================] - 0s 148us/sample - loss: 0.0100 - val_loss: 0.0087\n",
      "Epoch 190/200\n",
      "2554/2554 [==============================] - 0s 155us/sample - loss: 0.0100 - val_loss: 0.0088\n",
      "Epoch 191/200\n",
      "2554/2554 [==============================] - 0s 149us/sample - loss: 0.0100 - val_loss: 0.0088\n",
      "Epoch 192/200\n",
      "2554/2554 [==============================] - 0s 153us/sample - loss: 0.0100 - val_loss: 0.0087\n",
      "Epoch 193/200\n",
      "2554/2554 [==============================] - 0s 152us/sample - loss: 0.0100 - val_loss: 0.0087\n",
      "Epoch 194/200\n",
      "2554/2554 [==============================] - 0s 149us/sample - loss: 0.0100 - val_loss: 0.0087\n",
      "Epoch 195/200\n",
      "2554/2554 [==============================] - 0s 153us/sample - loss: 0.0100 - val_loss: 0.0088\n",
      "Epoch 196/200\n",
      "2554/2554 [==============================] - 0s 151us/sample - loss: 0.0099 - val_loss: 0.0087\n",
      "Epoch 197/200\n",
      "2554/2554 [==============================] - 0s 148us/sample - loss: 0.0100 - val_loss: 0.0088\n",
      "Epoch 198/200\n",
      "2554/2554 [==============================] - 0s 158us/sample - loss: 0.0100 - val_loss: 0.0087\n",
      "Epoch 199/200\n",
      "2554/2554 [==============================] - 0s 150us/sample - loss: 0.0100 - val_loss: 0.0087\n",
      "Epoch 200/200\n",
      "2554/2554 [==============================] - 0s 156us/sample - loss: 0.0100 - val_loss: 0.0087\n"
     ]
    },
    {
     "data": {
      "text/plain": [
       "<tensorflow.python.keras.callbacks.History at 0x7fb36f504eb8>"
      ]
     },
     "execution_count": 53,
     "metadata": {
      "tags": []
     },
     "output_type": "execute_result"
    }
   ],
   "source": [
    "model.fit(X_train, y_train, epochs=200, validation_data=(X_test, y_test), batch_size=32)"
   ]
  },
  {
   "cell_type": "markdown",
   "metadata": {
    "colab_type": "text",
    "id": "eSQgnvPKMg4m"
   },
   "source": [
    "## Make Predictions and Evaluate your model"
   ]
  },
  {
   "cell_type": "code",
   "execution_count": 0,
   "metadata": {
    "colab": {},
    "colab_type": "code",
    "id": "Rn2a-LQBrvKs"
   },
   "outputs": [],
   "source": [
    "myInput = np.reshape(scaler.transform(pd.DataFrame({\"Temperature\":[20]})), 1,1)"
   ]
  },
  {
   "cell_type": "code",
   "execution_count": 0,
   "metadata": {
    "colab": {},
    "colab_type": "code",
    "id": "COxb8ec6rvRF"
   },
   "outputs": [],
   "source": [
    "temp=np.reshape(myInput, (1, 1, 1))\n",
    "\n",
    "predict=model.predict(temp)"
   ]
  },
  {
   "cell_type": "code",
   "execution_count": 57,
   "metadata": {
    "colab": {
     "base_uri": "https://localhost:8080/",
     "height": 34
    },
    "colab_type": "code",
    "id": "BoFCZbdsrvVR",
    "outputId": "80c2a2a3-d418-4a08-eef6-80a8c80de21c"
   },
   "outputs": [
    {
     "data": {
      "text/plain": [
       "17.643625259399414"
      ]
     },
     "execution_count": 57,
     "metadata": {
      "tags": []
     },
     "output_type": "execute_result"
    }
   ],
   "source": [
    "float(scaler.inverse_transform(predict))"
   ]
  },
  {
   "cell_type": "code",
   "execution_count": 65,
   "metadata": {
    "colab": {
     "base_uri": "https://localhost:8080/",
     "height": 52
    },
    "colab_type": "code",
    "id": "YthgZ6n71DVk",
    "outputId": "c2fe0977-7017-466e-c783-c97ae746977f"
   },
   "outputs": [
    {
     "name": "stdout",
     "output_type": "stream",
     "text": [
      "Train Score: 2.62 RMSE\n",
      "Test Score: 2.45 RMSE\n"
     ]
    }
   ],
   "source": [
    "import math\n",
    "from sklearn.metrics import mean_squared_error\n",
    "\n",
    "trainPredict = model.predict(X_train, batch_size=1)\n",
    "\n",
    "model.reset_states()\n",
    "\n",
    "testPredict = model.predict(X_test, batch_size=1)\n",
    "\n",
    "# invert predictions\n",
    "trainPredict = scaler.inverse_transform(trainPredict)\n",
    "y_train = scaler.inverse_transform([y_train])\n",
    "testPredict = scaler.inverse_transform(testPredict)\n",
    "y_test = scaler.inverse_transform([y_test])\n",
    "\n",
    "# calculate root mean squared error\n",
    "trainScore = math.sqrt(mean_squared_error(y_train[0], trainPredict[:,0]))\n",
    "print('Train Score: %.2f RMSE' % (trainScore))\n",
    "testScore = math.sqrt(mean_squared_error(y_test[0], testPredict[:,0]))\n",
    "print('Test Score: %.2f RMSE' % (testScore))"
   ]
  },
  {
   "cell_type": "markdown",
   "metadata": {
    "colab_type": "text",
    "id": "Ewi6Zyl9Mg4o"
   },
   "source": [
    "## Plot the results"
   ]
  },
  {
   "cell_type": "code",
   "execution_count": 59,
   "metadata": {
    "colab": {
     "base_uri": "https://localhost:8080/",
     "height": 592
    },
    "colab_type": "code",
    "id": "FHbIWp-D7Jyn",
    "outputId": "21d30b33-b31c-49cb-a163-d188a5187470"
   },
   "outputs": [
    {
     "data": {
      "image/png": "[encoded data removed]",
      "text/plain": [
       "<Figure size 1440x720 with 1 Axes>"
      ]
     },
     "metadata": {
      "tags": []
     },
     "output_type": "display_data"
    }
   ],
   "source": [
    "trainPredictPlot = np.empty_like(scaled)\n",
    "trainPredictPlot[:, :] = np.nan\n",
    "trainPredictPlot[window_size:len(trainPredict)+window_size, :] = trainPredict\n",
    "# shift test predictions for plotting\n",
    "testPredictPlot = np.empty_like(scaled)\n",
    "testPredictPlot[:, :] = np.nan\n",
    "testPredictPlot[len(trainPredict)+(window_size*2):len(scaled), :] = testPredict\n",
    "# plot baseline and predictions\n",
    "plt.figure(figsize=(20,10))\n",
    "plt.plot(scaler.inverse_transform(scaled))\n",
    "plt.plot(trainPredictPlot)\n",
    "plt.plot(testPredictPlot)\n",
    "plt.show()"
   ]
  }
 ],
 "metadata": {
  "accelerator": "GPU",
  "colab": {
   "collapsed_sections": [],
   "name": "R9_Delhi_Internal_Lab_Questions.ipynb",
   "provenance": []
  },
  "kernelspec": {
   "display_name": "Python 3",
   "language": "python",
   "name": "python3"
  },
  "language_info": {
   "codemirror_mode": {
    "name": "ipython",
    "version": 3
   },
   "file_extension": ".py",
   "mimetype": "text/x-python",
   "name": "python",
   "nbconvert_exporter": "python",
   "pygments_lexer": "ipython3",
   "version": "3.7.3"
  }
 },
 "nbformat": 4,
 "nbformat_minor": 1
}
